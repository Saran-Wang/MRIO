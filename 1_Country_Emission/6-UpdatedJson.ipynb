{
 "cells": [
  {
   "cell_type": "code",
   "execution_count": 2,
   "metadata": {},
   "outputs": [],
   "source": [
    "import salem\n",
    "import json\n",
    "from IPython.display import display\n",
    "import geopandas as gpd\n",
    "import pandas as pd\n",
    "import numpy as np\n",
    "from shapely.geometry import MultiPolygon, Polygon\n",
    "import matplotlib as mpl"
   ]
  },
  {
   "cell_type": "code",
   "execution_count": 55,
   "metadata": {},
   "outputs": [],
   "source": [
    "df_shp = salem.read_shapefile(r'C:/Users/15311/Desktop/natural_earth_vector/110m_cultural/ne_110m_admin_0_countries.shp')"
   ]
  },
  {
   "cell_type": "markdown",
   "metadata": {},
   "source": [
    "## Normal shp: 1:10,000,000; 1″ = 158 miles; 1 cm = 100 km\n",
    "<br>\n",
    "## FJI, shpping secotr for LAO, NLD, NZL, NOR, non-road transportation sector of SAU:\n",
    "<br>\n",
    "## 1:110,000,000, 1″ = 1,736 miles, 1 cm = 1,100 km"
   ]
  },
  {
   "cell_type": "markdown",
   "metadata": {},
   "source": [
    "https://www.naturalearthdata.com/downloads/"
   ]
  },
  {
   "cell_type": "code",
   "execution_count": 58,
   "metadata": {},
   "outputs": [],
   "source": [
    "i = 'FJI'\n",
    "country_shp = df_shp.loc[df_shp['ADM0_A3'].isin([i])]\n",
    "a = country_shp['geometry'].__geo_interface__\n",
    "geojason = a['features'][0]['geometry']"
   ]
  },
  {
   "cell_type": "code",
   "execution_count": 59,
   "metadata": {
    "scrolled": true
   },
   "outputs": [
    {
     "data": {
      "text/plain": [
       "{'type': 'MultiPolygon',\n",
       " 'coordinates': [(((180.0, -16.067132663642447),\n",
       "    (180.0, -16.555216566639196),\n",
       "    (179.36414266196414, -16.801354076946883),\n",
       "    (178.72505936299711, -17.01204167436804),\n",
       "    (178.59683859511713, -16.639150000000004),\n",
       "    (179.0966093629971, -16.433984277547403),\n",
       "    (179.4135093629971, -16.379054277547404),\n",
       "    (180.0, -16.067132663642447)),),\n",
       "  (((178.12557, -17.50481),\n",
       "    (178.3736, -17.33992),\n",
       "    (178.71806, -17.62846),\n",
       "    (178.55271, -18.15059),\n",
       "    (177.93266000000003, -18.28799),\n",
       "    (177.38146, -18.16432),\n",
       "    (177.28504, -17.72465),\n",
       "    (177.67087, -17.381140000000002),\n",
       "    (178.12557, -17.50481)),),\n",
       "  (((-179.79332010904864, -16.020882256741224),\n",
       "    (-179.9173693847653, -16.501783135649397),\n",
       "    (-180.0, -16.555216566639196),\n",
       "    (-180.0, -16.067132663642447),\n",
       "    (-179.79332010904864, -16.020882256741224)),)]}"
      ]
     },
     "execution_count": 59,
     "metadata": {},
     "output_type": "execute_result"
    }
   ],
   "source": [
    "geojason"
   ]
  },
  {
   "cell_type": "code",
   "execution_count": 61,
   "metadata": {},
   "outputs": [
    {
     "data": {
      "text/plain": [
       "180.20667989095136"
      ]
     },
     "execution_count": 61,
     "metadata": {},
     "output_type": "execute_result"
    }
   ],
   "source": [
    "180 + 180 - 179.79332010904864"
   ]
  },
  {
   "cell_type": "code",
   "execution_count": 62,
   "metadata": {},
   "outputs": [
    {
     "data": {
      "text/plain": [
       "180.0826306152347"
      ]
     },
     "execution_count": 62,
     "metadata": {},
     "output_type": "execute_result"
    }
   ],
   "source": [
    "180 + 180 - 179.9173693847653"
   ]
  },
  {
   "cell_type": "markdown",
   "metadata": {},
   "source": [
    "## FJI:  CHANGE -179.79 to 180 + (180- 179.79)"
   ]
  },
  {
   "cell_type": "markdown",
   "metadata": {},
   "source": [
    "Fiji is too small and scatters in east and west half globe."
   ]
  },
  {
   "cell_type": "code",
   "execution_count": 60,
   "metadata": {
    "scrolled": true
   },
   "outputs": [
    {
     "data": {
      "text/plain": [
       "<AxesSubplot:>"
      ]
     },
     "execution_count": 60,
     "metadata": {},
     "output_type": "execute_result"
    },
    {
     "data": {
      "image/png": "[encoded data removed]",
      "text/plain": [
       "<Figure size 432x288 with 1 Axes>"
      ]
     },
     "metadata": {
      "needs_background": "light"
     },
     "output_type": "display_data"
    }
   ],
   "source": [
    "country_shp.plot()"
   ]
  },
  {
   "cell_type": "code",
   "execution_count": 51,
   "metadata": {},
   "outputs": [],
   "source": [
    "file=open(i + \".json\",'w')\n",
    "json.dump(geojason,file)\n",
    "file.close()"
   ]
  },
  {
   "cell_type": "code",
   "execution_count": 41,
   "metadata": {},
   "outputs": [],
   "source": [
    "f = gpd.GeoDataFrame.from_file('json/FJI.json')"
   ]
  },
  {
   "cell_type": "code",
   "execution_count": 35,
   "metadata": {},
   "outputs": [
    {
     "data": {
      "text/plain": [
       "<AxesSubplot:>"
      ]
     },
     "execution_count": 35,
     "metadata": {},
     "output_type": "execute_result"
    },
    {
     "data": {
      "image/png": "[encoded data removed]",
      "text/plain": [
       "<Figure size 432x288 with 1 Axes>"
      ]
     },
     "metadata": {
      "needs_background": "light"
     },
     "output_type": "display_data"
    }
   ],
   "source": [
    "f.plot()"
   ]
  },
  {
   "cell_type": "code",
   "execution_count": 36,
   "metadata": {},
   "outputs": [
    {
     "data": {
      "text/plain": [
       "True"
      ]
     },
     "execution_count": 36,
     "metadata": {},
     "output_type": "execute_result"
    }
   ],
   "source": [
    "f['geometry'].__geo_interface__['features'][0]['geometry'] == geojason"
   ]
  }
 ],
 "metadata": {
  "kernelspec": {
   "display_name": "Python 3",
   "language": "python",
   "name": "python3"
  },
  "language_info": {
   "codemirror_mode": {
    "name": "ipython",
    "version": 3
   },
   "file_extension": ".py",
   "mimetype": "text/x-python",
   "name": "python",
   "nbconvert_exporter": "python",
   "pygments_lexer": "ipython3",
   "version": "3.6.5"
  }
 },
 "nbformat": 4,
 "nbformat_minor": 2
}
