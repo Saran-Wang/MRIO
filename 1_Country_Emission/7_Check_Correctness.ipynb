{
 "cells": [
  {
   "cell_type": "markdown",
   "metadata": {},
   "source": [
    "Many simulated shapefiles have nan value, here I want to check whether those files has influence."
   ]
  },
  {
   "cell_type": "code",
   "execution_count": 1,
   "metadata": {},
   "outputs": [],
   "source": [
    "import salem\n",
    "import numpy as np\n",
    "import pandas as pd\n",
    "import geopandas as gpd\n",
    "from shapely.geometry import Point"
   ]
  },
  {
   "cell_type": "code",
   "execution_count": 2,
   "metadata": {},
   "outputs": [],
   "source": [
    "import matplotlib.pyplot as plt\n",
    "import matplotlib as mpl\n",
    "mpl.rcParams['figure.figsize']=(20,9)\n",
    "mpl.style.use('ggplot')"
   ]
  },
  {
   "cell_type": "code",
   "execution_count": 28,
   "metadata": {},
   "outputs": [],
   "source": [
    "CHN_agr_new = gpd.read_file('C:/Users/15311/Desktop/output_CHN/CHN_agr.shp')\n",
    "CHN_agr_old = gpd.read_file('C:/Users/15311/Desktop/output/output_CHN/CHN_agr.shp')"
   ]
  },
  {
   "cell_type": "code",
   "execution_count": 29,
   "metadata": {},
   "outputs": [
    {
     "data": {
      "text/plain": [
       "AllCause     1.604992e-02\n",
       "BasePM25     4.996316e+06\n",
       "NH3          3.945517e+03\n",
       "NOx          9.980822e+05\n",
       "PNH4         1.911662e+03\n",
       "PNO3         3.530808e+05\n",
       "PSO4         3.419195e+05\n",
       "SOA          3.093863e+04\n",
       "SOx          1.202995e+05\n",
       "TotalPM25    7.876573e+05\n",
       "TotalPop     7.967438e+09\n",
       "TotalPopD    3.583333e-16\n",
       "dtype: float64"
      ]
     },
     "execution_count": 29,
     "metadata": {},
     "output_type": "execute_result"
    }
   ],
   "source": [
    "CHN_agr_new.sum()"
   ]
  },
  {
   "cell_type": "code",
   "execution_count": 30,
   "metadata": {
    "scrolled": true
   },
   "outputs": [
    {
     "data": {
      "text/plain": [
       "AllCause              inf\n",
       "BasePM25     5.015650e+06\n",
       "NH3          5.576111e+02\n",
       "NOx          4.223659e+05\n",
       "PNH4         2.694295e+02\n",
       "PNO3         1.521482e+05\n",
       "PSO4         1.584975e+05\n",
       "SOA          4.951931e+03\n",
       "SOx          1.462006e+04\n",
       "TotalPM25    3.701003e+05\n",
       "TotalPop     7.968847e+09\n",
       "TotalPopD             inf\n",
       "dtype: float64"
      ]
     },
     "execution_count": 30,
     "metadata": {},
     "output_type": "execute_result"
    }
   ],
   "source": [
    "CHN_agr_old.sum()"
   ]
  },
  {
   "cell_type": "code",
   "execution_count": 31,
   "metadata": {},
   "outputs": [
    {
     "data": {
      "text/plain": [
       "(328.4218763169634, 43.84308731671549)"
      ]
     },
     "execution_count": 31,
     "metadata": {},
     "output_type": "execute_result"
    }
   ],
   "source": [
    "max(CHN_agr_new['TotalPM25']),max(CHN_agr_old['TotalPM25'])"
   ]
  },
  {
   "cell_type": "markdown",
   "metadata": {},
   "source": [
    "-----"
   ]
  },
  {
   "cell_type": "code",
   "execution_count": 32,
   "metadata": {},
   "outputs": [],
   "source": [
    "AUS_agr_new = gpd.read_file('C:/Users/15311/Desktop/output_AUS/AUS_ene.shp')\n",
    "AUS_agr_old = gpd.read_file('C:/Users/15311/Desktop/output/output_AUS/AUS_ene.shp')"
   ]
  },
  {
   "cell_type": "code",
   "execution_count": 33,
   "metadata": {},
   "outputs": [
    {
     "data": {
      "text/plain": [
       "AllCause     1.604992e-02\n",
       "BasePM25     4.996316e+06\n",
       "NH3          2.941312e+00\n",
       "NOx          5.512955e+03\n",
       "PNH4         2.040095e+00\n",
       "PNO3         5.087591e+02\n",
       "PSO4         3.001305e+03\n",
       "SOA          9.470705e+00\n",
       "SOx          7.796754e+02\n",
       "TotalPM25    3.581945e+03\n",
       "TotalPop     7.967438e+09\n",
       "TotalPopD    4.588565e-12\n",
       "dtype: float64"
      ]
     },
     "execution_count": 33,
     "metadata": {},
     "output_type": "execute_result"
    }
   ],
   "source": [
    "AUS_agr_new.sum()"
   ]
  },
  {
   "cell_type": "code",
   "execution_count": 34,
   "metadata": {},
   "outputs": [
    {
     "data": {
      "text/plain": [
       "AllCause              inf\n",
       "BasePM25     5.015650e+06\n",
       "NH3          1.118459e+00\n",
       "NOx          8.366820e+02\n",
       "PNH4         7.253026e-01\n",
       "PNO3         7.698691e+01\n",
       "PSO4         2.605505e+02\n",
       "SOA          2.481511e+00\n",
       "SOx          2.329989e+01\n",
       "TotalPM25    3.482403e+02\n",
       "TotalPop     7.968847e+09\n",
       "TotalPopD             inf\n",
       "dtype: float64"
      ]
     },
     "execution_count": 34,
     "metadata": {},
     "output_type": "execute_result"
    }
   ],
   "source": [
    "AUS_agr_old.sum()"
   ]
  },
  {
   "cell_type": "code",
   "execution_count": 35,
   "metadata": {},
   "outputs": [
    {
     "data": {
      "text/plain": [
       "(75.69603117593074, 2.131376703060492)"
      ]
     },
     "execution_count": 35,
     "metadata": {},
     "output_type": "execute_result"
    }
   ],
   "source": [
    "max(AUS_agr_new['TotalPM25']),max(AUS_agr_old['TotalPM25'])"
   ]
  },
  {
   "cell_type": "markdown",
   "metadata": {},
   "source": [
    "----"
   ]
  },
  {
   "cell_type": "code",
   "execution_count": 13,
   "metadata": {},
   "outputs": [],
   "source": [
    "MAC_ene = gpd.read_file('C:/Users/15311/Desktop/output_MAC/MAC_ene.shp')"
   ]
  },
  {
   "cell_type": "code",
   "execution_count": 15,
   "metadata": {},
   "outputs": [
    {
     "data": {
      "text/html": [
       "<div>\n",
       "<style scoped>\n",
       "    .dataframe tbody tr th:only-of-type {\n",
       "        vertical-align: middle;\n",
       "    }\n",
       "\n",
       "    .dataframe tbody tr th {\n",
       "        vertical-align: top;\n",
       "    }\n",
       "\n",
       "    .dataframe thead th {\n",
       "        text-align: right;\n",
       "    }\n",
       "</style>\n",
       "<table border=\"1\" class=\"dataframe\">\n",
       "  <thead>\n",
       "    <tr style=\"text-align: right;\">\n",
       "      <th></th>\n",
       "      <th>AllCause</th>\n",
       "      <th>BasePM25</th>\n",
       "      <th>NH3</th>\n",
       "      <th>NOx</th>\n",
       "      <th>PNH4</th>\n",
       "      <th>PNO3</th>\n",
       "      <th>PSO4</th>\n",
       "      <th>SOA</th>\n",
       "      <th>SOx</th>\n",
       "      <th>TotalPM25</th>\n",
       "      <th>TotalPop</th>\n",
       "      <th>TotalPopD</th>\n",
       "      <th>geometry</th>\n",
       "    </tr>\n",
       "  </thead>\n",
       "  <tbody>\n",
       "    <tr>\n",
       "      <th>0</th>\n",
       "      <td>0.0</td>\n",
       "      <td>0.426418</td>\n",
       "      <td>1.174915e-25</td>\n",
       "      <td>4.418293e-21</td>\n",
       "      <td>1.358619e-24</td>\n",
       "      <td>5.346867e-21</td>\n",
       "      <td>1.126241e-22</td>\n",
       "      <td>8.176889e-23</td>\n",
       "      <td>5.444372e-67</td>\n",
       "      <td>5.542858e-21</td>\n",
       "      <td>0.000000</td>\n",
       "      <td>0.0</td>\n",
       "      <td>POLYGON ((-180.00000 -88.00000, -175.00000 -88...</td>\n",
       "    </tr>\n",
       "    <tr>\n",
       "      <th>1</th>\n",
       "      <td>0.0</td>\n",
       "      <td>0.508265</td>\n",
       "      <td>3.795774e-26</td>\n",
       "      <td>1.039534e-21</td>\n",
       "      <td>3.449998e-25</td>\n",
       "      <td>1.348799e-21</td>\n",
       "      <td>2.989032e-23</td>\n",
       "      <td>1.818663e-23</td>\n",
       "      <td>5.036725e-68</td>\n",
       "      <td>1.397285e-21</td>\n",
       "      <td>0.000000</td>\n",
       "      <td>0.0</td>\n",
       "      <td>POLYGON ((-180.00000 -84.00000, -175.00000 -84...</td>\n",
       "    </tr>\n",
       "    <tr>\n",
       "      <th>2</th>\n",
       "      <td>0.0</td>\n",
       "      <td>0.550982</td>\n",
       "      <td>7.490048e-27</td>\n",
       "      <td>2.022261e-22</td>\n",
       "      <td>7.152396e-26</td>\n",
       "      <td>2.812940e-22</td>\n",
       "      <td>6.126431e-24</td>\n",
       "      <td>3.609231e-24</td>\n",
       "      <td>3.160130e-69</td>\n",
       "      <td>2.911142e-22</td>\n",
       "      <td>0.000000</td>\n",
       "      <td>0.0</td>\n",
       "      <td>POLYGON ((-180.00000 -80.00000, -175.00000 -80...</td>\n",
       "    </tr>\n",
       "    <tr>\n",
       "      <th>3</th>\n",
       "      <td>0.0</td>\n",
       "      <td>0.680774</td>\n",
       "      <td>5.409767e-27</td>\n",
       "      <td>1.026850e-22</td>\n",
       "      <td>2.971693e-26</td>\n",
       "      <td>1.529310e-22</td>\n",
       "      <td>1.952047e-24</td>\n",
       "      <td>1.508829e-24</td>\n",
       "      <td>3.633204e-70</td>\n",
       "      <td>1.564257e-22</td>\n",
       "      <td>0.000000</td>\n",
       "      <td>0.0</td>\n",
       "      <td>POLYGON ((-180.00000 -76.00000, -175.00000 -76...</td>\n",
       "    </tr>\n",
       "    <tr>\n",
       "      <th>4</th>\n",
       "      <td>0.0</td>\n",
       "      <td>1.058635</td>\n",
       "      <td>1.475169e-26</td>\n",
       "      <td>2.352920e-22</td>\n",
       "      <td>6.264440e-26</td>\n",
       "      <td>4.991999e-22</td>\n",
       "      <td>2.349353e-24</td>\n",
       "      <td>3.174137e-24</td>\n",
       "      <td>2.670455e-71</td>\n",
       "      <td>5.047910e-22</td>\n",
       "      <td>0.000000</td>\n",
       "      <td>0.0</td>\n",
       "      <td>POLYGON ((-180.00000 -72.00000, -175.00000 -72...</td>\n",
       "    </tr>\n",
       "    <tr>\n",
       "      <th>...</th>\n",
       "      <td>...</td>\n",
       "      <td>...</td>\n",
       "      <td>...</td>\n",
       "      <td>...</td>\n",
       "      <td>...</td>\n",
       "      <td>...</td>\n",
       "      <td>...</td>\n",
       "      <td>...</td>\n",
       "      <td>...</td>\n",
       "      <td>...</td>\n",
       "      <td>...</td>\n",
       "      <td>...</td>\n",
       "      <td>...</td>\n",
       "    </tr>\n",
       "    <tr>\n",
       "      <th>273734</th>\n",
       "      <td>0.0</td>\n",
       "      <td>2.168654</td>\n",
       "      <td>8.170998e-13</td>\n",
       "      <td>4.775373e-08</td>\n",
       "      <td>1.928614e-13</td>\n",
       "      <td>1.128305e-08</td>\n",
       "      <td>2.670065e-11</td>\n",
       "      <td>1.674800e-11</td>\n",
       "      <td>7.035992e-34</td>\n",
       "      <td>1.132675e-08</td>\n",
       "      <td>17890.831710</td>\n",
       "      <td>0.0</td>\n",
       "      <td>POLYGON ((174.92188 -41.18750, 175.00000 -41.1...</td>\n",
       "    </tr>\n",
       "    <tr>\n",
       "      <th>273735</th>\n",
       "      <td>0.0</td>\n",
       "      <td>2.589360</td>\n",
       "      <td>4.311188e-13</td>\n",
       "      <td>2.833261e-08</td>\n",
       "      <td>1.118444e-13</td>\n",
       "      <td>4.658941e-09</td>\n",
       "      <td>1.549396e-11</td>\n",
       "      <td>8.790707e-12</td>\n",
       "      <td>2.456243e-32</td>\n",
       "      <td>4.683371e-09</td>\n",
       "      <td>23655.892511</td>\n",
       "      <td>0.0</td>\n",
       "      <td>POLYGON ((174.92188 -37.12500, 175.00000 -37.1...</td>\n",
       "    </tr>\n",
       "    <tr>\n",
       "      <th>273736</th>\n",
       "      <td>0.0</td>\n",
       "      <td>2.589360</td>\n",
       "      <td>3.618267e-13</td>\n",
       "      <td>2.380961e-08</td>\n",
       "      <td>9.386813e-14</td>\n",
       "      <td>3.915191e-09</td>\n",
       "      <td>1.294881e-11</td>\n",
       "      <td>7.368697e-12</td>\n",
       "      <td>3.426040e-32</td>\n",
       "      <td>3.935630e-09</td>\n",
       "      <td>23694.283337</td>\n",
       "      <td>0.0</td>\n",
       "      <td>POLYGON ((174.92188 -37.06250, 175.00000 -37.0...</td>\n",
       "    </tr>\n",
       "    <tr>\n",
       "      <th>273737</th>\n",
       "      <td>0.0</td>\n",
       "      <td>2.423264</td>\n",
       "      <td>3.357340e-13</td>\n",
       "      <td>2.216457e-08</td>\n",
       "      <td>7.860979e-14</td>\n",
       "      <td>3.023091e-09</td>\n",
       "      <td>1.163526e-11</td>\n",
       "      <td>5.050486e-12</td>\n",
       "      <td>8.204896e-32</td>\n",
       "      <td>3.039880e-09</td>\n",
       "      <td>10540.864873</td>\n",
       "      <td>0.0</td>\n",
       "      <td>POLYGON ((174.92188 -37.00000, 175.00000 -37.0...</td>\n",
       "    </tr>\n",
       "    <tr>\n",
       "      <th>273738</th>\n",
       "      <td>0.0</td>\n",
       "      <td>2.423264</td>\n",
       "      <td>3.491943e-13</td>\n",
       "      <td>2.313133e-08</td>\n",
       "      <td>8.176143e-14</td>\n",
       "      <td>3.154950e-09</td>\n",
       "      <td>1.198203e-11</td>\n",
       "      <td>5.235177e-12</td>\n",
       "      <td>1.490110e-31</td>\n",
       "      <td>3.172274e-09</td>\n",
       "      <td>32921.812008</td>\n",
       "      <td>0.0</td>\n",
       "      <td>POLYGON ((174.92188 -36.93750, 175.00000 -36.9...</td>\n",
       "    </tr>\n",
       "  </tbody>\n",
       "</table>\n",
       "<p>273739 rows × 13 columns</p>\n",
       "</div>"
      ],
      "text/plain": [
       "        AllCause  BasePM25           NH3           NOx          PNH4  \\\n",
       "0            0.0  0.426418  1.174915e-25  4.418293e-21  1.358619e-24   \n",
       "1            0.0  0.508265  3.795774e-26  1.039534e-21  3.449998e-25   \n",
       "2            0.0  0.550982  7.490048e-27  2.022261e-22  7.152396e-26   \n",
       "3            0.0  0.680774  5.409767e-27  1.026850e-22  2.971693e-26   \n",
       "4            0.0  1.058635  1.475169e-26  2.352920e-22  6.264440e-26   \n",
       "...          ...       ...           ...           ...           ...   \n",
       "273734       0.0  2.168654  8.170998e-13  4.775373e-08  1.928614e-13   \n",
       "273735       0.0  2.589360  4.311188e-13  2.833261e-08  1.118444e-13   \n",
       "273736       0.0  2.589360  3.618267e-13  2.380961e-08  9.386813e-14   \n",
       "273737       0.0  2.423264  3.357340e-13  2.216457e-08  7.860979e-14   \n",
       "273738       0.0  2.423264  3.491943e-13  2.313133e-08  8.176143e-14   \n",
       "\n",
       "                PNO3          PSO4           SOA           SOx     TotalPM25  \\\n",
       "0       5.346867e-21  1.126241e-22  8.176889e-23  5.444372e-67  5.542858e-21   \n",
       "1       1.348799e-21  2.989032e-23  1.818663e-23  5.036725e-68  1.397285e-21   \n",
       "2       2.812940e-22  6.126431e-24  3.609231e-24  3.160130e-69  2.911142e-22   \n",
       "3       1.529310e-22  1.952047e-24  1.508829e-24  3.633204e-70  1.564257e-22   \n",
       "4       4.991999e-22  2.349353e-24  3.174137e-24  2.670455e-71  5.047910e-22   \n",
       "...              ...           ...           ...           ...           ...   \n",
       "273734  1.128305e-08  2.670065e-11  1.674800e-11  7.035992e-34  1.132675e-08   \n",
       "273735  4.658941e-09  1.549396e-11  8.790707e-12  2.456243e-32  4.683371e-09   \n",
       "273736  3.915191e-09  1.294881e-11  7.368697e-12  3.426040e-32  3.935630e-09   \n",
       "273737  3.023091e-09  1.163526e-11  5.050486e-12  8.204896e-32  3.039880e-09   \n",
       "273738  3.154950e-09  1.198203e-11  5.235177e-12  1.490110e-31  3.172274e-09   \n",
       "\n",
       "            TotalPop  TotalPopD  \\\n",
       "0           0.000000        0.0   \n",
       "1           0.000000        0.0   \n",
       "2           0.000000        0.0   \n",
       "3           0.000000        0.0   \n",
       "4           0.000000        0.0   \n",
       "...              ...        ...   \n",
       "273734  17890.831710        0.0   \n",
       "273735  23655.892511        0.0   \n",
       "273736  23694.283337        0.0   \n",
       "273737  10540.864873        0.0   \n",
       "273738  32921.812008        0.0   \n",
       "\n",
       "                                                 geometry  \n",
       "0       POLYGON ((-180.00000 -88.00000, -175.00000 -88...  \n",
       "1       POLYGON ((-180.00000 -84.00000, -175.00000 -84...  \n",
       "2       POLYGON ((-180.00000 -80.00000, -175.00000 -80...  \n",
       "3       POLYGON ((-180.00000 -76.00000, -175.00000 -76...  \n",
       "4       POLYGON ((-180.00000 -72.00000, -175.00000 -72...  \n",
       "...                                                   ...  \n",
       "273734  POLYGON ((174.92188 -41.18750, 175.00000 -41.1...  \n",
       "273735  POLYGON ((174.92188 -37.12500, 175.00000 -37.1...  \n",
       "273736  POLYGON ((174.92188 -37.06250, 175.00000 -37.0...  \n",
       "273737  POLYGON ((174.92188 -37.00000, 175.00000 -37.0...  \n",
       "273738  POLYGON ((174.92188 -36.93750, 175.00000 -36.9...  \n",
       "\n",
       "[273739 rows x 13 columns]"
      ]
     },
     "execution_count": 15,
     "metadata": {},
     "output_type": "execute_result"
    }
   ],
   "source": [
    "MAC_ene"
   ]
  },
  {
   "cell_type": "code",
   "execution_count": 14,
   "metadata": {},
   "outputs": [
    {
     "data": {
      "text/plain": [
       "AllCause     1.604992e-02\n",
       "BasePM25     4.996316e+06\n",
       "NH3          2.155046e+00\n",
       "NOx          8.972067e+02\n",
       "PNH4         1.145135e+00\n",
       "PNO3         2.019255e+02\n",
       "PSO4         6.910351e+02\n",
       "SOA          2.577878e+00\n",
       "SOx          4.994207e+02\n",
       "TotalPM25    8.997837e+02\n",
       "TotalPop     7.967438e+09\n",
       "TotalPopD    4.110898e-18\n",
       "dtype: float64"
      ]
     },
     "execution_count": 14,
     "metadata": {},
     "output_type": "execute_result"
    }
   ],
   "source": [
    "MAC_ene.sum()"
   ]
  },
  {
   "cell_type": "code",
   "execution_count": 16,
   "metadata": {},
   "outputs": [
    {
     "data": {
      "text/plain": [
       "5.306088888438161"
      ]
     },
     "execution_count": 16,
     "metadata": {},
     "output_type": "execute_result"
    }
   ],
   "source": [
    "max(MAC_ene['TotalPM25'])"
   ]
  }
 ],
 "metadata": {
  "kernelspec": {
   "display_name": "Python 3",
   "language": "python",
   "name": "python3"
  },
  "language_info": {
   "codemirror_mode": {
    "name": "ipython",
    "version": 3
   },
   "file_extension": ".py",
   "mimetype": "text/x-python",
   "name": "python",
   "nbconvert_exporter": "python",
   "pygments_lexer": "ipython3",
   "version": "3.6.5"
  }
 },
 "nbformat": 4,
 "nbformat_minor": 2
}
