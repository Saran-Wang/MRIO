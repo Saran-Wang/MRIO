{
 "cells": [
  {
   "cell_type": "markdown",
   "metadata": {},
   "source": [
    "## Data\n",
    "### 2016 Eora26"
   ]
  },
  {
   "cell_type": "markdown",
   "metadata": {
    "id": "zaGbLuEUhQQ_"
   },
   "source": [
    "## Export and Import\n",
    "- TID: Total Intermediate demand;\n",
    "- TFD: Total Final demand;\n",
    "- HID: Home Intermediate demand;\n",
    "- FID: Foreign Intermediate demand;\n",
    "- HFD: Home Final demand;\n",
    "- FFD: Foreign Final demand.\n",
    "\n",
    "#### Export calculation method:\n",
    "1. TID: Intermediate matrix sum by rows; TFD: Final demand matrix sum by rows.\n",
    "2. Trade mask (a matrix with the same size as Intermediate matrix or Final demand matrix, which has zeros for domestic flow and 1 for other flows); Multiply trade mask by Intermediate matrix or Final demand matrix elementwisely to derive masked Intermediate matrix or Final demand matrix; A masked matrix only contains export flows.\n",
    "3. FID: Masked Intermediate matrix sum by rows; FFD: Masked Final demand matrix sum by rows.\n",
    "4. HID = TID - FID; HFD = TFD - FFD\n",
    "\n",
    "#### Import calculation method:\n",
    "- Import into industries: Masked Intermediate matrix sum by columns;\n",
    "- Import by final demand: Masked Final demand matrix sum by columns.\n",
    "\n",
    "#### Check correctness:\n",
    "- **Gross input must be equal gross output (xin = xout).**"
   ]
  },
  {
   "cell_type": "code",
   "execution_count": 1,
   "metadata": {
    "executionInfo": {
     "elapsed": 1,
     "status": "ok",
     "timestamp": 1643268757083,
     "user": {
      "displayName": "Weilun Liu",
      "photoUrl": "https://lh3.googleusercontent.com/a/default-user=s64",
      "userId": "06371698207429536788"
     },
     "user_tz": 360
    },
    "id": "z3frxZd_ReG-"
   },
   "outputs": [],
   "source": [
    "import pandas as pd\n",
    "import numpy as np\n",
    "import json\n",
    "import copy"
   ]
  },
  {
   "cell_type": "code",
   "execution_count": 2,
   "metadata": {
    "executionInfo": {
     "elapsed": 23045,
     "status": "ok",
     "timestamp": 1643268780127,
     "user": {
      "displayName": "Weilun Liu",
      "photoUrl": "https://lh3.googleusercontent.com/a/default-user=s64",
      "userId": "06371698207429536788"
     },
     "user_tz": 360
    },
    "id": "mWgWf4JcQVaz"
   },
   "outputs": [],
   "source": [
    "# Read files\n",
    "## Final demand matrix\n",
    "f = open('C:/Users/15311/Desktop/Global_PM2.5/EURO/EURO26/Eora26_2016_bp_FD.txt','r')\n",
    "content = f.readlines()\n",
    "newData = [0 for i in range(len(content))]\n",
    "for (i, line) in enumerate(content):\n",
    "    newData[i] = line.split(\"\\t\")\n",
    "    newData[i][-1] = newData[i][-1][:-1]\n",
    "FD_df = pd.DataFrame(newData)\n",
    "f.close()\n",
    "\n",
    "f = open('C:/Users/15311/Desktop/Global_PM2.5/EURO/EURO26/labels_T.txt','r')\n",
    "content = f.readlines()\n",
    "newData = [0 for i in range(len(content))]\n",
    "for (i, line) in enumerate(content):\n",
    "    newData[i] = line.split(\"\\t\")[:-1]\n",
    "LABELS_df = pd.DataFrame(newData)\n",
    "f.close()\n",
    "\n",
    "## Intermediate transaction matrix\n",
    "f = open('C:/Users/15311/Desktop/Global_PM2.5/EURO/EURO26/Eora26_2016_bp_T.txt','r')\n",
    "content = f.readlines()\n",
    "newData = [0 for i in range(len(content))]\n",
    "for (i, line) in enumerate(content):\n",
    "    newData[i] = line.split(\"\\t\")\n",
    "    newData[i][-1] = newData[i][-1][:-1]\n",
    "T_df = pd.DataFrame(newData)\n",
    "f.close()"
   ]
  },
  {
   "cell_type": "code",
   "execution_count": 3,
   "metadata": {
    "executionInfo": {
     "elapsed": 1152,
     "status": "ok",
     "timestamp": 1643268785313,
     "user": {
      "displayName": "Weilun Liu",
      "photoUrl": "https://lh3.googleusercontent.com/a/default-user=s64",
      "userId": "06371698207429536788"
     },
     "user_tz": 360
    },
    "id": "CV4P_BSjkx2n"
   },
   "outputs": [],
   "source": [
    "# From str to float : T_df, FD_df\n",
    "T_df = T_df.astype('float')\n",
    "FD_df = FD_df.astype('float');"
   ]
  },
  {
   "cell_type": "code",
   "execution_count": 4,
   "metadata": {},
   "outputs": [
    {
     "data": {
      "text/html": [
       "<div>\n",
       "<style scoped>\n",
       "    .dataframe tbody tr th:only-of-type {\n",
       "        vertical-align: middle;\n",
       "    }\n",
       "\n",
       "    .dataframe tbody tr th {\n",
       "        vertical-align: top;\n",
       "    }\n",
       "\n",
       "    .dataframe thead th {\n",
       "        text-align: right;\n",
       "    }\n",
       "</style>\n",
       "<table border=\"1\" class=\"dataframe\">\n",
       "  <thead>\n",
       "    <tr style=\"text-align: right;\">\n",
       "      <th></th>\n",
       "      <th>0</th>\n",
       "      <th>1</th>\n",
       "      <th>2</th>\n",
       "      <th>3</th>\n",
       "      <th>4</th>\n",
       "      <th>5</th>\n",
       "      <th>6</th>\n",
       "      <th>7</th>\n",
       "      <th>8</th>\n",
       "      <th>9</th>\n",
       "      <th>...</th>\n",
       "      <th>4905</th>\n",
       "      <th>4906</th>\n",
       "      <th>4907</th>\n",
       "      <th>4908</th>\n",
       "      <th>4909</th>\n",
       "      <th>4910</th>\n",
       "      <th>4911</th>\n",
       "      <th>4912</th>\n",
       "      <th>4913</th>\n",
       "      <th>4914</th>\n",
       "    </tr>\n",
       "  </thead>\n",
       "  <tbody>\n",
       "    <tr>\n",
       "      <th>0</th>\n",
       "      <td>98135.00000</td>\n",
       "      <td>25.30470</td>\n",
       "      <td>359.37200</td>\n",
       "      <td>214505.00000</td>\n",
       "      <td>2674.45000</td>\n",
       "      <td>32478.10000</td>\n",
       "      <td>2813.46000</td>\n",
       "      <td>139.37000</td>\n",
       "      <td>186.41400</td>\n",
       "      <td>19.09510</td>\n",
       "      <td>...</td>\n",
       "      <td>1.000000e-07</td>\n",
       "      <td>1.000000e-07</td>\n",
       "      <td>1.000000e-07</td>\n",
       "      <td>1.000000e-07</td>\n",
       "      <td>1.000000e-07</td>\n",
       "      <td>1.000000e-07</td>\n",
       "      <td>1.430900e-07</td>\n",
       "      <td>1.000000e-07</td>\n",
       "      <td>1.000000e-07</td>\n",
       "      <td>398916.00</td>\n",
       "    </tr>\n",
       "    <tr>\n",
       "      <th>1</th>\n",
       "      <td>132.40800</td>\n",
       "      <td>418.24000</td>\n",
       "      <td>2.32455</td>\n",
       "      <td>28665.90000</td>\n",
       "      <td>4.19821</td>\n",
       "      <td>1.56355</td>\n",
       "      <td>35.82680</td>\n",
       "      <td>18.74070</td>\n",
       "      <td>2.47318</td>\n",
       "      <td>1.07425</td>\n",
       "      <td>...</td>\n",
       "      <td>1.000000e-07</td>\n",
       "      <td>1.000000e-07</td>\n",
       "      <td>1.000000e-07</td>\n",
       "      <td>1.000000e-07</td>\n",
       "      <td>1.000000e-07</td>\n",
       "      <td>1.000000e-07</td>\n",
       "      <td>1.000000e-07</td>\n",
       "      <td>1.000000e-07</td>\n",
       "      <td>1.000000e-07</td>\n",
       "      <td>28619.20</td>\n",
       "    </tr>\n",
       "    <tr>\n",
       "      <th>2</th>\n",
       "      <td>1603.91000</td>\n",
       "      <td>37.79110</td>\n",
       "      <td>10299.00000</td>\n",
       "      <td>667.63800</td>\n",
       "      <td>68.57620</td>\n",
       "      <td>698.94000</td>\n",
       "      <td>62054.80000</td>\n",
       "      <td>6174.97000</td>\n",
       "      <td>188.68600</td>\n",
       "      <td>265.54800</td>\n",
       "      <td>...</td>\n",
       "      <td>1.048770e-07</td>\n",
       "      <td>1.043120e-07</td>\n",
       "      <td>1.042980e-07</td>\n",
       "      <td>1.000000e-07</td>\n",
       "      <td>1.001720e-07</td>\n",
       "      <td>1.002060e-07</td>\n",
       "      <td>1.000000e-07</td>\n",
       "      <td>1.000000e-07</td>\n",
       "      <td>1.000000e-07</td>\n",
       "      <td>37647.30</td>\n",
       "    </tr>\n",
       "    <tr>\n",
       "      <th>3</th>\n",
       "      <td>40408.80000</td>\n",
       "      <td>468.59600</td>\n",
       "      <td>54.37240</td>\n",
       "      <td>161090.00000</td>\n",
       "      <td>1532.57000</td>\n",
       "      <td>1237.13000</td>\n",
       "      <td>4558.57000</td>\n",
       "      <td>28.90200</td>\n",
       "      <td>54.17510</td>\n",
       "      <td>13.63440</td>\n",
       "      <td>...</td>\n",
       "      <td>1.000000e-07</td>\n",
       "      <td>1.000000e-07</td>\n",
       "      <td>1.000000e-07</td>\n",
       "      <td>1.000000e-07</td>\n",
       "      <td>1.000000e-07</td>\n",
       "      <td>1.000000e-07</td>\n",
       "      <td>1.000000e-07</td>\n",
       "      <td>1.000000e-07</td>\n",
       "      <td>1.000000e-07</td>\n",
       "      <td>5095.01</td>\n",
       "    </tr>\n",
       "    <tr>\n",
       "      <th>4</th>\n",
       "      <td>1706.29000</td>\n",
       "      <td>219.67600</td>\n",
       "      <td>385.27000</td>\n",
       "      <td>1929.72000</td>\n",
       "      <td>50932.00000</td>\n",
       "      <td>4957.07000</td>\n",
       "      <td>6176.40000</td>\n",
       "      <td>919.84400</td>\n",
       "      <td>4939.74000</td>\n",
       "      <td>3683.98000</td>\n",
       "      <td>...</td>\n",
       "      <td>1.000000e-07</td>\n",
       "      <td>1.000000e-07</td>\n",
       "      <td>1.000000e-07</td>\n",
       "      <td>1.000000e-07</td>\n",
       "      <td>1.000000e-07</td>\n",
       "      <td>1.000000e-07</td>\n",
       "      <td>1.000000e-07</td>\n",
       "      <td>1.000000e-07</td>\n",
       "      <td>1.000000e-07</td>\n",
       "      <td>20594.30</td>\n",
       "    </tr>\n",
       "    <tr>\n",
       "      <th>...</th>\n",
       "      <td>...</td>\n",
       "      <td>...</td>\n",
       "      <td>...</td>\n",
       "      <td>...</td>\n",
       "      <td>...</td>\n",
       "      <td>...</td>\n",
       "      <td>...</td>\n",
       "      <td>...</td>\n",
       "      <td>...</td>\n",
       "      <td>...</td>\n",
       "      <td>...</td>\n",
       "      <td>...</td>\n",
       "      <td>...</td>\n",
       "      <td>...</td>\n",
       "      <td>...</td>\n",
       "      <td>...</td>\n",
       "      <td>...</td>\n",
       "      <td>...</td>\n",
       "      <td>...</td>\n",
       "      <td>...</td>\n",
       "      <td>...</td>\n",
       "    </tr>\n",
       "    <tr>\n",
       "      <th>4910</th>\n",
       "      <td>3.01483</td>\n",
       "      <td>3.20941</td>\n",
       "      <td>4.24502</td>\n",
       "      <td>5.19153</td>\n",
       "      <td>5.24824</td>\n",
       "      <td>5.24130</td>\n",
       "      <td>5.16952</td>\n",
       "      <td>5.18477</td>\n",
       "      <td>5.10443</td>\n",
       "      <td>5.17863</td>\n",
       "      <td>...</td>\n",
       "      <td>1.097940e+00</td>\n",
       "      <td>7.491060e-01</td>\n",
       "      <td>7.833540e-01</td>\n",
       "      <td>3.013900e-01</td>\n",
       "      <td>4.209160e-01</td>\n",
       "      <td>1.014600e-01</td>\n",
       "      <td>3.243420e+01</td>\n",
       "      <td>2.166330e+01</td>\n",
       "      <td>2.714370e+01</td>\n",
       "      <td>367530.00</td>\n",
       "    </tr>\n",
       "    <tr>\n",
       "      <th>4911</th>\n",
       "      <td>1.17719</td>\n",
       "      <td>1.37551</td>\n",
       "      <td>1.84375</td>\n",
       "      <td>2.25750</td>\n",
       "      <td>2.27674</td>\n",
       "      <td>2.29281</td>\n",
       "      <td>2.26491</td>\n",
       "      <td>2.26818</td>\n",
       "      <td>2.24488</td>\n",
       "      <td>2.25501</td>\n",
       "      <td>...</td>\n",
       "      <td>9.593950e-02</td>\n",
       "      <td>1.035910e-01</td>\n",
       "      <td>9.461920e-02</td>\n",
       "      <td>1.078180e-01</td>\n",
       "      <td>9.560480e-02</td>\n",
       "      <td>9.890780e-02</td>\n",
       "      <td>1.014600e-01</td>\n",
       "      <td>5.840000e-01</td>\n",
       "      <td>4.603710e-01</td>\n",
       "      <td>40930.00</td>\n",
       "    </tr>\n",
       "    <tr>\n",
       "      <th>4912</th>\n",
       "      <td>3.30335</td>\n",
       "      <td>3.58883</td>\n",
       "      <td>4.79122</td>\n",
       "      <td>5.92975</td>\n",
       "      <td>5.93691</td>\n",
       "      <td>5.97308</td>\n",
       "      <td>5.90872</td>\n",
       "      <td>5.91886</td>\n",
       "      <td>5.85291</td>\n",
       "      <td>5.88518</td>\n",
       "      <td>...</td>\n",
       "      <td>7.730420e-02</td>\n",
       "      <td>8.454030e-02</td>\n",
       "      <td>7.691460e-02</td>\n",
       "      <td>8.448920e-02</td>\n",
       "      <td>7.893080e-02</td>\n",
       "      <td>7.932750e-02</td>\n",
       "      <td>7.433410e-01</td>\n",
       "      <td>1.014600e-01</td>\n",
       "      <td>5.172770e-01</td>\n",
       "      <td>145728.00</td>\n",
       "    </tr>\n",
       "    <tr>\n",
       "      <th>4913</th>\n",
       "      <td>5.94325</td>\n",
       "      <td>6.83916</td>\n",
       "      <td>8.99569</td>\n",
       "      <td>11.27200</td>\n",
       "      <td>11.27610</td>\n",
       "      <td>11.35070</td>\n",
       "      <td>11.24740</td>\n",
       "      <td>11.25540</td>\n",
       "      <td>11.12770</td>\n",
       "      <td>11.17790</td>\n",
       "      <td>...</td>\n",
       "      <td>8.463560e-02</td>\n",
       "      <td>9.186710e-02</td>\n",
       "      <td>8.350150e-02</td>\n",
       "      <td>9.163710e-02</td>\n",
       "      <td>8.236980e-02</td>\n",
       "      <td>8.578660e-02</td>\n",
       "      <td>1.438470e+00</td>\n",
       "      <td>5.986140e-01</td>\n",
       "      <td>1.014600e-01</td>\n",
       "      <td>179240.00</td>\n",
       "    </tr>\n",
       "    <tr>\n",
       "      <th>4914</th>\n",
       "      <td>0.00000</td>\n",
       "      <td>0.00000</td>\n",
       "      <td>0.00000</td>\n",
       "      <td>0.00000</td>\n",
       "      <td>0.00000</td>\n",
       "      <td>0.00000</td>\n",
       "      <td>0.00000</td>\n",
       "      <td>0.00000</td>\n",
       "      <td>0.00000</td>\n",
       "      <td>0.00000</td>\n",
       "      <td>...</td>\n",
       "      <td>0.000000e+00</td>\n",
       "      <td>0.000000e+00</td>\n",
       "      <td>0.000000e+00</td>\n",
       "      <td>0.000000e+00</td>\n",
       "      <td>0.000000e+00</td>\n",
       "      <td>0.000000e+00</td>\n",
       "      <td>0.000000e+00</td>\n",
       "      <td>0.000000e+00</td>\n",
       "      <td>0.000000e+00</td>\n",
       "      <td>0.00</td>\n",
       "    </tr>\n",
       "  </tbody>\n",
       "</table>\n",
       "<p>4915 rows × 4915 columns</p>\n",
       "</div>"
      ],
      "text/plain": [
       "             0          1            2             3            4     \\\n",
       "0     98135.00000   25.30470    359.37200  214505.00000   2674.45000   \n",
       "1       132.40800  418.24000      2.32455   28665.90000      4.19821   \n",
       "2      1603.91000   37.79110  10299.00000     667.63800     68.57620   \n",
       "3     40408.80000  468.59600     54.37240  161090.00000   1532.57000   \n",
       "4      1706.29000  219.67600    385.27000    1929.72000  50932.00000   \n",
       "...           ...        ...          ...           ...          ...   \n",
       "4910      3.01483    3.20941      4.24502       5.19153      5.24824   \n",
       "4911      1.17719    1.37551      1.84375       2.25750      2.27674   \n",
       "4912      3.30335    3.58883      4.79122       5.92975      5.93691   \n",
       "4913      5.94325    6.83916      8.99569      11.27200     11.27610   \n",
       "4914      0.00000    0.00000      0.00000       0.00000      0.00000   \n",
       "\n",
       "             5            6           7           8           9     ...  \\\n",
       "0     32478.10000   2813.46000   139.37000   186.41400    19.09510  ...   \n",
       "1         1.56355     35.82680    18.74070     2.47318     1.07425  ...   \n",
       "2       698.94000  62054.80000  6174.97000   188.68600   265.54800  ...   \n",
       "3      1237.13000   4558.57000    28.90200    54.17510    13.63440  ...   \n",
       "4      4957.07000   6176.40000   919.84400  4939.74000  3683.98000  ...   \n",
       "...           ...          ...         ...         ...         ...  ...   \n",
       "4910      5.24130      5.16952     5.18477     5.10443     5.17863  ...   \n",
       "4911      2.29281      2.26491     2.26818     2.24488     2.25501  ...   \n",
       "4912      5.97308      5.90872     5.91886     5.85291     5.88518  ...   \n",
       "4913     11.35070     11.24740    11.25540    11.12770    11.17790  ...   \n",
       "4914      0.00000      0.00000     0.00000     0.00000     0.00000  ...   \n",
       "\n",
       "              4905          4906          4907          4908          4909  \\\n",
       "0     1.000000e-07  1.000000e-07  1.000000e-07  1.000000e-07  1.000000e-07   \n",
       "1     1.000000e-07  1.000000e-07  1.000000e-07  1.000000e-07  1.000000e-07   \n",
       "2     1.048770e-07  1.043120e-07  1.042980e-07  1.000000e-07  1.001720e-07   \n",
       "3     1.000000e-07  1.000000e-07  1.000000e-07  1.000000e-07  1.000000e-07   \n",
       "4     1.000000e-07  1.000000e-07  1.000000e-07  1.000000e-07  1.000000e-07   \n",
       "...            ...           ...           ...           ...           ...   \n",
       "4910  1.097940e+00  7.491060e-01  7.833540e-01  3.013900e-01  4.209160e-01   \n",
       "4911  9.593950e-02  1.035910e-01  9.461920e-02  1.078180e-01  9.560480e-02   \n",
       "4912  7.730420e-02  8.454030e-02  7.691460e-02  8.448920e-02  7.893080e-02   \n",
       "4913  8.463560e-02  9.186710e-02  8.350150e-02  9.163710e-02  8.236980e-02   \n",
       "4914  0.000000e+00  0.000000e+00  0.000000e+00  0.000000e+00  0.000000e+00   \n",
       "\n",
       "              4910          4911          4912          4913       4914  \n",
       "0     1.000000e-07  1.430900e-07  1.000000e-07  1.000000e-07  398916.00  \n",
       "1     1.000000e-07  1.000000e-07  1.000000e-07  1.000000e-07   28619.20  \n",
       "2     1.002060e-07  1.000000e-07  1.000000e-07  1.000000e-07   37647.30  \n",
       "3     1.000000e-07  1.000000e-07  1.000000e-07  1.000000e-07    5095.01  \n",
       "4     1.000000e-07  1.000000e-07  1.000000e-07  1.000000e-07   20594.30  \n",
       "...            ...           ...           ...           ...        ...  \n",
       "4910  1.014600e-01  3.243420e+01  2.166330e+01  2.714370e+01  367530.00  \n",
       "4911  9.890780e-02  1.014600e-01  5.840000e-01  4.603710e-01   40930.00  \n",
       "4912  7.932750e-02  7.433410e-01  1.014600e-01  5.172770e-01  145728.00  \n",
       "4913  8.578660e-02  1.438470e+00  5.986140e-01  1.014600e-01  179240.00  \n",
       "4914  0.000000e+00  0.000000e+00  0.000000e+00  0.000000e+00       0.00  \n",
       "\n",
       "[4915 rows x 4915 columns]"
      ]
     },
     "execution_count": 4,
     "metadata": {},
     "output_type": "execute_result"
    }
   ],
   "source": [
    "T_df # transaction matrix"
   ]
  },
  {
   "cell_type": "code",
   "execution_count": 5,
   "metadata": {},
   "outputs": [
    {
     "data": {
      "text/html": [
       "<div>\n",
       "<style scoped>\n",
       "    .dataframe tbody tr th:only-of-type {\n",
       "        vertical-align: middle;\n",
       "    }\n",
       "\n",
       "    .dataframe tbody tr th {\n",
       "        vertical-align: top;\n",
       "    }\n",
       "\n",
       "    .dataframe thead th {\n",
       "        text-align: right;\n",
       "    }\n",
       "</style>\n",
       "<table border=\"1\" class=\"dataframe\">\n",
       "  <thead>\n",
       "    <tr style=\"text-align: right;\">\n",
       "      <th></th>\n",
       "      <th>0</th>\n",
       "      <th>1</th>\n",
       "      <th>2</th>\n",
       "      <th>3</th>\n",
       "      <th>4</th>\n",
       "      <th>5</th>\n",
       "      <th>6</th>\n",
       "      <th>7</th>\n",
       "      <th>8</th>\n",
       "      <th>9</th>\n",
       "      <th>...</th>\n",
       "      <th>1130</th>\n",
       "      <th>1131</th>\n",
       "      <th>1132</th>\n",
       "      <th>1133</th>\n",
       "      <th>1134</th>\n",
       "      <th>1135</th>\n",
       "      <th>1136</th>\n",
       "      <th>1137</th>\n",
       "      <th>1138</th>\n",
       "      <th>1139</th>\n",
       "    </tr>\n",
       "  </thead>\n",
       "  <tbody>\n",
       "    <tr>\n",
       "      <th>0</th>\n",
       "      <td>2.441240e+06</td>\n",
       "      <td>21191.40000</td>\n",
       "      <td>4170.41000</td>\n",
       "      <td>17477.90000</td>\n",
       "      <td>9921.32000</td>\n",
       "      <td>50.29780</td>\n",
       "      <td>1.369080</td>\n",
       "      <td>1.338850</td>\n",
       "      <td>2.235760</td>\n",
       "      <td>2.504540</td>\n",
       "      <td>...</td>\n",
       "      <td>1.067240</td>\n",
       "      <td>1.420560</td>\n",
       "      <td>0.030502</td>\n",
       "      <td>1.050150</td>\n",
       "      <td>0.0</td>\n",
       "      <td>0.0</td>\n",
       "      <td>0.0</td>\n",
       "      <td>0.0</td>\n",
       "      <td>0.0</td>\n",
       "      <td>0.0</td>\n",
       "    </tr>\n",
       "    <tr>\n",
       "      <th>1</th>\n",
       "      <td>9.756520e+04</td>\n",
       "      <td>526.74900</td>\n",
       "      <td>2603.48000</td>\n",
       "      <td>7.44061</td>\n",
       "      <td>793.11800</td>\n",
       "      <td>7.44061</td>\n",
       "      <td>0.210492</td>\n",
       "      <td>0.210492</td>\n",
       "      <td>0.244429</td>\n",
       "      <td>0.255776</td>\n",
       "      <td>...</td>\n",
       "      <td>0.709638</td>\n",
       "      <td>0.598005</td>\n",
       "      <td>0.020051</td>\n",
       "      <td>0.598005</td>\n",
       "      <td>0.0</td>\n",
       "      <td>0.0</td>\n",
       "      <td>0.0</td>\n",
       "      <td>0.0</td>\n",
       "      <td>0.0</td>\n",
       "      <td>0.0</td>\n",
       "    </tr>\n",
       "    <tr>\n",
       "      <th>2</th>\n",
       "      <td>1.923700e+04</td>\n",
       "      <td>18.99120</td>\n",
       "      <td>334.61100</td>\n",
       "      <td>548.32100</td>\n",
       "      <td>1452.70000</td>\n",
       "      <td>1.78847</td>\n",
       "      <td>0.156236</td>\n",
       "      <td>0.156236</td>\n",
       "      <td>0.246782</td>\n",
       "      <td>0.215100</td>\n",
       "      <td>...</td>\n",
       "      <td>0.571534</td>\n",
       "      <td>0.398656</td>\n",
       "      <td>0.020445</td>\n",
       "      <td>0.398656</td>\n",
       "      <td>0.0</td>\n",
       "      <td>0.0</td>\n",
       "      <td>0.0</td>\n",
       "      <td>0.0</td>\n",
       "      <td>0.0</td>\n",
       "      <td>0.0</td>\n",
       "    </tr>\n",
       "    <tr>\n",
       "      <th>3</th>\n",
       "      <td>8.358320e+05</td>\n",
       "      <td>11606.10000</td>\n",
       "      <td>1.04009</td>\n",
       "      <td>0.44913</td>\n",
       "      <td>1812.68000</td>\n",
       "      <td>0.44913</td>\n",
       "      <td>0.056894</td>\n",
       "      <td>0.056894</td>\n",
       "      <td>0.080191</td>\n",
       "      <td>0.070835</td>\n",
       "      <td>...</td>\n",
       "      <td>0.398171</td>\n",
       "      <td>0.280365</td>\n",
       "      <td>0.015234</td>\n",
       "      <td>0.280365</td>\n",
       "      <td>0.0</td>\n",
       "      <td>0.0</td>\n",
       "      <td>0.0</td>\n",
       "      <td>0.0</td>\n",
       "      <td>0.0</td>\n",
       "      <td>0.0</td>\n",
       "    </tr>\n",
       "    <tr>\n",
       "      <th>4</th>\n",
       "      <td>1.393990e+05</td>\n",
       "      <td>1849.85000</td>\n",
       "      <td>28.03080</td>\n",
       "      <td>5638.92000</td>\n",
       "      <td>329.13900</td>\n",
       "      <td>13.14740</td>\n",
       "      <td>0.097453</td>\n",
       "      <td>0.097453</td>\n",
       "      <td>0.173592</td>\n",
       "      <td>0.149557</td>\n",
       "      <td>...</td>\n",
       "      <td>0.425890</td>\n",
       "      <td>0.348862</td>\n",
       "      <td>0.022607</td>\n",
       "      <td>0.348862</td>\n",
       "      <td>0.0</td>\n",
       "      <td>0.0</td>\n",
       "      <td>0.0</td>\n",
       "      <td>0.0</td>\n",
       "      <td>0.0</td>\n",
       "      <td>0.0</td>\n",
       "    </tr>\n",
       "    <tr>\n",
       "      <th>...</th>\n",
       "      <td>...</td>\n",
       "      <td>...</td>\n",
       "      <td>...</td>\n",
       "      <td>...</td>\n",
       "      <td>...</td>\n",
       "      <td>...</td>\n",
       "      <td>...</td>\n",
       "      <td>...</td>\n",
       "      <td>...</td>\n",
       "      <td>...</td>\n",
       "      <td>...</td>\n",
       "      <td>...</td>\n",
       "      <td>...</td>\n",
       "      <td>...</td>\n",
       "      <td>...</td>\n",
       "      <td>...</td>\n",
       "      <td>...</td>\n",
       "      <td>...</td>\n",
       "      <td>...</td>\n",
       "      <td>...</td>\n",
       "      <td>...</td>\n",
       "    </tr>\n",
       "    <tr>\n",
       "      <th>4910</th>\n",
       "      <td>6.406050e+00</td>\n",
       "      <td>6.40605</td>\n",
       "      <td>7.61509</td>\n",
       "      <td>7.99647</td>\n",
       "      <td>3.62230</td>\n",
       "      <td>7.99647</td>\n",
       "      <td>5.176600</td>\n",
       "      <td>5.176600</td>\n",
       "      <td>5.871570</td>\n",
       "      <td>6.588000</td>\n",
       "      <td>...</td>\n",
       "      <td>301040.000000</td>\n",
       "      <td>71759.100000</td>\n",
       "      <td>0.000000</td>\n",
       "      <td>71759.100000</td>\n",
       "      <td>0.0</td>\n",
       "      <td>0.0</td>\n",
       "      <td>0.0</td>\n",
       "      <td>0.0</td>\n",
       "      <td>0.0</td>\n",
       "      <td>0.0</td>\n",
       "    </tr>\n",
       "    <tr>\n",
       "      <th>4911</th>\n",
       "      <td>2.969850e+00</td>\n",
       "      <td>2.96985</td>\n",
       "      <td>3.40420</td>\n",
       "      <td>3.24971</td>\n",
       "      <td>1.71085</td>\n",
       "      <td>3.24971</td>\n",
       "      <td>1.817520</td>\n",
       "      <td>1.817520</td>\n",
       "      <td>1.933540</td>\n",
       "      <td>2.008380</td>\n",
       "      <td>...</td>\n",
       "      <td>109792.000000</td>\n",
       "      <td>21763.100000</td>\n",
       "      <td>0.000000</td>\n",
       "      <td>21763.100000</td>\n",
       "      <td>0.0</td>\n",
       "      <td>0.0</td>\n",
       "      <td>0.0</td>\n",
       "      <td>0.0</td>\n",
       "      <td>0.0</td>\n",
       "      <td>0.0</td>\n",
       "    </tr>\n",
       "    <tr>\n",
       "      <th>4912</th>\n",
       "      <td>7.513970e+00</td>\n",
       "      <td>7.51397</td>\n",
       "      <td>8.74698</td>\n",
       "      <td>8.27024</td>\n",
       "      <td>3.83962</td>\n",
       "      <td>8.27024</td>\n",
       "      <td>5.790060</td>\n",
       "      <td>5.790060</td>\n",
       "      <td>6.324450</td>\n",
       "      <td>6.546780</td>\n",
       "      <td>...</td>\n",
       "      <td>117676.000000</td>\n",
       "      <td>22373.000000</td>\n",
       "      <td>0.000000</td>\n",
       "      <td>22373.000000</td>\n",
       "      <td>0.0</td>\n",
       "      <td>0.0</td>\n",
       "      <td>0.0</td>\n",
       "      <td>0.0</td>\n",
       "      <td>0.0</td>\n",
       "      <td>0.0</td>\n",
       "    </tr>\n",
       "    <tr>\n",
       "      <th>4913</th>\n",
       "      <td>1.449490e+01</td>\n",
       "      <td>14.49490</td>\n",
       "      <td>17.07700</td>\n",
       "      <td>15.95110</td>\n",
       "      <td>6.92056</td>\n",
       "      <td>15.95110</td>\n",
       "      <td>11.069300</td>\n",
       "      <td>11.069300</td>\n",
       "      <td>12.226400</td>\n",
       "      <td>12.927700</td>\n",
       "      <td>...</td>\n",
       "      <td>134683.000000</td>\n",
       "      <td>25011.100000</td>\n",
       "      <td>0.000000</td>\n",
       "      <td>25011.100000</td>\n",
       "      <td>0.0</td>\n",
       "      <td>0.0</td>\n",
       "      <td>0.0</td>\n",
       "      <td>0.0</td>\n",
       "      <td>0.0</td>\n",
       "      <td>0.0</td>\n",
       "    </tr>\n",
       "    <tr>\n",
       "      <th>4914</th>\n",
       "      <td>0.000000e+00</td>\n",
       "      <td>0.00000</td>\n",
       "      <td>0.00000</td>\n",
       "      <td>0.00000</td>\n",
       "      <td>0.00000</td>\n",
       "      <td>0.00000</td>\n",
       "      <td>0.000000</td>\n",
       "      <td>0.000000</td>\n",
       "      <td>0.000000</td>\n",
       "      <td>0.000000</td>\n",
       "      <td>...</td>\n",
       "      <td>0.000000</td>\n",
       "      <td>0.000000</td>\n",
       "      <td>0.000000</td>\n",
       "      <td>0.000000</td>\n",
       "      <td>0.0</td>\n",
       "      <td>0.0</td>\n",
       "      <td>0.0</td>\n",
       "      <td>0.0</td>\n",
       "      <td>0.0</td>\n",
       "      <td>0.0</td>\n",
       "    </tr>\n",
       "  </tbody>\n",
       "</table>\n",
       "<p>4915 rows × 1140 columns</p>\n",
       "</div>"
      ],
      "text/plain": [
       "              0            1           2            3           4     \\\n",
       "0     2.441240e+06  21191.40000  4170.41000  17477.90000  9921.32000   \n",
       "1     9.756520e+04    526.74900  2603.48000      7.44061   793.11800   \n",
       "2     1.923700e+04     18.99120   334.61100    548.32100  1452.70000   \n",
       "3     8.358320e+05  11606.10000     1.04009      0.44913  1812.68000   \n",
       "4     1.393990e+05   1849.85000    28.03080   5638.92000   329.13900   \n",
       "...            ...          ...         ...          ...         ...   \n",
       "4910  6.406050e+00      6.40605     7.61509      7.99647     3.62230   \n",
       "4911  2.969850e+00      2.96985     3.40420      3.24971     1.71085   \n",
       "4912  7.513970e+00      7.51397     8.74698      8.27024     3.83962   \n",
       "4913  1.449490e+01     14.49490    17.07700     15.95110     6.92056   \n",
       "4914  0.000000e+00      0.00000     0.00000      0.00000     0.00000   \n",
       "\n",
       "          5          6          7          8          9     ...  \\\n",
       "0     50.29780   1.369080   1.338850   2.235760   2.504540  ...   \n",
       "1      7.44061   0.210492   0.210492   0.244429   0.255776  ...   \n",
       "2      1.78847   0.156236   0.156236   0.246782   0.215100  ...   \n",
       "3      0.44913   0.056894   0.056894   0.080191   0.070835  ...   \n",
       "4     13.14740   0.097453   0.097453   0.173592   0.149557  ...   \n",
       "...        ...        ...        ...        ...        ...  ...   \n",
       "4910   7.99647   5.176600   5.176600   5.871570   6.588000  ...   \n",
       "4911   3.24971   1.817520   1.817520   1.933540   2.008380  ...   \n",
       "4912   8.27024   5.790060   5.790060   6.324450   6.546780  ...   \n",
       "4913  15.95110  11.069300  11.069300  12.226400  12.927700  ...   \n",
       "4914   0.00000   0.000000   0.000000   0.000000   0.000000  ...   \n",
       "\n",
       "               1130          1131      1132          1133  1134  1135  1136  \\\n",
       "0          1.067240      1.420560  0.030502      1.050150   0.0   0.0   0.0   \n",
       "1          0.709638      0.598005  0.020051      0.598005   0.0   0.0   0.0   \n",
       "2          0.571534      0.398656  0.020445      0.398656   0.0   0.0   0.0   \n",
       "3          0.398171      0.280365  0.015234      0.280365   0.0   0.0   0.0   \n",
       "4          0.425890      0.348862  0.022607      0.348862   0.0   0.0   0.0   \n",
       "...             ...           ...       ...           ...   ...   ...   ...   \n",
       "4910  301040.000000  71759.100000  0.000000  71759.100000   0.0   0.0   0.0   \n",
       "4911  109792.000000  21763.100000  0.000000  21763.100000   0.0   0.0   0.0   \n",
       "4912  117676.000000  22373.000000  0.000000  22373.000000   0.0   0.0   0.0   \n",
       "4913  134683.000000  25011.100000  0.000000  25011.100000   0.0   0.0   0.0   \n",
       "4914       0.000000      0.000000  0.000000      0.000000   0.0   0.0   0.0   \n",
       "\n",
       "      1137  1138  1139  \n",
       "0      0.0   0.0   0.0  \n",
       "1      0.0   0.0   0.0  \n",
       "2      0.0   0.0   0.0  \n",
       "3      0.0   0.0   0.0  \n",
       "4      0.0   0.0   0.0  \n",
       "...    ...   ...   ...  \n",
       "4910   0.0   0.0   0.0  \n",
       "4911   0.0   0.0   0.0  \n",
       "4912   0.0   0.0   0.0  \n",
       "4913   0.0   0.0   0.0  \n",
       "4914   0.0   0.0   0.0  \n",
       "\n",
       "[4915 rows x 1140 columns]"
      ]
     },
     "execution_count": 5,
     "metadata": {},
     "output_type": "execute_result"
    }
   ],
   "source": [
    "FD_df #final demand matrix"
   ]
  },
  {
   "cell_type": "code",
   "execution_count": 216,
   "metadata": {
    "colab": {
     "base_uri": "https://localhost:8080/",
     "height": 487
    },
    "executionInfo": {
     "elapsed": 12,
     "status": "ok",
     "timestamp": 1643268785313,
     "user": {
      "displayName": "Weilun Liu",
      "photoUrl": "https://lh3.googleusercontent.com/a/default-user=s64",
      "userId": "06371698207429536788"
     },
     "user_tz": 360
    },
    "id": "eqANJPSXfy-t",
    "outputId": "339a4fd6-1f4e-4a2a-8531-59ac66aa6950"
   },
   "outputs": [],
   "source": [
    "# drop ANT\n",
    "T_df = T_df.drop(columns=list(range(120*26,121*26)) + list(range(174*26,175*26)))\n",
    "T_df = T_df.drop(list(range(120*26,121*26)) + list(range(174*26,175*26)))\n",
    "FD_df = FD_df.drop(columns=list(range(120*6,121*6)) + list(range(174*6,175*6))) \n",
    "FD_df = FD_df.drop(list(range(120*26,121*26)) + list(range(174*26,175*26))) \n",
    "LABELS_df = LABELS_df.drop(list(range(120*26,121*26)) + list(range(174*26,175*26)))\n",
    "\n",
    "# drop USR\n",
    "# T_df = T_df.drop(columns=list(range(174*26,175*26))) \n",
    "# T_df = T_df.drop(list(range(174*26,175*26)))\n",
    "# FD_df = FD_df.drop(columns=list(range(174*6,175*6)))\n",
    "# FD_df = FD_df.drop(list(range(174*26,175*26))) \n",
    "# LABELS_df = LABELS_df.drop(list(range(174*26,175*26)))"
   ]
  },
  {
   "cell_type": "markdown",
   "metadata": {},
   "source": [
    "## Remember not to reset index while dropping columns!!!"
   ]
  },
  {
   "cell_type": "code",
   "execution_count": 219,
   "metadata": {},
   "outputs": [
    {
     "data": {
      "text/plain": [
       "True"
      ]
     },
     "execution_count": 219,
     "metadata": {},
     "output_type": "execute_result"
    }
   ],
   "source": [
    "175*26 in T_df.columns"
   ]
  },
  {
   "cell_type": "code",
   "execution_count": 220,
   "metadata": {},
   "outputs": [],
   "source": [
    "T_df = T_df.reset_index(drop=True)\n",
    "FD_df = FD_df.reset_index(drop=True)\n",
    "LABELS_df = LABELS_df.reset_index(drop=True)"
   ]
  },
  {
   "cell_type": "code",
   "execution_count": 221,
   "metadata": {},
   "outputs": [],
   "source": [
    "T_df.columns = list(range(0,4863))\n",
    "FD_df.columns = list(range(0,1128))"
   ]
  },
  {
   "cell_type": "code",
   "execution_count": 222,
   "metadata": {
    "executionInfo": {
     "elapsed": 4,
     "status": "ok",
     "timestamp": 1643268785314,
     "user": {
      "displayName": "Weilun Liu",
      "photoUrl": "https://lh3.googleusercontent.com/a/default-user=s64",
      "userId": "06371698207429536788"
     },
     "user_tz": 360
    },
    "id": "USyK2uW0TUUi"
   },
   "outputs": [],
   "source": [
    "# Extact names of countries\n",
    "LABELS_df.columns = [\"Country\",\"c\",\"I\",\"Industries\"]\n",
    "Export = pd.DataFrame(LABELS_df,columns=[\"Country\",\"Industries\"])\n",
    "Countries = list(LABELS_df[\"Country\"].unique())"
   ]
  },
  {
   "cell_type": "code",
   "execution_count": 223,
   "metadata": {},
   "outputs": [
    {
     "data": {
      "text/plain": [
       "False"
      ]
     },
     "execution_count": 223,
     "metadata": {},
     "output_type": "execute_result"
    }
   ],
   "source": [
    "'USR' in Countries"
   ]
  },
  {
   "cell_type": "markdown",
   "metadata": {
    "id": "f7BTau8XnjfR"
   },
   "source": [
    "### Export"
   ]
  },
  {
   "cell_type": "code",
   "execution_count": 224,
   "metadata": {
    "executionInfo": {
     "elapsed": 900,
     "status": "ok",
     "timestamp": 1643268786210,
     "user": {
      "displayName": "Weilun Liu",
      "photoUrl": "https://lh3.googleusercontent.com/a/default-user=s64",
      "userId": "06371698207429536788"
     },
     "user_tz": 360
    },
    "id": "-tBrHQrJkvor"
   },
   "outputs": [],
   "source": [
    "# Calculate TID and TFD\n",
    "Export[\"TID\"] = T_df.sum(axis=1) # Total intermediate demand\n",
    "Export[\"TFD\"] = FD_df.sum(axis=1) # Total final demand"
   ]
  },
  {
   "cell_type": "code",
   "execution_count": 225,
   "metadata": {
    "executionInfo": {
     "elapsed": 8,
     "status": "ok",
     "timestamp": 1643268786211,
     "user": {
      "displayName": "Weilun Liu",
      "photoUrl": "https://lh3.googleusercontent.com/a/default-user=s64",
      "userId": "06371698207429536788"
     },
     "user_tz": 360
    },
    "id": "iGh8jvJpqSjM"
   },
   "outputs": [],
   "source": [
    "# Calculate trade mask matrix\n",
    "T_df1 = copy.copy(T_df)\n",
    "FD_df1 = copy.copy(FD_df)\n",
    "Masked_T = T_df1.to_numpy()\n",
    "Masked_FD = FD_df1.to_numpy()"
   ]
  },
  {
   "cell_type": "code",
   "execution_count": 226,
   "metadata": {
    "colab": {
     "base_uri": "https://localhost:8080/"
    },
    "executionInfo": {
     "elapsed": 8,
     "status": "ok",
     "timestamp": 1643268786211,
     "user": {
      "displayName": "Weilun Liu",
      "photoUrl": "https://lh3.googleusercontent.com/a/default-user=s64",
      "userId": "06371698207429536788"
     },
     "user_tz": 360
    },
    "id": "sZ4fWg46cSaX",
    "outputId": "aecbcbc3-0a93-441b-bec7-bb393f783947"
   },
   "outputs": [
    {
     "data": {
      "text/plain": [
       "((4863, 1128), (4863, 4863))"
      ]
     },
     "execution_count": 226,
     "metadata": {},
     "output_type": "execute_result"
    }
   ],
   "source": [
    "Masked_FD.shape,Masked_T.shape"
   ]
  },
  {
   "cell_type": "code",
   "execution_count": 227,
   "metadata": {
    "executionInfo": {
     "elapsed": 3,
     "status": "ok",
     "timestamp": 1643268786211,
     "user": {
      "displayName": "Weilun Liu",
      "photoUrl": "https://lh3.googleusercontent.com/a/default-user=s64",
      "userId": "06371698207429536788"
     },
     "user_tz": 360
    },
    "id": "Ahft84VShZj2"
   },
   "outputs": [],
   "source": [
    "# A masked matrix only contains export flows: zeros for domestic flow.\n",
    "for i in range(187):\n",
    "    Masked_T[i*26:(i+1)*26,i*26:(i+1)*26] = 0\n",
    "    Masked_FD[i*26:(i+1)*26,i*6:(i+1)*6] = 0\n",
    "Masked_T[-1,-1] = 0\n",
    "Masked_FD[-1,-6:] = 0\n",
    "\n",
    "Masked_T_df = pd.DataFrame(Masked_T)\n",
    "Masked_FD_df = pd.DataFrame(Masked_FD)"
   ]
  },
  {
   "cell_type": "code",
   "execution_count": 228,
   "metadata": {
    "executionInfo": {
     "elapsed": 580,
     "status": "ok",
     "timestamp": 1643268786789,
     "user": {
      "displayName": "Weilun Liu",
      "photoUrl": "https://lh3.googleusercontent.com/a/default-user=s64",
      "userId": "06371698207429536788"
     },
     "user_tz": 360
    },
    "id": "D-AftiEkhZhK"
   },
   "outputs": [],
   "source": [
    "# Calculate FID and FFD\n",
    "Export[\"FID\"] = Masked_T_df.sum(axis=1) # Foreign intermediate demand\n",
    "Export[\"FFD\"] = Masked_FD_df.sum(axis=1) # Foreign final demand"
   ]
  },
  {
   "cell_type": "code",
   "execution_count": 229,
   "metadata": {
    "colab": {
     "base_uri": "https://localhost:8080/",
     "height": 423
    },
    "executionInfo": {
     "elapsed": 12,
     "status": "ok",
     "timestamp": 1643268786789,
     "user": {
      "displayName": "Weilun Liu",
      "photoUrl": "https://lh3.googleusercontent.com/a/default-user=s64",
      "userId": "06371698207429536788"
     },
     "user_tz": 360
    },
    "id": "VzMy_vYpjYZX",
    "outputId": "8f15c1de-220b-4f21-def4-7b8f73fc7874"
   },
   "outputs": [
    {
     "data": {
      "text/html": [
       "<div>\n",
       "<style scoped>\n",
       "    .dataframe tbody tr th:only-of-type {\n",
       "        vertical-align: middle;\n",
       "    }\n",
       "\n",
       "    .dataframe tbody tr th {\n",
       "        vertical-align: top;\n",
       "    }\n",
       "\n",
       "    .dataframe thead th {\n",
       "        text-align: right;\n",
       "    }\n",
       "</style>\n",
       "<table border=\"1\" class=\"dataframe\">\n",
       "  <thead>\n",
       "    <tr style=\"text-align: right;\">\n",
       "      <th></th>\n",
       "      <th>Country</th>\n",
       "      <th>Industries</th>\n",
       "      <th>TID</th>\n",
       "      <th>TFD</th>\n",
       "      <th>FID</th>\n",
       "      <th>FFD</th>\n",
       "    </tr>\n",
       "  </thead>\n",
       "  <tbody>\n",
       "    <tr>\n",
       "      <th>0</th>\n",
       "      <td>AFG</td>\n",
       "      <td>Agriculture</td>\n",
       "      <td>1.538228e+06</td>\n",
       "      <td>2.982173e+06</td>\n",
       "      <td>1.118930e+06</td>\n",
       "      <td>488121.500819</td>\n",
       "    </tr>\n",
       "    <tr>\n",
       "      <th>1</th>\n",
       "      <td>AFG</td>\n",
       "      <td>Fishing</td>\n",
       "      <td>8.204556e+04</td>\n",
       "      <td>1.021952e+05</td>\n",
       "      <td>3.288965e+04</td>\n",
       "      <td>691.735172</td>\n",
       "    </tr>\n",
       "    <tr>\n",
       "      <th>2</th>\n",
       "      <td>AFG</td>\n",
       "      <td>Mining and Quarrying</td>\n",
       "      <td>2.571376e+05</td>\n",
       "      <td>2.229511e+04</td>\n",
       "      <td>4.083923e+04</td>\n",
       "      <td>701.700171</td>\n",
       "    </tr>\n",
       "    <tr>\n",
       "      <th>3</th>\n",
       "      <td>AFG</td>\n",
       "      <td>Food &amp; Beverages</td>\n",
       "      <td>4.822587e+05</td>\n",
       "      <td>8.496689e+05</td>\n",
       "      <td>6.115531e+03</td>\n",
       "      <td>416.200579</td>\n",
       "    </tr>\n",
       "    <tr>\n",
       "      <th>4</th>\n",
       "      <td>AFG</td>\n",
       "      <td>Textiles and Wearing Apparel</td>\n",
       "      <td>1.526739e+05</td>\n",
       "      <td>1.494905e+05</td>\n",
       "      <td>2.357414e+04</td>\n",
       "      <td>2232.457909</td>\n",
       "    </tr>\n",
       "    <tr>\n",
       "      <th>...</th>\n",
       "      <td>...</td>\n",
       "      <td>...</td>\n",
       "      <td>...</td>\n",
       "      <td>...</td>\n",
       "      <td>...</td>\n",
       "      <td>...</td>\n",
       "    </tr>\n",
       "    <tr>\n",
       "      <th>4858</th>\n",
       "      <td>ZWE</td>\n",
       "      <td>Education, Health and Other Services</td>\n",
       "      <td>4.053929e+05</td>\n",
       "      <td>9.166833e+05</td>\n",
       "      <td>4.051682e+05</td>\n",
       "      <td>10999.052329</td>\n",
       "    </tr>\n",
       "    <tr>\n",
       "      <th>4859</th>\n",
       "      <td>ZWE</td>\n",
       "      <td>Private Households</td>\n",
       "      <td>5.454534e+04</td>\n",
       "      <td>3.839635e+05</td>\n",
       "      <td>5.453544e+04</td>\n",
       "      <td>2445.266074</td>\n",
       "    </tr>\n",
       "    <tr>\n",
       "      <th>4860</th>\n",
       "      <td>ZWE</td>\n",
       "      <td>Others</td>\n",
       "      <td>1.878119e+05</td>\n",
       "      <td>3.851117e+05</td>\n",
       "      <td>1.878020e+05</td>\n",
       "      <td>7345.654559</td>\n",
       "    </tr>\n",
       "    <tr>\n",
       "      <th>4861</th>\n",
       "      <td>ZWE</td>\n",
       "      <td>Re-export &amp; Re-import</td>\n",
       "      <td>2.625942e+05</td>\n",
       "      <td>4.400673e+05</td>\n",
       "      <td>2.625817e+05</td>\n",
       "      <td>14370.062704</td>\n",
       "    </tr>\n",
       "    <tr>\n",
       "      <th>4862</th>\n",
       "      <td>ROW</td>\n",
       "      <td>TOTAL</td>\n",
       "      <td>4.250347e+08</td>\n",
       "      <td>0.000000e+00</td>\n",
       "      <td>4.250347e+08</td>\n",
       "      <td>0.000000</td>\n",
       "    </tr>\n",
       "  </tbody>\n",
       "</table>\n",
       "<p>4863 rows × 6 columns</p>\n",
       "</div>"
      ],
      "text/plain": [
       "     Country                            Industries           TID  \\\n",
       "0        AFG                           Agriculture  1.538228e+06   \n",
       "1        AFG                               Fishing  8.204556e+04   \n",
       "2        AFG                  Mining and Quarrying  2.571376e+05   \n",
       "3        AFG                      Food & Beverages  4.822587e+05   \n",
       "4        AFG          Textiles and Wearing Apparel  1.526739e+05   \n",
       "...      ...                                   ...           ...   \n",
       "4858     ZWE  Education, Health and Other Services  4.053929e+05   \n",
       "4859     ZWE                    Private Households  5.454534e+04   \n",
       "4860     ZWE                                Others  1.878119e+05   \n",
       "4861     ZWE                 Re-export & Re-import  2.625942e+05   \n",
       "4862     ROW                                 TOTAL  4.250347e+08   \n",
       "\n",
       "               TFD           FID            FFD  \n",
       "0     2.982173e+06  1.118930e+06  488121.500819  \n",
       "1     1.021952e+05  3.288965e+04     691.735172  \n",
       "2     2.229511e+04  4.083923e+04     701.700171  \n",
       "3     8.496689e+05  6.115531e+03     416.200579  \n",
       "4     1.494905e+05  2.357414e+04    2232.457909  \n",
       "...            ...           ...            ...  \n",
       "4858  9.166833e+05  4.051682e+05   10999.052329  \n",
       "4859  3.839635e+05  5.453544e+04    2445.266074  \n",
       "4860  3.851117e+05  1.878020e+05    7345.654559  \n",
       "4861  4.400673e+05  2.625817e+05   14370.062704  \n",
       "4862  0.000000e+00  4.250347e+08       0.000000  \n",
       "\n",
       "[4863 rows x 6 columns]"
      ]
     },
     "execution_count": 229,
     "metadata": {},
     "output_type": "execute_result"
    }
   ],
   "source": [
    "Export"
   ]
  },
  {
   "cell_type": "code",
   "execution_count": 230,
   "metadata": {
    "executionInfo": {
     "elapsed": 11,
     "status": "ok",
     "timestamp": 1643268786790,
     "user": {
      "displayName": "Weilun Liu",
      "photoUrl": "https://lh3.googleusercontent.com/a/default-user=s64",
      "userId": "06371698207429536788"
     },
     "user_tz": 360
    },
    "id": "u-RPQSyvg-gg"
   },
   "outputs": [],
   "source": [
    "# Calculate HID and HFD\n",
    "Export[\"HID\"] = Export[\"TID\"] - Export[\"FID\"] # Home intermediate demand\n",
    "Export[\"HFD\"] = Export[\"TFD\"] - Export[\"FFD\"] # Home final demand"
   ]
  },
  {
   "cell_type": "code",
   "execution_count": 231,
   "metadata": {
    "executionInfo": {
     "elapsed": 11,
     "status": "ok",
     "timestamp": 1643268786790,
     "user": {
      "displayName": "Weilun Liu",
      "photoUrl": "https://lh3.googleusercontent.com/a/default-user=s64",
      "userId": "06371698207429536788"
     },
     "user_tz": 360
    },
    "id": "rrLI6b3Kg-eC"
   },
   "outputs": [],
   "source": [
    "# Gross output and Export\n",
    "Export[\"Gross_output\"] = Export[\"TID\"] + Export[\"TFD\"]\n",
    "Export[\"Tol_export\"] = Export[\"FID\"] + Export[\"FFD\"]"
   ]
  },
  {
   "cell_type": "code",
   "execution_count": 232,
   "metadata": {
    "executionInfo": {
     "elapsed": 12,
     "status": "ok",
     "timestamp": 1643268786791,
     "user": {
      "displayName": "Weilun Liu",
      "photoUrl": "https://lh3.googleusercontent.com/a/default-user=s64",
      "userId": "06371698207429536788"
     },
     "user_tz": 360
    },
    "id": "MEjMHnnng-Wc"
   },
   "outputs": [],
   "source": [
    "# Calculate total export of each country in a dict.\n",
    "Tol_export = dict(Export.groupby(by=[\"Country\"])[\"Tol_export\"].sum())"
   ]
  },
  {
   "cell_type": "code",
   "execution_count": 233,
   "metadata": {
    "colab": {
     "base_uri": "https://localhost:8080/"
    },
    "executionInfo": {
     "elapsed": 11,
     "status": "ok",
     "timestamp": 1643268786791,
     "user": {
      "displayName": "Weilun Liu",
      "photoUrl": "https://lh3.googleusercontent.com/a/default-user=s64",
      "userId": "06371698207429536788"
     },
     "user_tz": 360
    },
    "id": "e8gWzXuWmijj",
    "outputId": "97ca5358-2eb5-419a-8213-b9486d04c95f"
   },
   "outputs": [
    {
     "data": {
      "text/plain": [
       "True"
      ]
     },
     "execution_count": 233,
     "metadata": {},
     "output_type": "execute_result"
    }
   ],
   "source": [
    "# Simple check\n",
    "Export[Export[\"Country\"] == \"ROW\"][\"Tol_export\"].sum() == Tol_export[\"ROW\"]"
   ]
  },
  {
   "cell_type": "code",
   "execution_count": 234,
   "metadata": {
    "colab": {
     "base_uri": "https://localhost:8080/"
    },
    "executionInfo": {
     "elapsed": 9,
     "status": "ok",
     "timestamp": 1643268786792,
     "user": {
      "displayName": "Weilun Liu",
      "photoUrl": "https://lh3.googleusercontent.com/a/default-user=s64",
      "userId": "06371698207429536788"
     },
     "user_tz": 360
    },
    "id": "bl3orB2So6oD",
    "outputId": "3fe1ca31-0dcb-4b65-d4a3-3c19bd1a3e1a"
   },
   "outputs": [
    {
     "data": {
      "text/plain": [
       "2566482.0274316235"
      ]
     },
     "execution_count": 234,
     "metadata": {},
     "output_type": "execute_result"
    }
   ],
   "source": [
    "Tol_export[\"PSE\"]"
   ]
  },
  {
   "cell_type": "code",
   "execution_count": 235,
   "metadata": {},
   "outputs": [
    {
     "data": {
      "text/html": [
       "<div>\n",
       "<style scoped>\n",
       "    .dataframe tbody tr th:only-of-type {\n",
       "        vertical-align: middle;\n",
       "    }\n",
       "\n",
       "    .dataframe tbody tr th {\n",
       "        vertical-align: top;\n",
       "    }\n",
       "\n",
       "    .dataframe thead th {\n",
       "        text-align: right;\n",
       "    }\n",
       "</style>\n",
       "<table border=\"1\" class=\"dataframe\">\n",
       "  <thead>\n",
       "    <tr style=\"text-align: right;\">\n",
       "      <th></th>\n",
       "      <th>Country</th>\n",
       "      <th>Industries</th>\n",
       "      <th>TID</th>\n",
       "      <th>TFD</th>\n",
       "      <th>FID</th>\n",
       "      <th>FFD</th>\n",
       "      <th>HID</th>\n",
       "      <th>HFD</th>\n",
       "      <th>Gross_output</th>\n",
       "      <th>Tol_export</th>\n",
       "    </tr>\n",
       "  </thead>\n",
       "  <tbody>\n",
       "    <tr>\n",
       "      <th>28</th>\n",
       "      <td>ALB</td>\n",
       "      <td>Mining and Quarrying</td>\n",
       "      <td>4.019093e+05</td>\n",
       "      <td>-5.244373e+03</td>\n",
       "      <td>7.067531e+04</td>\n",
       "      <td>4.988982e+03</td>\n",
       "      <td>3.312340e+05</td>\n",
       "      <td>-1.023335e+04</td>\n",
       "      <td>3.966650e+05</td>\n",
       "      <td>7.566429e+04</td>\n",
       "    </tr>\n",
       "    <tr>\n",
       "      <th>37</th>\n",
       "      <td>ALB</td>\n",
       "      <td>Recycling</td>\n",
       "      <td>3.351214e+04</td>\n",
       "      <td>-3.453328e+03</td>\n",
       "      <td>2.271360e+04</td>\n",
       "      <td>5.109610e+03</td>\n",
       "      <td>1.079854e+04</td>\n",
       "      <td>-8.562937e+03</td>\n",
       "      <td>3.005881e+04</td>\n",
       "      <td>2.782321e+04</td>\n",
       "    </tr>\n",
       "    <tr>\n",
       "      <th>444</th>\n",
       "      <td>BEL</td>\n",
       "      <td>Mining and Quarrying</td>\n",
       "      <td>7.120145e+06</td>\n",
       "      <td>-4.346294e+04</td>\n",
       "      <td>6.444965e+06</td>\n",
       "      <td>4.453133e+04</td>\n",
       "      <td>6.751805e+05</td>\n",
       "      <td>-8.799427e+04</td>\n",
       "      <td>7.076682e+06</td>\n",
       "      <td>6.489496e+06</td>\n",
       "    </tr>\n",
       "    <tr>\n",
       "      <th>548</th>\n",
       "      <td>BTN</td>\n",
       "      <td>Mining and Quarrying</td>\n",
       "      <td>7.347791e+04</td>\n",
       "      <td>-3.166672e+02</td>\n",
       "      <td>2.373465e+04</td>\n",
       "      <td>6.655362e+02</td>\n",
       "      <td>4.974326e+04</td>\n",
       "      <td>-9.822035e+02</td>\n",
       "      <td>7.316124e+04</td>\n",
       "      <td>2.440018e+04</td>\n",
       "    </tr>\n",
       "    <tr>\n",
       "      <th>553</th>\n",
       "      <td>BTN</td>\n",
       "      <td>Metal Products</td>\n",
       "      <td>1.063034e+05</td>\n",
       "      <td>-3.063535e+03</td>\n",
       "      <td>9.901462e+04</td>\n",
       "      <td>2.251341e+03</td>\n",
       "      <td>7.288777e+03</td>\n",
       "      <td>-5.314875e+03</td>\n",
       "      <td>1.032399e+05</td>\n",
       "      <td>1.012660e+05</td>\n",
       "    </tr>\n",
       "    <tr>\n",
       "      <th>...</th>\n",
       "      <td>...</td>\n",
       "      <td>...</td>\n",
       "      <td>...</td>\n",
       "      <td>...</td>\n",
       "      <td>...</td>\n",
       "      <td>...</td>\n",
       "      <td>...</td>\n",
       "      <td>...</td>\n",
       "      <td>...</td>\n",
       "      <td>...</td>\n",
       "    </tr>\n",
       "    <tr>\n",
       "      <th>4323</th>\n",
       "      <td>THA</td>\n",
       "      <td>Metal Products</td>\n",
       "      <td>3.658781e+07</td>\n",
       "      <td>-7.853084e+06</td>\n",
       "      <td>1.219838e+07</td>\n",
       "      <td>1.173894e+06</td>\n",
       "      <td>2.438943e+07</td>\n",
       "      <td>-9.026978e+06</td>\n",
       "      <td>2.873473e+07</td>\n",
       "      <td>1.337228e+07</td>\n",
       "    </tr>\n",
       "    <tr>\n",
       "      <th>4448</th>\n",
       "      <td>TUR</td>\n",
       "      <td>Mining and Quarrying</td>\n",
       "      <td>9.818269e+06</td>\n",
       "      <td>-9.806427e+05</td>\n",
       "      <td>5.021859e+06</td>\n",
       "      <td>4.942458e+04</td>\n",
       "      <td>4.796410e+06</td>\n",
       "      <td>-1.030067e+06</td>\n",
       "      <td>8.837626e+06</td>\n",
       "      <td>5.071284e+06</td>\n",
       "    </tr>\n",
       "    <tr>\n",
       "      <th>4628</th>\n",
       "      <td>USA</td>\n",
       "      <td>Agriculture</td>\n",
       "      <td>3.931916e+08</td>\n",
       "      <td>-1.794300e+07</td>\n",
       "      <td>4.143433e+07</td>\n",
       "      <td>1.826044e+07</td>\n",
       "      <td>3.517573e+08</td>\n",
       "      <td>-3.620345e+07</td>\n",
       "      <td>3.752486e+08</td>\n",
       "      <td>5.969478e+07</td>\n",
       "    </tr>\n",
       "    <tr>\n",
       "      <th>4630</th>\n",
       "      <td>USA</td>\n",
       "      <td>Mining and Quarrying</td>\n",
       "      <td>2.889989e+08</td>\n",
       "      <td>-7.527389e+07</td>\n",
       "      <td>2.634307e+07</td>\n",
       "      <td>5.771048e+05</td>\n",
       "      <td>2.626559e+08</td>\n",
       "      <td>-7.585100e+07</td>\n",
       "      <td>2.137250e+08</td>\n",
       "      <td>2.692017e+07</td>\n",
       "    </tr>\n",
       "    <tr>\n",
       "      <th>4734</th>\n",
       "      <td>VEN</td>\n",
       "      <td>Mining and Quarrying</td>\n",
       "      <td>5.268557e+07</td>\n",
       "      <td>-6.314231e+06</td>\n",
       "      <td>2.218009e+07</td>\n",
       "      <td>1.431325e+04</td>\n",
       "      <td>3.050548e+07</td>\n",
       "      <td>-6.328544e+06</td>\n",
       "      <td>4.637133e+07</td>\n",
       "      <td>2.219440e+07</td>\n",
       "    </tr>\n",
       "  </tbody>\n",
       "</table>\n",
       "<p>61 rows × 10 columns</p>\n",
       "</div>"
      ],
      "text/plain": [
       "     Country            Industries           TID           TFD           FID  \\\n",
       "28       ALB  Mining and Quarrying  4.019093e+05 -5.244373e+03  7.067531e+04   \n",
       "37       ALB             Recycling  3.351214e+04 -3.453328e+03  2.271360e+04   \n",
       "444      BEL  Mining and Quarrying  7.120145e+06 -4.346294e+04  6.444965e+06   \n",
       "548      BTN  Mining and Quarrying  7.347791e+04 -3.166672e+02  2.373465e+04   \n",
       "553      BTN        Metal Products  1.063034e+05 -3.063535e+03  9.901462e+04   \n",
       "...      ...                   ...           ...           ...           ...   \n",
       "4323     THA        Metal Products  3.658781e+07 -7.853084e+06  1.219838e+07   \n",
       "4448     TUR  Mining and Quarrying  9.818269e+06 -9.806427e+05  5.021859e+06   \n",
       "4628     USA           Agriculture  3.931916e+08 -1.794300e+07  4.143433e+07   \n",
       "4630     USA  Mining and Quarrying  2.889989e+08 -7.527389e+07  2.634307e+07   \n",
       "4734     VEN  Mining and Quarrying  5.268557e+07 -6.314231e+06  2.218009e+07   \n",
       "\n",
       "               FFD           HID           HFD  Gross_output    Tol_export  \n",
       "28    4.988982e+03  3.312340e+05 -1.023335e+04  3.966650e+05  7.566429e+04  \n",
       "37    5.109610e+03  1.079854e+04 -8.562937e+03  3.005881e+04  2.782321e+04  \n",
       "444   4.453133e+04  6.751805e+05 -8.799427e+04  7.076682e+06  6.489496e+06  \n",
       "548   6.655362e+02  4.974326e+04 -9.822035e+02  7.316124e+04  2.440018e+04  \n",
       "553   2.251341e+03  7.288777e+03 -5.314875e+03  1.032399e+05  1.012660e+05  \n",
       "...            ...           ...           ...           ...           ...  \n",
       "4323  1.173894e+06  2.438943e+07 -9.026978e+06  2.873473e+07  1.337228e+07  \n",
       "4448  4.942458e+04  4.796410e+06 -1.030067e+06  8.837626e+06  5.071284e+06  \n",
       "4628  1.826044e+07  3.517573e+08 -3.620345e+07  3.752486e+08  5.969478e+07  \n",
       "4630  5.771048e+05  2.626559e+08 -7.585100e+07  2.137250e+08  2.692017e+07  \n",
       "4734  1.431325e+04  3.050548e+07 -6.328544e+06  4.637133e+07  2.219440e+07  \n",
       "\n",
       "[61 rows x 10 columns]"
      ]
     },
     "execution_count": 235,
     "metadata": {},
     "output_type": "execute_result"
    }
   ],
   "source": [
    "Export[Export['TFD'] <0]"
   ]
  },
  {
   "cell_type": "code",
   "execution_count": 236,
   "metadata": {},
   "outputs": [
    {
     "data": {
      "text/html": [
       "<div>\n",
       "<style scoped>\n",
       "    .dataframe tbody tr th:only-of-type {\n",
       "        vertical-align: middle;\n",
       "    }\n",
       "\n",
       "    .dataframe tbody tr th {\n",
       "        vertical-align: top;\n",
       "    }\n",
       "\n",
       "    .dataframe thead th {\n",
       "        text-align: right;\n",
       "    }\n",
       "</style>\n",
       "<table border=\"1\" class=\"dataframe\">\n",
       "  <thead>\n",
       "    <tr style=\"text-align: right;\">\n",
       "      <th></th>\n",
       "      <th>Country</th>\n",
       "      <th>Industries</th>\n",
       "      <th>TID</th>\n",
       "      <th>TFD</th>\n",
       "      <th>FID</th>\n",
       "      <th>FFD</th>\n",
       "      <th>HID</th>\n",
       "      <th>HFD</th>\n",
       "      <th>Gross_output</th>\n",
       "      <th>Tol_export</th>\n",
       "    </tr>\n",
       "  </thead>\n",
       "  <tbody>\n",
       "    <tr>\n",
       "      <th>1014</th>\n",
       "      <td>CHN</td>\n",
       "      <td>Agriculture</td>\n",
       "      <td>8.085452e+08</td>\n",
       "      <td>6.108391e+08</td>\n",
       "      <td>1.746100e+07</td>\n",
       "      <td>4.733235e+06</td>\n",
       "      <td>7.910842e+08</td>\n",
       "      <td>6.061059e+08</td>\n",
       "      <td>1.419384e+09</td>\n",
       "      <td>2.219424e+07</td>\n",
       "    </tr>\n",
       "    <tr>\n",
       "      <th>1015</th>\n",
       "      <td>CHN</td>\n",
       "      <td>Fishing</td>\n",
       "      <td>7.753417e+07</td>\n",
       "      <td>7.787804e+07</td>\n",
       "      <td>1.281760e+06</td>\n",
       "      <td>5.329218e+05</td>\n",
       "      <td>7.625241e+07</td>\n",
       "      <td>7.734512e+07</td>\n",
       "      <td>1.554122e+08</td>\n",
       "      <td>1.814682e+06</td>\n",
       "    </tr>\n",
       "    <tr>\n",
       "      <th>1016</th>\n",
       "      <td>CHN</td>\n",
       "      <td>Mining and Quarrying</td>\n",
       "      <td>8.063941e+08</td>\n",
       "      <td>3.465298e+07</td>\n",
       "      <td>1.883922e+07</td>\n",
       "      <td>3.365811e+05</td>\n",
       "      <td>7.875549e+08</td>\n",
       "      <td>3.431640e+07</td>\n",
       "      <td>8.410471e+08</td>\n",
       "      <td>1.917580e+07</td>\n",
       "    </tr>\n",
       "    <tr>\n",
       "      <th>1017</th>\n",
       "      <td>CHN</td>\n",
       "      <td>Food &amp; Beverages</td>\n",
       "      <td>6.483983e+08</td>\n",
       "      <td>7.657731e+08</td>\n",
       "      <td>2.550391e+07</td>\n",
       "      <td>2.358290e+07</td>\n",
       "      <td>6.228944e+08</td>\n",
       "      <td>7.421902e+08</td>\n",
       "      <td>1.414171e+09</td>\n",
       "      <td>4.908681e+07</td>\n",
       "    </tr>\n",
       "    <tr>\n",
       "      <th>1018</th>\n",
       "      <td>CHN</td>\n",
       "      <td>Textiles and Wearing Apparel</td>\n",
       "      <td>8.092073e+08</td>\n",
       "      <td>4.478151e+08</td>\n",
       "      <td>1.322958e+08</td>\n",
       "      <td>1.953401e+08</td>\n",
       "      <td>6.769116e+08</td>\n",
       "      <td>2.524750e+08</td>\n",
       "      <td>1.257022e+09</td>\n",
       "      <td>3.276359e+08</td>\n",
       "    </tr>\n",
       "    <tr>\n",
       "      <th>1019</th>\n",
       "      <td>CHN</td>\n",
       "      <td>Wood and Paper</td>\n",
       "      <td>5.515575e+08</td>\n",
       "      <td>6.553861e+07</td>\n",
       "      <td>3.556892e+07</td>\n",
       "      <td>1.456933e+07</td>\n",
       "      <td>5.159886e+08</td>\n",
       "      <td>5.096928e+07</td>\n",
       "      <td>6.170962e+08</td>\n",
       "      <td>5.013825e+07</td>\n",
       "    </tr>\n",
       "    <tr>\n",
       "      <th>1020</th>\n",
       "      <td>CHN</td>\n",
       "      <td>Petroleum, Chemical and Non-Metallic Mineral P...</td>\n",
       "      <td>3.046697e+09</td>\n",
       "      <td>2.706941e+08</td>\n",
       "      <td>2.382738e+08</td>\n",
       "      <td>4.065894e+07</td>\n",
       "      <td>2.808424e+09</td>\n",
       "      <td>2.300351e+08</td>\n",
       "      <td>3.317391e+09</td>\n",
       "      <td>2.789328e+08</td>\n",
       "    </tr>\n",
       "    <tr>\n",
       "      <th>1021</th>\n",
       "      <td>CHN</td>\n",
       "      <td>Metal Products</td>\n",
       "      <td>2.289517e+09</td>\n",
       "      <td>1.061599e+08</td>\n",
       "      <td>1.594622e+08</td>\n",
       "      <td>1.885857e+07</td>\n",
       "      <td>2.130055e+09</td>\n",
       "      <td>8.730135e+07</td>\n",
       "      <td>2.395677e+09</td>\n",
       "      <td>1.783208e+08</td>\n",
       "    </tr>\n",
       "    <tr>\n",
       "      <th>1022</th>\n",
       "      <td>CHN</td>\n",
       "      <td>Electrical and Machinery</td>\n",
       "      <td>2.315540e+09</td>\n",
       "      <td>1.553307e+09</td>\n",
       "      <td>4.151321e+08</td>\n",
       "      <td>2.972566e+08</td>\n",
       "      <td>1.900408e+09</td>\n",
       "      <td>1.256050e+09</td>\n",
       "      <td>3.868847e+09</td>\n",
       "      <td>7.123887e+08</td>\n",
       "    </tr>\n",
       "    <tr>\n",
       "      <th>1023</th>\n",
       "      <td>CHN</td>\n",
       "      <td>Transport Equipment</td>\n",
       "      <td>7.005290e+08</td>\n",
       "      <td>4.610633e+08</td>\n",
       "      <td>2.769236e+07</td>\n",
       "      <td>3.066631e+07</td>\n",
       "      <td>6.728367e+08</td>\n",
       "      <td>4.303970e+08</td>\n",
       "      <td>1.161592e+09</td>\n",
       "      <td>5.835867e+07</td>\n",
       "    </tr>\n",
       "    <tr>\n",
       "      <th>1024</th>\n",
       "      <td>CHN</td>\n",
       "      <td>Other Manufacturing</td>\n",
       "      <td>1.629426e+08</td>\n",
       "      <td>1.918251e+08</td>\n",
       "      <td>3.709737e+07</td>\n",
       "      <td>9.253510e+07</td>\n",
       "      <td>1.258452e+08</td>\n",
       "      <td>9.928995e+07</td>\n",
       "      <td>3.547676e+08</td>\n",
       "      <td>1.296325e+08</td>\n",
       "    </tr>\n",
       "    <tr>\n",
       "      <th>1025</th>\n",
       "      <td>CHN</td>\n",
       "      <td>Recycling</td>\n",
       "      <td>1.015912e+08</td>\n",
       "      <td>6.760510e+05</td>\n",
       "      <td>2.821027e+06</td>\n",
       "      <td>6.760386e+05</td>\n",
       "      <td>9.877020e+07</td>\n",
       "      <td>1.240535e+01</td>\n",
       "      <td>1.022673e+08</td>\n",
       "      <td>3.497066e+06</td>\n",
       "    </tr>\n",
       "    <tr>\n",
       "      <th>1026</th>\n",
       "      <td>CHN</td>\n",
       "      <td>Electricity, Gas and Water</td>\n",
       "      <td>8.813614e+08</td>\n",
       "      <td>8.614026e+07</td>\n",
       "      <td>5.094510e+05</td>\n",
       "      <td>1.241196e+05</td>\n",
       "      <td>8.808519e+08</td>\n",
       "      <td>8.601614e+07</td>\n",
       "      <td>9.675016e+08</td>\n",
       "      <td>6.335706e+05</td>\n",
       "    </tr>\n",
       "    <tr>\n",
       "      <th>1027</th>\n",
       "      <td>CHN</td>\n",
       "      <td>Construction</td>\n",
       "      <td>1.138592e+08</td>\n",
       "      <td>2.411928e+09</td>\n",
       "      <td>5.271706e+06</td>\n",
       "      <td>1.494134e+06</td>\n",
       "      <td>1.085875e+08</td>\n",
       "      <td>2.410434e+09</td>\n",
       "      <td>2.525787e+09</td>\n",
       "      <td>6.765840e+06</td>\n",
       "    </tr>\n",
       "    <tr>\n",
       "      <th>1028</th>\n",
       "      <td>CHN</td>\n",
       "      <td>Maintenance and Repair</td>\n",
       "      <td>1.752552e+07</td>\n",
       "      <td>1.251207e+07</td>\n",
       "      <td>2.303551e+06</td>\n",
       "      <td>6.077409e+05</td>\n",
       "      <td>1.522197e+07</td>\n",
       "      <td>1.190433e+07</td>\n",
       "      <td>3.003759e+07</td>\n",
       "      <td>2.911292e+06</td>\n",
       "    </tr>\n",
       "    <tr>\n",
       "      <th>1029</th>\n",
       "      <td>CHN</td>\n",
       "      <td>Wholesale Trade</td>\n",
       "      <td>2.258847e+08</td>\n",
       "      <td>1.612666e+08</td>\n",
       "      <td>2.969021e+07</td>\n",
       "      <td>7.833100e+06</td>\n",
       "      <td>1.961945e+08</td>\n",
       "      <td>1.534335e+08</td>\n",
       "      <td>3.871513e+08</td>\n",
       "      <td>3.752331e+07</td>\n",
       "    </tr>\n",
       "    <tr>\n",
       "      <th>1030</th>\n",
       "      <td>CHN</td>\n",
       "      <td>Retail Trade</td>\n",
       "      <td>5.023983e+08</td>\n",
       "      <td>3.586797e+08</td>\n",
       "      <td>6.603516e+07</td>\n",
       "      <td>1.742191e+07</td>\n",
       "      <td>4.363631e+08</td>\n",
       "      <td>3.412578e+08</td>\n",
       "      <td>8.610780e+08</td>\n",
       "      <td>8.345706e+07</td>\n",
       "    </tr>\n",
       "    <tr>\n",
       "      <th>1031</th>\n",
       "      <td>CHN</td>\n",
       "      <td>Hotels and Restraurants</td>\n",
       "      <td>2.371563e+08</td>\n",
       "      <td>3.303150e+08</td>\n",
       "      <td>9.806871e+06</td>\n",
       "      <td>1.684843e+07</td>\n",
       "      <td>2.273494e+08</td>\n",
       "      <td>3.134666e+08</td>\n",
       "      <td>5.674713e+08</td>\n",
       "      <td>2.665531e+07</td>\n",
       "    </tr>\n",
       "    <tr>\n",
       "      <th>1032</th>\n",
       "      <td>CHN</td>\n",
       "      <td>Transport</td>\n",
       "      <td>8.703209e+08</td>\n",
       "      <td>2.621456e+08</td>\n",
       "      <td>6.173208e+07</td>\n",
       "      <td>2.230060e+07</td>\n",
       "      <td>8.085888e+08</td>\n",
       "      <td>2.398450e+08</td>\n",
       "      <td>1.132466e+09</td>\n",
       "      <td>8.403269e+07</td>\n",
       "    </tr>\n",
       "    <tr>\n",
       "      <th>1033</th>\n",
       "      <td>CHN</td>\n",
       "      <td>Post and Telecommunications</td>\n",
       "      <td>2.287346e+08</td>\n",
       "      <td>9.564303e+07</td>\n",
       "      <td>1.305123e+07</td>\n",
       "      <td>1.559391e+06</td>\n",
       "      <td>2.156834e+08</td>\n",
       "      <td>9.408364e+07</td>\n",
       "      <td>3.243777e+08</td>\n",
       "      <td>1.461062e+07</td>\n",
       "    </tr>\n",
       "    <tr>\n",
       "      <th>1034</th>\n",
       "      <td>CHN</td>\n",
       "      <td>Finacial Intermediation and Business Activities</td>\n",
       "      <td>1.124642e+09</td>\n",
       "      <td>9.584887e+08</td>\n",
       "      <td>8.904456e+07</td>\n",
       "      <td>1.307188e+07</td>\n",
       "      <td>1.035597e+09</td>\n",
       "      <td>9.454168e+08</td>\n",
       "      <td>2.083130e+09</td>\n",
       "      <td>1.021164e+08</td>\n",
       "    </tr>\n",
       "    <tr>\n",
       "      <th>1035</th>\n",
       "      <td>CHN</td>\n",
       "      <td>Public Administration</td>\n",
       "      <td>1.502234e+03</td>\n",
       "      <td>7.626164e+07</td>\n",
       "      <td>1.381599e+03</td>\n",
       "      <td>1.371519e+02</td>\n",
       "      <td>1.206348e+02</td>\n",
       "      <td>7.626150e+07</td>\n",
       "      <td>7.626314e+07</td>\n",
       "      <td>1.518751e+03</td>\n",
       "    </tr>\n",
       "    <tr>\n",
       "      <th>1036</th>\n",
       "      <td>CHN</td>\n",
       "      <td>Education, Health and Other Services</td>\n",
       "      <td>2.436198e+08</td>\n",
       "      <td>1.141661e+09</td>\n",
       "      <td>2.125385e+07</td>\n",
       "      <td>1.582407e+07</td>\n",
       "      <td>2.223659e+08</td>\n",
       "      <td>1.125837e+09</td>\n",
       "      <td>1.385281e+09</td>\n",
       "      <td>3.707792e+07</td>\n",
       "    </tr>\n",
       "    <tr>\n",
       "      <th>1037</th>\n",
       "      <td>CHN</td>\n",
       "      <td>Private Households</td>\n",
       "      <td>2.611243e+06</td>\n",
       "      <td>3.700576e+06</td>\n",
       "      <td>4.012830e+05</td>\n",
       "      <td>1.202560e+05</td>\n",
       "      <td>2.209960e+06</td>\n",
       "      <td>3.580320e+06</td>\n",
       "      <td>6.311820e+06</td>\n",
       "      <td>5.215389e+05</td>\n",
       "    </tr>\n",
       "    <tr>\n",
       "      <th>1038</th>\n",
       "      <td>CHN</td>\n",
       "      <td>Others</td>\n",
       "      <td>1.347314e+04</td>\n",
       "      <td>6.839722e+08</td>\n",
       "      <td>1.239120e+04</td>\n",
       "      <td>1.230081e+03</td>\n",
       "      <td>1.081945e+03</td>\n",
       "      <td>6.839710e+08</td>\n",
       "      <td>6.839857e+08</td>\n",
       "      <td>1.362128e+04</td>\n",
       "    </tr>\n",
       "    <tr>\n",
       "      <th>1039</th>\n",
       "      <td>CHN</td>\n",
       "      <td>Re-export &amp; Re-import</td>\n",
       "      <td>1.083583e+05</td>\n",
       "      <td>3.294615e+03</td>\n",
       "      <td>1.063249e+05</td>\n",
       "      <td>3.292504e+03</td>\n",
       "      <td>2.033318e+03</td>\n",
       "      <td>2.110891e+00</td>\n",
       "      <td>1.116529e+05</td>\n",
       "      <td>1.096174e+05</td>\n",
       "    </tr>\n",
       "  </tbody>\n",
       "</table>\n",
       "</div>"
      ],
      "text/plain": [
       "     Country                                         Industries           TID  \\\n",
       "1014     CHN                                        Agriculture  8.085452e+08   \n",
       "1015     CHN                                            Fishing  7.753417e+07   \n",
       "1016     CHN                               Mining and Quarrying  8.063941e+08   \n",
       "1017     CHN                                   Food & Beverages  6.483983e+08   \n",
       "1018     CHN                       Textiles and Wearing Apparel  8.092073e+08   \n",
       "1019     CHN                                     Wood and Paper  5.515575e+08   \n",
       "1020     CHN  Petroleum, Chemical and Non-Metallic Mineral P...  3.046697e+09   \n",
       "1021     CHN                                     Metal Products  2.289517e+09   \n",
       "1022     CHN                           Electrical and Machinery  2.315540e+09   \n",
       "1023     CHN                                Transport Equipment  7.005290e+08   \n",
       "1024     CHN                                Other Manufacturing  1.629426e+08   \n",
       "1025     CHN                                          Recycling  1.015912e+08   \n",
       "1026     CHN                         Electricity, Gas and Water  8.813614e+08   \n",
       "1027     CHN                                       Construction  1.138592e+08   \n",
       "1028     CHN                             Maintenance and Repair  1.752552e+07   \n",
       "1029     CHN                                    Wholesale Trade  2.258847e+08   \n",
       "1030     CHN                                       Retail Trade  5.023983e+08   \n",
       "1031     CHN                            Hotels and Restraurants  2.371563e+08   \n",
       "1032     CHN                                          Transport  8.703209e+08   \n",
       "1033     CHN                        Post and Telecommunications  2.287346e+08   \n",
       "1034     CHN    Finacial Intermediation and Business Activities  1.124642e+09   \n",
       "1035     CHN                              Public Administration  1.502234e+03   \n",
       "1036     CHN               Education, Health and Other Services  2.436198e+08   \n",
       "1037     CHN                                 Private Households  2.611243e+06   \n",
       "1038     CHN                                             Others  1.347314e+04   \n",
       "1039     CHN                              Re-export & Re-import  1.083583e+05   \n",
       "\n",
       "               TFD           FID           FFD           HID           HFD  \\\n",
       "1014  6.108391e+08  1.746100e+07  4.733235e+06  7.910842e+08  6.061059e+08   \n",
       "1015  7.787804e+07  1.281760e+06  5.329218e+05  7.625241e+07  7.734512e+07   \n",
       "1016  3.465298e+07  1.883922e+07  3.365811e+05  7.875549e+08  3.431640e+07   \n",
       "1017  7.657731e+08  2.550391e+07  2.358290e+07  6.228944e+08  7.421902e+08   \n",
       "1018  4.478151e+08  1.322958e+08  1.953401e+08  6.769116e+08  2.524750e+08   \n",
       "1019  6.553861e+07  3.556892e+07  1.456933e+07  5.159886e+08  5.096928e+07   \n",
       "1020  2.706941e+08  2.382738e+08  4.065894e+07  2.808424e+09  2.300351e+08   \n",
       "1021  1.061599e+08  1.594622e+08  1.885857e+07  2.130055e+09  8.730135e+07   \n",
       "1022  1.553307e+09  4.151321e+08  2.972566e+08  1.900408e+09  1.256050e+09   \n",
       "1023  4.610633e+08  2.769236e+07  3.066631e+07  6.728367e+08  4.303970e+08   \n",
       "1024  1.918251e+08  3.709737e+07  9.253510e+07  1.258452e+08  9.928995e+07   \n",
       "1025  6.760510e+05  2.821027e+06  6.760386e+05  9.877020e+07  1.240535e+01   \n",
       "1026  8.614026e+07  5.094510e+05  1.241196e+05  8.808519e+08  8.601614e+07   \n",
       "1027  2.411928e+09  5.271706e+06  1.494134e+06  1.085875e+08  2.410434e+09   \n",
       "1028  1.251207e+07  2.303551e+06  6.077409e+05  1.522197e+07  1.190433e+07   \n",
       "1029  1.612666e+08  2.969021e+07  7.833100e+06  1.961945e+08  1.534335e+08   \n",
       "1030  3.586797e+08  6.603516e+07  1.742191e+07  4.363631e+08  3.412578e+08   \n",
       "1031  3.303150e+08  9.806871e+06  1.684843e+07  2.273494e+08  3.134666e+08   \n",
       "1032  2.621456e+08  6.173208e+07  2.230060e+07  8.085888e+08  2.398450e+08   \n",
       "1033  9.564303e+07  1.305123e+07  1.559391e+06  2.156834e+08  9.408364e+07   \n",
       "1034  9.584887e+08  8.904456e+07  1.307188e+07  1.035597e+09  9.454168e+08   \n",
       "1035  7.626164e+07  1.381599e+03  1.371519e+02  1.206348e+02  7.626150e+07   \n",
       "1036  1.141661e+09  2.125385e+07  1.582407e+07  2.223659e+08  1.125837e+09   \n",
       "1037  3.700576e+06  4.012830e+05  1.202560e+05  2.209960e+06  3.580320e+06   \n",
       "1038  6.839722e+08  1.239120e+04  1.230081e+03  1.081945e+03  6.839710e+08   \n",
       "1039  3.294615e+03  1.063249e+05  3.292504e+03  2.033318e+03  2.110891e+00   \n",
       "\n",
       "      Gross_output    Tol_export  \n",
       "1014  1.419384e+09  2.219424e+07  \n",
       "1015  1.554122e+08  1.814682e+06  \n",
       "1016  8.410471e+08  1.917580e+07  \n",
       "1017  1.414171e+09  4.908681e+07  \n",
       "1018  1.257022e+09  3.276359e+08  \n",
       "1019  6.170962e+08  5.013825e+07  \n",
       "1020  3.317391e+09  2.789328e+08  \n",
       "1021  2.395677e+09  1.783208e+08  \n",
       "1022  3.868847e+09  7.123887e+08  \n",
       "1023  1.161592e+09  5.835867e+07  \n",
       "1024  3.547676e+08  1.296325e+08  \n",
       "1025  1.022673e+08  3.497066e+06  \n",
       "1026  9.675016e+08  6.335706e+05  \n",
       "1027  2.525787e+09  6.765840e+06  \n",
       "1028  3.003759e+07  2.911292e+06  \n",
       "1029  3.871513e+08  3.752331e+07  \n",
       "1030  8.610780e+08  8.345706e+07  \n",
       "1031  5.674713e+08  2.665531e+07  \n",
       "1032  1.132466e+09  8.403269e+07  \n",
       "1033  3.243777e+08  1.461062e+07  \n",
       "1034  2.083130e+09  1.021164e+08  \n",
       "1035  7.626314e+07  1.518751e+03  \n",
       "1036  1.385281e+09  3.707792e+07  \n",
       "1037  6.311820e+06  5.215389e+05  \n",
       "1038  6.839857e+08  1.362128e+04  \n",
       "1039  1.116529e+05  1.096174e+05  "
      ]
     },
     "execution_count": 236,
     "metadata": {},
     "output_type": "execute_result"
    }
   ],
   "source": [
    "Export[Export['Country'] == 'CHN']"
   ]
  },
  {
   "cell_type": "code",
   "execution_count": 237,
   "metadata": {},
   "outputs": [],
   "source": [
    "Export.to_csv(\"Export_woANTUSR.csv\",index=False) "
   ]
  },
  {
   "cell_type": "markdown",
   "metadata": {
    "id": "Jt8N-usmna7b"
   },
   "source": [
    "### Import"
   ]
  },
  {
   "cell_type": "code",
   "execution_count": 238,
   "metadata": {
    "executionInfo": {
     "elapsed": 731,
     "status": "ok",
     "timestamp": 1643268787516,
     "user": {
      "displayName": "Weilun Liu",
      "photoUrl": "https://lh3.googleusercontent.com/a/default-user=s64",
      "userId": "06371698207429536788"
     },
     "user_tz": 360
    },
    "id": "foEp7CUQg-Tv"
   },
   "outputs": [],
   "source": [
    "Import_ind = Masked_T_df.sum(axis=0) # Import into industries\n",
    "Import_fd = Masked_FD_df.sum(axis=0) # Import by final demand"
   ]
  },
  {
   "cell_type": "code",
   "execution_count": 239,
   "metadata": {
    "colab": {
     "base_uri": "https://localhost:8080/"
    },
    "executionInfo": {
     "elapsed": 15,
     "status": "ok",
     "timestamp": 1643268787517,
     "user": {
      "displayName": "Weilun Liu",
      "photoUrl": "https://lh3.googleusercontent.com/a/default-user=s64",
      "userId": "06371698207429536788"
     },
     "user_tz": 360
    },
    "id": "L_WdEaG1sy2V",
    "outputId": "77ec11f4-fe9d-4290-a238-30825d9db619"
   },
   "outputs": [
    {
     "data": {
      "text/plain": [
       "((4863,), (1128,))"
      ]
     },
     "execution_count": 239,
     "metadata": {},
     "output_type": "execute_result"
    }
   ],
   "source": [
    "Import_ind.shape,Import_fd.shape"
   ]
  },
  {
   "cell_type": "code",
   "execution_count": 240,
   "metadata": {
    "executionInfo": {
     "elapsed": 13,
     "status": "ok",
     "timestamp": 1643268787517,
     "user": {
      "displayName": "Weilun Liu",
      "photoUrl": "https://lh3.googleusercontent.com/a/default-user=s64",
      "userId": "06371698207429536788"
     },
     "user_tz": 360
    },
    "id": "Y7ie92MchZWd"
   },
   "outputs": [],
   "source": [
    "Tol_ind = {}\n",
    "for i in range(187):\n",
    "    Tol_ind[Countries[i]] = sum(Import_ind[i*26:(i+1)*26])\n",
    "Tol_ind[\"ROW\"] = Import_ind[len(Import_ind)-1]"
   ]
  },
  {
   "cell_type": "code",
   "execution_count": 241,
   "metadata": {
    "executionInfo": {
     "elapsed": 12,
     "status": "ok",
     "timestamp": 1643268787517,
     "user": {
      "displayName": "Weilun Liu",
      "photoUrl": "https://lh3.googleusercontent.com/a/default-user=s64",
      "userId": "06371698207429536788"
     },
     "user_tz": 360
    },
    "id": "KQ3mdkh5hZTq"
   },
   "outputs": [],
   "source": [
    "Tol_fd = {}\n",
    "for i in range(188):\n",
    "    Tol_fd[Countries[i]] = sum(Import_fd[i*6:(i+1)*6])"
   ]
  },
  {
   "cell_type": "code",
   "execution_count": 242,
   "metadata": {
    "executionInfo": {
     "elapsed": 13,
     "status": "ok",
     "timestamp": 1643268787518,
     "user": {
      "displayName": "Weilun Liu",
      "photoUrl": "https://lh3.googleusercontent.com/a/default-user=s64",
      "userId": "06371698207429536788"
     },
     "user_tz": 360
    },
    "id": "eG1SISX-pd6D"
   },
   "outputs": [],
   "source": [
    "Tol_import = {}\n",
    "for i in Countries:\n",
    "    Tol_import[i] = Tol_fd[i] + Tol_ind[i]"
   ]
  },
  {
   "cell_type": "markdown",
   "metadata": {
    "id": "D45OvBOvhWui"
   },
   "source": [
    "## Leontief Inverse"
   ]
  },
  {
   "cell_type": "code",
   "execution_count": 243,
   "metadata": {
    "executionInfo": {
     "elapsed": 17,
     "status": "ok",
     "timestamp": 1643268787899,
     "user": {
      "displayName": "Weilun Liu",
      "photoUrl": "https://lh3.googleusercontent.com/a/default-user=s64",
      "userId": "06371698207429536788"
     },
     "user_tz": 360
    },
    "id": "GENb9E452IAY"
   },
   "outputs": [],
   "source": [
    "T_df2 = copy.copy(T_df)\n",
    "Transaction_matrix = T_df2.to_numpy()\n",
    "gross_output = list(Export[\"Gross_output\"])"
   ]
  },
  {
   "cell_type": "code",
   "execution_count": 244,
   "metadata": {
    "colab": {
     "base_uri": "https://localhost:8080/"
    },
    "executionInfo": {
     "elapsed": 17,
     "status": "ok",
     "timestamp": 1643268787899,
     "user": {
      "displayName": "Weilun Liu",
      "photoUrl": "https://lh3.googleusercontent.com/a/default-user=s64",
      "userId": "06371698207429536788"
     },
     "user_tz": 360
    },
    "id": "6-_qtqKA2_t1",
    "outputId": "7788945d-111a-4e15-d00c-635bd5bdfd4a"
   },
   "outputs": [
    {
     "data": {
      "text/plain": [
       "array([[9.81350e+04, 2.53047e+01, 3.59372e+02, ..., 1.00000e-07,\n",
       "        1.00000e-07, 3.98916e+05],\n",
       "       [1.32408e+02, 4.18240e+02, 2.32455e+00, ..., 1.00000e-07,\n",
       "        1.00000e-07, 2.86192e+04],\n",
       "       [1.60391e+03, 3.77911e+01, 1.02990e+04, ..., 1.00000e-07,\n",
       "        1.00000e-07, 3.76473e+04],\n",
       "       ...,\n",
       "       [3.30335e+00, 3.58883e+00, 4.79122e+00, ..., 1.01460e-01,\n",
       "        5.17277e-01, 1.45728e+05],\n",
       "       [5.94325e+00, 6.83916e+00, 8.99569e+00, ..., 5.98614e-01,\n",
       "        1.01460e-01, 1.79240e+05],\n",
       "       [0.00000e+00, 0.00000e+00, 0.00000e+00, ..., 0.00000e+00,\n",
       "        0.00000e+00, 0.00000e+00]])"
      ]
     },
     "execution_count": 244,
     "metadata": {},
     "output_type": "execute_result"
    }
   ],
   "source": [
    "Transaction_matrix"
   ]
  },
  {
   "cell_type": "code",
   "execution_count": 245,
   "metadata": {
    "colab": {
     "base_uri": "https://localhost:8080/"
    },
    "executionInfo": {
     "elapsed": 8,
     "status": "ok",
     "timestamp": 1643268787899,
     "user": {
      "displayName": "Weilun Liu",
      "photoUrl": "https://lh3.googleusercontent.com/a/default-user=s64",
      "userId": "06371698207429536788"
     },
     "user_tz": 360
    },
    "id": "LeicWidi4WjK",
    "outputId": "7dc5d675-6279-4819-f8e3-015a97247a96"
   },
   "outputs": [
    {
     "name": "stdout",
     "output_type": "stream",
     "text": [
      "[[100  20   3]\n",
      " [400  50   6]\n",
      " [700  80   9]]\n"
     ]
    }
   ],
   "source": [
    "# Small example\n",
    "a = np.array([[1000,2000,3000],[4000,5000,6000],[7000,8000,9000]])\n",
    "b = [10.0,100.0,1000.0]\n",
    "for i in range(3):\n",
    "    a[:, i] = a[:, i] / b[i]\n",
    "print (a)"
   ]
  },
  {
   "cell_type": "code",
   "execution_count": 246,
   "metadata": {
    "colab": {
     "base_uri": "https://localhost:8080/"
    },
    "executionInfo": {
     "elapsed": 6,
     "status": "ok",
     "timestamp": 1643268787899,
     "user": {
      "displayName": "Weilun Liu",
      "photoUrl": "https://lh3.googleusercontent.com/a/default-user=s64",
      "userId": "06371698207429536788"
     },
     "user_tz": 360
    },
    "id": "a8AzrE9O-fLW",
    "outputId": "c24d7a47-ca7d-418e-f614-4dafc591d914"
   },
   "outputs": [
    {
     "data": {
      "text/plain": [
       "array([[ -99.,  -20.,   -3.],\n",
       "       [-400.,  -49.,   -6.],\n",
       "       [-700.,  -80.,   -8.]])"
      ]
     },
     "execution_count": 246,
     "metadata": {},
     "output_type": "execute_result"
    }
   ],
   "source": [
    "np.identity(3) - a"
   ]
  },
  {
   "cell_type": "code",
   "execution_count": 247,
   "metadata": {
    "executionInfo": {
     "elapsed": 6,
     "status": "ok",
     "timestamp": 1643268787900,
     "user": {
      "displayName": "Weilun Liu",
      "photoUrl": "https://lh3.googleusercontent.com/a/default-user=s64",
      "userId": "06371698207429536788"
     },
     "user_tz": 360
    },
    "id": "X6UshDo34rjZ"
   },
   "outputs": [],
   "source": [
    "# A\n",
    "A = np.zeros(shape=(4863,4863))\n",
    "for i in range(4863):\n",
    "    if gross_output[i] == 0:\n",
    "        A[:, i] = 0\n",
    "        continue\n",
    "    A[:, i] = Transaction_matrix[:, i] / gross_output[i] "
   ]
  },
  {
   "cell_type": "code",
   "execution_count": 248,
   "metadata": {
    "colab": {
     "base_uri": "https://localhost:8080/"
    },
    "executionInfo": {
     "elapsed": 388,
     "status": "ok",
     "timestamp": 1643268788283,
     "user": {
      "displayName": "Weilun Liu",
      "photoUrl": "https://lh3.googleusercontent.com/a/default-user=s64",
      "userId": "06371698207429536788"
     },
     "user_tz": 360
    },
    "id": "9P3BIi3o8zPk",
    "outputId": "9def1036-9a7d-4106-d0e2-4c861cb942b8"
   },
   "outputs": [
    {
     "data": {
      "text/plain": [
       "array([[1., 0., 0., ..., 0., 0., 0.],\n",
       "       [0., 1., 0., ..., 0., 0., 0.],\n",
       "       [0., 0., 1., ..., 0., 0., 0.],\n",
       "       ...,\n",
       "       [0., 0., 0., ..., 1., 0., 0.],\n",
       "       [0., 0., 0., ..., 0., 1., 0.],\n",
       "       [0., 0., 0., ..., 0., 0., 1.]])"
      ]
     },
     "execution_count": 248,
     "metadata": {},
     "output_type": "execute_result"
    }
   ],
   "source": [
    "np.identity(4863)"
   ]
  },
  {
   "cell_type": "code",
   "execution_count": 249,
   "metadata": {
    "executionInfo": {
     "elapsed": 11016,
     "status": "ok",
     "timestamp": 1643268799298,
     "user": {
      "displayName": "Weilun Liu",
      "photoUrl": "https://lh3.googleusercontent.com/a/default-user=s64",
      "userId": "06371698207429536788"
     },
     "user_tz": 360
    },
    "id": "bh8CPtaa4Wet"
   },
   "outputs": [],
   "source": [
    "# (I-A)^-1\n",
    "Leontif_Inverse = np.linalg.inv(np.matrix(np.identity(4863) - A))"
   ]
  },
  {
   "cell_type": "markdown",
   "metadata": {
    "id": "U9FM6meZEWYS"
   },
   "source": [
    "##### Check whether (I-A)^-1 * final demand = gross output"
   ]
  },
  {
   "cell_type": "code",
   "execution_count": 250,
   "metadata": {
    "colab": {
     "base_uri": "https://localhost:8080/"
    },
    "executionInfo": {
     "elapsed": 17,
     "status": "ok",
     "timestamp": 1643268799298,
     "user": {
      "displayName": "Weilun Liu",
      "photoUrl": "https://lh3.googleusercontent.com/a/default-user=s64",
      "userId": "06371698207429536788"
     },
     "user_tz": 360
    },
    "id": "pkCaQnLuCtwY",
    "outputId": "1815beb8-51cc-4617-c620-d2d1edbd2f4c"
   },
   "outputs": [
    {
     "data": {
      "text/plain": [
       "matrix([[4.52040096e+06],\n",
       "        [1.84240722e+05],\n",
       "        [2.79432667e+05],\n",
       "        ...,\n",
       "        [5.72923587e+05],\n",
       "        [7.02661488e+05],\n",
       "        [4.25034744e+08]])"
      ]
     },
     "execution_count": 250,
     "metadata": {},
     "output_type": "execute_result"
    }
   ],
   "source": [
    "final_demand = np.array(Export[\"TFD\"])\n",
    "Leontif_Inverse * np.matrix(final_demand).T"
   ]
  },
  {
   "cell_type": "code",
   "execution_count": 251,
   "metadata": {
    "executionInfo": {
     "elapsed": 14,
     "status": "ok",
     "timestamp": 1643268799298,
     "user": {
      "displayName": "Weilun Liu",
      "photoUrl": "https://lh3.googleusercontent.com/a/default-user=s64",
      "userId": "06371698207429536788"
     },
     "user_tz": 360
    },
    "id": "4Ud2AJpIC8OZ"
   },
   "outputs": [],
   "source": [
    "calculated_output = (Leontif_Inverse * np.matrix(final_demand).T).T.tolist()[0]"
   ]
  },
  {
   "cell_type": "code",
   "execution_count": 252,
   "metadata": {
    "executionInfo": {
     "elapsed": 14,
     "status": "ok",
     "timestamp": 1643268799299,
     "user": {
      "displayName": "Weilun Liu",
      "photoUrl": "https://lh3.googleusercontent.com/a/default-user=s64",
      "userId": "06371698207429536788"
     },
     "user_tz": 360
    },
    "id": "3oBaxvKsDZB4"
   },
   "outputs": [],
   "source": [
    "diff = []\n",
    "for i in range(len(calculated_output)):\n",
    "    diff.append(calculated_output[i] - gross_output[i])"
   ]
  },
  {
   "cell_type": "code",
   "execution_count": 253,
   "metadata": {
    "colab": {
     "base_uri": "https://localhost:8080/"
    },
    "executionInfo": {
     "elapsed": 14,
     "status": "ok",
     "timestamp": 1643268799299,
     "user": {
      "displayName": "Weilun Liu",
      "photoUrl": "https://lh3.googleusercontent.com/a/default-user=s64",
      "userId": "06371698207429536788"
     },
     "user_tz": 360
    },
    "id": "6CAKT_MXEtt2",
    "outputId": "2cda1438-3325-48a3-ecf6-7f22a44fc3bc"
   },
   "outputs": [
    {
     "data": {
      "text/plain": [
       "2.447933629881064e-07"
      ]
     },
     "execution_count": 253,
     "metadata": {},
     "output_type": "execute_result"
    }
   ],
   "source": [
    "np.mean(diff)"
   ]
  },
  {
   "cell_type": "code",
   "execution_count": null,
   "metadata": {},
   "outputs": [],
   "source": []
  }
 ],
 "metadata": {
  "colab": {
   "authorship_tag": "ABX9TyNWz/xi08zFsRjQK3zjKfNQ",
   "collapsed_sections": [],
   "mount_file_id": "1h2TK0d5-WDvgKnbQvzFJcNiZuEprhnai",
   "name": "1_euroTable.ipynb",
   "provenance": [],
   "toc_visible": true
  },
  "kernelspec": {
   "display_name": "Python 3",
   "language": "python",
   "name": "python3"
  },
  "language_info": {
   "codemirror_mode": {
    "name": "ipython",
    "version": 3
   },
   "file_extension": ".py",
   "mimetype": "text/x-python",
   "name": "python",
   "nbconvert_exporter": "python",
   "pygments_lexer": "ipython3",
   "version": "3.6.5"
  }
 },
 "nbformat": 4,
 "nbformat_minor": 1
}
