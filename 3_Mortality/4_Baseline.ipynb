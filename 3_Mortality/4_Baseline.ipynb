{
 "cells": [
  {
   "cell_type": "code",
   "execution_count": 41,
   "metadata": {},
   "outputs": [],
   "source": [
    "import json\n",
    "import math\n",
    "import numpy as np\n",
    "import pandas as pd\n",
    "import geopandas as gpd"
   ]
  },
  {
   "cell_type": "code",
   "execution_count": 42,
   "metadata": {},
   "outputs": [],
   "source": [
    "def hazard_ratio(theta, alpha, miu, v, concentration):\n",
    "    z = (concentration-2.4) if (concentration - 2.4) > 0 else 0\n",
    "    numerator = theta * np.log(z/(alpha)+1)\n",
    "    denominator = 1 + np.exp(-(z-miu)/v)\n",
    "    GEMM = np.exp(numerator/denominator)\n",
    "    return GEMM \n",
    "def hazard_ratio_NCDLRI(concentration):\n",
    "    if concentration < 2.4: # Lowest observed concentration in any of the 41 cohorts\n",
    "        return 1\n",
    "    else:\n",
    "        return hazard_ratio(0.1430, 1.6, 15.5, 36.8, concentration)"
   ]
  },
  {
   "cell_type": "code",
   "execution_count": 43,
   "metadata": {},
   "outputs": [],
   "source": [
    "# fraction = pd.read_csv('comparison/country_classify.csv')\n",
    "fraction = pd.read_csv('C:/Users/15311/Desktop/country_classify.csv')"
   ]
  },
  {
   "cell_type": "code",
   "execution_count": 44,
   "metadata": {},
   "outputs": [],
   "source": [
    "# fraction = fraction[195:205]"
   ]
  },
  {
   "cell_type": "code",
   "execution_count": 45,
   "metadata": {},
   "outputs": [],
   "source": [
    "with open(\"NCDLRI_Total.json\",'r') as load_f: # ../2_Concentration_Factors/\n",
    "    NCDLRI_Total = json.load(load_f)\n",
    "Country = list(NCDLRI_Total.keys())"
   ]
  },
  {
   "cell_type": "markdown",
   "metadata": {},
   "source": [
    "### Add the total wholeworld concentration together"
   ]
  },
  {
   "cell_type": "code",
   "execution_count": 1,
   "metadata": {},
   "outputs": [
    {
     "name": "stdout",
     "output_type": "stream",
     "text": [
      "output/output_wholeworld/wholeworld_agr.shp\n",
      "output/output_wholeworld/wholeworld_ene.shp\n",
      "output/output_wholeworld/wholeworld_ind.shp\n",
      "output/output_wholeworld/wholeworld_nrtr.shp\n",
      "output/output_wholeworld/wholeworld_rcor.shp\n",
      "output/output_wholeworld/wholeworld_rcoc.shp\n",
      "output/output_wholeworld/wholeworld_rcoo.shp\n",
      "output/output_wholeworld/wholeworld_shp.shp\n",
      "output/output_wholeworld/wholeworld_slv.shp\n",
      "output/output_wholeworld/wholeworld_wst.shp\n"
     ]
    }
   ],
   "source": [
    "# For ROW\n",
    "A = ['agr','ene','ind','nrtr','rcor','rcoc','rcoo','shp','slv','wst']\n",
    "for j in A:\n",
    "    read_shp = gpd.read_file(r'output/output_wholeworld/wholeworld_' + j + '.' + 'shp')\n",
    "    fraction['TotalPM25'] += read_shp['TotalPM25']"
   ]
  },
  {
   "cell_type": "markdown",
   "metadata": {},
   "source": [
    "## Baseline incidence rate\n",
    "**I**: Reported incidence rate\n",
    "<br>\n",
    "**p**: population within a grid cell\n",
    "<br>\n",
    "**z**: concentration within a grid cell\n",
    "<br>\n",
    "**hr** specifies the hazard ratio as a function of **z**\n",
    "<br>\n",
    "**\n",
    "for country in all_country:\n",
    "<br>\n",
    "$\\;\\;\\;\\;$ for i in all_gridcells:\n",
    "<br>\n",
    "$\\;\\;\\;\\;$ $\\;\\;\\;\\;$ Hsum += p[i] * hr(z[i])\n",
    "<br>\n",
    "$\\;\\;\\;\\;$ $\\;\\;\\;\\;$ Psum += p[i]\n",
    "<br>\n",
    "$\\;\\;\\;\\;$ Hbar = Hsum/Psum\n",
    "<br>\n",
    "**\n",
    "### Question: if a grid cell is made up of 1/4 USA and 3/4 CAN, which concentration (z[i]) is correct to calculate Hsum += p[i] * hr(z[i]):\n",
    "<br>\n",
    "### 1. For USA and CAN, both use z[i] √\n",
    "<br>\n",
    "### 2. For USA, use 1/4 * z[i]; For CAN, use 3/4 * z[i]"
   ]
  },
  {
   "cell_type": "code",
   "execution_count": 38,
   "metadata": {},
   "outputs": [],
   "source": [
    "# Country = ['ROW','USA']"
   ]
  },
  {
   "cell_type": "code",
   "execution_count": 39,
   "metadata": {},
   "outputs": [],
   "source": [
    "baseline = {}\n",
    "Total_pop = {}\n",
    "for country in Country:\n",
    "    Hsum = 0 # hazard\n",
    "    Psum = 0 # population\n",
    "    for index in range(len(fraction)):\n",
    "#         print('population',fraction.iloc[index]['TotalPop'])\n",
    "        if country not in json.loads(fraction.iloc[index]['area_fraction'].replace('\\'','\\\"')).keys():\n",
    "            continue\n",
    "        frac = json.loads(fraction.iloc[index]['area_fraction'].replace('\\'','\\\"'))[country]\n",
    "        Hsum += frac * fraction.iloc[index]['TotalPop'] * hazard_ratio_NCDLRI(fraction.iloc[index]['TotalPM25']) \n",
    "        Psum += frac * fraction.iloc[index]['TotalPop']\n",
    "#     print('Psum',Psum)\n",
    "    Hbar = Hsum/Psum\n",
    "    Total_pop[country] = Psum\n",
    "    baseline[country] = NCDLRI_Total[country]/Hbar"
   ]
  },
  {
   "cell_type": "code",
   "execution_count": 40,
   "metadata": {},
   "outputs": [],
   "source": [
    "# baseline"
   ]
  },
  {
   "cell_type": "code",
   "execution_count": null,
   "metadata": {},
   "outputs": [],
   "source": [
    "file=open(\"comparison/Total_pop.json\",'w')\n",
    "json.dump(Total_pop,file)\n",
    "file.close()"
   ]
  },
  {
   "cell_type": "code",
   "execution_count": null,
   "metadata": {},
   "outputs": [],
   "source": [
    "file=open(\"comparison/Baseline.json\",'w')\n",
    "json.dump(baseline,file)\n",
    "file.close()"
   ]
  }
 ],
 "metadata": {
  "kernelspec": {
   "display_name": "Python 3",
   "language": "python",
   "name": "python3"
  },
  "language_info": {
   "codemirror_mode": {
    "name": "ipython",
    "version": 3
   },
   "file_extension": ".py",
   "mimetype": "text/x-python",
   "name": "python",
   "nbconvert_exporter": "python",
   "pygments_lexer": "ipython3",
   "version": "3.6.5"
  }
 },
 "nbformat": 4,
 "nbformat_minor": 2
}
