{
 "cells": [
  {
   "cell_type": "code",
   "execution_count": 2,
   "metadata": {},
   "outputs": [],
   "source": [
    "import pandas as pd\n",
    "import numpy as np\n",
    "import json\n",
    "import geopandas as gpd"
   ]
  },
  {
   "cell_type": "code",
   "execution_count": 5,
   "metadata": {},
   "outputs": [],
   "source": [
    "with open(\"total_output_sector.json\",'r') as load_f:\n",
    "    total_output = json.load(load_f)\n",
    "Country = list(total_output.keys())"
   ]
  },
  {
   "cell_type": "code",
   "execution_count": 3,
   "metadata": {},
   "outputs": [],
   "source": [
    "A = ['agr','ene','ind','nrtr','rcor','rcoc','rcoo','shp','slv','wst']"
   ]
  },
  {
   "cell_type": "code",
   "execution_count": 27,
   "metadata": {},
   "outputs": [],
   "source": [
    "column_name = []\n",
    "for i in Country:\n",
    "    for j in A:\n",
    "        column_name.append(i+'_'+j)"
   ]
  },
  {
   "cell_type": "code",
   "execution_count": null,
   "metadata": {},
   "outputs": [],
   "source": [
    "shp1 = np.zeros(shape=(273739,))\n",
    "for i in Country:\n",
    "    for j in A:\n",
    "        shp = gpd.read_file(r'output' + '/' + 'output' + '_' + i + '/' + i + '_'+j + '.' + 'shp')\n",
    "        shp1 = np.row_stack((shp1,shp['TotalPM25'].values))"
   ]
  },
  {
   "cell_type": "code",
   "execution_count": 29,
   "metadata": {},
   "outputs": [],
   "source": [
    "concentration_by_sectors = pd.DataFrame(shp1[1:].T)"
   ]
  },
  {
   "cell_type": "code",
   "execution_count": 31,
   "metadata": {},
   "outputs": [
    {
     "data": {
      "text/html": [
       "<div>\n",
       "<style scoped>\n",
       "    .dataframe tbody tr th:only-of-type {\n",
       "        vertical-align: middle;\n",
       "    }\n",
       "\n",
       "    .dataframe tbody tr th {\n",
       "        vertical-align: top;\n",
       "    }\n",
       "\n",
       "    .dataframe thead th {\n",
       "        text-align: right;\n",
       "    }\n",
       "</style>\n",
       "<table border=\"1\" class=\"dataframe\">\n",
       "  <thead>\n",
       "    <tr style=\"text-align: right;\">\n",
       "      <th></th>\n",
       "      <th>AFG_agr</th>\n",
       "      <th>AFG_ene</th>\n",
       "      <th>AFG_ind</th>\n",
       "    </tr>\n",
       "  </thead>\n",
       "  <tbody>\n",
       "    <tr>\n",
       "      <th>0</th>\n",
       "      <td>5.108722e-20</td>\n",
       "      <td>4.535765e-21</td>\n",
       "      <td>7.861634e-21</td>\n",
       "    </tr>\n",
       "    <tr>\n",
       "      <th>1</th>\n",
       "      <td>1.775583e-20</td>\n",
       "      <td>1.058866e-21</td>\n",
       "      <td>1.796807e-21</td>\n",
       "    </tr>\n",
       "    <tr>\n",
       "      <th>2</th>\n",
       "      <td>1.098795e-20</td>\n",
       "      <td>3.331421e-22</td>\n",
       "      <td>5.144844e-22</td>\n",
       "    </tr>\n",
       "    <tr>\n",
       "      <th>3</th>\n",
       "      <td>4.288732e-20</td>\n",
       "      <td>1.051228e-21</td>\n",
       "      <td>1.492379e-21</td>\n",
       "    </tr>\n",
       "    <tr>\n",
       "      <th>4</th>\n",
       "      <td>2.072442e-19</td>\n",
       "      <td>5.912740e-21</td>\n",
       "      <td>8.741662e-21</td>\n",
       "    </tr>\n",
       "    <tr>\n",
       "      <th>...</th>\n",
       "      <td>...</td>\n",
       "      <td>...</td>\n",
       "      <td>...</td>\n",
       "    </tr>\n",
       "    <tr>\n",
       "      <th>273734</th>\n",
       "      <td>2.576594e-07</td>\n",
       "      <td>1.095716e-06</td>\n",
       "      <td>1.928413e-06</td>\n",
       "    </tr>\n",
       "    <tr>\n",
       "      <th>273735</th>\n",
       "      <td>1.104811e-07</td>\n",
       "      <td>4.575496e-07</td>\n",
       "      <td>8.042475e-07</td>\n",
       "    </tr>\n",
       "    <tr>\n",
       "      <th>273736</th>\n",
       "      <td>9.273559e-08</td>\n",
       "      <td>3.840530e-07</td>\n",
       "      <td>6.750823e-07</td>\n",
       "    </tr>\n",
       "    <tr>\n",
       "      <th>273737</th>\n",
       "      <td>7.212797e-08</td>\n",
       "      <td>2.951889e-07</td>\n",
       "      <td>5.194801e-07</td>\n",
       "    </tr>\n",
       "    <tr>\n",
       "      <th>273738</th>\n",
       "      <td>7.508449e-08</td>\n",
       "      <td>3.073523e-07</td>\n",
       "      <td>5.409180e-07</td>\n",
       "    </tr>\n",
       "  </tbody>\n",
       "</table>\n",
       "<p>273739 rows × 3 columns</p>\n",
       "</div>"
      ],
      "text/plain": [
       "             AFG_agr       AFG_ene       AFG_ind\n",
       "0       5.108722e-20  4.535765e-21  7.861634e-21\n",
       "1       1.775583e-20  1.058866e-21  1.796807e-21\n",
       "2       1.098795e-20  3.331421e-22  5.144844e-22\n",
       "3       4.288732e-20  1.051228e-21  1.492379e-21\n",
       "4       2.072442e-19  5.912740e-21  8.741662e-21\n",
       "...              ...           ...           ...\n",
       "273734  2.576594e-07  1.095716e-06  1.928413e-06\n",
       "273735  1.104811e-07  4.575496e-07  8.042475e-07\n",
       "273736  9.273559e-08  3.840530e-07  6.750823e-07\n",
       "273737  7.212797e-08  2.951889e-07  5.194801e-07\n",
       "273738  7.508449e-08  3.073523e-07  5.409180e-07\n",
       "\n",
       "[273739 rows x 3 columns]"
      ]
     },
     "execution_count": 31,
     "metadata": {},
     "output_type": "execute_result"
    }
   ],
   "source": [
    "concentration_by_sectors.columns = column_name\n",
    "concentration_by_sectors"
   ]
  },
  {
   "cell_type": "code",
   "execution_count": 32,
   "metadata": {},
   "outputs": [],
   "source": [
    "concentration_by_sectors.to_csv('comparison/concentration_by_sectors.csv')"
   ]
  },
  {
   "cell_type": "code",
   "execution_count": null,
   "metadata": {},
   "outputs": [],
   "source": []
  }
 ],
 "metadata": {
  "kernelspec": {
   "display_name": "Python 3",
   "language": "python",
   "name": "python3"
  },
  "language_info": {
   "codemirror_mode": {
    "name": "ipython",
    "version": 3
   },
   "file_extension": ".py",
   "mimetype": "text/x-python",
   "name": "python",
   "nbconvert_exporter": "python",
   "pygments_lexer": "ipython3",
   "version": "3.6.5"
  }
 },
 "nbformat": 4,
 "nbformat_minor": 2
}
