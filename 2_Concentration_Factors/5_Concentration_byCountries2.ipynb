{
 "cells": [
  {
   "cell_type": "code",
   "execution_count": 3,
   "metadata": {},
   "outputs": [],
   "source": [
    "import pandas as pd\n",
    "import numpy as np\n",
    "import json"
   ]
  },
  {
   "cell_type": "code",
   "execution_count": 8,
   "metadata": {},
   "outputs": [],
   "source": [
    "with open(\"total_output_sector.json\",'r') as load_f:\n",
    "# with open(\"../3_Mortality/NCDLRI_Total.json\",'r') as load_f:\n",
    "    total_output_sector = json.load(load_f)\n",
    "Country = list(NCDLRI_Total.keys())"
   ]
  },
  {
   "cell_type": "code",
   "execution_count": 5,
   "metadata": {},
   "outputs": [],
   "source": [
    "A = ['agr','ene','ind','nrtr','rcor','rcoc','rcoo','shp','slv','wst']"
   ]
  },
  {
   "cell_type": "code",
   "execution_count": 11,
   "metadata": {},
   "outputs": [],
   "source": [
    "total_output = []\n",
    "for i in Country[:-1]:\n",
    "    for j in A:\n",
    "        total_output.append(total_output_sector[i][j])\n",
    "total_output.append(total_output_sector['ROW'])"
   ]
  },
  {
   "cell_type": "code",
   "execution_count": 14,
   "metadata": {},
   "outputs": [],
   "source": [
    "total_output = np.mat(total_output).T"
   ]
  },
  {
   "cell_type": "code",
   "execution_count": null,
   "metadata": {},
   "outputs": [],
   "source": [
    "shp1 = np.zeros(shape=(281009,))\n",
    "for i in WITO_countries:\n",
    "    for j in A:\n",
    "        shp = pd.read_csv('concentration_factors' + '/' + i + '_' + j.lower() + '_cf.csv')\n",
    "        shp1 = np.row_stack((shp1,shp['TotalPM25'].values))"
   ]
  },
  {
   "cell_type": "code",
   "execution_count": null,
   "metadata": {},
   "outputs": [],
   "source": [
    "situationA = np.mat(shp1[1:]).T * total_output"
   ]
  },
  {
   "cell_type": "code",
   "execution_count": null,
   "metadata": {},
   "outputs": [],
   "source": [
    "np.savetxt('comparison/situationA.csv',situationA,delimiter=',')"
   ]
  }
 ],
 "metadata": {
  "kernelspec": {
   "display_name": "Python 3",
   "language": "python",
   "name": "python3"
  },
  "language_info": {
   "codemirror_mode": {
    "name": "ipython",
    "version": 3
   },
   "file_extension": ".py",
   "mimetype": "text/x-python",
   "name": "python",
   "nbconvert_exporter": "python",
   "pygments_lexer": "ipython3",
   "version": "3.6.5"
  }
 },
 "nbformat": 4,
 "nbformat_minor": 2
}
