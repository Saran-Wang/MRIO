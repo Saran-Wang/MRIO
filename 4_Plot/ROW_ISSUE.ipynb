{
 "cells": [
  {
   "cell_type": "code",
   "execution_count": 24,
   "metadata": {},
   "outputs": [],
   "source": [
    "import matplotlib as m\n",
    "import matplotlib.pyplot as plt\n",
    "from operator import itemgetter\n",
    "import pandas as pd\n",
    "import geopandas as gpd\n",
    "import numpy as np\n",
    "import copy\n",
    "import json\n",
    "from tqdm import tqdm\n",
    "import matplotlib.pyplot as plt\n",
    "import matplotlib as mpl"
   ]
  },
  {
   "cell_type": "code",
   "execution_count": 25,
   "metadata": {},
   "outputs": [],
   "source": [
    "fraction = pd.read_csv('C:/Users/15311/Desktop/country_classify_final.csv')"
   ]
  },
  {
   "cell_type": "code",
   "execution_count": 26,
   "metadata": {},
   "outputs": [],
   "source": [
    "# wholewolrd concentrations\n",
    "wholeworld = gpd.read_file('C:/Users/15311/Desktop/new_results/output_wholeworld/wholeworld_bio.shp')\n",
    "A = ['agr','ene','ind','nrtr','rcor','rcoc','rcoo','shp','slv','wst']\n",
    "for j in A:\n",
    "    read_shp = gpd.read_file(r'C:/Users/15311/Desktop/new_results/output_wholeworld/wholeworld_' + j + '.' + 'shp')\n",
    "    wholeworld['TotalPM25'] += read_shp['TotalPM25']"
   ]
  },
  {
   "cell_type": "code",
   "execution_count": 27,
   "metadata": {},
   "outputs": [],
   "source": [
    "# ROW concentrations\n",
    "ROW = gpd.read_file('C:/Users/15311/Desktop/new_results/output_ROW/ROW_agr.shp')\n",
    "B = ['ene','ind','nrtr','rcor','rcoc','rcoo','shp','slv','wst']\n",
    "for j in B:\n",
    "    read_shp = gpd.read_file(r'C:/Users/15311/Desktop/new_results/output_ROW/ROW_' + j + '.' + 'shp')\n",
    "    ROW['TotalPM25'] += read_shp['TotalPM25']"
   ]
  },
  {
   "cell_type": "code",
   "execution_count": 28,
   "metadata": {},
   "outputs": [
    {
     "data": {
      "text/html": [
       "<div>\n",
       "<style scoped>\n",
       "    .dataframe tbody tr th:only-of-type {\n",
       "        vertical-align: middle;\n",
       "    }\n",
       "\n",
       "    .dataframe tbody tr th {\n",
       "        vertical-align: top;\n",
       "    }\n",
       "\n",
       "    .dataframe thead th {\n",
       "        text-align: right;\n",
       "    }\n",
       "</style>\n",
       "<table border=\"1\" class=\"dataframe\">\n",
       "  <thead>\n",
       "    <tr style=\"text-align: right;\">\n",
       "      <th></th>\n",
       "      <th>AllCause</th>\n",
       "      <th>BasePM25</th>\n",
       "      <th>NH3</th>\n",
       "      <th>NOx</th>\n",
       "      <th>PNH4</th>\n",
       "      <th>PNO3</th>\n",
       "      <th>PSO4</th>\n",
       "      <th>SOA</th>\n",
       "      <th>SOx</th>\n",
       "      <th>TotalPM25</th>\n",
       "      <th>TotalPop</th>\n",
       "      <th>TotalPopD</th>\n",
       "      <th>geometry</th>\n",
       "    </tr>\n",
       "  </thead>\n",
       "  <tbody>\n",
       "    <tr>\n",
       "      <th>0</th>\n",
       "      <td>0.0</td>\n",
       "      <td>0.426418</td>\n",
       "      <td>6.686837e-09</td>\n",
       "      <td>1.757977e-08</td>\n",
       "      <td>7.732357e-08</td>\n",
       "      <td>2.127443e-08</td>\n",
       "      <td>0.0</td>\n",
       "      <td>0.0</td>\n",
       "      <td>0.0</td>\n",
       "      <td>0.000228</td>\n",
       "      <td>0.000000</td>\n",
       "      <td>0.0</td>\n",
       "      <td>POLYGON ((-180.00000 -88.00000, -175.00000 -88...</td>\n",
       "    </tr>\n",
       "    <tr>\n",
       "      <th>1</th>\n",
       "      <td>0.0</td>\n",
       "      <td>0.508265</td>\n",
       "      <td>5.732570e-09</td>\n",
       "      <td>1.134885e-08</td>\n",
       "      <td>5.210361e-08</td>\n",
       "      <td>1.472518e-08</td>\n",
       "      <td>0.0</td>\n",
       "      <td>0.0</td>\n",
       "      <td>0.0</td>\n",
       "      <td>0.000291</td>\n",
       "      <td>0.000000</td>\n",
       "      <td>0.0</td>\n",
       "      <td>POLYGON ((-180.00000 -84.00000, -175.00000 -84...</td>\n",
       "    </tr>\n",
       "    <tr>\n",
       "      <th>2</th>\n",
       "      <td>0.0</td>\n",
       "      <td>0.550982</td>\n",
       "      <td>2.502480e-09</td>\n",
       "      <td>5.030283e-09</td>\n",
       "      <td>2.389668e-08</td>\n",
       "      <td>6.997061e-09</td>\n",
       "      <td>0.0</td>\n",
       "      <td>0.0</td>\n",
       "      <td>0.0</td>\n",
       "      <td>0.000484</td>\n",
       "      <td>0.000000</td>\n",
       "      <td>0.0</td>\n",
       "      <td>POLYGON ((-180.00000 -80.00000, -175.00000 -80...</td>\n",
       "    </tr>\n",
       "    <tr>\n",
       "      <th>3</th>\n",
       "      <td>0.0</td>\n",
       "      <td>0.680774</td>\n",
       "      <td>2.442044e-09</td>\n",
       "      <td>3.043948e-09</td>\n",
       "      <td>1.341464e-08</td>\n",
       "      <td>4.533418e-09</td>\n",
       "      <td>0.0</td>\n",
       "      <td>0.0</td>\n",
       "      <td>0.0</td>\n",
       "      <td>0.000479</td>\n",
       "      <td>0.000000</td>\n",
       "      <td>0.0</td>\n",
       "      <td>POLYGON ((-180.00000 -76.00000, -175.00000 -76...</td>\n",
       "    </tr>\n",
       "    <tr>\n",
       "      <th>4</th>\n",
       "      <td>0.0</td>\n",
       "      <td>1.058635</td>\n",
       "      <td>2.448201e-09</td>\n",
       "      <td>1.855344e-09</td>\n",
       "      <td>1.039651e-08</td>\n",
       "      <td>3.936331e-09</td>\n",
       "      <td>0.0</td>\n",
       "      <td>0.0</td>\n",
       "      <td>0.0</td>\n",
       "      <td>0.001161</td>\n",
       "      <td>0.000000</td>\n",
       "      <td>0.0</td>\n",
       "      <td>POLYGON ((-180.00000 -72.00000, -175.00000 -72...</td>\n",
       "    </tr>\n",
       "    <tr>\n",
       "      <th>...</th>\n",
       "      <td>...</td>\n",
       "      <td>...</td>\n",
       "      <td>...</td>\n",
       "      <td>...</td>\n",
       "      <td>...</td>\n",
       "      <td>...</td>\n",
       "      <td>...</td>\n",
       "      <td>...</td>\n",
       "      <td>...</td>\n",
       "      <td>...</td>\n",
       "      <td>...</td>\n",
       "      <td>...</td>\n",
       "      <td>...</td>\n",
       "    </tr>\n",
       "    <tr>\n",
       "      <th>273734</th>\n",
       "      <td>0.0</td>\n",
       "      <td>2.168654</td>\n",
       "      <td>1.744640e-01</td>\n",
       "      <td>1.661160e-02</td>\n",
       "      <td>4.117902e-02</td>\n",
       "      <td>3.924920e-03</td>\n",
       "      <td>0.0</td>\n",
       "      <td>0.0</td>\n",
       "      <td>0.0</td>\n",
       "      <td>1.247776</td>\n",
       "      <td>17890.831710</td>\n",
       "      <td>0.0</td>\n",
       "      <td>POLYGON ((174.92188 -41.18750, 175.00000 -41.1...</td>\n",
       "    </tr>\n",
       "    <tr>\n",
       "      <th>273735</th>\n",
       "      <td>0.0</td>\n",
       "      <td>2.589360</td>\n",
       "      <td>5.425931e-01</td>\n",
       "      <td>4.940025e-02</td>\n",
       "      <td>1.407640e-01</td>\n",
       "      <td>8.123251e-03</td>\n",
       "      <td>0.0</td>\n",
       "      <td>0.0</td>\n",
       "      <td>0.0</td>\n",
       "      <td>3.591310</td>\n",
       "      <td>23655.892511</td>\n",
       "      <td>0.0</td>\n",
       "      <td>POLYGON ((174.92188 -37.12500, 175.00000 -37.1...</td>\n",
       "    </tr>\n",
       "    <tr>\n",
       "      <th>273736</th>\n",
       "      <td>0.0</td>\n",
       "      <td>2.589360</td>\n",
       "      <td>3.279021e-01</td>\n",
       "      <td>2.983184e-02</td>\n",
       "      <td>8.506711e-02</td>\n",
       "      <td>4.905471e-03</td>\n",
       "      <td>0.0</td>\n",
       "      <td>0.0</td>\n",
       "      <td>0.0</td>\n",
       "      <td>4.548388</td>\n",
       "      <td>23694.283337</td>\n",
       "      <td>0.0</td>\n",
       "      <td>POLYGON ((174.92188 -37.06250, 175.00000 -37.0...</td>\n",
       "    </tr>\n",
       "    <tr>\n",
       "      <th>273737</th>\n",
       "      <td>0.0</td>\n",
       "      <td>2.423264</td>\n",
       "      <td>2.743567e-01</td>\n",
       "      <td>2.457591e-02</td>\n",
       "      <td>6.423871e-02</td>\n",
       "      <td>3.351980e-03</td>\n",
       "      <td>0.0</td>\n",
       "      <td>0.0</td>\n",
       "      <td>0.0</td>\n",
       "      <td>5.429956</td>\n",
       "      <td>10540.864873</td>\n",
       "      <td>0.0</td>\n",
       "      <td>POLYGON ((174.92188 -37.00000, 175.00000 -37.0...</td>\n",
       "    </tr>\n",
       "    <tr>\n",
       "      <th>273738</th>\n",
       "      <td>0.0</td>\n",
       "      <td>2.423264</td>\n",
       "      <td>3.050243e-01</td>\n",
       "      <td>2.664735e-02</td>\n",
       "      <td>7.141932e-02</td>\n",
       "      <td>3.634511e-03</td>\n",
       "      <td>0.0</td>\n",
       "      <td>0.0</td>\n",
       "      <td>0.0</td>\n",
       "      <td>5.777700</td>\n",
       "      <td>32921.812008</td>\n",
       "      <td>0.0</td>\n",
       "      <td>POLYGON ((174.92188 -36.93750, 175.00000 -36.9...</td>\n",
       "    </tr>\n",
       "  </tbody>\n",
       "</table>\n",
       "<p>273739 rows × 13 columns</p>\n",
       "</div>"
      ],
      "text/plain": [
       "        AllCause  BasePM25           NH3           NOx          PNH4  \\\n",
       "0            0.0  0.426418  6.686837e-09  1.757977e-08  7.732357e-08   \n",
       "1            0.0  0.508265  5.732570e-09  1.134885e-08  5.210361e-08   \n",
       "2            0.0  0.550982  2.502480e-09  5.030283e-09  2.389668e-08   \n",
       "3            0.0  0.680774  2.442044e-09  3.043948e-09  1.341464e-08   \n",
       "4            0.0  1.058635  2.448201e-09  1.855344e-09  1.039651e-08   \n",
       "...          ...       ...           ...           ...           ...   \n",
       "273734       0.0  2.168654  1.744640e-01  1.661160e-02  4.117902e-02   \n",
       "273735       0.0  2.589360  5.425931e-01  4.940025e-02  1.407640e-01   \n",
       "273736       0.0  2.589360  3.279021e-01  2.983184e-02  8.506711e-02   \n",
       "273737       0.0  2.423264  2.743567e-01  2.457591e-02  6.423871e-02   \n",
       "273738       0.0  2.423264  3.050243e-01  2.664735e-02  7.141932e-02   \n",
       "\n",
       "                PNO3  PSO4  SOA  SOx  TotalPM25      TotalPop  TotalPopD  \\\n",
       "0       2.127443e-08   0.0  0.0  0.0   0.000228      0.000000        0.0   \n",
       "1       1.472518e-08   0.0  0.0  0.0   0.000291      0.000000        0.0   \n",
       "2       6.997061e-09   0.0  0.0  0.0   0.000484      0.000000        0.0   \n",
       "3       4.533418e-09   0.0  0.0  0.0   0.000479      0.000000        0.0   \n",
       "4       3.936331e-09   0.0  0.0  0.0   0.001161      0.000000        0.0   \n",
       "...              ...   ...  ...  ...        ...           ...        ...   \n",
       "273734  3.924920e-03   0.0  0.0  0.0   1.247776  17890.831710        0.0   \n",
       "273735  8.123251e-03   0.0  0.0  0.0   3.591310  23655.892511        0.0   \n",
       "273736  4.905471e-03   0.0  0.0  0.0   4.548388  23694.283337        0.0   \n",
       "273737  3.351980e-03   0.0  0.0  0.0   5.429956  10540.864873        0.0   \n",
       "273738  3.634511e-03   0.0  0.0  0.0   5.777700  32921.812008        0.0   \n",
       "\n",
       "                                                 geometry  \n",
       "0       POLYGON ((-180.00000 -88.00000, -175.00000 -88...  \n",
       "1       POLYGON ((-180.00000 -84.00000, -175.00000 -84...  \n",
       "2       POLYGON ((-180.00000 -80.00000, -175.00000 -80...  \n",
       "3       POLYGON ((-180.00000 -76.00000, -175.00000 -76...  \n",
       "4       POLYGON ((-180.00000 -72.00000, -175.00000 -72...  \n",
       "...                                                   ...  \n",
       "273734  POLYGON ((174.92188 -41.18750, 175.00000 -41.1...  \n",
       "273735  POLYGON ((174.92188 -37.12500, 175.00000 -37.1...  \n",
       "273736  POLYGON ((174.92188 -37.06250, 175.00000 -37.0...  \n",
       "273737  POLYGON ((174.92188 -37.00000, 175.00000 -37.0...  \n",
       "273738  POLYGON ((174.92188 -36.93750, 175.00000 -36.9...  \n",
       "\n",
       "[273739 rows x 13 columns]"
      ]
     },
     "execution_count": 28,
     "metadata": {},
     "output_type": "execute_result"
    }
   ],
   "source": [
    "ROW"
   ]
  },
  {
   "cell_type": "code",
   "execution_count": 29,
   "metadata": {},
   "outputs": [],
   "source": [
    "ROW['area_fraction'] = fraction['new_area_fraction']\n",
    "ROW['ROW_TotalPM25'] = ROW['TotalPM25']\n",
    "ROW['wholeworld_TotalPM25'] = wholeworld['TotalPM25']"
   ]
  },
  {
   "cell_type": "code",
   "execution_count": 30,
   "metadata": {},
   "outputs": [],
   "source": [
    "ROW_new = ROW[['area_fraction','ROW_TotalPM25','wholeworld_TotalPM25','geometry','TotalPop']]\n",
    "ROW_new = gpd.GeoDataFrame(ROW_new)"
   ]
  },
  {
   "cell_type": "code",
   "execution_count": 31,
   "metadata": {},
   "outputs": [
    {
     "data": {
      "text/html": [
       "<div>\n",
       "<style scoped>\n",
       "    .dataframe tbody tr th:only-of-type {\n",
       "        vertical-align: middle;\n",
       "    }\n",
       "\n",
       "    .dataframe tbody tr th {\n",
       "        vertical-align: top;\n",
       "    }\n",
       "\n",
       "    .dataframe thead th {\n",
       "        text-align: right;\n",
       "    }\n",
       "</style>\n",
       "<table border=\"1\" class=\"dataframe\">\n",
       "  <thead>\n",
       "    <tr style=\"text-align: right;\">\n",
       "      <th></th>\n",
       "      <th>area_fraction</th>\n",
       "      <th>ROW_TotalPM25</th>\n",
       "      <th>wholeworld_TotalPM25</th>\n",
       "      <th>geometry</th>\n",
       "      <th>TotalPop</th>\n",
       "    </tr>\n",
       "  </thead>\n",
       "  <tbody>\n",
       "    <tr>\n",
       "      <th>0</th>\n",
       "      <td>{'ROW': 1}</td>\n",
       "      <td>0.000228</td>\n",
       "      <td>0.000450</td>\n",
       "      <td>POLYGON ((-180.00000 -88.00000, -175.00000 -88...</td>\n",
       "      <td>0.000000</td>\n",
       "    </tr>\n",
       "    <tr>\n",
       "      <th>1</th>\n",
       "      <td>{'ROW': 1}</td>\n",
       "      <td>0.000291</td>\n",
       "      <td>0.000445</td>\n",
       "      <td>POLYGON ((-180.00000 -84.00000, -175.00000 -84...</td>\n",
       "      <td>0.000000</td>\n",
       "    </tr>\n",
       "    <tr>\n",
       "      <th>2</th>\n",
       "      <td>{'ROW': 1}</td>\n",
       "      <td>0.000484</td>\n",
       "      <td>0.000558</td>\n",
       "      <td>POLYGON ((-180.00000 -80.00000, -175.00000 -80...</td>\n",
       "      <td>0.000000</td>\n",
       "    </tr>\n",
       "    <tr>\n",
       "      <th>3</th>\n",
       "      <td>{'ROW': 1}</td>\n",
       "      <td>0.000479</td>\n",
       "      <td>0.000522</td>\n",
       "      <td>POLYGON ((-180.00000 -76.00000, -175.00000 -76...</td>\n",
       "      <td>0.000000</td>\n",
       "    </tr>\n",
       "    <tr>\n",
       "      <th>4</th>\n",
       "      <td>{'ROW': 1}</td>\n",
       "      <td>0.001161</td>\n",
       "      <td>0.001191</td>\n",
       "      <td>POLYGON ((-180.00000 -72.00000, -175.00000 -72...</td>\n",
       "      <td>0.000000</td>\n",
       "    </tr>\n",
       "    <tr>\n",
       "      <th>...</th>\n",
       "      <td>...</td>\n",
       "      <td>...</td>\n",
       "      <td>...</td>\n",
       "      <td>...</td>\n",
       "      <td>...</td>\n",
       "    </tr>\n",
       "    <tr>\n",
       "      <th>273734</th>\n",
       "      <td>{'NZL': 1.0}</td>\n",
       "      <td>1.247776</td>\n",
       "      <td>5.270067</td>\n",
       "      <td>POLYGON ((174.92188 -41.18750, 175.00000 -41.1...</td>\n",
       "      <td>17890.831710</td>\n",
       "    </tr>\n",
       "    <tr>\n",
       "      <th>273735</th>\n",
       "      <td>{'NZL': 1.0}</td>\n",
       "      <td>3.591310</td>\n",
       "      <td>13.430766</td>\n",
       "      <td>POLYGON ((174.92188 -37.12500, 175.00000 -37.1...</td>\n",
       "      <td>23655.892511</td>\n",
       "    </tr>\n",
       "    <tr>\n",
       "      <th>273736</th>\n",
       "      <td>{'NZL': 1.0}</td>\n",
       "      <td>4.548388</td>\n",
       "      <td>18.255088</td>\n",
       "      <td>POLYGON ((174.92188 -37.06250, 175.00000 -37.0...</td>\n",
       "      <td>23694.283337</td>\n",
       "    </tr>\n",
       "    <tr>\n",
       "      <th>273737</th>\n",
       "      <td>{'NZL': 1.0}</td>\n",
       "      <td>5.429956</td>\n",
       "      <td>22.391111</td>\n",
       "      <td>POLYGON ((174.92188 -37.00000, 175.00000 -37.0...</td>\n",
       "      <td>10540.864873</td>\n",
       "    </tr>\n",
       "    <tr>\n",
       "      <th>273738</th>\n",
       "      <td>{'NZL': 1.0}</td>\n",
       "      <td>5.777700</td>\n",
       "      <td>22.422321</td>\n",
       "      <td>POLYGON ((174.92188 -36.93750, 175.00000 -36.9...</td>\n",
       "      <td>32921.812008</td>\n",
       "    </tr>\n",
       "  </tbody>\n",
       "</table>\n",
       "<p>273739 rows × 5 columns</p>\n",
       "</div>"
      ],
      "text/plain": [
       "       area_fraction  ROW_TotalPM25  wholeworld_TotalPM25  \\\n",
       "0         {'ROW': 1}       0.000228              0.000450   \n",
       "1         {'ROW': 1}       0.000291              0.000445   \n",
       "2         {'ROW': 1}       0.000484              0.000558   \n",
       "3         {'ROW': 1}       0.000479              0.000522   \n",
       "4         {'ROW': 1}       0.001161              0.001191   \n",
       "...              ...            ...                   ...   \n",
       "273734  {'NZL': 1.0}       1.247776              5.270067   \n",
       "273735  {'NZL': 1.0}       3.591310             13.430766   \n",
       "273736  {'NZL': 1.0}       4.548388             18.255088   \n",
       "273737  {'NZL': 1.0}       5.429956             22.391111   \n",
       "273738  {'NZL': 1.0}       5.777700             22.422321   \n",
       "\n",
       "                                                 geometry      TotalPop  \n",
       "0       POLYGON ((-180.00000 -88.00000, -175.00000 -88...      0.000000  \n",
       "1       POLYGON ((-180.00000 -84.00000, -175.00000 -84...      0.000000  \n",
       "2       POLYGON ((-180.00000 -80.00000, -175.00000 -80...      0.000000  \n",
       "3       POLYGON ((-180.00000 -76.00000, -175.00000 -76...      0.000000  \n",
       "4       POLYGON ((-180.00000 -72.00000, -175.00000 -72...      0.000000  \n",
       "...                                                   ...           ...  \n",
       "273734  POLYGON ((174.92188 -41.18750, 175.00000 -41.1...  17890.831710  \n",
       "273735  POLYGON ((174.92188 -37.12500, 175.00000 -37.1...  23655.892511  \n",
       "273736  POLYGON ((174.92188 -37.06250, 175.00000 -37.0...  23694.283337  \n",
       "273737  POLYGON ((174.92188 -37.00000, 175.00000 -37.0...  10540.864873  \n",
       "273738  POLYGON ((174.92188 -36.93750, 175.00000 -36.9...  32921.812008  \n",
       "\n",
       "[273739 rows x 5 columns]"
      ]
     },
     "execution_count": 31,
     "metadata": {},
     "output_type": "execute_result"
    }
   ],
   "source": [
    "ROW_new"
   ]
  },
  {
   "cell_type": "code",
   "execution_count": 32,
   "metadata": {},
   "outputs": [
    {
     "data": {
      "text/plain": [
       "<AxesSubplot:>"
      ]
     },
     "execution_count": 32,
     "metadata": {},
     "output_type": "execute_result"
    },
    {
     "data": {
      "image/png": "[encoded data removed]",
      "text/plain": [
       "<Figure size 1440x720 with 2 Axes>"
      ]
     },
     "metadata": {},
     "output_type": "display_data"
    }
   ],
   "source": [
    "fig, ax = plt.subplots(1, 1)\n",
    "mpl.rcParams['figure.figsize']=(20,10)\n",
    "mpl.style.use('ggplot')\n",
    "ROW_new.plot(linewidths=0,column='ROW_TotalPM25',ax=ax,legend=True,vmin=0, vmax=10,cmap = 'Reds')"
   ]
  },
  {
   "cell_type": "code",
   "execution_count": 10,
   "metadata": {},
   "outputs": [
    {
     "name": "stderr",
     "output_type": "stream",
     "text": [
      "100%|████████████████████████████████████████████████████████████████████████| 273739/273739 [01:02<00:00, 4379.50it/s]\n"
     ]
    }
   ],
   "source": [
    "# position = []\n",
    "# for index in tqdm(range(len(ROW_new))):\n",
    "#         if 'ROW' not in json.loads(ROW_new.iloc[index]['new_area_fraction'].replace('\\'','\\\"')).keys():\n",
    "#             continue\n",
    "#         else:\n",
    "#             position.append(index)"
   ]
  },
  {
   "cell_type": "code",
   "execution_count": 11,
   "metadata": {},
   "outputs": [],
   "source": [
    "# ROW_only = ROW_new.iloc[position]"
   ]
  },
  {
   "cell_type": "code",
   "execution_count": 23,
   "metadata": {},
   "outputs": [],
   "source": [
    "# fig, ax = plt.subplots(1, 1)\n",
    "# mpl.rcParams['figure.figsize']=(20,10)\n",
    "# mpl.style.use('ggplot')\n",
    "# ROW_only.plot(linewidths=0,column='ROW_TotalPM25',ax=ax,legend=True,vmin=0, vmax=10,cmap = 'Reds')"
   ]
  },
  {
   "cell_type": "code",
   "execution_count": 50,
   "metadata": {},
   "outputs": [],
   "source": [
    "position2 = []\n",
    "for i in range(len(ROW)):\n",
    "    if ROW.loc[i,'ROW_TotalPM25'] >= 2.4:\n",
    "        position2.append(i)"
   ]
  },
  {
   "cell_type": "code",
   "execution_count": 51,
   "metadata": {},
   "outputs": [
    {
     "data": {
      "text/html": [
       "<div>\n",
       "<style scoped>\n",
       "    .dataframe tbody tr th:only-of-type {\n",
       "        vertical-align: middle;\n",
       "    }\n",
       "\n",
       "    .dataframe tbody tr th {\n",
       "        vertical-align: top;\n",
       "    }\n",
       "\n",
       "    .dataframe thead th {\n",
       "        text-align: right;\n",
       "    }\n",
       "</style>\n",
       "<table border=\"1\" class=\"dataframe\">\n",
       "  <thead>\n",
       "    <tr style=\"text-align: right;\">\n",
       "      <th></th>\n",
       "      <th>area_fraction</th>\n",
       "      <th>ROW_TotalPM25</th>\n",
       "      <th>wholeworld_TotalPM25</th>\n",
       "      <th>geometry</th>\n",
       "      <th>TotalPop</th>\n",
       "    </tr>\n",
       "  </thead>\n",
       "  <tbody>\n",
       "    <tr>\n",
       "      <th>192</th>\n",
       "      <td>{'USA': 1.000000000000001}</td>\n",
       "      <td>2.650380</td>\n",
       "      <td>4.803525</td>\n",
       "      <td>POLYGON ((-160.00000 21.00000, -158.75000 21.0...</td>\n",
       "      <td>43284.626494</td>\n",
       "    </tr>\n",
       "    <tr>\n",
       "      <th>196</th>\n",
       "      <td>{'USA': 0.9999999999999986}</td>\n",
       "      <td>3.499794</td>\n",
       "      <td>8.549757</td>\n",
       "      <td>POLYGON ((-158.75000 21.00000, -158.12500 21.0...</td>\n",
       "      <td>52935.005359</td>\n",
       "    </tr>\n",
       "    <tr>\n",
       "      <th>199</th>\n",
       "      <td>{'USA': 1.0}</td>\n",
       "      <td>4.739148</td>\n",
       "      <td>22.531021</td>\n",
       "      <td>POLYGON ((-158.12500 21.31250, -158.08594 21.3...</td>\n",
       "      <td>3200.184572</td>\n",
       "    </tr>\n",
       "    <tr>\n",
       "      <th>200</th>\n",
       "      <td>{'USA': 1.0}</td>\n",
       "      <td>3.795064</td>\n",
       "      <td>19.651869</td>\n",
       "      <td>POLYGON ((-158.12500 21.34375, -158.08594 21.3...</td>\n",
       "      <td>10751.147375</td>\n",
       "    </tr>\n",
       "    <tr>\n",
       "      <th>201</th>\n",
       "      <td>{'USA': 0.9999999999999997}</td>\n",
       "      <td>6.548977</td>\n",
       "      <td>20.214713</td>\n",
       "      <td>POLYGON ((-158.12500 21.25000, -158.04688 21.2...</td>\n",
       "      <td>60.656974</td>\n",
       "    </tr>\n",
       "    <tr>\n",
       "      <th>...</th>\n",
       "      <td>...</td>\n",
       "      <td>...</td>\n",
       "      <td>...</td>\n",
       "      <td>...</td>\n",
       "      <td>...</td>\n",
       "    </tr>\n",
       "    <tr>\n",
       "      <th>273730</th>\n",
       "      <td>{'NZL': 0.9999999999999996}</td>\n",
       "      <td>4.356057</td>\n",
       "      <td>15.453681</td>\n",
       "      <td>POLYGON ((174.84375 -36.87500, 175.00000 -36.8...</td>\n",
       "      <td>32705.278134</td>\n",
       "    </tr>\n",
       "    <tr>\n",
       "      <th>273735</th>\n",
       "      <td>{'NZL': 1.0}</td>\n",
       "      <td>3.591310</td>\n",
       "      <td>13.430766</td>\n",
       "      <td>POLYGON ((174.92188 -37.12500, 175.00000 -37.1...</td>\n",
       "      <td>23655.892511</td>\n",
       "    </tr>\n",
       "    <tr>\n",
       "      <th>273736</th>\n",
       "      <td>{'NZL': 1.0}</td>\n",
       "      <td>4.548388</td>\n",
       "      <td>18.255088</td>\n",
       "      <td>POLYGON ((174.92188 -37.06250, 175.00000 -37.0...</td>\n",
       "      <td>23694.283337</td>\n",
       "    </tr>\n",
       "    <tr>\n",
       "      <th>273737</th>\n",
       "      <td>{'NZL': 1.0}</td>\n",
       "      <td>5.429956</td>\n",
       "      <td>22.391111</td>\n",
       "      <td>POLYGON ((174.92188 -37.00000, 175.00000 -37.0...</td>\n",
       "      <td>10540.864873</td>\n",
       "    </tr>\n",
       "    <tr>\n",
       "      <th>273738</th>\n",
       "      <td>{'NZL': 1.0}</td>\n",
       "      <td>5.777700</td>\n",
       "      <td>22.422321</td>\n",
       "      <td>POLYGON ((174.92188 -36.93750, 175.00000 -36.9...</td>\n",
       "      <td>32921.812008</td>\n",
       "    </tr>\n",
       "  </tbody>\n",
       "</table>\n",
       "<p>30116 rows × 5 columns</p>\n",
       "</div>"
      ],
      "text/plain": [
       "                      area_fraction  ROW_TotalPM25  wholeworld_TotalPM25  \\\n",
       "192      {'USA': 1.000000000000001}       2.650380              4.803525   \n",
       "196     {'USA': 0.9999999999999986}       3.499794              8.549757   \n",
       "199                    {'USA': 1.0}       4.739148             22.531021   \n",
       "200                    {'USA': 1.0}       3.795064             19.651869   \n",
       "201     {'USA': 0.9999999999999997}       6.548977             20.214713   \n",
       "...                             ...            ...                   ...   \n",
       "273730  {'NZL': 0.9999999999999996}       4.356057             15.453681   \n",
       "273735                 {'NZL': 1.0}       3.591310             13.430766   \n",
       "273736                 {'NZL': 1.0}       4.548388             18.255088   \n",
       "273737                 {'NZL': 1.0}       5.429956             22.391111   \n",
       "273738                 {'NZL': 1.0}       5.777700             22.422321   \n",
       "\n",
       "                                                 geometry      TotalPop  \n",
       "192     POLYGON ((-160.00000 21.00000, -158.75000 21.0...  43284.626494  \n",
       "196     POLYGON ((-158.75000 21.00000, -158.12500 21.0...  52935.005359  \n",
       "199     POLYGON ((-158.12500 21.31250, -158.08594 21.3...   3200.184572  \n",
       "200     POLYGON ((-158.12500 21.34375, -158.08594 21.3...  10751.147375  \n",
       "201     POLYGON ((-158.12500 21.25000, -158.04688 21.2...     60.656974  \n",
       "...                                                   ...           ...  \n",
       "273730  POLYGON ((174.84375 -36.87500, 175.00000 -36.8...  32705.278134  \n",
       "273735  POLYGON ((174.92188 -37.12500, 175.00000 -37.1...  23655.892511  \n",
       "273736  POLYGON ((174.92188 -37.06250, 175.00000 -37.0...  23694.283337  \n",
       "273737  POLYGON ((174.92188 -37.00000, 175.00000 -37.0...  10540.864873  \n",
       "273738  POLYGON ((174.92188 -36.93750, 175.00000 -36.9...  32921.812008  \n",
       "\n",
       "[30116 rows x 5 columns]"
      ]
     },
     "execution_count": 51,
     "metadata": {},
     "output_type": "execute_result"
    }
   ],
   "source": [
    "ROW_HPM25 = ROW_new.iloc[position2]\n",
    "ROW_HPM25"
   ]
  },
  {
   "cell_type": "code",
   "execution_count": 52,
   "metadata": {},
   "outputs": [
    {
     "name": "stderr",
     "output_type": "stream",
     "text": [
      "100%|██████████████████████████████████████████████████████████████████████████| 30116/30116 [00:05<00:00, 5922.63it/s]\n"
     ]
    }
   ],
   "source": [
    "positio3 = []\n",
    "for index in tqdm(range(len(ROW_HPM25))):\n",
    "        if 'ROW' not in json.loads(ROW_HPM25.iloc[index]['area_fraction'].replace('\\'','\\\"')).keys():\n",
    "            continue\n",
    "        else:\n",
    "            positio3.append(index)"
   ]
  },
  {
   "cell_type": "code",
   "execution_count": 64,
   "metadata": {},
   "outputs": [
    {
     "data": {
      "text/html": [
       "<div>\n",
       "<style scoped>\n",
       "    .dataframe tbody tr th:only-of-type {\n",
       "        vertical-align: middle;\n",
       "    }\n",
       "\n",
       "    .dataframe tbody tr th {\n",
       "        vertical-align: top;\n",
       "    }\n",
       "\n",
       "    .dataframe thead th {\n",
       "        text-align: right;\n",
       "    }\n",
       "</style>\n",
       "<table border=\"1\" class=\"dataframe\">\n",
       "  <thead>\n",
       "    <tr style=\"text-align: right;\">\n",
       "      <th></th>\n",
       "      <th>index</th>\n",
       "      <th>area_fraction</th>\n",
       "      <th>ROW_TotalPM25</th>\n",
       "      <th>wholeworld_TotalPM25</th>\n",
       "      <th>geometry</th>\n",
       "      <th>TotalPop</th>\n",
       "    </tr>\n",
       "  </thead>\n",
       "  <tbody>\n",
       "    <tr>\n",
       "      <th>0</th>\n",
       "      <td>32658</td>\n",
       "      <td>{'ROW': 1}</td>\n",
       "      <td>8.746867</td>\n",
       "      <td>14.244910</td>\n",
       "      <td>POLYGON ((-67.10938 18.12500, -67.03125 18.125...</td>\n",
       "      <td>13075.587884</td>\n",
       "    </tr>\n",
       "    <tr>\n",
       "      <th>1</th>\n",
       "      <td>32659</td>\n",
       "      <td>{'ROW': 1}</td>\n",
       "      <td>8.976682</td>\n",
       "      <td>14.645994</td>\n",
       "      <td>POLYGON ((-67.10938 18.18750, -67.03125 18.187...</td>\n",
       "      <td>9625.903334</td>\n",
       "    </tr>\n",
       "    <tr>\n",
       "      <th>2</th>\n",
       "      <td>32698</td>\n",
       "      <td>{'ROW': 1}</td>\n",
       "      <td>9.591119</td>\n",
       "      <td>14.037329</td>\n",
       "      <td>POLYGON ((-67.03125 18.00000, -66.87500 18.000...</td>\n",
       "      <td>51039.892585</td>\n",
       "    </tr>\n",
       "    <tr>\n",
       "      <th>3</th>\n",
       "      <td>32699</td>\n",
       "      <td>{'ROW': 1}</td>\n",
       "      <td>8.702727</td>\n",
       "      <td>14.121415</td>\n",
       "      <td>POLYGON ((-67.03125 18.12500, -66.87500 18.125...</td>\n",
       "      <td>13172.996121</td>\n",
       "    </tr>\n",
       "    <tr>\n",
       "      <th>4</th>\n",
       "      <td>32700</td>\n",
       "      <td>{'ROW': 1}</td>\n",
       "      <td>8.774051</td>\n",
       "      <td>14.061524</td>\n",
       "      <td>POLYGON ((-67.03125 18.25000, -66.87500 18.250...</td>\n",
       "      <td>50922.098267</td>\n",
       "    </tr>\n",
       "    <tr>\n",
       "      <th>...</th>\n",
       "      <td>...</td>\n",
       "      <td>...</td>\n",
       "      <td>...</td>\n",
       "      <td>...</td>\n",
       "      <td>...</td>\n",
       "      <td>...</td>\n",
       "    </tr>\n",
       "    <tr>\n",
       "      <th>328</th>\n",
       "      <td>273353</td>\n",
       "      <td>{'ROW': 1}</td>\n",
       "      <td>4.993984</td>\n",
       "      <td>6.936557</td>\n",
       "      <td>POLYGON ((159.92188 -9.40625, 159.96094 -9.406...</td>\n",
       "      <td>0.000000</td>\n",
       "    </tr>\n",
       "    <tr>\n",
       "      <th>329</th>\n",
       "      <td>273354</td>\n",
       "      <td>{'ROW': 1}</td>\n",
       "      <td>2.717839</td>\n",
       "      <td>4.419765</td>\n",
       "      <td>POLYGON ((159.96094 -9.50000, 160.00000 -9.500...</td>\n",
       "      <td>354.382372</td>\n",
       "    </tr>\n",
       "    <tr>\n",
       "      <th>330</th>\n",
       "      <td>273355</td>\n",
       "      <td>{'ROW': 1}</td>\n",
       "      <td>4.662501</td>\n",
       "      <td>6.473130</td>\n",
       "      <td>POLYGON ((159.96094 -9.46875, 160.00000 -9.468...</td>\n",
       "      <td>37564.001598</td>\n",
       "    </tr>\n",
       "    <tr>\n",
       "      <th>331</th>\n",
       "      <td>273356</td>\n",
       "      <td>{'ROW': 1}</td>\n",
       "      <td>5.677293</td>\n",
       "      <td>7.538975</td>\n",
       "      <td>POLYGON ((159.96094 -9.43750, 160.00000 -9.437...</td>\n",
       "      <td>12628.976797</td>\n",
       "    </tr>\n",
       "    <tr>\n",
       "      <th>332</th>\n",
       "      <td>273357</td>\n",
       "      <td>{'ROW': 1}</td>\n",
       "      <td>4.002374</td>\n",
       "      <td>5.884378</td>\n",
       "      <td>POLYGON ((159.96094 -9.40625, 160.00000 -9.406...</td>\n",
       "      <td>0.000000</td>\n",
       "    </tr>\n",
       "  </tbody>\n",
       "</table>\n",
       "<p>333 rows × 6 columns</p>\n",
       "</div>"
      ],
      "text/plain": [
       "      index area_fraction  ROW_TotalPM25  wholeworld_TotalPM25  \\\n",
       "0     32658    {'ROW': 1}       8.746867             14.244910   \n",
       "1     32659    {'ROW': 1}       8.976682             14.645994   \n",
       "2     32698    {'ROW': 1}       9.591119             14.037329   \n",
       "3     32699    {'ROW': 1}       8.702727             14.121415   \n",
       "4     32700    {'ROW': 1}       8.774051             14.061524   \n",
       "..      ...           ...            ...                   ...   \n",
       "328  273353    {'ROW': 1}       4.993984              6.936557   \n",
       "329  273354    {'ROW': 1}       2.717839              4.419765   \n",
       "330  273355    {'ROW': 1}       4.662501              6.473130   \n",
       "331  273356    {'ROW': 1}       5.677293              7.538975   \n",
       "332  273357    {'ROW': 1}       4.002374              5.884378   \n",
       "\n",
       "                                              geometry      TotalPop  \n",
       "0    POLYGON ((-67.10938 18.12500, -67.03125 18.125...  13075.587884  \n",
       "1    POLYGON ((-67.10938 18.18750, -67.03125 18.187...   9625.903334  \n",
       "2    POLYGON ((-67.03125 18.00000, -66.87500 18.000...  51039.892585  \n",
       "3    POLYGON ((-67.03125 18.12500, -66.87500 18.125...  13172.996121  \n",
       "4    POLYGON ((-67.03125 18.25000, -66.87500 18.250...  50922.098267  \n",
       "..                                                 ...           ...  \n",
       "328  POLYGON ((159.92188 -9.40625, 159.96094 -9.406...      0.000000  \n",
       "329  POLYGON ((159.96094 -9.50000, 160.00000 -9.500...    354.382372  \n",
       "330  POLYGON ((159.96094 -9.46875, 160.00000 -9.468...  37564.001598  \n",
       "331  POLYGON ((159.96094 -9.43750, 160.00000 -9.437...  12628.976797  \n",
       "332  POLYGON ((159.96094 -9.40625, 160.00000 -9.406...      0.000000  \n",
       "\n",
       "[333 rows x 6 columns]"
      ]
     },
     "execution_count": 64,
     "metadata": {},
     "output_type": "execute_result"
    }
   ],
   "source": [
    "ROW_only_HPM25 = ROW_HPM25.iloc[positio3]\n",
    "ROW_only_HPM25.reset_index(inplace=True)\n",
    "ROW_only_HPM25"
   ]
  },
  {
   "cell_type": "code",
   "execution_count": 56,
   "metadata": {},
   "outputs": [
    {
     "data": {
      "text/plain": [
       "<AxesSubplot:>"
      ]
     },
     "execution_count": 56,
     "metadata": {},
     "output_type": "execute_result"
    },
    {
     "data": {
      "image/png": "[encoded data removed]",
      "text/plain": [
       "<Figure size 1440x720 with 2 Axes>"
      ]
     },
     "metadata": {},
     "output_type": "display_data"
    }
   ],
   "source": [
    "fig, ax = plt.subplots(1, 1)\n",
    "mpl.rcParams['figure.figsize']=(20,10)\n",
    "mpl.style.use('ggplot')\n",
    "ROW_only_HPM25.plot(linewidths=0,column='ROW_TotalPM25',ax=ax,legend=True,vmin=0, vmax=10,cmap = 'Reds')"
   ]
  },
  {
   "cell_type": "code",
   "execution_count": 55,
   "metadata": {},
   "outputs": [
    {
     "data": {
      "text/plain": [
       "<AxesSubplot:>"
      ]
     },
     "execution_count": 55,
     "metadata": {},
     "output_type": "execute_result"
    },
    {
     "data": {
      "image/png": "[encoded data removed]",
      "text/plain": [
       "<Figure size 1440x720 with 2 Axes>"
      ]
     },
     "metadata": {},
     "output_type": "display_data"
    }
   ],
   "source": [
    "fig, ax = plt.subplots(1, 1)\n",
    "mpl.rcParams['figure.figsize']=(20,10)\n",
    "mpl.style.use('ggplot')\n",
    "ROW_only_HPM25.plot(linewidths=0,column='TotalPop',ax=ax,legend=True,vmin=0, vmax=10,cmap = 'Reds')"
   ]
  },
  {
   "cell_type": "code",
   "execution_count": 62,
   "metadata": {},
   "outputs": [],
   "source": [
    "position4 = []\n",
    "for i in range(len(ROW_only_HPM25)):\n",
    "    if ROW_only_HPM25.loc[i,'TotalPop'] > 0:\n",
    "        position4.append(i)"
   ]
  },
  {
   "cell_type": "code",
   "execution_count": 65,
   "metadata": {},
   "outputs": [],
   "source": [
    "ROW_only_HPM25_Hpop = ROW_only_HPM25.iloc[position4]\n",
    "ROW_only_HPM25_Hpop.reset_index(inplace=True)"
   ]
  },
  {
   "cell_type": "code",
   "execution_count": 66,
   "metadata": {},
   "outputs": [
    {
     "data": {
      "text/html": [
       "<div>\n",
       "<style scoped>\n",
       "    .dataframe tbody tr th:only-of-type {\n",
       "        vertical-align: middle;\n",
       "    }\n",
       "\n",
       "    .dataframe tbody tr th {\n",
       "        vertical-align: top;\n",
       "    }\n",
       "\n",
       "    .dataframe thead th {\n",
       "        text-align: right;\n",
       "    }\n",
       "</style>\n",
       "<table border=\"1\" class=\"dataframe\">\n",
       "  <thead>\n",
       "    <tr style=\"text-align: right;\">\n",
       "      <th></th>\n",
       "      <th>level_0</th>\n",
       "      <th>index</th>\n",
       "      <th>area_fraction</th>\n",
       "      <th>ROW_TotalPM25</th>\n",
       "      <th>wholeworld_TotalPM25</th>\n",
       "      <th>geometry</th>\n",
       "      <th>TotalPop</th>\n",
       "    </tr>\n",
       "  </thead>\n",
       "  <tbody>\n",
       "    <tr>\n",
       "      <th>0</th>\n",
       "      <td>0</td>\n",
       "      <td>32658</td>\n",
       "      <td>{'ROW': 1}</td>\n",
       "      <td>8.746867</td>\n",
       "      <td>14.244910</td>\n",
       "      <td>POLYGON ((-67.10938 18.12500, -67.03125 18.125...</td>\n",
       "      <td>13075.587884</td>\n",
       "    </tr>\n",
       "    <tr>\n",
       "      <th>1</th>\n",
       "      <td>1</td>\n",
       "      <td>32659</td>\n",
       "      <td>{'ROW': 1}</td>\n",
       "      <td>8.976682</td>\n",
       "      <td>14.645994</td>\n",
       "      <td>POLYGON ((-67.10938 18.18750, -67.03125 18.187...</td>\n",
       "      <td>9625.903334</td>\n",
       "    </tr>\n",
       "    <tr>\n",
       "      <th>2</th>\n",
       "      <td>2</td>\n",
       "      <td>32698</td>\n",
       "      <td>{'ROW': 1}</td>\n",
       "      <td>9.591119</td>\n",
       "      <td>14.037329</td>\n",
       "      <td>POLYGON ((-67.03125 18.00000, -66.87500 18.000...</td>\n",
       "      <td>51039.892585</td>\n",
       "    </tr>\n",
       "    <tr>\n",
       "      <th>3</th>\n",
       "      <td>3</td>\n",
       "      <td>32699</td>\n",
       "      <td>{'ROW': 1}</td>\n",
       "      <td>8.702727</td>\n",
       "      <td>14.121415</td>\n",
       "      <td>POLYGON ((-67.03125 18.12500, -66.87500 18.125...</td>\n",
       "      <td>13172.996121</td>\n",
       "    </tr>\n",
       "    <tr>\n",
       "      <th>4</th>\n",
       "      <td>4</td>\n",
       "      <td>32700</td>\n",
       "      <td>{'ROW': 1}</td>\n",
       "      <td>8.774051</td>\n",
       "      <td>14.061524</td>\n",
       "      <td>POLYGON ((-67.03125 18.25000, -66.87500 18.250...</td>\n",
       "      <td>50922.098267</td>\n",
       "    </tr>\n",
       "    <tr>\n",
       "      <th>...</th>\n",
       "      <td>...</td>\n",
       "      <td>...</td>\n",
       "      <td>...</td>\n",
       "      <td>...</td>\n",
       "      <td>...</td>\n",
       "      <td>...</td>\n",
       "      <td>...</td>\n",
       "    </tr>\n",
       "    <tr>\n",
       "      <th>226</th>\n",
       "      <td>326</td>\n",
       "      <td>273351</td>\n",
       "      <td>{'ROW': 1}</td>\n",
       "      <td>5.149110</td>\n",
       "      <td>6.979289</td>\n",
       "      <td>POLYGON ((159.92188 -9.46875, 159.96094 -9.468...</td>\n",
       "      <td>18074.146633</td>\n",
       "    </tr>\n",
       "    <tr>\n",
       "      <th>227</th>\n",
       "      <td>327</td>\n",
       "      <td>273352</td>\n",
       "      <td>{'ROW': 1}</td>\n",
       "      <td>7.030109</td>\n",
       "      <td>8.948671</td>\n",
       "      <td>POLYGON ((159.92188 -9.43750, 159.96094 -9.437...</td>\n",
       "      <td>18477.680804</td>\n",
       "    </tr>\n",
       "    <tr>\n",
       "      <th>228</th>\n",
       "      <td>329</td>\n",
       "      <td>273354</td>\n",
       "      <td>{'ROW': 1}</td>\n",
       "      <td>2.717839</td>\n",
       "      <td>4.419765</td>\n",
       "      <td>POLYGON ((159.96094 -9.50000, 160.00000 -9.500...</td>\n",
       "      <td>354.382372</td>\n",
       "    </tr>\n",
       "    <tr>\n",
       "      <th>229</th>\n",
       "      <td>330</td>\n",
       "      <td>273355</td>\n",
       "      <td>{'ROW': 1}</td>\n",
       "      <td>4.662501</td>\n",
       "      <td>6.473130</td>\n",
       "      <td>POLYGON ((159.96094 -9.46875, 160.00000 -9.468...</td>\n",
       "      <td>37564.001598</td>\n",
       "    </tr>\n",
       "    <tr>\n",
       "      <th>230</th>\n",
       "      <td>331</td>\n",
       "      <td>273356</td>\n",
       "      <td>{'ROW': 1}</td>\n",
       "      <td>5.677293</td>\n",
       "      <td>7.538975</td>\n",
       "      <td>POLYGON ((159.96094 -9.43750, 160.00000 -9.437...</td>\n",
       "      <td>12628.976797</td>\n",
       "    </tr>\n",
       "  </tbody>\n",
       "</table>\n",
       "<p>231 rows × 7 columns</p>\n",
       "</div>"
      ],
      "text/plain": [
       "     level_0   index area_fraction  ROW_TotalPM25  wholeworld_TotalPM25  \\\n",
       "0          0   32658    {'ROW': 1}       8.746867             14.244910   \n",
       "1          1   32659    {'ROW': 1}       8.976682             14.645994   \n",
       "2          2   32698    {'ROW': 1}       9.591119             14.037329   \n",
       "3          3   32699    {'ROW': 1}       8.702727             14.121415   \n",
       "4          4   32700    {'ROW': 1}       8.774051             14.061524   \n",
       "..       ...     ...           ...            ...                   ...   \n",
       "226      326  273351    {'ROW': 1}       5.149110              6.979289   \n",
       "227      327  273352    {'ROW': 1}       7.030109              8.948671   \n",
       "228      329  273354    {'ROW': 1}       2.717839              4.419765   \n",
       "229      330  273355    {'ROW': 1}       4.662501              6.473130   \n",
       "230      331  273356    {'ROW': 1}       5.677293              7.538975   \n",
       "\n",
       "                                              geometry      TotalPop  \n",
       "0    POLYGON ((-67.10938 18.12500, -67.03125 18.125...  13075.587884  \n",
       "1    POLYGON ((-67.10938 18.18750, -67.03125 18.187...   9625.903334  \n",
       "2    POLYGON ((-67.03125 18.00000, -66.87500 18.000...  51039.892585  \n",
       "3    POLYGON ((-67.03125 18.12500, -66.87500 18.125...  13172.996121  \n",
       "4    POLYGON ((-67.03125 18.25000, -66.87500 18.250...  50922.098267  \n",
       "..                                                 ...           ...  \n",
       "226  POLYGON ((159.92188 -9.46875, 159.96094 -9.468...  18074.146633  \n",
       "227  POLYGON ((159.92188 -9.43750, 159.96094 -9.437...  18477.680804  \n",
       "228  POLYGON ((159.96094 -9.50000, 160.00000 -9.500...    354.382372  \n",
       "229  POLYGON ((159.96094 -9.46875, 160.00000 -9.468...  37564.001598  \n",
       "230  POLYGON ((159.96094 -9.43750, 160.00000 -9.437...  12628.976797  \n",
       "\n",
       "[231 rows x 7 columns]"
      ]
     },
     "execution_count": 66,
     "metadata": {},
     "output_type": "execute_result"
    }
   ],
   "source": [
    "ROW_only_HPM25_Hpop"
   ]
  },
  {
   "cell_type": "code",
   "execution_count": 67,
   "metadata": {},
   "outputs": [],
   "source": [
    "df_shp = gpd.read_file('C:/Users/15311/Desktop/natural_earth_vector/10m_cultural/ne_10m_admin_0_countries.shp')"
   ]
  },
  {
   "cell_type": "code",
   "execution_count": 93,
   "metadata": {},
   "outputs": [
    {
     "data": {
      "text/html": [
       "<div>\n",
       "<style scoped>\n",
       "    .dataframe tbody tr th:only-of-type {\n",
       "        vertical-align: middle;\n",
       "    }\n",
       "\n",
       "    .dataframe tbody tr th {\n",
       "        vertical-align: top;\n",
       "    }\n",
       "\n",
       "    .dataframe thead th {\n",
       "        text-align: right;\n",
       "    }\n",
       "</style>\n",
       "<table border=\"1\" class=\"dataframe\">\n",
       "  <thead>\n",
       "    <tr style=\"text-align: right;\">\n",
       "      <th></th>\n",
       "      <th>featurecla</th>\n",
       "      <th>scalerank</th>\n",
       "      <th>LABELRANK</th>\n",
       "      <th>SOVEREIGNT</th>\n",
       "      <th>SOV_A3</th>\n",
       "      <th>ADM0_DIF</th>\n",
       "      <th>LEVEL</th>\n",
       "      <th>TYPE</th>\n",
       "      <th>ADMIN</th>\n",
       "      <th>ADM0_A3</th>\n",
       "      <th>...</th>\n",
       "      <th>NAME_KO</th>\n",
       "      <th>NAME_NL</th>\n",
       "      <th>NAME_PL</th>\n",
       "      <th>NAME_PT</th>\n",
       "      <th>NAME_RU</th>\n",
       "      <th>NAME_SV</th>\n",
       "      <th>NAME_TR</th>\n",
       "      <th>NAME_VI</th>\n",
       "      <th>NAME_ZH</th>\n",
       "      <th>geometry</th>\n",
       "    </tr>\n",
       "  </thead>\n",
       "  <tbody>\n",
       "    <tr>\n",
       "      <th>0</th>\n",
       "      <td>Admin-0 country</td>\n",
       "      <td>5</td>\n",
       "      <td>2</td>\n",
       "      <td>Indonesia</td>\n",
       "      <td>IDN</td>\n",
       "      <td>0</td>\n",
       "      <td>2</td>\n",
       "      <td>Sovereign country</td>\n",
       "      <td>Indonesia</td>\n",
       "      <td>IDN</td>\n",
       "      <td>...</td>\n",
       "      <td>인도네시아</td>\n",
       "      <td>Indonesië</td>\n",
       "      <td>Indonezja</td>\n",
       "      <td>Indonésia</td>\n",
       "      <td>Индонезия</td>\n",
       "      <td>Indonesien</td>\n",
       "      <td>Endonezya</td>\n",
       "      <td>Indonesia</td>\n",
       "      <td>印度尼西亚</td>\n",
       "      <td>MULTIPOLYGON (((117.70361 4.16341, 117.70361 4...</td>\n",
       "    </tr>\n",
       "  </tbody>\n",
       "</table>\n",
       "<p>1 rows × 95 columns</p>\n",
       "</div>"
      ],
      "text/plain": [
       "        featurecla  scalerank  LABELRANK SOVEREIGNT SOV_A3  ADM0_DIF  LEVEL  \\\n",
       "0  Admin-0 country          5          2  Indonesia    IDN         0      2   \n",
       "\n",
       "                TYPE      ADMIN ADM0_A3  ...  NAME_KO    NAME_NL    NAME_PL  \\\n",
       "0  Sovereign country  Indonesia     IDN  ...    인도네시아  Indonesië  Indonezja   \n",
       "\n",
       "     NAME_PT    NAME_RU     NAME_SV    NAME_TR    NAME_VI NAME_ZH  \\\n",
       "0  Indonésia  Индонезия  Indonesien  Endonezya  Indonesia   印度尼西亚   \n",
       "\n",
       "                                            geometry  \n",
       "0  MULTIPOLYGON (((117.70361 4.16341, 117.70361 4...  \n",
       "\n",
       "[1 rows x 95 columns]"
      ]
     },
     "execution_count": 93,
     "metadata": {},
     "output_type": "execute_result"
    }
   ],
   "source": [
    "df_shp[df_shp['ADM0_A3']=='IDN']"
   ]
  },
  {
   "cell_type": "code",
   "execution_count": 95,
   "metadata": {},
   "outputs": [
    {
     "data": {
      "text/plain": [
       "level_0                                                               267\n",
       "index                                                              133029\n",
       "area_fraction                                                  {'ROW': 1}\n",
       "ROW_TotalPM25                                                     3.75306\n",
       "wholeworld_TotalPM25                                               36.019\n",
       "geometry                POLYGON ((43.75 9.5, 43.90625 9.5, 43.90625 9....\n",
       "TotalPop                                                          31920.4\n",
       "Name: 185, dtype: object"
      ]
     },
     "execution_count": 95,
     "metadata": {},
     "output_type": "execute_result"
    }
   ],
   "source": [
    "ROW_only_HPM25_Hpop.iloc[185]"
   ]
  },
  {
   "cell_type": "code",
   "execution_count": 94,
   "metadata": {},
   "outputs": [
    {
     "name": "stderr",
     "output_type": "stream",
     "text": [
      "  9%|██████▉                                                                          | 22/255 [01:04<01:39,  2.34it/s]"
     ]
    },
    {
     "name": "stdout",
     "output_type": "stream",
     "text": [
      "21 185 SOL 0.01953125\n",
      "21 186 SOL 0.01953125\n",
      "21 188 SOL 0.078125\n",
      "21 189 SOL 0.078125\n",
      "21 192 SOL 0.01953125\n",
      "21 193 SOL 0.01953125\n",
      "21 194 SOL 0.01953125\n",
      "21 195 SOL 0.01953125\n",
      "21 198 SOL 0.078125\n",
      "21 199 SOL 0.01953125\n",
      "21 200 SOL 0.01953125\n"
     ]
    },
    {
     "name": "stderr",
     "output_type": "stream",
     "text": [
      " 25%|████████████████████▋                                                            | 65/255 [02:37<01:46,  1.79it/s]"
     ]
    },
    {
     "name": "stdout",
     "output_type": "stream",
     "text": [
      "65 124 KOS 0.01953125\n",
      "65 125 KOS 0.01953125\n",
      "65 126 KOS 0.01953125\n",
      "65 127 KOS 0.01953125\n",
      "65 128 KOS 0.01953125\n",
      "65 129 KOS 0.01953125\n",
      "65 130 KOS 0.01953125\n",
      "65 131 KOS 0.01953125\n",
      "65 132 KOS 0.01953125\n",
      "65 133 KOS 0.01953125\n",
      "65 134 KOS 0.01953125\n",
      "65 135 KOS 0.01953125\n",
      "65 136 KOS 0.01953125\n",
      "65 137 KOS 0.01953125\n",
      "65 138 KOS 0.01953125\n",
      "65 139 KOS 0.01953125\n",
      "65 140 KOS 0.01953125\n",
      "65 141 KOS 0.01953125\n",
      "65 142 KOS 0.01953125\n",
      "65 143 KOS 0.01953125\n",
      "65 144 KOS 0.01953125\n",
      "65 145 KOS 0.01953125\n",
      "65 146 KOS 0.01953125\n",
      "65 147 KOS 0.01953125\n",
      "65 148 KOS 0.01953125\n",
      "65 149 KOS 0.01953125\n",
      "65 150 KOS 0.0048828125\n",
      "65 151 KOS 0.0048828125\n",
      "65 152 KOS 0.01953125\n",
      "65 153 KOS 0.01953125\n",
      "65 154 KOS 0.01953125\n",
      "65 155 KOS 0.01953125\n",
      "65 156 KOS 0.0048828125\n",
      "65 157 KOS 0.0048828125\n",
      "65 158 KOS 0.01953125\n",
      "65 159 KOS 0.01953125\n",
      "65 160 KOS 0.01953125\n",
      "65 161 KOS 0.01953125\n",
      "65 162 KOS 0.01953125\n"
     ]
    },
    {
     "name": "stderr",
     "output_type": "stream",
     "text": [
      " 47%|█████████████████████████████████████▋                                          | 120/255 [03:18<00:37,  3.63it/s]"
     ]
    },
    {
     "name": "stdout",
     "output_type": "stream",
     "text": [
      "118 202 TLS 0.01953125\n",
      "118 203 TLS 0.01953125\n",
      "118 204 TLS 0.007710248932486919\n",
      "118 205 TLS 0.001220703125\n",
      "118 206 TLS 0.0010053238083143356\n",
      "118 207 TLS 6.191973924498768e-06\n",
      "118 208 TLS 0.001220703125\n",
      "118 209 TLS 0.001220703125\n",
      "118 210 TLS 0.0004297698983248237\n",
      "118 211 TLS 0.01953125\n",
      "118 212 TLS 0.01953125\n",
      "118 213 TLS 0.001220703125\n",
      "118 214 TLS 0.001220703125\n",
      "118 215 TLS 0.0007176677773183667\n",
      "118 216 TLS 0.001220703125\n",
      "118 217 TLS 0.001220703125\n",
      "118 218 TLS 0.000751022557934823\n",
      "118 219 TLS 7.221242653331143e-06\n"
     ]
    },
    {
     "name": "stderr",
     "output_type": "stream",
     "text": [
      " 59%|███████████████████████████████████████████████▎                                | 151/255 [03:33<00:43,  2.37it/s]"
     ]
    },
    {
     "name": "stdout",
     "output_type": "stream",
     "text": [
      "151 84 GNB 0.004436828107029976\n",
      "151 85 GNB 0.004762630125869919\n",
      "151 86 GNB 0.001220703125\n",
      "151 87 GNB 0.001220703125\n",
      "151 88 GNB 0.001220703125\n",
      "151 89 GNB 0.001220703125\n",
      "151 90 GNB 0.00035468884995659163\n",
      "151 91 GNB 0.0048828125\n",
      "151 92 GNB 0.0008976075750696944\n",
      "151 93 GNB 0.001220703125\n",
      "151 94 GNB 0.001220703125\n",
      "151 95 GNB 0.001220703125\n",
      "151 96 GNB 0.0001368202288754381\n",
      "151 97 GNB 0.0011920643863986675\n",
      "151 98 GNB 0.001220703125\n",
      "151 99 GNB 0.001220703125\n",
      "151 100 GNB 0.0048828125\n",
      "151 102 GNB 0.00022335557080485768\n",
      "151 103 GNB 0.0009320368092404814\n",
      "151 104 GNB 0.001220703125\n",
      "151 105 GNB 0.0033428223270432034\n",
      "151 106 GNB 0.00040880649698882895\n",
      "151 107 GNB 0.0011583464319269317\n",
      "151 108 GNB 0.0048016944040849465\n"
     ]
    },
    {
     "name": "stderr",
     "output_type": "stream",
     "text": [
      " 64%|███████████████████████████████████████████████████▍                            | 164/255 [06:19<03:31,  2.32s/it]"
     ]
    },
    {
     "name": "stdout",
     "output_type": "stream",
     "text": [
      "163 111 GNQ 0.07552869064062696\n",
      "163 112 GNQ 0.029966135853569824\n",
      "163 113 GNQ 0.0007329027751017553\n",
      "163 114 GNQ 0.0048828125\n",
      "163 115 GNQ 0.004880711691231686\n",
      "163 116 GNQ 0.017672647357578508\n",
      "163 117 GNQ 0.0048828125\n",
      "163 118 GNQ 0.0047259599717563066\n",
      "163 119 GNQ 0.0010382632266675673\n",
      "163 120 GNQ 0.005809008031122869\n",
      "163 121 GNQ 0.0009102781215238781\n",
      "163 122 GNQ 0.054471788847324384\n",
      "163 123 GNQ 0.05778051814636336\n"
     ]
    },
    {
     "name": "stderr",
     "output_type": "stream",
     "text": [
      " 77%|█████████████████████████████████████████████████████████████▊                  | 197/255 [07:36<00:20,  2.82it/s]"
     ]
    },
    {
     "name": "stdout",
     "output_type": "stream",
     "text": [
      "196 76 GRD 0.02600395434001355\n",
      "197"
     ]
    },
    {
     "name": "stderr",
     "output_type": "stream",
     "text": [
      "\r",
      " 78%|██████████████████████████████████████████████████████████████                  | 198/255 [07:36<00:17,  3.28it/s]"
     ]
    },
    {
     "name": "stdout",
     "output_type": "stream",
     "text": [
      " 75 VCT 0.002645759023891719\n",
      "197 79 VCT 0.026092186908762954\n"
     ]
    },
    {
     "name": "stderr",
     "output_type": "stream",
     "text": [
      " 78%|██████████████████████████████████████████████████████████████▋                 | 200/255 [07:36<00:13,  3.96it/s]"
     ]
    },
    {
     "name": "stdout",
     "output_type": "stream",
     "text": [
      "199 77 LCA 0.001126630214019997\n",
      "199 78 LCA 0.030101198498283847\n",
      "199 80 LCA 2.313882860820757e-05\n",
      "199 81 LCA 0.010526495122656528\n"
     ]
    },
    {
     "name": "stderr",
     "output_type": "stream",
     "text": [
      " 81%|████████████████████████████████████████████████████████████████▉               | 207/255 [07:38<00:08,  5.63it/s]"
     ]
    },
    {
     "name": "stdout",
     "output_type": "stream",
     "text": [
      "207 0 PRI 0.0048828125\n",
      "207 1 PRI 0.0048828125\n",
      "207 2 PRI 0.01953125\n",
      "207 3 PRI 0.01953125\n",
      "207 4 PRI 0.01953125\n",
      "207 5 PRI 0.0048828125\n",
      "207 6 PRI 0.01953125\n",
      "207 7 PRI 0.01953125\n",
      "207 8 PRI 0.0048828125\n",
      "207 9 PRI 0.0048828125\n",
      "207 10 PRI 0.0048828125\n",
      "207 11 PRI 0.01953125\n",
      "207 12 PRI 0.01953125\n",
      "207 13 PRI 0.001220703125\n",
      "207 14 PRI 0.001220703125\n",
      "207 15 PRI 0.0048828125\n",
      "207 16 PRI 0.001220703125\n",
      "207 17 PRI 0.001220703125\n",
      "207 18 PRI 0.01953125\n",
      "207 19 PRI 0.01953125\n",
      "207 20 PRI 0.01953125\n",
      "207 21 PRI 0.0048828125\n",
      "207 22 PRI 0.01953125\n",
      "207 23 PRI 0.01953125\n",
      "207 24 PRI 0.01953125\n",
      "207 25 PRI 0.0048828125\n",
      "207 26 PRI 0.001220703125\n",
      "207 27 PRI 0.001220703125\n",
      "207 28 PRI 0.001220703125\n",
      "207 29 PRI 0.001220703125\n",
      "207 30 PRI 0.0048828125\n",
      "207 31 PRI 0.001220703125\n",
      "207 32 PRI 0.001220703125\n",
      "207 33 PRI 0.001220703125\n",
      "207 34 PRI 0.001220703125\n",
      "207 35 PRI 0.01953125\n",
      "207 36 PRI 0.01953125\n",
      "207 37 PRI 0.001220703125\n",
      "207 38 PRI 0.001220703125\n",
      "207 39 PRI 0.001220703125\n",
      "207 40 PRI 0.001220703125\n",
      "207 41 PRI 0.0048828125\n",
      "207 42 PRI 0.001220703125\n",
      "207 43 PRI 0.001220703125\n",
      "207 44 PRI 0.001220703125\n",
      "207 45 PRI 0.001220703125\n",
      "207 46 PRI 0.001220703125\n",
      "207 47 PRI 0.001220703125\n",
      "207 48 PRI 0.001220703125\n",
      "207 49 PRI 0.001220703125\n",
      "207 50 PRI 0.0048828125\n",
      "207 51 PRI 0.0048828125\n",
      "207 52 PRI 0.001220703125\n",
      "207 53 PRI 0.001220703125\n",
      "207 54 PRI 0.001220703125\n",
      "207 55 PRI 0.001220703125\n",
      "207 56 PRI 0.001220703125\n",
      "207 57 PRI 0.001220703125\n",
      "207 58 PRI 0.01953125\n",
      "207 59 PRI 0.001220703125\n",
      "207 60 PRI 0.001220703125\n",
      "207 61 PRI 0.001220703125\n",
      "207 62 PRI 0.001220703125\n",
      "207 63 PRI 0.0048828125\n",
      "207 64 PRI 0.0048828125\n",
      "207 65 PRI 0.0048828125\n",
      "207 66 PRI 0.001220703125\n",
      "207 67 PRI 0.001220703125\n",
      "207 68 PRI 0.001220703125\n",
      "207 69 PRI 0.001220703125\n",
      "207 70 PRI 0.0048828125\n",
      "207 71 PRI 0.0048828125\n",
      "207 72 PRI 0.01953125\n",
      "207 73 PRI 0.004880998861589958\n",
      "207 74 PRI 0.0048828125\n"
     ]
    },
    {
     "name": "stderr",
     "output_type": "stream",
     "text": [
      " 85%|████████████████████████████████████████████████████████████████████            | 217/255 [07:40<00:07,  4.81it/s]"
     ]
    },
    {
     "name": "stdout",
     "output_type": "stream",
     "text": [
      "216 163 COM 0.006349481445544538\n",
      "216 164 COM 0.004328417532836415\n",
      "216 165 COM 0.002902894660377113\n",
      "216 166 COM 0.02132117646914577\n",
      "216 167 COM 0.01653521152643921\n",
      "216 168 COM 0.012687779690342894\n",
      "216 169 COM 0.013978087297239943\n",
      "216 170 COM 0.0006458448976824366\n",
      "216 171 COM 0.0002533480714500733\n",
      "216 172 COM 0.006089211442988494\n",
      "216 173 COM 0.00011382879864506373\n",
      "216 174 COM 0.0004579855574638065\n",
      "216 175 COM 0.002414486056576888\n",
      "216 177 COM 0.001220703125\n",
      "216 178 COM 0.0010345089651730673\n",
      "216 179 COM 0.003608562609400426\n",
      "216 180 COM 0.001220703125\n",
      "216 181 COM 0.0005598964697722516\n",
      "216 182 COM 0.00399747184364394\n",
      "216 183 COM 0.0008306121371706296\n",
      "216 187 COM 0.00093605388317344\n",
      "216 197 COM 0.006386318585577176\n",
      "216 201 COM 0.030879488744376862\n"
     ]
    },
    {
     "name": "stderr",
     "output_type": "stream",
     "text": [
      " 87%|█████████████████████████████████████████████████████████████████████▎          | 221/255 [07:41<00:07,  4.32it/s]"
     ]
    },
    {
     "name": "stdout",
     "output_type": "stream",
     "text": [
      "220 109 JEY 0.001220703125\n",
      "220 110 JEY 0.0012060501896847715\n"
     ]
    },
    {
     "name": "stderr",
     "output_type": "stream",
     "text": [
      " 92%|█████████████████████████████████████████████████████████████████████████▍      | 234/255 [07:44<00:08,  2.34it/s]"
     ]
    },
    {
     "name": "stdout",
     "output_type": "stream",
     "text": [
      "233 220 SLB 0.01953125\n",
      "233 221 SLB 0.01462650554202237\n",
      "233 222 SLB 0.0048828125\n",
      "233 223 SLB 0.0036330408813612033\n",
      "233 224 SLB 0.0008524926831552415\n",
      "233 225 SLB 0.001220703125\n",
      "233 226 SLB 0.001220703125\n",
      "233 227 SLB 0.00021748778908754518\n",
      "233 228 SLB 0.001220703125\n",
      "233 229 SLB 0.001220703125\n",
      "233 230 SLB 0.00013783816951477284\n"
     ]
    },
    {
     "name": "stderr",
     "output_type": "stream",
     "text": [
      "100%|████████████████████████████████████████████████████████████████████████████████| 255/255 [07:50<00:00,  1.85s/it]\n"
     ]
    }
   ],
   "source": [
    "from tqdm import tqdm\n",
    "for i in tqdm(range(len(df_shp))):\n",
    "    for j in range(len(ROW_only_HPM25_Hpop)):\n",
    "        a = df_shp.loc[i].geometry.intersection(ROW_only_HPM25_Hpop.iloc[j].geometry).area\n",
    "        if a == 0:\n",
    "            pass\n",
    "        else:\n",
    "            print(i,j,df_shp.loc[i,'ADM0_A3'],a)"
   ]
  },
  {
   "cell_type": "code",
   "execution_count": 90,
   "metadata": {},
   "outputs": [
    {
     "name": "stderr",
     "output_type": "stream",
     "text": [
      "100%|████████████████████████████████████████████████████████████████████████████████| 255/255 [05:43<00:00,  1.35s/it]\n"
     ]
    },
    {
     "data": {
      "text/plain": [
       "7300529.658000349"
      ]
     },
     "execution_count": 90,
     "metadata": {},
     "output_type": "execute_result"
    }
   ],
   "source": [
    "total_pop_IDN = 0\n",
    "from tqdm import tqdm\n",
    "for i in tqdm(range(len(df_shp))):\n",
    "    for j in range(len(ROW_only_HPM25_Hpop)):\n",
    "        a = df_shp.loc[i].geometry.intersection(ROW_only_HPM25_Hpop.iloc[j].geometry).area\n",
    "        if a == 0:\n",
    "            pass\n",
    "        else:\n",
    "            total_pop_IDN += ROW_only_HPM25_Hpop.loc[j,'TotalPop']\n",
    "total_pop_IDN"
   ]
  },
  {
   "cell_type": "code",
   "execution_count": 91,
   "metadata": {},
   "outputs": [
    {
     "data": {
      "text/plain": [
       "0.9973208020481387"
      ]
     },
     "execution_count": 91,
     "metadata": {},
     "output_type": "execute_result"
    }
   ],
   "source": [
    "total_pop_IDN/ROW_only_HPM25_Hpop.TotalPop.sum()"
   ]
  },
  {
   "cell_type": "code",
   "execution_count": 38,
   "metadata": {},
   "outputs": [],
   "source": [
    "file = open(\"C:/Users/15311/Desktop/comparison/Total_pop_new.json\", \"r\")\n",
    "population = file.read()\n",
    "population = json.loads(population)"
   ]
  },
  {
   "cell_type": "code",
   "execution_count": 39,
   "metadata": {},
   "outputs": [
    {
     "data": {
      "text/plain": [
       "11226971.741180781"
      ]
     },
     "execution_count": 39,
     "metadata": {},
     "output_type": "execute_result"
    }
   ],
   "source": [
    "population['ROW']"
   ]
  },
  {
   "cell_type": "code",
   "execution_count": 36,
   "metadata": {},
   "outputs": [],
   "source": [
    "file = open(\"pro_mort_tol.json\", \"r\")\n",
    "pro_mort_tol = file.read()\n",
    "pro_mort_tol = json.loads(pro_mort_tol)"
   ]
  },
  {
   "cell_type": "code",
   "execution_count": 86,
   "metadata": {},
   "outputs": [
    {
     "data": {
      "text/plain": [
       "1970.5444873948138"
      ]
     },
     "execution_count": 86,
     "metadata": {},
     "output_type": "execute_result"
    }
   ],
   "source": [
    "pro_mort_tol['ROW']['IDN']"
   ]
  },
  {
   "cell_type": "code",
   "execution_count": 85,
   "metadata": {},
   "outputs": [
    {
     "name": "stdout",
     "output_type": "stream",
     "text": [
      "[('ROW', 138069.2609316298), ('IND', 65218.38116212078), ('USA', 19134.857845391176), ('BRA', 14345.255377231795), ('CHN', 12840.140694010719), ('GBR', 9677.414683422463), ('FRA', 8448.170621294523), ('ESP', 7545.805466133798), ('BGD', 5297.663237460946), ('DEU', 5125.169584113537)]\n"
     ]
    }
   ],
   "source": [
    "print(sorted(pro_mort_tol['ROW'].items(), key=lambda item: item[1],reverse = True)[:10])"
   ]
  }
 ],
 "metadata": {
  "kernelspec": {
   "display_name": "Python 3",
   "language": "python",
   "name": "python3"
  },
  "language_info": {
   "codemirror_mode": {
    "name": "ipython",
    "version": 3
   },
   "file_extension": ".py",
   "mimetype": "text/x-python",
   "name": "python",
   "nbconvert_exporter": "python",
   "pygments_lexer": "ipython3",
   "version": "3.6.5"
  }
 },
 "nbformat": 4,
 "nbformat_minor": 2
}
