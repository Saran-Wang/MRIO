{
 "cells": [
  {
   "cell_type": "code",
   "execution_count": 1,
   "metadata": {},
   "outputs": [],
   "source": [
    "import json\n",
    "import numpy as np\n",
    "import pandas as pd\n",
    "import geopandas as gpd\n",
    "import matplotlib \n",
    "import matplotlib.pyplot as plt\n",
    "from matplotlib.colors import BoundaryNorm, ListedColormap\n",
    "import matplotlib.patches as mpatches"
   ]
  },
  {
   "cell_type": "code",
   "execution_count": 2,
   "metadata": {},
   "outputs": [],
   "source": [
    "# Summation of the value insde a dictionary\n",
    "def dictsum(myDict):      \n",
    "    sum = 0\n",
    "    for i in myDict: \n",
    "        sum = sum + myDict[i] \n",
    "    return sum"
   ]
  },
  {
   "cell_type": "code",
   "execution_count": 3,
   "metadata": {},
   "outputs": [],
   "source": [
    "# We only care about the country sequence\n",
    "file = open(\"C:/Users/15311/Desktop/comparison/Total_pop.json\", \"r\")\n",
    "population2 = file.read()\n",
    "population2 = json.loads(population2)\n",
    "Countries = list(population2.keys())\n",
    "# population\n",
    "file = open(\"C:/Users/15311/Desktop/new_results/Total_pop_newest.json\", \"r\")\n",
    "population = file.read()\n",
    "population = json.loads(population)\n",
    "population = {k: population[k] for k in Countries}"
   ]
  },
  {
   "cell_type": "code",
   "execution_count": 4,
   "metadata": {},
   "outputs": [],
   "source": [
    "file = open(\"../2_Concentration_Factors/total_output.json\", \"r\")\n",
    "total_output = file.read()\n",
    "total_output = json.loads(total_output)\n",
    "\n",
    "file = open(\"../2_Concentration_Factors/final_demand.json\", \"r\")\n",
    "final_demand = file.read()\n",
    "final_demand = json.loads(final_demand)"
   ]
  },
  {
   "cell_type": "code",
   "execution_count": 5,
   "metadata": {},
   "outputs": [],
   "source": [
    "# per million USD\n",
    "# EORA is in 1000 USD\n",
    "for i in Countries:\n",
    "    total_output[i] = total_output[i] * 1000 \n",
    "    final_demand[i] = final_demand[i] * 1000 "
   ]
  },
  {
   "cell_type": "code",
   "execution_count": 6,
   "metadata": {},
   "outputs": [
    {
     "data": {
      "text/plain": [
       "1.9592997213328263"
      ]
     },
     "execution_count": 6,
     "metadata": {},
     "output_type": "execute_result"
    }
   ],
   "source": [
    "final_demand['USA']/(10**13)"
   ]
  },
  {
   "cell_type": "code",
   "execution_count": 7,
   "metadata": {},
   "outputs": [],
   "source": [
    "# total number of deaths caused by country i and happen in country j\n",
    "file = open(\"con_mort_tol.json\", \"r\")\n",
    "con_mort_tol = file.read()\n",
    "con_mort_tol = json.loads(con_mort_tol)"
   ]
  },
  {
   "cell_type": "code",
   "execution_count": 8,
   "metadata": {},
   "outputs": [],
   "source": [
    "# total number of deaths caused by country i and happen in country j\n",
    "file = open(\"pro_mort_tol.json\", \"r\")\n",
    "pro_mort_tol = file.read()\n",
    "pro_mort_tol = json.loads(pro_mort_tol)"
   ]
  },
  {
   "cell_type": "code",
   "execution_count": 9,
   "metadata": {},
   "outputs": [],
   "source": [
    "# Row sum: total deaths happen in that country\n",
    "con_total = dict(pd.DataFrame(con_mort_tol).sum(axis = 1))\n",
    "pro_total = dict(pd.DataFrame(pro_mort_tol).sum(axis = 1))"
   ]
  },
  {
   "cell_type": "code",
   "execution_count": 10,
   "metadata": {},
   "outputs": [],
   "source": [
    "# Col sum: total deaths caused by that country\n",
    "con_caused = dict(pd.DataFrame(con_mort_tol).sum(axis = 0))\n",
    "pro_caused = dict(pd.DataFrame(pro_mort_tol).sum(axis = 0))"
   ]
  },
  {
   "cell_type": "code",
   "execution_count": 11,
   "metadata": {},
   "outputs": [],
   "source": [
    "# total deaths happen in that country\n",
    "con_dom_world = {}\n",
    "for country in con_mort_tol:\n",
    "    con_dom_world[country] = {}\n",
    "    con_dom_world[country]['domestic'] = con_mort_tol[country][country]\n",
    "    con_dom_world[country]['world'] = con_total[country]\n",
    "    con_dom_world[country]['OtherPartofWorld'] = con_dom_world[country]['world'] - con_dom_world[country]['domestic']"
   ]
  },
  {
   "cell_type": "code",
   "execution_count": 12,
   "metadata": {},
   "outputs": [],
   "source": [
    "# total deaths caused by that country\n",
    "con_cause_dom_world = {}\n",
    "for country in con_mort_tol:\n",
    "    con_cause_dom_world[country] = {}\n",
    "    con_cause_dom_world[country]['domestic'] = con_mort_tol[country][country]\n",
    "    con_cause_dom_world[country]['world'] = con_caused[country]\n",
    "    con_cause_dom_world[country]['OtherPartofWorld'] = con_cause_dom_world[country]['world'] - con_cause_dom_world[country]['domestic']"
   ]
  },
  {
   "cell_type": "code",
   "execution_count": 13,
   "metadata": {},
   "outputs": [],
   "source": [
    "net_export_death = {}\n",
    "\n",
    "for country in con_cause_dom_world:\n",
    "    if country != 'ROW':\n",
    "        net_export_death[country] = (con_cause_dom_world[country]['OtherPartofWorld'] - con_dom_world[country]['OtherPartofWorld'])"
   ]
  },
  {
   "cell_type": "code",
   "execution_count": 14,
   "metadata": {},
   "outputs": [
    {
     "name": "stdout",
     "output_type": "stream",
     "text": [
      "[('CHN', 1241848.475484423), ('IND', 576492.7342931574), ('IDN', 169699.42867745517), ('JPN', 106707.94366040881), ('BRA', 92051.51869995154), ('USA', 86781.66618595831)]\n",
      "[('CHN', 1023410.8300149156), ('IND', 447292.39315022324), ('USA', 230725.6868888209), ('IDN', 157906.31059919845), ('JPN', 124004.26105568584)]\n"
     ]
    }
   ],
   "source": [
    "print(sorted(con_total.items(), key=lambda item: item[1],reverse=True)[:6])\n",
    "print(sorted(con_caused.items(), key=lambda item: item[1],reverse=True)[:5])"
   ]
  },
  {
   "cell_type": "code",
   "execution_count": 15,
   "metadata": {},
   "outputs": [],
   "source": [
    "net_export_death_per = {} # per population\n",
    "\n",
    "for country in con_cause_dom_world:\n",
    "    if country != 'ROW':\n",
    "        net_export_val = (con_cause_dom_world[country]['OtherPartofWorld'] - con_dom_world[country]['OtherPartofWorld'])/(population[country]/10000)\n",
    "        if net_export_val > 100:\n",
    "            net_export_death_per[country] = 100\n",
    "#         elif net_export_val > 100000:\n",
    "#             net_export_death_per[country] = 100000\n",
    "        else:\n",
    "            net_export_death_per[country] = net_export_val"
   ]
  },
  {
   "cell_type": "code",
   "execution_count": 16,
   "metadata": {},
   "outputs": [
    {
     "data": {
      "text/plain": [
       "0.0"
      ]
     },
     "execution_count": 16,
     "metadata": {},
     "output_type": "execute_result"
    }
   ],
   "source": [
    "population.pop('ROW')\n",
    "final_demand.pop('ROW')"
   ]
  },
  {
   "cell_type": "code",
   "execution_count": 17,
   "metadata": {},
   "outputs": [],
   "source": [
    "df_shp = gpd.read_file('C:/Users/15311/Desktop/natural_earth_vector/10m_cultural/ne_10m_admin_0_countries.shp')"
   ]
  },
  {
   "cell_type": "code",
   "execution_count": 18,
   "metadata": {},
   "outputs": [
    {
     "data": {
      "text/plain": [
       "Index(['featurecla', 'scalerank', 'LABELRANK', 'SOVEREIGNT', 'SOV_A3',\n",
       "       'ADM0_DIF', 'LEVEL', 'TYPE', 'ADMIN', 'ADM0_A3', 'GEOU_DIF', 'GEOUNIT',\n",
       "       'GU_A3', 'SU_DIF', 'SUBUNIT', 'SU_A3', 'BRK_DIFF', 'NAME', 'NAME_LONG',\n",
       "       'BRK_A3', 'BRK_NAME', 'BRK_GROUP', 'ABBREV', 'POSTAL', 'FORMAL_EN',\n",
       "       'FORMAL_FR', 'NAME_CIAWF', 'NOTE_ADM0', 'NOTE_BRK', 'NAME_SORT',\n",
       "       'NAME_ALT', 'MAPCOLOR7', 'MAPCOLOR8', 'MAPCOLOR9', 'MAPCOLOR13',\n",
       "       'POP_EST', 'POP_RANK', 'GDP_MD_EST', 'POP_YEAR', 'LASTCENSUS',\n",
       "       'GDP_YEAR', 'ECONOMY', 'INCOME_GRP', 'WIKIPEDIA', 'FIPS_10_', 'ISO_A2',\n",
       "       'ISO_A3', 'ISO_A3_EH', 'ISO_N3', 'UN_A3', 'WB_A2', 'WB_A3', 'WOE_ID',\n",
       "       'WOE_ID_EH', 'WOE_NOTE', 'ADM0_A3_IS', 'ADM0_A3_US', 'ADM0_A3_UN',\n",
       "       'ADM0_A3_WB', 'CONTINENT', 'REGION_UN', 'SUBREGION', 'REGION_WB',\n",
       "       'NAME_LEN', 'LONG_LEN', 'ABBREV_LEN', 'TINY', 'HOMEPART', 'MIN_ZOOM',\n",
       "       'MIN_LABEL', 'MAX_LABEL', 'NE_ID', 'WIKIDATAID', 'NAME_AR', 'NAME_BN',\n",
       "       'NAME_DE', 'NAME_EN', 'NAME_ES', 'NAME_FR', 'NAME_EL', 'NAME_HI',\n",
       "       'NAME_HU', 'NAME_ID', 'NAME_IT', 'NAME_JA', 'NAME_KO', 'NAME_NL',\n",
       "       'NAME_PL', 'NAME_PT', 'NAME_RU', 'NAME_SV', 'NAME_TR', 'NAME_VI',\n",
       "       'NAME_ZH', 'geometry'],\n",
       "      dtype='object')"
      ]
     },
     "execution_count": 18,
     "metadata": {},
     "output_type": "execute_result"
    }
   ],
   "source": [
    "df_shp.columns"
   ]
  },
  {
   "cell_type": "code",
   "execution_count": 19,
   "metadata": {},
   "outputs": [],
   "source": [
    "df_new = pd.DataFrame({'ADM0_A3': list(net_export_death.keys()),'net_export': list(net_export_death.values()),\n",
    "                      'population': list(population.values()),'final_demand': list(final_demand.values()),})"
   ]
  },
  {
   "cell_type": "code",
   "execution_count": 20,
   "metadata": {},
   "outputs": [],
   "source": [
    "df_final = pd.merge(df_new,df_shp,how=\"left\",on=[\"ADM0_A3\"])"
   ]
  },
  {
   "cell_type": "code",
   "execution_count": 21,
   "metadata": {},
   "outputs": [],
   "source": [
    "df_final = df_final[['ADM0_A3','NAME','net_export','population','final_demand','CONTINENT']]"
   ]
  },
  {
   "cell_type": "code",
   "execution_count": 22,
   "metadata": {},
   "outputs": [],
   "source": [
    "for i in range(len(df_final)):\n",
    "    if df_final.loc[i,'ADM0_A3'] == 'PSE':\n",
    "        df_final.loc[i,'CONTINENT'] == df_shp[df_shp['ADM0_A3']=='PSX']['CONTINENT']"
   ]
  },
  {
   "cell_type": "code",
   "execution_count": 23,
   "metadata": {},
   "outputs": [],
   "source": [
    "df_final.loc[list(net_export_death.keys()).index('PSE'),'CONTINENT'] = df_shp[df_shp['ADM0_A3']=='PSX']['CONTINENT'].values[0]"
   ]
  },
  {
   "cell_type": "code",
   "execution_count": 24,
   "metadata": {},
   "outputs": [],
   "source": [
    "df_final.loc[list(net_export_death.keys()).index('SUD'),'CONTINENT'] = df_shp[df_shp['ADM0_A3']=='SDN']['CONTINENT'].values[0]"
   ]
  },
  {
   "cell_type": "code",
   "execution_count": 25,
   "metadata": {},
   "outputs": [],
   "source": [
    "df_final['CONTINENT']=pd.Categorical(df_final['CONTINENT'])"
   ]
  },
  {
   "cell_type": "code",
   "execution_count": 26,
   "metadata": {},
   "outputs": [],
   "source": [
    "df_final['CONTINENT_code'] = df_final['CONTINENT'].cat.codes"
   ]
  },
  {
   "cell_type": "code",
   "execution_count": 27,
   "metadata": {},
   "outputs": [],
   "source": [
    "continent = ['Africa','Asia','Europe','North America','Oceania','Seven seas (open ocean)','South America']"
   ]
  },
  {
   "cell_type": "code",
   "execution_count": 28,
   "metadata": {},
   "outputs": [],
   "source": [
    "continent2 = {'0':'Africa','1':'Asia','2':'Europe','3':'North America','4':'Oceania','6':'Seven seas (open ocean)','5':'South America'}"
   ]
  },
  {
   "cell_type": "code",
   "execution_count": 29,
   "metadata": {},
   "outputs": [
    {
     "data": {
      "text/html": [
       "<div>\n",
       "<style scoped>\n",
       "    .dataframe tbody tr th:only-of-type {\n",
       "        vertical-align: middle;\n",
       "    }\n",
       "\n",
       "    .dataframe tbody tr th {\n",
       "        vertical-align: top;\n",
       "    }\n",
       "\n",
       "    .dataframe thead th {\n",
       "        text-align: right;\n",
       "    }\n",
       "</style>\n",
       "<table border=\"1\" class=\"dataframe\">\n",
       "  <thead>\n",
       "    <tr style=\"text-align: right;\">\n",
       "      <th></th>\n",
       "      <th>ADM0_A3</th>\n",
       "      <th>NAME</th>\n",
       "      <th>net_export</th>\n",
       "      <th>population</th>\n",
       "      <th>final_demand</th>\n",
       "      <th>CONTINENT</th>\n",
       "      <th>CONTINENT_code</th>\n",
       "    </tr>\n",
       "  </thead>\n",
       "  <tbody>\n",
       "    <tr>\n",
       "      <th>105</th>\n",
       "      <td>MDV</td>\n",
       "      <td>Maldives</td>\n",
       "      <td>201.251746</td>\n",
       "      <td>5.909558e+05</td>\n",
       "      <td>3.374815e+09</td>\n",
       "      <td>Seven seas (open ocean)</td>\n",
       "      <td>5</td>\n",
       "    </tr>\n",
       "    <tr>\n",
       "      <th>109</th>\n",
       "      <td>MUS</td>\n",
       "      <td>Mauritius</td>\n",
       "      <td>360.984105</td>\n",
       "      <td>1.291254e+06</td>\n",
       "      <td>1.115682e+10</td>\n",
       "      <td>Seven seas (open ocean)</td>\n",
       "      <td>5</td>\n",
       "    </tr>\n",
       "    <tr>\n",
       "      <th>148</th>\n",
       "      <td>SYC</td>\n",
       "      <td>Seychelles</td>\n",
       "      <td>174.947647</td>\n",
       "      <td>1.051095e+05</td>\n",
       "      <td>1.362116e+09</td>\n",
       "      <td>Seven seas (open ocean)</td>\n",
       "      <td>5</td>\n",
       "    </tr>\n",
       "  </tbody>\n",
       "</table>\n",
       "</div>"
      ],
      "text/plain": [
       "    ADM0_A3        NAME  net_export    population  final_demand  \\\n",
       "105     MDV    Maldives  201.251746  5.909558e+05  3.374815e+09   \n",
       "109     MUS   Mauritius  360.984105  1.291254e+06  1.115682e+10   \n",
       "148     SYC  Seychelles  174.947647  1.051095e+05  1.362116e+09   \n",
       "\n",
       "                   CONTINENT  CONTINENT_code  \n",
       "105  Seven seas (open ocean)               5  \n",
       "109  Seven seas (open ocean)               5  \n",
       "148  Seven seas (open ocean)               5  "
      ]
     },
     "execution_count": 29,
     "metadata": {},
     "output_type": "execute_result"
    }
   ],
   "source": [
    "df_final[df_final['CONTINENT']=='Seven seas (open ocean)']"
   ]
  },
  {
   "cell_type": "code",
   "execution_count": 30,
   "metadata": {},
   "outputs": [],
   "source": [
    "# Change seven seas to other\n",
    "df_final['CONTINENT'] = df_final['CONTINENT'].replace(['Seven seas (open ocean)'], 'Other')"
   ]
  },
  {
   "cell_type": "code",
   "execution_count": 31,
   "metadata": {},
   "outputs": [
    {
     "data": {
      "text/plain": [
       "[Asia, Europe, Africa, North America, South America, Oceania, Other]\n",
       "Categories (7, object): [Asia, Europe, Africa, North America, South America, Oceania, Other]"
      ]
     },
     "execution_count": 31,
     "metadata": {},
     "output_type": "execute_result"
    }
   ],
   "source": [
    "df_final['CONTINENT'].unique()"
   ]
  },
  {
   "cell_type": "code",
   "execution_count": 32,
   "metadata": {},
   "outputs": [],
   "source": [
    "df_final['net_export_capita'] = df_final['net_export']/df_final['population']"
   ]
  },
  {
   "cell_type": "code",
   "execution_count": 33,
   "metadata": {},
   "outputs": [
    {
     "data": {
      "text/html": [
       "<div>\n",
       "<style scoped>\n",
       "    .dataframe tbody tr th:only-of-type {\n",
       "        vertical-align: middle;\n",
       "    }\n",
       "\n",
       "    .dataframe tbody tr th {\n",
       "        vertical-align: top;\n",
       "    }\n",
       "\n",
       "    .dataframe thead th {\n",
       "        text-align: right;\n",
       "    }\n",
       "</style>\n",
       "<table border=\"1\" class=\"dataframe\">\n",
       "  <thead>\n",
       "    <tr style=\"text-align: right;\">\n",
       "      <th></th>\n",
       "      <th>ADM0_A3</th>\n",
       "      <th>NAME</th>\n",
       "      <th>net_export</th>\n",
       "      <th>population</th>\n",
       "      <th>final_demand</th>\n",
       "      <th>CONTINENT</th>\n",
       "      <th>CONTINENT_code</th>\n",
       "      <th>net_export_capita</th>\n",
       "    </tr>\n",
       "  </thead>\n",
       "  <tbody>\n",
       "    <tr>\n",
       "      <th>0</th>\n",
       "      <td>AFG</td>\n",
       "      <td>Afghanistan</td>\n",
       "      <td>437.294550</td>\n",
       "      <td>3.056780e+07</td>\n",
       "      <td>2.447052e+10</td>\n",
       "      <td>Asia</td>\n",
       "      <td>1</td>\n",
       "      <td>0.000014</td>\n",
       "    </tr>\n",
       "    <tr>\n",
       "      <th>1</th>\n",
       "      <td>ALB</td>\n",
       "      <td>Albania</td>\n",
       "      <td>-94.854957</td>\n",
       "      <td>2.895460e+06</td>\n",
       "      <td>1.346807e+10</td>\n",
       "      <td>Europe</td>\n",
       "      <td>2</td>\n",
       "      <td>-0.000033</td>\n",
       "    </tr>\n",
       "    <tr>\n",
       "      <th>2</th>\n",
       "      <td>DZA</td>\n",
       "      <td>Algeria</td>\n",
       "      <td>3023.901587</td>\n",
       "      <td>4.414247e+07</td>\n",
       "      <td>1.833768e+11</td>\n",
       "      <td>Africa</td>\n",
       "      <td>0</td>\n",
       "      <td>0.000069</td>\n",
       "    </tr>\n",
       "    <tr>\n",
       "      <th>3</th>\n",
       "      <td>AND</td>\n",
       "      <td>Andorra</td>\n",
       "      <td>42.552640</td>\n",
       "      <td>1.084263e+05</td>\n",
       "      <td>2.857466e+09</td>\n",
       "      <td>Europe</td>\n",
       "      <td>2</td>\n",
       "      <td>0.000392</td>\n",
       "    </tr>\n",
       "    <tr>\n",
       "      <th>4</th>\n",
       "      <td>AGO</td>\n",
       "      <td>Angola</td>\n",
       "      <td>-2665.487484</td>\n",
       "      <td>3.676776e+07</td>\n",
       "      <td>9.788361e+10</td>\n",
       "      <td>Africa</td>\n",
       "      <td>0</td>\n",
       "      <td>-0.000072</td>\n",
       "    </tr>\n",
       "    <tr>\n",
       "      <th>...</th>\n",
       "      <td>...</td>\n",
       "      <td>...</td>\n",
       "      <td>...</td>\n",
       "      <td>...</td>\n",
       "      <td>...</td>\n",
       "      <td>...</td>\n",
       "      <td>...</td>\n",
       "      <td>...</td>\n",
       "    </tr>\n",
       "    <tr>\n",
       "      <th>182</th>\n",
       "      <td>VEN</td>\n",
       "      <td>Venezuela</td>\n",
       "      <td>14588.784775</td>\n",
       "      <td>3.229033e+07</td>\n",
       "      <td>3.873810e+11</td>\n",
       "      <td>South America</td>\n",
       "      <td>6</td>\n",
       "      <td>0.000452</td>\n",
       "    </tr>\n",
       "    <tr>\n",
       "      <th>183</th>\n",
       "      <td>VNM</td>\n",
       "      <td>Vietnam</td>\n",
       "      <td>-21990.234198</td>\n",
       "      <td>9.895143e+07</td>\n",
       "      <td>1.995281e+11</td>\n",
       "      <td>Asia</td>\n",
       "      <td>1</td>\n",
       "      <td>-0.000222</td>\n",
       "    </tr>\n",
       "    <tr>\n",
       "      <th>184</th>\n",
       "      <td>YEM</td>\n",
       "      <td>Yemen</td>\n",
       "      <td>-156.568027</td>\n",
       "      <td>3.042738e+07</td>\n",
       "      <td>3.166482e+10</td>\n",
       "      <td>Asia</td>\n",
       "      <td>1</td>\n",
       "      <td>-0.000005</td>\n",
       "    </tr>\n",
       "    <tr>\n",
       "      <th>185</th>\n",
       "      <td>ZMB</td>\n",
       "      <td>Zambia</td>\n",
       "      <td>188.927469</td>\n",
       "      <td>1.861695e+07</td>\n",
       "      <td>2.202121e+10</td>\n",
       "      <td>Africa</td>\n",
       "      <td>0</td>\n",
       "      <td>0.000010</td>\n",
       "    </tr>\n",
       "    <tr>\n",
       "      <th>186</th>\n",
       "      <td>ZWE</td>\n",
       "      <td>Zimbabwe</td>\n",
       "      <td>162.216831</td>\n",
       "      <td>1.426931e+07</td>\n",
       "      <td>1.962051e+10</td>\n",
       "      <td>Africa</td>\n",
       "      <td>0</td>\n",
       "      <td>0.000011</td>\n",
       "    </tr>\n",
       "  </tbody>\n",
       "</table>\n",
       "<p>187 rows × 8 columns</p>\n",
       "</div>"
      ],
      "text/plain": [
       "    ADM0_A3         NAME    net_export    population  final_demand  \\\n",
       "0       AFG  Afghanistan    437.294550  3.056780e+07  2.447052e+10   \n",
       "1       ALB      Albania    -94.854957  2.895460e+06  1.346807e+10   \n",
       "2       DZA      Algeria   3023.901587  4.414247e+07  1.833768e+11   \n",
       "3       AND      Andorra     42.552640  1.084263e+05  2.857466e+09   \n",
       "4       AGO       Angola  -2665.487484  3.676776e+07  9.788361e+10   \n",
       "..      ...          ...           ...           ...           ...   \n",
       "182     VEN    Venezuela  14588.784775  3.229033e+07  3.873810e+11   \n",
       "183     VNM      Vietnam -21990.234198  9.895143e+07  1.995281e+11   \n",
       "184     YEM        Yemen   -156.568027  3.042738e+07  3.166482e+10   \n",
       "185     ZMB       Zambia    188.927469  1.861695e+07  2.202121e+10   \n",
       "186     ZWE     Zimbabwe    162.216831  1.426931e+07  1.962051e+10   \n",
       "\n",
       "         CONTINENT  CONTINENT_code  net_export_capita  \n",
       "0             Asia               1           0.000014  \n",
       "1           Europe               2          -0.000033  \n",
       "2           Africa               0           0.000069  \n",
       "3           Europe               2           0.000392  \n",
       "4           Africa               0          -0.000072  \n",
       "..             ...             ...                ...  \n",
       "182  South America               6           0.000452  \n",
       "183           Asia               1          -0.000222  \n",
       "184           Asia               1          -0.000005  \n",
       "185         Africa               0           0.000010  \n",
       "186         Africa               0           0.000011  \n",
       "\n",
       "[187 rows x 8 columns]"
      ]
     },
     "execution_count": 33,
     "metadata": {},
     "output_type": "execute_result"
    }
   ],
   "source": [
    "df_final"
   ]
  },
  {
   "cell_type": "code",
   "execution_count": 37,
   "metadata": {},
   "outputs": [],
   "source": [
    "df_final.loc[30,'NAME'] = 'Palestine'"
   ]
  },
  {
   "cell_type": "code",
   "execution_count": 38,
   "metadata": {},
   "outputs": [],
   "source": [
    "df_final.to_csv('map_continent.csv')"
   ]
  },
  {
   "cell_type": "code",
   "execution_count": 39,
   "metadata": {},
   "outputs": [
    {
     "name": "stdout",
     "output_type": "stream",
     "text": [
      "Asia negative 0.3673469387755102 positive 0.6326530612244898\n",
      "Europe negative 0.2558139534883721 positive 0.7441860465116279\n",
      "Africa negative 0.5102040816326531 positive 0.4897959183673469\n",
      "North America negative 0.2608695652173913 positive 0.7391304347826086\n",
      "South America negative 0.4166666666666667 positive 0.5833333333333334\n",
      "Oceania negative 0.0 positive 1.0\n",
      "Other negative 0.0 positive 1.0\n"
     ]
    }
   ],
   "source": [
    "for continent in list(df_final['CONTINENT'].unique()):\n",
    "    df_continent = df_final[df_final['CONTINENT'] == continent]\n",
    "    total_number = len(df_continent)\n",
    "    negative = len(df_continent[df_continent['net_export'] < 0])\n",
    "    positive = len(df_continent[df_continent['net_export'] >= 0])\n",
    "    print(continent,'negative',negative/total_number,'positive',positive/total_number)"
   ]
  },
  {
   "cell_type": "code",
   "execution_count": 40,
   "metadata": {},
   "outputs": [
    {
     "data": {
      "text/plain": [
       "0.6524064171122995"
      ]
     },
     "execution_count": 40,
     "metadata": {},
     "output_type": "execute_result"
    }
   ],
   "source": [
    "len(df_final[df_final['net_export']>=0])/len(df_final)"
   ]
  },
  {
   "cell_type": "code",
   "execution_count": 41,
   "metadata": {},
   "outputs": [],
   "source": [
    "empires = ['GBR','FRA','BEL','NLD','ITA','JPN','PRT','RUS','ESP','USA']\n",
    "GBR_colonies = ['SWZ','LSO','ZWE','ZMB','MWI','TZA','UGA','KEN','TZA','SOM','MOZ','BWA','SUD','BHR','JOR','KWT',\n",
    "'QAT','ARE','YEM','MDV','SYC','MUS','PAK','BGD','MMR','BRN','MUS','GMB','SLE','GHA','NGA','IND',\n",
    "'LKA','MYS','MYS','SGP','HKG','FJI','VUT','BHS','BRB','GUY','BLZ','JAM','TTO','CYP','MLT','ATG']\n",
    "FRA_colonies = ['MAR','DZA','TUN','SYR','LBN','MRT','MLI','NER','TCD','CAF','DJI','BEN','TGO',\n",
    "'BFA','SEN','GIN','CIV','GAB','COG','CMR', 'MDG','LAO','KHM','VNM']\n",
    "BEL_colonies = ['COD','RWA','BDI']\n",
    "NLD_colonies = ['SUR','IDN']\n",
    "ITA_colonies = ['LBY','ERI','SOM']\n",
    "JPN_colonies = ['KOR','PRK','TWN']\n",
    "PRT_colonies = ['CPV','AGO','IND','MAC']\n",
    "RUS_colonies = ['EST','LVA','LTU','UKR','KAZ','MDA','GEO','ARM','AZE','TKM','UZB','KGZ','TJK']\n",
    "ESP_colonies = ['MAR','MRT']\n",
    "USA_colonies = ['PHL']\n",
    "empire_colonies = {'GBR':list(set(GBR_colonies)),\n",
    "                   'FRA':list(set(FRA_colonies)),\n",
    "                   'BEL':list(set(BEL_colonies)),\n",
    "                   'NLD':list(set(NLD_colonies)),\n",
    "                   'ITA':list(set(ITA_colonies)),\n",
    "                   'JPN':list(set(JPN_colonies)),\n",
    "                   'PRT':list(set(PRT_colonies)),\n",
    "                   'RUS':list(set(RUS_colonies)),\n",
    "                   'ESP':list(set(ESP_colonies)),\n",
    "                   'USA':list(set(USA_colonies))  \n",
    "                  }"
   ]
  },
  {
   "cell_type": "code",
   "execution_count": 42,
   "metadata": {},
   "outputs": [],
   "source": [
    "df_final['Colony'] = 'Z_Other'\n",
    "for key in empire_colonies:\n",
    "    colonizer_index = df_final[df_final['ADM0_A3'] == key].index\n",
    "    df_final.loc[colonizer_index,'Colony'] = 'A_Colonizer'\n",
    "    colony_index = df_final[df_final['ADM0_A3'].isin(empire_colonies[key])].index\n",
    "    df_final.loc[colony_index,'Colony'] = str(key)+'_colony'"
   ]
  },
  {
   "cell_type": "code",
   "execution_count": 43,
   "metadata": {},
   "outputs": [],
   "source": [
    "df_final['Colony']=pd.Categorical(df_final['Colony'])\n",
    "df_final['Colony_code'] = df_final['Colony'].cat.codes\n",
    "colony_dict = dict(enumerate(df_final['Colony'].cat.categories))"
   ]
  },
  {
   "cell_type": "code",
   "execution_count": 45,
   "metadata": {},
   "outputs": [
    {
     "data": {
      "text/html": [
       "<div>\n",
       "<style scoped>\n",
       "    .dataframe tbody tr th:only-of-type {\n",
       "        vertical-align: middle;\n",
       "    }\n",
       "\n",
       "    .dataframe tbody tr th {\n",
       "        vertical-align: top;\n",
       "    }\n",
       "\n",
       "    .dataframe thead th {\n",
       "        text-align: right;\n",
       "    }\n",
       "</style>\n",
       "<table border=\"1\" class=\"dataframe\">\n",
       "  <thead>\n",
       "    <tr style=\"text-align: right;\">\n",
       "      <th></th>\n",
       "      <th>ADM0_A3</th>\n",
       "      <th>NAME</th>\n",
       "      <th>net_export</th>\n",
       "      <th>population</th>\n",
       "      <th>final_demand</th>\n",
       "      <th>CONTINENT</th>\n",
       "      <th>CONTINENT_code</th>\n",
       "      <th>net_export_capita</th>\n",
       "      <th>Colony</th>\n",
       "      <th>Colony_code</th>\n",
       "    </tr>\n",
       "  </thead>\n",
       "  <tbody>\n",
       "    <tr>\n",
       "      <th>0</th>\n",
       "      <td>AFG</td>\n",
       "      <td>Afghanistan</td>\n",
       "      <td>437.294550</td>\n",
       "      <td>3.056780e+07</td>\n",
       "      <td>2.447052e+10</td>\n",
       "      <td>Asia</td>\n",
       "      <td>1</td>\n",
       "      <td>0.000014</td>\n",
       "      <td>Z_Other</td>\n",
       "      <td>11</td>\n",
       "    </tr>\n",
       "    <tr>\n",
       "      <th>1</th>\n",
       "      <td>ALB</td>\n",
       "      <td>Albania</td>\n",
       "      <td>-94.854957</td>\n",
       "      <td>2.895460e+06</td>\n",
       "      <td>1.346807e+10</td>\n",
       "      <td>Europe</td>\n",
       "      <td>2</td>\n",
       "      <td>-0.000033</td>\n",
       "      <td>Z_Other</td>\n",
       "      <td>11</td>\n",
       "    </tr>\n",
       "    <tr>\n",
       "      <th>2</th>\n",
       "      <td>DZA</td>\n",
       "      <td>Algeria</td>\n",
       "      <td>3023.901587</td>\n",
       "      <td>4.414247e+07</td>\n",
       "      <td>1.833768e+11</td>\n",
       "      <td>Africa</td>\n",
       "      <td>0</td>\n",
       "      <td>0.000069</td>\n",
       "      <td>FRA_colony</td>\n",
       "      <td>3</td>\n",
       "    </tr>\n",
       "    <tr>\n",
       "      <th>3</th>\n",
       "      <td>AND</td>\n",
       "      <td>Andorra</td>\n",
       "      <td>42.552640</td>\n",
       "      <td>1.084263e+05</td>\n",
       "      <td>2.857466e+09</td>\n",
       "      <td>Europe</td>\n",
       "      <td>2</td>\n",
       "      <td>0.000392</td>\n",
       "      <td>Z_Other</td>\n",
       "      <td>11</td>\n",
       "    </tr>\n",
       "    <tr>\n",
       "      <th>4</th>\n",
       "      <td>AGO</td>\n",
       "      <td>Angola</td>\n",
       "      <td>-2665.487484</td>\n",
       "      <td>3.676776e+07</td>\n",
       "      <td>9.788361e+10</td>\n",
       "      <td>Africa</td>\n",
       "      <td>0</td>\n",
       "      <td>-0.000072</td>\n",
       "      <td>PRT_colony</td>\n",
       "      <td>8</td>\n",
       "    </tr>\n",
       "    <tr>\n",
       "      <th>...</th>\n",
       "      <td>...</td>\n",
       "      <td>...</td>\n",
       "      <td>...</td>\n",
       "      <td>...</td>\n",
       "      <td>...</td>\n",
       "      <td>...</td>\n",
       "      <td>...</td>\n",
       "      <td>...</td>\n",
       "      <td>...</td>\n",
       "      <td>...</td>\n",
       "    </tr>\n",
       "    <tr>\n",
       "      <th>182</th>\n",
       "      <td>VEN</td>\n",
       "      <td>Venezuela</td>\n",
       "      <td>14588.784775</td>\n",
       "      <td>3.229033e+07</td>\n",
       "      <td>3.873810e+11</td>\n",
       "      <td>South America</td>\n",
       "      <td>6</td>\n",
       "      <td>0.000452</td>\n",
       "      <td>Z_Other</td>\n",
       "      <td>11</td>\n",
       "    </tr>\n",
       "    <tr>\n",
       "      <th>183</th>\n",
       "      <td>VNM</td>\n",
       "      <td>Vietnam</td>\n",
       "      <td>-21990.234198</td>\n",
       "      <td>9.895143e+07</td>\n",
       "      <td>1.995281e+11</td>\n",
       "      <td>Asia</td>\n",
       "      <td>1</td>\n",
       "      <td>-0.000222</td>\n",
       "      <td>FRA_colony</td>\n",
       "      <td>3</td>\n",
       "    </tr>\n",
       "    <tr>\n",
       "      <th>184</th>\n",
       "      <td>YEM</td>\n",
       "      <td>Yemen</td>\n",
       "      <td>-156.568027</td>\n",
       "      <td>3.042738e+07</td>\n",
       "      <td>3.166482e+10</td>\n",
       "      <td>Asia</td>\n",
       "      <td>1</td>\n",
       "      <td>-0.000005</td>\n",
       "      <td>GBR_colony</td>\n",
       "      <td>4</td>\n",
       "    </tr>\n",
       "    <tr>\n",
       "      <th>185</th>\n",
       "      <td>ZMB</td>\n",
       "      <td>Zambia</td>\n",
       "      <td>188.927469</td>\n",
       "      <td>1.861695e+07</td>\n",
       "      <td>2.202121e+10</td>\n",
       "      <td>Africa</td>\n",
       "      <td>0</td>\n",
       "      <td>0.000010</td>\n",
       "      <td>GBR_colony</td>\n",
       "      <td>4</td>\n",
       "    </tr>\n",
       "    <tr>\n",
       "      <th>186</th>\n",
       "      <td>ZWE</td>\n",
       "      <td>Zimbabwe</td>\n",
       "      <td>162.216831</td>\n",
       "      <td>1.426931e+07</td>\n",
       "      <td>1.962051e+10</td>\n",
       "      <td>Africa</td>\n",
       "      <td>0</td>\n",
       "      <td>0.000011</td>\n",
       "      <td>GBR_colony</td>\n",
       "      <td>4</td>\n",
       "    </tr>\n",
       "  </tbody>\n",
       "</table>\n",
       "<p>187 rows × 10 columns</p>\n",
       "</div>"
      ],
      "text/plain": [
       "    ADM0_A3         NAME    net_export    population  final_demand  \\\n",
       "0       AFG  Afghanistan    437.294550  3.056780e+07  2.447052e+10   \n",
       "1       ALB      Albania    -94.854957  2.895460e+06  1.346807e+10   \n",
       "2       DZA      Algeria   3023.901587  4.414247e+07  1.833768e+11   \n",
       "3       AND      Andorra     42.552640  1.084263e+05  2.857466e+09   \n",
       "4       AGO       Angola  -2665.487484  3.676776e+07  9.788361e+10   \n",
       "..      ...          ...           ...           ...           ...   \n",
       "182     VEN    Venezuela  14588.784775  3.229033e+07  3.873810e+11   \n",
       "183     VNM      Vietnam -21990.234198  9.895143e+07  1.995281e+11   \n",
       "184     YEM        Yemen   -156.568027  3.042738e+07  3.166482e+10   \n",
       "185     ZMB       Zambia    188.927469  1.861695e+07  2.202121e+10   \n",
       "186     ZWE     Zimbabwe    162.216831  1.426931e+07  1.962051e+10   \n",
       "\n",
       "         CONTINENT  CONTINENT_code  net_export_capita      Colony  Colony_code  \n",
       "0             Asia               1           0.000014     Z_Other           11  \n",
       "1           Europe               2          -0.000033     Z_Other           11  \n",
       "2           Africa               0           0.000069  FRA_colony            3  \n",
       "3           Europe               2           0.000392     Z_Other           11  \n",
       "4           Africa               0          -0.000072  PRT_colony            8  \n",
       "..             ...             ...                ...         ...          ...  \n",
       "182  South America               6           0.000452     Z_Other           11  \n",
       "183           Asia               1          -0.000222  FRA_colony            3  \n",
       "184           Asia               1          -0.000005  GBR_colony            4  \n",
       "185         Africa               0           0.000010  GBR_colony            4  \n",
       "186         Africa               0           0.000011  GBR_colony            4  \n",
       "\n",
       "[187 rows x 10 columns]"
      ]
     },
     "execution_count": 45,
     "metadata": {},
     "output_type": "execute_result"
    }
   ],
   "source": [
    "df_final"
   ]
  },
  {
   "cell_type": "code",
   "execution_count": 46,
   "metadata": {},
   "outputs": [],
   "source": [
    "df_final.to_csv('map_continent_colony.csv')"
   ]
  },
  {
   "cell_type": "code",
   "execution_count": 103,
   "metadata": {},
   "outputs": [
    {
     "data": {
      "text/plain": [
       "{0: 'Colonizer',\n",
       " 1: 'BEL_colony',\n",
       " 2: 'ESP_colony',\n",
       " 3: 'FRA_colony',\n",
       " 4: 'GBR_colony',\n",
       " 5: 'ITA_colony',\n",
       " 6: 'JPN_colony',\n",
       " 7: 'NLD_colony',\n",
       " 8: 'PRT_colony',\n",
       " 9: 'RUS_colony',\n",
       " 10: 'USA_colony',\n",
       " 11: 'Other'}"
      ]
     },
     "execution_count": 103,
     "metadata": {},
     "output_type": "execute_result"
    }
   ],
   "source": [
    "colony_dict[0] = 'Colonizer'\n",
    "colony_dict[11] = 'Other'\n",
    "colony_dict"
   ]
  },
  {
   "cell_type": "markdown",
   "metadata": {},
   "source": [
    "-----"
   ]
  },
  {
   "cell_type": "markdown",
   "metadata": {},
   "source": [
    "## Overall plot"
   ]
  },
  {
   "cell_type": "code",
   "execution_count": 104,
   "metadata": {},
   "outputs": [
    {
     "data": {
      "text/plain": [
       "Text(0.5, 0, 'log(Final demand per capita(dollars))')"
      ]
     },
     "execution_count": 104,
     "metadata": {},
     "output_type": "execute_result"
    },
    {
     "data": {
      "image/png": "[encoded data removed]",
      "text/plain": [
       "<Figure size 1080x720 with 1 Axes>"
      ]
     },
     "metadata": {
      "needs_background": "light"
     },
     "output_type": "display_data"
    }
   ],
   "source": [
    "fig, ax = plt.subplots(figsize=(15, 10))\n",
    "scatter = plt.scatter(\n",
    "    x = df_final['final_demand']/df_final['population'], \n",
    "    y = df_final['net_export']/(df_final['population']/1000000), \n",
    "    s=df_final['population']/50000, \n",
    "    c=df_final['Colony'].cat.codes, \n",
    "    cmap=ListedColormap([\"#a6cee3\",\"#1f78b4\",\"#b2df8a\",\"#33a02c\",\"#fb9a99\",\"#e31a1c\",\"#fdbf6f\",\"#ff7f00\",\"#cab2d6\",\"#6a3d9a\",\"#dfc27d\",\"#d9d9d9\"]), \n",
    "#     alpha=0.3, \n",
    "    edgecolors=\"white\", \n",
    "    linewidth=2);\n",
    "\n",
    "plt.ylim(-800,1000)\n",
    "# Add titles (main and on axis)\n",
    "plt.xscale('log')\n",
    "# legend1 = ax.legend(handles=scatter.legend_elements()[0], labels=continent,\n",
    "#                     loc=\"upper left\", fontsize=18)\n",
    "# ax.add_artist(legend1)\n",
    "\n",
    "# add labels to bubbles that are big enough\n",
    "arrowprops = dict(\n",
    "    arrowstyle = \"->\",\n",
    "    connectionstyle = \"angle, angleA = 0, angleB = 90,\\\n",
    "    rad = 0\")\n",
    "\n",
    "# plt.axhline(y = 0.1, color = 'r', linestyle = '-',label='Line of Zero Net Export of Deaths')\n",
    "# plt.legend(loc=\"upper left\",fontsize=17)\n",
    "\n",
    "plt.legend(handles=scatter.legend_elements(num=None)[0], labels=colony_dict.values(),fontsize=15)\n",
    "\n",
    "  \n",
    "matplotlib.rc('xtick', labelsize=16) \n",
    "matplotlib.rc('ytick', labelsize=16) \n",
    "plt.ylabel(\"Net export of deaths per million population\",fontsize=24)\n",
    "plt.xlabel(\"log(Final demand per capita(dollars))\",fontsize=24)\n",
    "# plt.title(\"\")"
   ]
  },
  {
   "cell_type": "code",
   "execution_count": null,
   "metadata": {},
   "outputs": [],
   "source": []
  },
  {
   "cell_type": "code",
   "execution_count": null,
   "metadata": {},
   "outputs": [],
   "source": []
  },
  {
   "cell_type": "code",
   "execution_count": null,
   "metadata": {},
   "outputs": [],
   "source": []
  }
 ],
 "metadata": {
  "kernelspec": {
   "display_name": "Python 3",
   "language": "python",
   "name": "python3"
  },
  "language_info": {
   "codemirror_mode": {
    "name": "ipython",
    "version": 3
   },
   "file_extension": ".py",
   "mimetype": "text/x-python",
   "name": "python",
   "nbconvert_exporter": "python",
   "pygments_lexer": "ipython3",
   "version": "3.6.5"
  }
 },
 "nbformat": 4,
 "nbformat_minor": 2
}
