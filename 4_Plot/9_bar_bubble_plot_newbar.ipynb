{
 "cells": [
  {
   "cell_type": "code",
   "execution_count": 2,
   "metadata": {},
   "outputs": [],
   "source": [
    "import json\n",
    "import numpy as np\n",
    "import pandas as pd\n",
    "import geopandas as gpd\n",
    "import matplotlib \n",
    "import matplotlib.pyplot as plt\n",
    "from matplotlib.colors import BoundaryNorm, ListedColormap\n",
    "import matplotlib.patches as mpatches"
   ]
  },
  {
   "cell_type": "code",
   "execution_count": 3,
   "metadata": {},
   "outputs": [],
   "source": [
    "# Summation of the value insde a dictionary\n",
    "def dictsum(myDict):      \n",
    "    sum = 0\n",
    "    for i in myDict: \n",
    "        sum = sum + myDict[i] \n",
    "    return sum"
   ]
  },
  {
   "cell_type": "code",
   "execution_count": 4,
   "metadata": {},
   "outputs": [],
   "source": [
    "# We only care about the country sequence\n",
    "file = open(\"/mnt/c/Users/Shiyuan Wang/Desktop/comparison/Total_pop.json\", \"r\")\n",
    "population2 = file.read()\n",
    "population2 = json.loads(population2)\n",
    "Countries = list(population2.keys())\n",
    "# population\n",
    "file = open(\"/mnt/c/Users/Shiyuan Wang/Desktop/new_results/Total_pop_newest.json\", \"r\")\n",
    "population = file.read()\n",
    "population = json.loads(population)\n",
    "population = {k: population[k] for k in Countries}"
   ]
  },
  {
   "cell_type": "code",
   "execution_count": 5,
   "metadata": {},
   "outputs": [],
   "source": [
    "file = open(\"../2_Concentration_Factors/total_output.json\", \"r\")\n",
    "total_output = file.read()\n",
    "total_output = json.loads(total_output)\n",
    "\n",
    "file = open(\"../2_Concentration_Factors/final_demand.json\", \"r\")\n",
    "final_demand = file.read()\n",
    "final_demand = json.loads(final_demand)"
   ]
  },
  {
   "cell_type": "code",
   "execution_count": 6,
   "metadata": {},
   "outputs": [],
   "source": [
    "# per million USD\n",
    "# EORA is in 1000 USD\n",
    "for i in Countries:\n",
    "    total_output[i] = total_output[i] * 1000 \n",
    "    final_demand[i] = final_demand[i] * 1000 "
   ]
  },
  {
   "cell_type": "code",
   "execution_count": 7,
   "metadata": {},
   "outputs": [],
   "source": [
    "# total number of deaths caused by country i and happen in country j\n",
    "file = open(\"con_mort_tol.json\", \"r\")\n",
    "con_mort_tol = file.read()\n",
    "con_mort_tol = json.loads(con_mort_tol)"
   ]
  },
  {
   "cell_type": "code",
   "execution_count": 8,
   "metadata": {},
   "outputs": [],
   "source": [
    "# total number of deaths caused by country i and happen in country j\n",
    "file = open(\"pro_mort_tol.json\", \"r\")\n",
    "pro_mort_tol = file.read()\n",
    "pro_mort_tol = json.loads(pro_mort_tol)"
   ]
  },
  {
   "cell_type": "code",
   "execution_count": 9,
   "metadata": {},
   "outputs": [],
   "source": [
    "# Row sum: total deaths happen in that country\n",
    "con_total = dict(pd.DataFrame(con_mort_tol).sum(axis = 1))\n",
    "pro_total = dict(pd.DataFrame(pro_mort_tol).sum(axis = 1))"
   ]
  },
  {
   "cell_type": "code",
   "execution_count": 10,
   "metadata": {},
   "outputs": [],
   "source": [
    "# Col sum: total deaths caused by that country\n",
    "con_caused = dict(pd.DataFrame(con_mort_tol).sum(axis = 0))\n",
    "pro_caused = dict(pd.DataFrame(pro_mort_tol).sum(axis = 0))"
   ]
  },
  {
   "cell_type": "code",
   "execution_count": 11,
   "metadata": {},
   "outputs": [],
   "source": [
    "# total deaths happen in that country\n",
    "con_dom_world = {}\n",
    "for country in con_mort_tol:\n",
    "    con_dom_world[country] = {}\n",
    "    con_dom_world[country]['domestic'] = con_mort_tol[country][country]\n",
    "    con_dom_world[country]['world'] = con_total[country]\n",
    "    con_dom_world[country]['OtherPartofWorld'] = con_dom_world[country]['world'] - con_dom_world[country]['domestic']"
   ]
  },
  {
   "cell_type": "code",
   "execution_count": 12,
   "metadata": {},
   "outputs": [],
   "source": [
    "# total deaths caused by that country\n",
    "con_cause_dom_world = {}\n",
    "for country in con_mort_tol:\n",
    "    con_cause_dom_world[country] = {}\n",
    "    con_cause_dom_world[country]['domestic'] = con_mort_tol[country][country]\n",
    "    con_cause_dom_world[country]['world'] = con_caused[country]\n",
    "    con_cause_dom_world[country]['OtherPartofWorld'] = con_cause_dom_world[country]['world'] - con_cause_dom_world[country]['domestic']"
   ]
  },
  {
   "cell_type": "code",
   "execution_count": 13,
   "metadata": {},
   "outputs": [],
   "source": [
    "net_export_death = {}\n",
    "export_of_death = {}\n",
    "import_of_death = {}\n",
    "\n",
    "for country in con_cause_dom_world:\n",
    "    if country != 'ROW':\n",
    "        # net export of deaths\n",
    "        net_export_death[country] = (con_cause_dom_world[country]['OtherPartofWorld'] - con_dom_world[country]['OtherPartofWorld'])\n",
    "        # total foreign deaths caused by that country's demand\n",
    "        export_of_death[country] = con_cause_dom_world[country]['OtherPartofWorld']\n",
    "        # total deaths happen in that country caused by foreign demand\n",
    "        import_of_death[country] = con_dom_world[country]['OtherPartofWorld']"
   ]
  },
  {
   "cell_type": "code",
   "execution_count": 14,
   "metadata": {},
   "outputs": [
    {
     "data": {
      "text/plain": [
       "830.812909080071"
      ]
     },
     "execution_count": 14,
     "metadata": {},
     "output_type": "execute_result"
    }
   ],
   "source": [
    "net_export_death['SOM']"
   ]
  },
  {
   "cell_type": "code",
   "execution_count": 15,
   "metadata": {},
   "outputs": [
    {
     "name": "stdout",
     "output_type": "stream",
     "text": [
      "{'CHN': -218437.64546950755, 'IND': -129200.3411429341, 'BGD': -35955.472116033205, 'VNM': -21990.234198175836, 'ROU': -16225.407631850965, 'RUS': -13291.401035606461, 'UKR': -12780.54586826509, 'IDN': -11793.118078256724, 'PRK': -10263.032684904741, 'BRA': -10029.614135133641, 'THA': -6685.971255235832, 'ETH': -6203.554926312141, 'BGR': -6006.9582757742855, 'MEX': -5959.941215928113, 'NPL': -5344.940552557151, 'COD': -4930.541898777621, 'SYR': -3952.2836944757278, 'HUN': -3755.094256396076, 'HTI': -3723.582587566705, 'AZE': -2704.1914727166886, 'AGO': -2665.487483964722, 'COL': -2598.616708609734, 'KHM': -2590.383176736282, 'PER': -2006.4122572913366, 'UGA': -1989.5259543488742, 'GRC': -1877.0852917686107, 'GEO': -1764.2494108182048, 'MDA': -1540.6405984274484, 'EGY': -1475.1575660103808, 'MAR': -1399.7416137021773, 'TWN': -1140.2951722210819, 'SLV': -1112.436025725738, 'ECU': -903.8368320252539, 'CMR': -896.3326559361544, 'GTM': -871.5800025843146, 'ARM': -792.4294778408158, 'PSE': -785.624078587452, 'HRV': -784.2638553678476, 'RWA': -757.502308090226, 'TJK': -623.091928022866, 'JAM': -561.2154795847721, 'SWZ': -519.3919039768042, 'BEN': -515.7264852649511, 'MKD': -512.6019502991344, 'SDS': -470.41846001533565, 'KGZ': -465.87985964721065, 'BFA': -430.1701228087262, 'LSO': -334.11406534043095, 'NER': -274.31325726589193, 'CAF': -202.85723974644907, 'BOL': -183.78793924821457, 'TGO': -171.84198448250072, 'YEM': -156.56802725350008, 'GAB': -156.10238267703926, 'BDI': -146.50265290370976, 'SVK': -108.57373979573413, 'ALB': -94.85495664425957, 'TCD': -86.85735787473135, 'SLE': -83.09129445404665, 'MLI': -78.8236152691448, 'GIN': -71.71225529142998, 'ERI': -56.315117451006984, 'GMB': -47.969320487848236, 'SUD': -25.044124543650014, 'HND': -11.405136628796754, 'BLR': 6.453774983420772, 'STP': 8.596938000599195, 'VGB': 17.48091209960843, 'CRI': 25.861149012981286, 'CPV': 29.206577354644267, 'VUT': 32.5862412340666, 'WSM': 33.33155672813093, 'GRL': 33.56877303739941, 'ATG': 39.82212725228953, 'AND': 42.55263989070746, 'ABW': 49.4337060746538, 'BLZ': 52.80532242154276, 'CYM': 54.273117954132836, 'BRB': 60.60257759846528, 'PYF': 67.61242392719271, 'SMR': 70.8290137548862, 'NCL': 78.41280078031335, 'SUR': 82.89233344167538, 'NIC': 85.93327327576282, 'NGA': 94.0730772157076, 'FJI': 94.18770304951812, 'BMU': 97.86978750289353, 'SEN': 98.37577710136156, 'MDG': 100.34931011757408, 'LKA': 108.5060701714774, 'MWI': 116.2818048589005, 'BWA': 130.05453644174787, 'DJI': 133.7431098362431, 'BTN': 146.62272251200943, 'ZWE': 162.21683066450578, 'SYC': 174.94764653068276, 'ZMB': 188.92746926921063, 'SVN': 200.53918373623083, 'MDV': 201.25174646874828, 'MLT': 207.14078260906325, 'MRT': 212.05235706124432, 'BRN': 215.59512886869095, 'ISL': 219.04149495045263, 'LBR': 220.26624745862978, 'TUN': 235.43696678043943, 'MNE': 236.4222942071802, 'MCO': 242.527280659408, 'BHS': 242.81417271486123, 'LIE': 250.61028447182372, 'CIV': 256.40473691824195, 'PAN': 282.7851578915988, 'CUB': 294.17100329046025, 'MOZ': 303.3799073280038, 'LAO': 352.3231410725148, 'MUS': 360.9841049976285, 'LVA': 376.5495628252916, 'COG': 380.76918433510116, 'AFG': 437.29455041660003, 'URY': 438.09701970339756, 'MAC': 445.50515654162007, 'LUX': 446.3842771151718, 'NAM': 456.3119943739372, 'EST': 488.15814735486947, 'LTU': 511.6374771117289, 'PRY': 561.1420670564816, 'PNG': 586.4318333838262, 'TZA': 604.0797819972022, 'ZAF': 648.70553124246, 'GHA': 652.3424223878392, 'BHR': 806.1603062659788, 'SOM': 830.812909080071, 'TTO': 844.7212376826797, 'CYP': 847.7860425600713, 'DOM': 939.8736256211942, 'GUY': 1007.5124788353849, 'MMR': 1024.2631542751078, 'CHL': 1047.4281357180498, 'POL': 1134.6268402474416, 'PRT': 1215.8175248916464, 'NZL': 1350.3518316863303, 'MNG': 1374.4611436791238, 'JOR': 1587.0314537657564, 'DNK': 1592.4608055838585, 'LBN': 1820.842929383613, 'PHL': 1929.6223928450854, 'KEN': 2148.683226719313, 'FIN': 2208.5429724729806, 'ARG': 2258.6712337414665, 'CZE': 2266.2077100848564, 'BIH': 2322.659415829062, 'LBY': 2500.6436475339437, 'MYS': 2782.09022492899, 'DZA': 3023.9015870862363, 'TKM': 3193.3850884839944, 'AUT': 3297.0615887753866, 'NOR': 3608.430529480001, 'KAZ': 3980.870943360187, 'IRL': 4153.314909785793, 'OMN': 4594.482062323394, 'ISR': 4819.170389787656, 'SWE': 4987.059895419185, 'NLD': 5098.183639042107, 'BEL': 5162.933906308028, 'UZB': 5240.532562348583, 'QAT': 6053.564845575848, 'SRB': 6104.41635685544, 'ITA': 6573.673536983486, 'CHE': 6752.9475942522295, 'SGP': 7011.221559213811, 'ESP': 7312.159377833046, 'IRQ': 8037.762190584562, 'AUS': 9077.552719108058, 'KOR': 9774.294000287364, 'KWT': 11256.12145584595, 'HKG': 12674.94909674861, 'VEN': 14588.784775201462, 'ARE': 14722.513309786957, 'CAN': 14839.72582534375, 'IRN': 15849.17811539777, 'JPN': 17296.31739527703, 'PAK': 17666.219223549415, 'DEU': 18592.731576065387, 'FRA': 25222.65662576353, 'TUR': 25674.210780855246, 'GBR': 27933.41157481333, 'SAU': 37645.48636511252, 'USA': 143944.0207028626}\n"
     ]
    }
   ],
   "source": [
    "print(dict(sorted(net_export_death.items(), key=lambda item: item[1])))"
   ]
  },
  {
   "cell_type": "code",
   "execution_count": 16,
   "metadata": {},
   "outputs": [
    {
     "name": "stdout",
     "output_type": "stream",
     "text": [
      "[('CHN', 1241848.475484423), ('IND', 576492.7342931574), ('IDN', 169699.42867745517), ('JPN', 106707.94366040881), ('BRA', 92051.51869995154), ('USA', 86781.66618595831)]\n",
      "[('CHN', 1023410.8300149156), ('IND', 447292.39315022324), ('USA', 230725.6868888209), ('IDN', 157906.31059919845), ('JPN', 124004.26105568584)]\n"
     ]
    }
   ],
   "source": [
    "print(sorted(con_total.items(), key=lambda item: item[1],reverse=True)[:6])\n",
    "print(sorted(con_caused.items(), key=lambda item: item[1],reverse=True)[:5])"
   ]
  },
  {
   "cell_type": "code",
   "execution_count": 17,
   "metadata": {},
   "outputs": [],
   "source": [
    "net_export_death_per = {} # per population\n",
    "\n",
    "for country in con_cause_dom_world:\n",
    "    if country != 'ROW':\n",
    "        net_export_val = (con_cause_dom_world[country]['OtherPartofWorld'] - con_dom_world[country]['OtherPartofWorld'])/(population[country]/10000)\n",
    "        if net_export_val > 100:\n",
    "            net_export_death_per[country] = 100\n",
    "#         elif net_export_val > 100000:\n",
    "#             net_export_death_per[country] = 100000\n",
    "        else:\n",
    "            net_export_death_per[country] = net_export_val"
   ]
  },
  {
   "cell_type": "code",
   "execution_count": 18,
   "metadata": {},
   "outputs": [
    {
     "data": {
      "text/plain": [
       "0.0"
      ]
     },
     "execution_count": 18,
     "metadata": {},
     "output_type": "execute_result"
    }
   ],
   "source": [
    "population.pop('ROW')\n",
    "final_demand.pop('ROW')"
   ]
  },
  {
   "cell_type": "code",
   "execution_count": 19,
   "metadata": {},
   "outputs": [],
   "source": [
    "df_shp = gpd.read_file('/mnt/c/Users/Shiyuan Wang/Desktop/natural_earth_vector/10m_cultural/ne_10m_admin_0_countries.shp')"
   ]
  },
  {
   "cell_type": "code",
   "execution_count": 20,
   "metadata": {},
   "outputs": [
    {
     "data": {
      "text/plain": [
       "Index(['featurecla', 'scalerank', 'LABELRANK', 'SOVEREIGNT', 'SOV_A3',\n",
       "       'ADM0_DIF', 'LEVEL', 'TYPE', 'ADMIN', 'ADM0_A3', 'GEOU_DIF', 'GEOUNIT',\n",
       "       'GU_A3', 'SU_DIF', 'SUBUNIT', 'SU_A3', 'BRK_DIFF', 'NAME', 'NAME_LONG',\n",
       "       'BRK_A3', 'BRK_NAME', 'BRK_GROUP', 'ABBREV', 'POSTAL', 'FORMAL_EN',\n",
       "       'FORMAL_FR', 'NAME_CIAWF', 'NOTE_ADM0', 'NOTE_BRK', 'NAME_SORT',\n",
       "       'NAME_ALT', 'MAPCOLOR7', 'MAPCOLOR8', 'MAPCOLOR9', 'MAPCOLOR13',\n",
       "       'POP_EST', 'POP_RANK', 'GDP_MD_EST', 'POP_YEAR', 'LASTCENSUS',\n",
       "       'GDP_YEAR', 'ECONOMY', 'INCOME_GRP', 'WIKIPEDIA', 'FIPS_10_', 'ISO_A2',\n",
       "       'ISO_A3', 'ISO_A3_EH', 'ISO_N3', 'UN_A3', 'WB_A2', 'WB_A3', 'WOE_ID',\n",
       "       'WOE_ID_EH', 'WOE_NOTE', 'ADM0_A3_IS', 'ADM0_A3_US', 'ADM0_A3_UN',\n",
       "       'ADM0_A3_WB', 'CONTINENT', 'REGION_UN', 'SUBREGION', 'REGION_WB',\n",
       "       'NAME_LEN', 'LONG_LEN', 'ABBREV_LEN', 'TINY', 'HOMEPART', 'MIN_ZOOM',\n",
       "       'MIN_LABEL', 'MAX_LABEL', 'NE_ID', 'WIKIDATAID', 'NAME_AR', 'NAME_BN',\n",
       "       'NAME_DE', 'NAME_EN', 'NAME_ES', 'NAME_FR', 'NAME_EL', 'NAME_HI',\n",
       "       'NAME_HU', 'NAME_ID', 'NAME_IT', 'NAME_JA', 'NAME_KO', 'NAME_NL',\n",
       "       'NAME_PL', 'NAME_PT', 'NAME_RU', 'NAME_SV', 'NAME_TR', 'NAME_VI',\n",
       "       'NAME_ZH', 'geometry'],\n",
       "      dtype='object')"
      ]
     },
     "execution_count": 20,
     "metadata": {},
     "output_type": "execute_result"
    }
   ],
   "source": [
    "df_shp.columns"
   ]
  },
  {
   "cell_type": "code",
   "execution_count": 21,
   "metadata": {},
   "outputs": [],
   "source": [
    "df_new = pd.DataFrame({'ADM0_A3': list(net_export_death.keys()),'net_export': list(net_export_death.values()),\n",
    "                      'population': list(population.values()),'final_demand': list(final_demand.values()),\n",
    "                      'export_of_death': list(export_of_death.values()),'import_of_death': list(import_of_death.values())},)"
   ]
  },
  {
   "cell_type": "code",
   "execution_count": 22,
   "metadata": {},
   "outputs": [],
   "source": [
    "df_final = pd.merge(df_new,df_shp,how=\"left\",on=[\"ADM0_A3\"])"
   ]
  },
  {
   "cell_type": "code",
   "execution_count": 23,
   "metadata": {},
   "outputs": [],
   "source": [
    "df_final = df_final[['ADM0_A3','NAME','net_export','export_of_death','import_of_death','population','final_demand','CONTINENT']]"
   ]
  },
  {
   "cell_type": "code",
   "execution_count": 24,
   "metadata": {},
   "outputs": [],
   "source": [
    "for i in range(len(df_final)):\n",
    "    if df_final.loc[i,'ADM0_A3'] == 'PSE':\n",
    "        df_final.loc[i,'CONTINENT'] == df_shp[df_shp['ADM0_A3']=='PSX']['CONTINENT']"
   ]
  },
  {
   "cell_type": "code",
   "execution_count": 25,
   "metadata": {},
   "outputs": [],
   "source": [
    "df_final.loc[list(net_export_death.keys()).index('PSE'),'CONTINENT'] = df_shp[df_shp['ADM0_A3']=='PSX']['CONTINENT'].values[0]"
   ]
  },
  {
   "cell_type": "code",
   "execution_count": 26,
   "metadata": {},
   "outputs": [],
   "source": [
    "df_final.loc[list(net_export_death.keys()).index('SUD'),'CONTINENT'] = df_shp[df_shp['ADM0_A3']=='SDN']['CONTINENT'].values[0]"
   ]
  },
  {
   "cell_type": "code",
   "execution_count": 27,
   "metadata": {},
   "outputs": [],
   "source": [
    "df_final['CONTINENT']=pd.Categorical(df_final['CONTINENT'])"
   ]
  },
  {
   "cell_type": "code",
   "execution_count": 28,
   "metadata": {},
   "outputs": [],
   "source": [
    "df_final['CONTINENT_code'] = df_final['CONTINENT'].cat.codes"
   ]
  },
  {
   "cell_type": "code",
   "execution_count": 29,
   "metadata": {},
   "outputs": [],
   "source": [
    "continent = ['Africa','Asia','Europe','North America','Oceania','Seven seas (open ocean)','South America']"
   ]
  },
  {
   "cell_type": "code",
   "execution_count": 30,
   "metadata": {},
   "outputs": [],
   "source": [
    "continent2 = {'0':'Africa','1':'Asia','2':'Europe','3':'North America','4':'Oceania','5':'Seven seas (open ocean)','6':'South America'}"
   ]
  },
  {
   "cell_type": "code",
   "execution_count": 31,
   "metadata": {},
   "outputs": [
    {
     "data": {
      "text/html": [
       "<div>\n",
       "<style scoped>\n",
       "    .dataframe tbody tr th:only-of-type {\n",
       "        vertical-align: middle;\n",
       "    }\n",
       "\n",
       "    .dataframe tbody tr th {\n",
       "        vertical-align: top;\n",
       "    }\n",
       "\n",
       "    .dataframe thead th {\n",
       "        text-align: right;\n",
       "    }\n",
       "</style>\n",
       "<table border=\"1\" class=\"dataframe\">\n",
       "  <thead>\n",
       "    <tr style=\"text-align: right;\">\n",
       "      <th></th>\n",
       "      <th>ADM0_A3</th>\n",
       "      <th>NAME</th>\n",
       "      <th>net_export</th>\n",
       "      <th>export_of_death</th>\n",
       "      <th>import_of_death</th>\n",
       "      <th>population</th>\n",
       "      <th>final_demand</th>\n",
       "      <th>CONTINENT</th>\n",
       "      <th>CONTINENT_code</th>\n",
       "    </tr>\n",
       "  </thead>\n",
       "  <tbody>\n",
       "    <tr>\n",
       "      <th>105</th>\n",
       "      <td>MDV</td>\n",
       "      <td>Maldives</td>\n",
       "      <td>201.251746</td>\n",
       "      <td>270.641079</td>\n",
       "      <td>69.389333</td>\n",
       "      <td>5.909558e+05</td>\n",
       "      <td>3.374815e+09</td>\n",
       "      <td>Seven seas (open ocean)</td>\n",
       "      <td>5</td>\n",
       "    </tr>\n",
       "    <tr>\n",
       "      <th>109</th>\n",
       "      <td>MUS</td>\n",
       "      <td>Mauritius</td>\n",
       "      <td>360.984105</td>\n",
       "      <td>484.970018</td>\n",
       "      <td>123.985913</td>\n",
       "      <td>1.291254e+06</td>\n",
       "      <td>1.115682e+10</td>\n",
       "      <td>Seven seas (open ocean)</td>\n",
       "      <td>5</td>\n",
       "    </tr>\n",
       "    <tr>\n",
       "      <th>148</th>\n",
       "      <td>SYC</td>\n",
       "      <td>Seychelles</td>\n",
       "      <td>174.947647</td>\n",
       "      <td>177.346482</td>\n",
       "      <td>2.398836</td>\n",
       "      <td>1.051095e+05</td>\n",
       "      <td>1.362116e+09</td>\n",
       "      <td>Seven seas (open ocean)</td>\n",
       "      <td>5</td>\n",
       "    </tr>\n",
       "  </tbody>\n",
       "</table>\n",
       "</div>"
      ],
      "text/plain": [
       "    ADM0_A3        NAME  net_export  export_of_death  import_of_death  \\\n",
       "105     MDV    Maldives  201.251746       270.641079        69.389333   \n",
       "109     MUS   Mauritius  360.984105       484.970018       123.985913   \n",
       "148     SYC  Seychelles  174.947647       177.346482         2.398836   \n",
       "\n",
       "       population  final_demand                CONTINENT  CONTINENT_code  \n",
       "105  5.909558e+05  3.374815e+09  Seven seas (open ocean)               5  \n",
       "109  1.291254e+06  1.115682e+10  Seven seas (open ocean)               5  \n",
       "148  1.051095e+05  1.362116e+09  Seven seas (open ocean)               5  "
      ]
     },
     "execution_count": 31,
     "metadata": {},
     "output_type": "execute_result"
    }
   ],
   "source": [
    "df_final[df_final['CONTINENT']=='Seven seas (open ocean)']"
   ]
  },
  {
   "cell_type": "code",
   "execution_count": 32,
   "metadata": {},
   "outputs": [],
   "source": [
    "# Change seven seas to other\n",
    "df_final['CONTINENT'] = df_final['CONTINENT'].replace(['Seven seas (open ocean)'], 'Other')"
   ]
  },
  {
   "cell_type": "code",
   "execution_count": 33,
   "metadata": {},
   "outputs": [
    {
     "data": {
      "text/plain": [
       "['Asia', 'Europe', 'Africa', 'North America', 'South America', 'Oceania', 'Other']\n",
       "Categories (7, object): ['Asia', 'Europe', 'Africa', 'North America', 'South America', 'Oceania', 'Other']"
      ]
     },
     "execution_count": 33,
     "metadata": {},
     "output_type": "execute_result"
    }
   ],
   "source": [
    "df_final['CONTINENT'].unique()"
   ]
  },
  {
   "cell_type": "code",
   "execution_count": 34,
   "metadata": {},
   "outputs": [],
   "source": [
    "df_final['net_export_capita'] = df_final['net_export']/df_final['population']\n",
    "df_final['final_demand_capita'] = df_final['final_demand']/df_final['population']"
   ]
  },
  {
   "cell_type": "code",
   "execution_count": 35,
   "metadata": {},
   "outputs": [
    {
     "data": {
      "text/html": [
       "<div>\n",
       "<style scoped>\n",
       "    .dataframe tbody tr th:only-of-type {\n",
       "        vertical-align: middle;\n",
       "    }\n",
       "\n",
       "    .dataframe tbody tr th {\n",
       "        vertical-align: top;\n",
       "    }\n",
       "\n",
       "    .dataframe thead th {\n",
       "        text-align: right;\n",
       "    }\n",
       "</style>\n",
       "<table border=\"1\" class=\"dataframe\">\n",
       "  <thead>\n",
       "    <tr style=\"text-align: right;\">\n",
       "      <th></th>\n",
       "      <th>ADM0_A3</th>\n",
       "      <th>NAME</th>\n",
       "      <th>net_export</th>\n",
       "      <th>export_of_death</th>\n",
       "      <th>import_of_death</th>\n",
       "      <th>population</th>\n",
       "      <th>final_demand</th>\n",
       "      <th>CONTINENT</th>\n",
       "      <th>CONTINENT_code</th>\n",
       "      <th>net_export_capita</th>\n",
       "      <th>final_demand_capita</th>\n",
       "    </tr>\n",
       "  </thead>\n",
       "  <tbody>\n",
       "    <tr>\n",
       "      <th>0</th>\n",
       "      <td>AFG</td>\n",
       "      <td>Afghanistan</td>\n",
       "      <td>437.294550</td>\n",
       "      <td>4749.188636</td>\n",
       "      <td>4311.894085</td>\n",
       "      <td>3.056780e+07</td>\n",
       "      <td>2.447052e+10</td>\n",
       "      <td>Asia</td>\n",
       "      <td>1</td>\n",
       "      <td>0.000014</td>\n",
       "      <td>800.532522</td>\n",
       "    </tr>\n",
       "    <tr>\n",
       "      <th>1</th>\n",
       "      <td>ALB</td>\n",
       "      <td>Albania</td>\n",
       "      <td>-94.854957</td>\n",
       "      <td>901.112178</td>\n",
       "      <td>995.967135</td>\n",
       "      <td>2.895460e+06</td>\n",
       "      <td>1.346807e+10</td>\n",
       "      <td>Europe</td>\n",
       "      <td>2</td>\n",
       "      <td>-0.000033</td>\n",
       "      <td>4651.443752</td>\n",
       "    </tr>\n",
       "    <tr>\n",
       "      <th>2</th>\n",
       "      <td>DZA</td>\n",
       "      <td>Algeria</td>\n",
       "      <td>3023.901587</td>\n",
       "      <td>6019.886216</td>\n",
       "      <td>2995.984628</td>\n",
       "      <td>4.414247e+07</td>\n",
       "      <td>1.833768e+11</td>\n",
       "      <td>Africa</td>\n",
       "      <td>0</td>\n",
       "      <td>0.000069</td>\n",
       "      <td>4154.204742</td>\n",
       "    </tr>\n",
       "    <tr>\n",
       "      <th>3</th>\n",
       "      <td>AND</td>\n",
       "      <td>Andorra</td>\n",
       "      <td>42.552640</td>\n",
       "      <td>50.128522</td>\n",
       "      <td>7.575882</td>\n",
       "      <td>1.084263e+05</td>\n",
       "      <td>2.857466e+09</td>\n",
       "      <td>Europe</td>\n",
       "      <td>2</td>\n",
       "      <td>0.000392</td>\n",
       "      <td>26354.002159</td>\n",
       "    </tr>\n",
       "    <tr>\n",
       "      <th>4</th>\n",
       "      <td>AGO</td>\n",
       "      <td>Angola</td>\n",
       "      <td>-2665.487484</td>\n",
       "      <td>2114.379991</td>\n",
       "      <td>4779.867474</td>\n",
       "      <td>3.676776e+07</td>\n",
       "      <td>9.788361e+10</td>\n",
       "      <td>Africa</td>\n",
       "      <td>0</td>\n",
       "      <td>-0.000072</td>\n",
       "      <td>2662.212628</td>\n",
       "    </tr>\n",
       "    <tr>\n",
       "      <th>...</th>\n",
       "      <td>...</td>\n",
       "      <td>...</td>\n",
       "      <td>...</td>\n",
       "      <td>...</td>\n",
       "      <td>...</td>\n",
       "      <td>...</td>\n",
       "      <td>...</td>\n",
       "      <td>...</td>\n",
       "      <td>...</td>\n",
       "      <td>...</td>\n",
       "      <td>...</td>\n",
       "    </tr>\n",
       "    <tr>\n",
       "      <th>182</th>\n",
       "      <td>VEN</td>\n",
       "      <td>Venezuela</td>\n",
       "      <td>14588.784775</td>\n",
       "      <td>15776.362844</td>\n",
       "      <td>1187.578069</td>\n",
       "      <td>3.229033e+07</td>\n",
       "      <td>3.873810e+11</td>\n",
       "      <td>South America</td>\n",
       "      <td>6</td>\n",
       "      <td>0.000452</td>\n",
       "      <td>11996.813178</td>\n",
       "    </tr>\n",
       "    <tr>\n",
       "      <th>183</th>\n",
       "      <td>VNM</td>\n",
       "      <td>Vietnam</td>\n",
       "      <td>-21990.234198</td>\n",
       "      <td>10082.443551</td>\n",
       "      <td>32072.677749</td>\n",
       "      <td>9.895143e+07</td>\n",
       "      <td>1.995281e+11</td>\n",
       "      <td>Asia</td>\n",
       "      <td>1</td>\n",
       "      <td>-0.000222</td>\n",
       "      <td>2016.424298</td>\n",
       "    </tr>\n",
       "    <tr>\n",
       "      <th>184</th>\n",
       "      <td>YEM</td>\n",
       "      <td>Yemen</td>\n",
       "      <td>-156.568027</td>\n",
       "      <td>2816.760749</td>\n",
       "      <td>2973.328776</td>\n",
       "      <td>3.042738e+07</td>\n",
       "      <td>3.166482e+10</td>\n",
       "      <td>Asia</td>\n",
       "      <td>1</td>\n",
       "      <td>-0.000005</td>\n",
       "      <td>1040.668685</td>\n",
       "    </tr>\n",
       "    <tr>\n",
       "      <th>185</th>\n",
       "      <td>ZMB</td>\n",
       "      <td>Zambia</td>\n",
       "      <td>188.927469</td>\n",
       "      <td>1656.877956</td>\n",
       "      <td>1467.950487</td>\n",
       "      <td>1.861695e+07</td>\n",
       "      <td>2.202121e+10</td>\n",
       "      <td>Africa</td>\n",
       "      <td>0</td>\n",
       "      <td>0.000010</td>\n",
       "      <td>1182.858128</td>\n",
       "    </tr>\n",
       "    <tr>\n",
       "      <th>186</th>\n",
       "      <td>ZWE</td>\n",
       "      <td>Zimbabwe</td>\n",
       "      <td>162.216831</td>\n",
       "      <td>716.010347</td>\n",
       "      <td>553.793516</td>\n",
       "      <td>1.426931e+07</td>\n",
       "      <td>1.962051e+10</td>\n",
       "      <td>Africa</td>\n",
       "      <td>0</td>\n",
       "      <td>0.000011</td>\n",
       "      <td>1375.015286</td>\n",
       "    </tr>\n",
       "  </tbody>\n",
       "</table>\n",
       "<p>187 rows × 11 columns</p>\n",
       "</div>"
      ],
      "text/plain": [
       "    ADM0_A3         NAME    net_export  export_of_death  import_of_death  \\\n",
       "0       AFG  Afghanistan    437.294550      4749.188636      4311.894085   \n",
       "1       ALB      Albania    -94.854957       901.112178       995.967135   \n",
       "2       DZA      Algeria   3023.901587      6019.886216      2995.984628   \n",
       "3       AND      Andorra     42.552640        50.128522         7.575882   \n",
       "4       AGO       Angola  -2665.487484      2114.379991      4779.867474   \n",
       "..      ...          ...           ...              ...              ...   \n",
       "182     VEN    Venezuela  14588.784775     15776.362844      1187.578069   \n",
       "183     VNM      Vietnam -21990.234198     10082.443551     32072.677749   \n",
       "184     YEM        Yemen   -156.568027      2816.760749      2973.328776   \n",
       "185     ZMB       Zambia    188.927469      1656.877956      1467.950487   \n",
       "186     ZWE     Zimbabwe    162.216831       716.010347       553.793516   \n",
       "\n",
       "       population  final_demand      CONTINENT  CONTINENT_code  \\\n",
       "0    3.056780e+07  2.447052e+10           Asia               1   \n",
       "1    2.895460e+06  1.346807e+10         Europe               2   \n",
       "2    4.414247e+07  1.833768e+11         Africa               0   \n",
       "3    1.084263e+05  2.857466e+09         Europe               2   \n",
       "4    3.676776e+07  9.788361e+10         Africa               0   \n",
       "..            ...           ...            ...             ...   \n",
       "182  3.229033e+07  3.873810e+11  South America               6   \n",
       "183  9.895143e+07  1.995281e+11           Asia               1   \n",
       "184  3.042738e+07  3.166482e+10           Asia               1   \n",
       "185  1.861695e+07  2.202121e+10         Africa               0   \n",
       "186  1.426931e+07  1.962051e+10         Africa               0   \n",
       "\n",
       "     net_export_capita  final_demand_capita  \n",
       "0             0.000014           800.532522  \n",
       "1            -0.000033          4651.443752  \n",
       "2             0.000069          4154.204742  \n",
       "3             0.000392         26354.002159  \n",
       "4            -0.000072          2662.212628  \n",
       "..                 ...                  ...  \n",
       "182           0.000452         11996.813178  \n",
       "183          -0.000222          2016.424298  \n",
       "184          -0.000005          1040.668685  \n",
       "185           0.000010          1182.858128  \n",
       "186           0.000011          1375.015286  \n",
       "\n",
       "[187 rows x 11 columns]"
      ]
     },
     "execution_count": 35,
     "metadata": {},
     "output_type": "execute_result"
    }
   ],
   "source": [
    "df_final"
   ]
  },
  {
   "cell_type": "code",
   "execution_count": 36,
   "metadata": {},
   "outputs": [],
   "source": [
    "df_final.loc[30,'NAME'] = 'Palestine'"
   ]
  },
  {
   "cell_type": "code",
   "execution_count": 37,
   "metadata": {},
   "outputs": [],
   "source": [
    "df_final.to_csv('map_continent.csv')"
   ]
  },
  {
   "cell_type": "code",
   "execution_count": 38,
   "metadata": {},
   "outputs": [
    {
     "name": "stdout",
     "output_type": "stream",
     "text": [
      "Asia negative 0.3673469387755102 positive 0.6326530612244898\n",
      "Europe negative 0.2558139534883721 positive 0.7441860465116279\n",
      "Africa negative 0.5102040816326531 positive 0.4897959183673469\n",
      "North America negative 0.2608695652173913 positive 0.7391304347826086\n",
      "South America negative 0.4166666666666667 positive 0.5833333333333334\n",
      "Oceania negative 0.0 positive 1.0\n",
      "Other negative 0.0 positive 1.0\n"
     ]
    }
   ],
   "source": [
    "for continent in list(df_final['CONTINENT'].unique()):\n",
    "    df_continent = df_final[df_final['CONTINENT'] == continent]\n",
    "    total_number = len(df_continent)\n",
    "    negative = len(df_continent[df_continent['net_export'] < 0])\n",
    "    positive = len(df_continent[df_continent['net_export'] >= 0])\n",
    "    print(continent,'negative',negative/total_number,'positive',positive/total_number)"
   ]
  },
  {
   "cell_type": "markdown",
   "metadata": {},
   "source": [
    "-----"
   ]
  },
  {
   "cell_type": "code",
   "execution_count": 39,
   "metadata": {},
   "outputs": [],
   "source": [
    "df_final.sort_values(by=['net_export'],ascending=True,inplace=True)\n",
    "df_final.reset_index(drop=True,inplace=True)"
   ]
  },
  {
   "cell_type": "code",
   "execution_count": 40,
   "metadata": {},
   "outputs": [
    {
     "data": {
      "text/html": [
       "<div>\n",
       "<style scoped>\n",
       "    .dataframe tbody tr th:only-of-type {\n",
       "        vertical-align: middle;\n",
       "    }\n",
       "\n",
       "    .dataframe tbody tr th {\n",
       "        vertical-align: top;\n",
       "    }\n",
       "\n",
       "    .dataframe thead th {\n",
       "        text-align: right;\n",
       "    }\n",
       "</style>\n",
       "<table border=\"1\" class=\"dataframe\">\n",
       "  <thead>\n",
       "    <tr style=\"text-align: right;\">\n",
       "      <th></th>\n",
       "      <th>ADM0_A3</th>\n",
       "      <th>NAME</th>\n",
       "      <th>net_export</th>\n",
       "      <th>export_of_death</th>\n",
       "      <th>import_of_death</th>\n",
       "      <th>population</th>\n",
       "      <th>final_demand</th>\n",
       "      <th>CONTINENT</th>\n",
       "      <th>CONTINENT_code</th>\n",
       "      <th>net_export_capita</th>\n",
       "      <th>final_demand_capita</th>\n",
       "    </tr>\n",
       "  </thead>\n",
       "  <tbody>\n",
       "    <tr>\n",
       "      <th>0</th>\n",
       "      <td>CHN</td>\n",
       "      <td>China</td>\n",
       "      <td>-218437.645470</td>\n",
       "      <td>121772.328803</td>\n",
       "      <td>340209.974272</td>\n",
       "      <td>1.444650e+09</td>\n",
       "      <td>1.086378e+13</td>\n",
       "      <td>Asia</td>\n",
       "      <td>1</td>\n",
       "      <td>-0.000151</td>\n",
       "      <td>7520.006432</td>\n",
       "    </tr>\n",
       "    <tr>\n",
       "      <th>1</th>\n",
       "      <td>IND</td>\n",
       "      <td>India</td>\n",
       "      <td>-129200.341143</td>\n",
       "      <td>103782.518711</td>\n",
       "      <td>232982.859854</td>\n",
       "      <td>1.409461e+09</td>\n",
       "      <td>2.166778e+12</td>\n",
       "      <td>Asia</td>\n",
       "      <td>1</td>\n",
       "      <td>-0.000092</td>\n",
       "      <td>1537.309263</td>\n",
       "    </tr>\n",
       "    <tr>\n",
       "      <th>2</th>\n",
       "      <td>BGD</td>\n",
       "      <td>Bangladesh</td>\n",
       "      <td>-35955.472116</td>\n",
       "      <td>13290.804708</td>\n",
       "      <td>49246.276824</td>\n",
       "      <td>1.643983e+08</td>\n",
       "      <td>2.291324e+11</td>\n",
       "      <td>Asia</td>\n",
       "      <td>1</td>\n",
       "      <td>-0.000219</td>\n",
       "      <td>1393.763771</td>\n",
       "    </tr>\n",
       "    <tr>\n",
       "      <th>3</th>\n",
       "      <td>VNM</td>\n",
       "      <td>Vietnam</td>\n",
       "      <td>-21990.234198</td>\n",
       "      <td>10082.443551</td>\n",
       "      <td>32072.677749</td>\n",
       "      <td>9.895143e+07</td>\n",
       "      <td>1.995281e+11</td>\n",
       "      <td>Asia</td>\n",
       "      <td>1</td>\n",
       "      <td>-0.000222</td>\n",
       "      <td>2016.424298</td>\n",
       "    </tr>\n",
       "    <tr>\n",
       "      <th>4</th>\n",
       "      <td>ROU</td>\n",
       "      <td>Romania</td>\n",
       "      <td>-16225.407632</td>\n",
       "      <td>4709.992277</td>\n",
       "      <td>20935.399909</td>\n",
       "      <td>3.314418e+07</td>\n",
       "      <td>1.818005e+11</td>\n",
       "      <td>Europe</td>\n",
       "      <td>2</td>\n",
       "      <td>-0.000490</td>\n",
       "      <td>5485.140859</td>\n",
       "    </tr>\n",
       "    <tr>\n",
       "      <th>...</th>\n",
       "      <td>...</td>\n",
       "      <td>...</td>\n",
       "      <td>...</td>\n",
       "      <td>...</td>\n",
       "      <td>...</td>\n",
       "      <td>...</td>\n",
       "      <td>...</td>\n",
       "      <td>...</td>\n",
       "      <td>...</td>\n",
       "      <td>...</td>\n",
       "      <td>...</td>\n",
       "    </tr>\n",
       "    <tr>\n",
       "      <th>182</th>\n",
       "      <td>FRA</td>\n",
       "      <td>France</td>\n",
       "      <td>25222.656626</td>\n",
       "      <td>29864.606945</td>\n",
       "      <td>4641.950320</td>\n",
       "      <td>7.037750e+07</td>\n",
       "      <td>2.467953e+12</td>\n",
       "      <td>Europe</td>\n",
       "      <td>2</td>\n",
       "      <td>0.000358</td>\n",
       "      <td>35067.355548</td>\n",
       "    </tr>\n",
       "    <tr>\n",
       "      <th>183</th>\n",
       "      <td>TUR</td>\n",
       "      <td>Turkey</td>\n",
       "      <td>25674.210781</td>\n",
       "      <td>39342.654066</td>\n",
       "      <td>13668.443286</td>\n",
       "      <td>8.119245e+07</td>\n",
       "      <td>8.107386e+11</td>\n",
       "      <td>Asia</td>\n",
       "      <td>1</td>\n",
       "      <td>0.000316</td>\n",
       "      <td>9985.394269</td>\n",
       "    </tr>\n",
       "    <tr>\n",
       "      <th>184</th>\n",
       "      <td>GBR</td>\n",
       "      <td>United Kingdom</td>\n",
       "      <td>27933.411575</td>\n",
       "      <td>31098.098406</td>\n",
       "      <td>3164.686831</td>\n",
       "      <td>6.787015e+07</td>\n",
       "      <td>2.739458e+12</td>\n",
       "      <td>Europe</td>\n",
       "      <td>2</td>\n",
       "      <td>0.000412</td>\n",
       "      <td>40363.215146</td>\n",
       "    </tr>\n",
       "    <tr>\n",
       "      <th>185</th>\n",
       "      <td>SAU</td>\n",
       "      <td>Saudi Arabia</td>\n",
       "      <td>37645.486365</td>\n",
       "      <td>40775.339888</td>\n",
       "      <td>3129.853523</td>\n",
       "      <td>3.685602e+07</td>\n",
       "      <td>6.380188e+11</td>\n",
       "      <td>Asia</td>\n",
       "      <td>1</td>\n",
       "      <td>0.001021</td>\n",
       "      <td>17311.116404</td>\n",
       "    </tr>\n",
       "    <tr>\n",
       "      <th>186</th>\n",
       "      <td>USA</td>\n",
       "      <td>United States of America</td>\n",
       "      <td>143944.020703</td>\n",
       "      <td>163454.982981</td>\n",
       "      <td>19510.962278</td>\n",
       "      <td>3.453112e+08</td>\n",
       "      <td>1.959300e+13</td>\n",
       "      <td>North America</td>\n",
       "      <td>3</td>\n",
       "      <td>0.000417</td>\n",
       "      <td>56740.118516</td>\n",
       "    </tr>\n",
       "  </tbody>\n",
       "</table>\n",
       "<p>187 rows × 11 columns</p>\n",
       "</div>"
      ],
      "text/plain": [
       "    ADM0_A3                      NAME     net_export  export_of_death  \\\n",
       "0       CHN                     China -218437.645470    121772.328803   \n",
       "1       IND                     India -129200.341143    103782.518711   \n",
       "2       BGD                Bangladesh  -35955.472116     13290.804708   \n",
       "3       VNM                   Vietnam  -21990.234198     10082.443551   \n",
       "4       ROU                   Romania  -16225.407632      4709.992277   \n",
       "..      ...                       ...            ...              ...   \n",
       "182     FRA                    France   25222.656626     29864.606945   \n",
       "183     TUR                    Turkey   25674.210781     39342.654066   \n",
       "184     GBR            United Kingdom   27933.411575     31098.098406   \n",
       "185     SAU              Saudi Arabia   37645.486365     40775.339888   \n",
       "186     USA  United States of America  143944.020703    163454.982981   \n",
       "\n",
       "     import_of_death    population  final_demand      CONTINENT  \\\n",
       "0      340209.974272  1.444650e+09  1.086378e+13           Asia   \n",
       "1      232982.859854  1.409461e+09  2.166778e+12           Asia   \n",
       "2       49246.276824  1.643983e+08  2.291324e+11           Asia   \n",
       "3       32072.677749  9.895143e+07  1.995281e+11           Asia   \n",
       "4       20935.399909  3.314418e+07  1.818005e+11         Europe   \n",
       "..               ...           ...           ...            ...   \n",
       "182      4641.950320  7.037750e+07  2.467953e+12         Europe   \n",
       "183     13668.443286  8.119245e+07  8.107386e+11           Asia   \n",
       "184      3164.686831  6.787015e+07  2.739458e+12         Europe   \n",
       "185      3129.853523  3.685602e+07  6.380188e+11           Asia   \n",
       "186     19510.962278  3.453112e+08  1.959300e+13  North America   \n",
       "\n",
       "     CONTINENT_code  net_export_capita  final_demand_capita  \n",
       "0                 1          -0.000151          7520.006432  \n",
       "1                 1          -0.000092          1537.309263  \n",
       "2                 1          -0.000219          1393.763771  \n",
       "3                 1          -0.000222          2016.424298  \n",
       "4                 2          -0.000490          5485.140859  \n",
       "..              ...                ...                  ...  \n",
       "182               2           0.000358         35067.355548  \n",
       "183               1           0.000316          9985.394269  \n",
       "184               2           0.000412         40363.215146  \n",
       "185               1           0.001021         17311.116404  \n",
       "186               3           0.000417         56740.118516  \n",
       "\n",
       "[187 rows x 11 columns]"
      ]
     },
     "execution_count": 40,
     "metadata": {},
     "output_type": "execute_result"
    }
   ],
   "source": [
    "df_final"
   ]
  },
  {
   "cell_type": "code",
   "execution_count": 41,
   "metadata": {},
   "outputs": [],
   "source": [
    "color_map = {'Africa':\"#7fc97f\",'Asia':\"#beaed4\",'Europe':\"#fdc086\",'North America':\"#a6cee3\",'Oceania':\"#386cb0\",'South America':\"#bf5b17\",'Other':\"#f0027f\"}"
   ]
  },
  {
   "cell_type": "code",
   "execution_count": 42,
   "metadata": {},
   "outputs": [],
   "source": [
    "df_final['colors']=np.nan\n",
    "for i in range(len(df_final)):\n",
    "    df_final.loc[i,'colors'] = color_map[df_final.loc[i,'CONTINENT']]"
   ]
  },
  {
   "cell_type": "code",
   "execution_count": 43,
   "metadata": {},
   "outputs": [],
   "source": [
    "patches = []\n",
    "for i in color_map:\n",
    "    patches.append(mpatches.Patch(color=color_map[i], label=i))"
   ]
  },
  {
   "cell_type": "code",
   "execution_count": 44,
   "metadata": {},
   "outputs": [],
   "source": [
    "country1_list = list(df_final['ADM0_A3'])[:10]\n",
    "country2_list = list(df_final['ADM0_A3'])[-10:]"
   ]
  },
  {
   "cell_type": "code",
   "execution_count": 45,
   "metadata": {},
   "outputs": [
    {
     "data": {
      "text/plain": [
       "<matplotlib.legend.Legend at 0x7f3954816748>"
      ]
     },
     "execution_count": 45,
     "metadata": {},
     "output_type": "execute_result"
    },
    {
     "data": {
      "image/png": "[encoded data removed]",
      "text/plain": [
       "<Figure size 1080x720 with 1 Axes>"
      ]
     },
     "metadata": {
      "needs_background": "light"
     },
     "output_type": "display_data"
    }
   ],
   "source": [
    "plt.subplots(figsize=(15, 10))\n",
    "\n",
    "y = df_final['net_export']/(df_final['population']/1000000)\n",
    "\n",
    "w = df_final['population']/1000000000\n",
    "\n",
    "colors = df_final['colors']\n",
    "\n",
    "#plt.bar(x, height = y, width = w, color = colors, alpha = 0.8)\n",
    "\n",
    "xticks=[]\n",
    "for n, c in enumerate(w):\n",
    "    xticks.append(sum(w[:n]) + w[n]/2)\n",
    "    \n",
    "w_new = [i/max(w) for i in w]\n",
    "plt.ylim(-1500,1500)\n",
    "a = plt.bar(xticks, height = y, width = w, color = colors, alpha = 0.8, linewidth = 0.2, edgecolor = 'black')\n",
    "# b = plt.xticks(xticks, df_final['ADM0_A3'])\n",
    "\n",
    "\n",
    "arrowprops = dict(\n",
    "    arrowstyle = \"->\",\n",
    "    connectionstyle = \"angle, angleA = 0, angleB = 90,\\\n",
    "    rad = 15\")\n",
    "\n",
    "count1 = -300\n",
    "for i in country1_list:\n",
    "    \n",
    "    c_index = list(df_final['ADM0_A3']).index(i)\n",
    "    x_loc = sum(w[:c_index]) + (w[c_index]/2)\n",
    "    y_loc = -10\n",
    "    y_text_loc = count1\n",
    "    plt.annotate(df_final[df_final['ADM0_A3']==i]['NAME'].values[0],xy=(x_loc,y_loc),size=20,\n",
    "        arrowprops = arrowprops,\n",
    "#                  arrowprops = dict(facecolor ='black',shrink = 0.05),\n",
    "        xytext =(x_loc-1,y_text_loc)\n",
    "                )\n",
    "    count1 -= 120\n",
    "        \n",
    "\n",
    "\n",
    "count2 = -100\n",
    "for j in country2_list:\n",
    "    c_index2 = list(df_final['ADM0_A3']).index(j)\n",
    "    x_loc2 = sum(w[:c_index2]) + (w[c_index2]/2)\n",
    "    y_loc2 = 100\n",
    "    y_text_loc2 = count2\n",
    "    plt.annotate(df_final[df_final['ADM0_A3']==j]['NAME'].values[0][:14],xy=(x_loc2,y_loc2),size=20,\n",
    "        arrowprops = arrowprops,\n",
    "#                  arrowprops = dict(facecolor ='black',shrink = 0.05),\n",
    "        xytext =(x_loc2-1,y_text_loc2)\n",
    "                )\n",
    "    count2 -= 150\n",
    "\n",
    "plt.xlabel(\"Population (billion)\",fontsize=24)\n",
    "plt.ylabel(\"Net export of deaths per million population\",fontsize=24)\n",
    "\n",
    "matplotlib.rc('xtick', labelsize=20) \n",
    "matplotlib.rc('ytick', labelsize=20) \n",
    "plt.legend(handles=patches,fontsize=20)\n",
    "\n",
    "# plt.legend(a.patches, df_final['CONTINENT'])"
   ]
  },
  {
   "cell_type": "code",
   "execution_count": 46,
   "metadata": {},
   "outputs": [
    {
     "data": {
      "text/plain": [
       "2784540340.8534756"
      ]
     },
     "execution_count": 46,
     "metadata": {},
     "output_type": "execute_result"
    }
   ],
   "source": [
    "df_final[df_final['net_export_capita']>=0]['population'].sum()"
   ]
  },
  {
   "cell_type": "code",
   "execution_count": 43,
   "metadata": {},
   "outputs": [
    {
     "data": {
      "text/plain": [
       "5077717981.108241"
      ]
     },
     "execution_count": 43,
     "metadata": {},
     "output_type": "execute_result"
    }
   ],
   "source": [
    "df_final[df_final['net_export_capita']<0]['population'].sum()"
   ]
  },
  {
   "cell_type": "code",
   "execution_count": 44,
   "metadata": {},
   "outputs": [
    {
     "data": {
      "text/plain": [
       "0.6382076974948608"
      ]
     },
     "execution_count": 44,
     "metadata": {},
     "output_type": "execute_result"
    }
   ],
   "source": [
    "5077717981.108241/(2878497528.418937+5077717981.108241)"
   ]
  },
  {
   "cell_type": "code",
   "execution_count": null,
   "metadata": {},
   "outputs": [],
   "source": []
  },
  {
   "cell_type": "code",
   "execution_count": 1,
   "metadata": {},
   "outputs": [],
   "source": [
    "import numpy as np\n",
    "import scipy.stats as stats\n",
    "\n",
    "def generate(data):\n",
    "    \n",
    "    muA = np.random.choice(range(10, 16)) * 0.5\n",
    "    sdA = np.random.choice(range(4, 11)) / 10.0\n",
    "    muB = np.random.choice(range(10, 16)) * 0.5\n",
    "    sdB = np.random.choice(range(4, 11)) / 10.0\n",
    "    AsamN = np.random.choice(range(32, 39))\n",
    "    BsamN = np.random.choice(range(47, 56))\n",
    "    deviate = np.random.choice([1.0, 1.5, 2.0])\n",
    "    \n",
    "    # This is the parameter for test\n",
    "    # muA = 6.5\n",
    "    # sdA = 0.9\n",
    "    # muB = 6\n",
    "    # sdB = .8\n",
    "    # AsamN = 36\n",
    "    # BsamN = 49\n",
    "    # deviate = 1\n",
    "    \n",
    "    z = (deviate - (muA - muB)) / np.sqrt(sdA**2 / AsamN + sdB**2 / BsamN)\n",
    "    ans1 = 1 - stats.norm.cdf(z)\n",
    "\n",
    "    \n",
    "    ans = {\n",
    "        \"muA\": float(muA),\n",
    "        \"sdA\": float(sdA),\n",
    "        \"muB\": float(muB),\n",
    "        \"sdB\": float(sdB),\n",
    "        \"AsamN\": int(AsamN),\n",
    "        \"BsamN\": int(BsamN),\n",
    "        \"deviate\": float(deviate),\n",
    "        \"ans1\": float(ans1)  \n",
    "    }\n",
    "\n",
    "    data[\"params\"] = ans\n",
    "    data[\"correct_answers\"] = ans"
   ]
  },
  {
   "cell_type": "code",
   "execution_count": 3,
   "metadata": {},
   "outputs": [
    {
     "ename": "TypeError",
     "evalue": "'float' object does not support item assignment",
     "output_type": "error",
     "traceback": [
      "\u001b[0;31m---------------------------------------------------------------------------\u001b[0m",
      "\u001b[0;31mTypeError\u001b[0m                                 Traceback (most recent call last)",
      "\u001b[0;32m<ipython-input-3-230e8ab04b99>\u001b[0m in \u001b[0;36m<module>\u001b[0;34m\u001b[0m\n\u001b[0;32m----> 1\u001b[0;31m \u001b[0mgenerate\u001b[0m\u001b[0;34m(\u001b[0m\u001b[0;36m0.2\u001b[0m\u001b[0;34m)\u001b[0m\u001b[0;34m\u001b[0m\u001b[0;34m\u001b[0m\u001b[0m\n\u001b[0m",
      "\u001b[0;32m<ipython-input-1-69825a6f5b31>\u001b[0m in \u001b[0;36mgenerate\u001b[0;34m(data)\u001b[0m\n\u001b[1;32m     36\u001b[0m     }\n\u001b[1;32m     37\u001b[0m \u001b[0;34m\u001b[0m\u001b[0m\n\u001b[0;32m---> 38\u001b[0;31m     \u001b[0mdata\u001b[0m\u001b[0;34m[\u001b[0m\u001b[0;34m\"params\"\u001b[0m\u001b[0;34m]\u001b[0m \u001b[0;34m=\u001b[0m \u001b[0mans\u001b[0m\u001b[0;34m\u001b[0m\u001b[0;34m\u001b[0m\u001b[0m\n\u001b[0m\u001b[1;32m     39\u001b[0m     \u001b[0mdata\u001b[0m\u001b[0;34m[\u001b[0m\u001b[0;34m\"correct_answers\"\u001b[0m\u001b[0;34m]\u001b[0m \u001b[0;34m=\u001b[0m \u001b[0mans\u001b[0m\u001b[0;34m\u001b[0m\u001b[0;34m\u001b[0m\u001b[0m\n",
      "\u001b[0;31mTypeError\u001b[0m: 'float' object does not support item assignment"
     ]
    }
   ],
   "source": [
    "generate(0.2)"
   ]
  }
 ],
 "metadata": {
  "kernelspec": {
   "display_name": "Python 3",
   "language": "python",
   "name": "python3"
  },
  "language_info": {
   "codemirror_mode": {
    "name": "ipython",
    "version": 3
   },
   "file_extension": ".py",
   "mimetype": "text/x-python",
   "name": "python",
   "nbconvert_exporter": "python",
   "pygments_lexer": "ipython3",
   "version": "3.6.13"
  }
 },
 "nbformat": 4,
 "nbformat_minor": 2
}
