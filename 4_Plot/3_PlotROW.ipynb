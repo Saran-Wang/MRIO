{
 "cells": [
  {
   "cell_type": "code",
   "execution_count": 2,
   "metadata": {},
   "outputs": [],
   "source": [
    "import matplotlib as m\n",
    "import matplotlib.pyplot as plt\n",
    "from operator import itemgetter\n",
    "import pandas as pd\n",
    "import geopandas as gpd\n",
    "import numpy as np\n",
    "import copy\n",
    "import json\n",
    "from tqdm import tqdm"
   ]
  },
  {
   "cell_type": "code",
   "execution_count": 3,
   "metadata": {},
   "outputs": [],
   "source": [
    "import matplotlib.pyplot as plt\n",
    "import matplotlib as mpl\n",
    "mpl.rcParams['figure.figsize']=(20,9)\n",
    "mpl.style.use('ggplot')"
   ]
  },
  {
   "cell_type": "code",
   "execution_count": 4,
   "metadata": {},
   "outputs": [],
   "source": [
    "fraction = pd.read_csv('C:/Users/15311/Desktop/country_classify.csv')"
   ]
  },
  {
   "cell_type": "code",
   "execution_count": 4,
   "metadata": {},
   "outputs": [],
   "source": [
    "fraction['ROW'] = np.nan"
   ]
  },
  {
   "cell_type": "code",
   "execution_count": 608,
   "metadata": {},
   "outputs": [
    {
     "name": "stderr",
     "output_type": "stream",
     "text": [
      "  6%|████▌                                                                     | 16973/273739 [00:52<13:14, 323.22it/s]\n"
     ]
    },
    {
     "ename": "KeyboardInterrupt",
     "evalue": "",
     "output_type": "error",
     "traceback": [
      "\u001b[1;31m---------------------------------------------------------------------------\u001b[0m",
      "\u001b[1;31mKeyboardInterrupt\u001b[0m                         Traceback (most recent call last)",
      "\u001b[1;32m<ipython-input-608-e30eeece8187>\u001b[0m in \u001b[0;36m<module>\u001b[1;34m()\u001b[0m\n\u001b[0;32m      2\u001b[0m         \u001b[1;32mif\u001b[0m \u001b[1;34m'ROW'\u001b[0m \u001b[1;32mnot\u001b[0m \u001b[1;32min\u001b[0m \u001b[0mjson\u001b[0m\u001b[1;33m.\u001b[0m\u001b[0mloads\u001b[0m\u001b[1;33m(\u001b[0m\u001b[0mfraction\u001b[0m\u001b[1;33m.\u001b[0m\u001b[0miloc\u001b[0m\u001b[1;33m[\u001b[0m\u001b[0mindex\u001b[0m\u001b[1;33m]\u001b[0m\u001b[1;33m[\u001b[0m\u001b[1;34m'area_fraction'\u001b[0m\u001b[1;33m]\u001b[0m\u001b[1;33m.\u001b[0m\u001b[0mreplace\u001b[0m\u001b[1;33m(\u001b[0m\u001b[1;34m'\\''\u001b[0m\u001b[1;33m,\u001b[0m\u001b[1;34m'\\\"'\u001b[0m\u001b[1;33m)\u001b[0m\u001b[1;33m)\u001b[0m\u001b[1;33m.\u001b[0m\u001b[0mkeys\u001b[0m\u001b[1;33m(\u001b[0m\u001b[1;33m)\u001b[0m\u001b[1;33m:\u001b[0m\u001b[1;33m\u001b[0m\u001b[0m\n\u001b[0;32m      3\u001b[0m \u001b[1;31m#             conitinue\u001b[0m\u001b[1;33m\u001b[0m\u001b[1;33m\u001b[0m\u001b[0m\n\u001b[1;32m----> 4\u001b[1;33m             \u001b[0mfraction\u001b[0m\u001b[1;33m.\u001b[0m\u001b[0mloc\u001b[0m\u001b[1;33m[\u001b[0m\u001b[0mindex\u001b[0m\u001b[1;33m,\u001b[0m\u001b[1;34m'ROW'\u001b[0m\u001b[1;33m]\u001b[0m\u001b[1;33m=\u001b[0m \u001b[1;36m0\u001b[0m\u001b[1;33m\u001b[0m\u001b[0m\n\u001b[0m\u001b[0;32m      5\u001b[0m         \u001b[1;32melse\u001b[0m\u001b[1;33m:\u001b[0m\u001b[1;33m\u001b[0m\u001b[0m\n\u001b[0;32m      6\u001b[0m \u001b[1;31m#             print(fraction['area_fraction'][index]['ROW'])\u001b[0m\u001b[1;33m\u001b[0m\u001b[1;33m\u001b[0m\u001b[0m\n",
      "\u001b[1;32m~\\AppData\\Local\\Continuum\\anaconda3\\lib\\site-packages\\pandas\\core\\indexing.py\u001b[0m in \u001b[0;36m__setitem__\u001b[1;34m(self, key, value)\u001b[0m\n\u001b[0;32m    669\u001b[0m             \u001b[0mkey\u001b[0m \u001b[1;33m=\u001b[0m \u001b[0mcom\u001b[0m\u001b[1;33m.\u001b[0m\u001b[0mapply_if_callable\u001b[0m\u001b[1;33m(\u001b[0m\u001b[0mkey\u001b[0m\u001b[1;33m,\u001b[0m \u001b[0mself\u001b[0m\u001b[1;33m.\u001b[0m\u001b[0mobj\u001b[0m\u001b[1;33m)\u001b[0m\u001b[1;33m\u001b[0m\u001b[0m\n\u001b[0;32m    670\u001b[0m         \u001b[0mindexer\u001b[0m \u001b[1;33m=\u001b[0m \u001b[0mself\u001b[0m\u001b[1;33m.\u001b[0m\u001b[0m_get_setitem_indexer\u001b[0m\u001b[1;33m(\u001b[0m\u001b[0mkey\u001b[0m\u001b[1;33m)\u001b[0m\u001b[1;33m\u001b[0m\u001b[0m\n\u001b[1;32m--> 671\u001b[1;33m         \u001b[0mself\u001b[0m\u001b[1;33m.\u001b[0m\u001b[0m_setitem_with_indexer\u001b[0m\u001b[1;33m(\u001b[0m\u001b[0mindexer\u001b[0m\u001b[1;33m,\u001b[0m \u001b[0mvalue\u001b[0m\u001b[1;33m)\u001b[0m\u001b[1;33m\u001b[0m\u001b[0m\n\u001b[0m\u001b[0;32m    672\u001b[0m \u001b[1;33m\u001b[0m\u001b[0m\n\u001b[0;32m    673\u001b[0m     \u001b[1;32mdef\u001b[0m \u001b[0m_validate_key\u001b[0m\u001b[1;33m(\u001b[0m\u001b[0mself\u001b[0m\u001b[1;33m,\u001b[0m \u001b[0mkey\u001b[0m\u001b[1;33m,\u001b[0m \u001b[0maxis\u001b[0m\u001b[1;33m:\u001b[0m \u001b[0mint\u001b[0m\u001b[1;33m)\u001b[0m\u001b[1;33m:\u001b[0m\u001b[1;33m\u001b[0m\u001b[0m\n",
      "\u001b[1;32m~\\AppData\\Local\\Continuum\\anaconda3\\lib\\site-packages\\pandas\\core\\indexing.py\u001b[0m in \u001b[0;36m_setitem_with_indexer\u001b[1;34m(self, indexer, value)\u001b[0m\n\u001b[0;32m   1027\u001b[0m                 \u001b[1;31m# scalar\u001b[0m\u001b[1;33m\u001b[0m\u001b[1;33m\u001b[0m\u001b[0m\n\u001b[0;32m   1028\u001b[0m                 \u001b[1;32mfor\u001b[0m \u001b[0mitem\u001b[0m \u001b[1;32min\u001b[0m \u001b[0mlabels\u001b[0m\u001b[1;33m:\u001b[0m\u001b[1;33m\u001b[0m\u001b[0m\n\u001b[1;32m-> 1029\u001b[1;33m                     \u001b[0msetter\u001b[0m\u001b[1;33m(\u001b[0m\u001b[0mitem\u001b[0m\u001b[1;33m,\u001b[0m \u001b[0mvalue\u001b[0m\u001b[1;33m)\u001b[0m\u001b[1;33m\u001b[0m\u001b[0m\n\u001b[0m\u001b[0;32m   1030\u001b[0m \u001b[1;33m\u001b[0m\u001b[0m\n\u001b[0;32m   1031\u001b[0m         \u001b[1;32melse\u001b[0m\u001b[1;33m:\u001b[0m\u001b[1;33m\u001b[0m\u001b[0m\n",
      "\u001b[1;32m~\\AppData\\Local\\Continuum\\anaconda3\\lib\\site-packages\\pandas\\core\\indexing.py\u001b[0m in \u001b[0;36msetter\u001b[1;34m(item, v)\u001b[0m\n\u001b[0;32m    964\u001b[0m \u001b[1;33m\u001b[0m\u001b[0m\n\u001b[0;32m    965\u001b[0m                 \u001b[1;31m# reset the sliced object if unique\u001b[0m\u001b[1;33m\u001b[0m\u001b[1;33m\u001b[0m\u001b[0m\n\u001b[1;32m--> 966\u001b[1;33m                 \u001b[0mself\u001b[0m\u001b[1;33m.\u001b[0m\u001b[0mobj\u001b[0m\u001b[1;33m[\u001b[0m\u001b[0mitem\u001b[0m\u001b[1;33m]\u001b[0m \u001b[1;33m=\u001b[0m \u001b[0ms\u001b[0m\u001b[1;33m\u001b[0m\u001b[0m\n\u001b[0m\u001b[0;32m    967\u001b[0m \u001b[1;33m\u001b[0m\u001b[0m\n\u001b[0;32m    968\u001b[0m             \u001b[1;31m# we need an iterable, with a ndim of at least 1\u001b[0m\u001b[1;33m\u001b[0m\u001b[1;33m\u001b[0m\u001b[0m\n",
      "\u001b[1;32m~\\AppData\\Local\\Continuum\\anaconda3\\lib\\site-packages\\pandas\\core\\frame.py\u001b[0m in \u001b[0;36m__setitem__\u001b[1;34m(self, key, value)\u001b[0m\n\u001b[0;32m   2936\u001b[0m         \u001b[1;32melse\u001b[0m\u001b[1;33m:\u001b[0m\u001b[1;33m\u001b[0m\u001b[0m\n\u001b[0;32m   2937\u001b[0m             \u001b[1;31m# set column\u001b[0m\u001b[1;33m\u001b[0m\u001b[1;33m\u001b[0m\u001b[0m\n\u001b[1;32m-> 2938\u001b[1;33m             \u001b[0mself\u001b[0m\u001b[1;33m.\u001b[0m\u001b[0m_set_item\u001b[0m\u001b[1;33m(\u001b[0m\u001b[0mkey\u001b[0m\u001b[1;33m,\u001b[0m \u001b[0mvalue\u001b[0m\u001b[1;33m)\u001b[0m\u001b[1;33m\u001b[0m\u001b[0m\n\u001b[0m\u001b[0;32m   2939\u001b[0m \u001b[1;33m\u001b[0m\u001b[0m\n\u001b[0;32m   2940\u001b[0m     \u001b[1;32mdef\u001b[0m \u001b[0m_setitem_slice\u001b[0m\u001b[1;33m(\u001b[0m\u001b[0mself\u001b[0m\u001b[1;33m,\u001b[0m \u001b[0mkey\u001b[0m\u001b[1;33m,\u001b[0m \u001b[0mvalue\u001b[0m\u001b[1;33m)\u001b[0m\u001b[1;33m:\u001b[0m\u001b[1;33m\u001b[0m\u001b[0m\n",
      "\u001b[1;32m~\\AppData\\Local\\Continuum\\anaconda3\\lib\\site-packages\\pandas\\core\\frame.py\u001b[0m in \u001b[0;36m_set_item\u001b[1;34m(self, key, value)\u001b[0m\n\u001b[0;32m   2998\u001b[0m \u001b[1;33m\u001b[0m\u001b[0m\n\u001b[0;32m   2999\u001b[0m         \u001b[0mself\u001b[0m\u001b[1;33m.\u001b[0m\u001b[0m_ensure_valid_index\u001b[0m\u001b[1;33m(\u001b[0m\u001b[0mvalue\u001b[0m\u001b[1;33m)\u001b[0m\u001b[1;33m\u001b[0m\u001b[0m\n\u001b[1;32m-> 3000\u001b[1;33m         \u001b[0mvalue\u001b[0m \u001b[1;33m=\u001b[0m \u001b[0mself\u001b[0m\u001b[1;33m.\u001b[0m\u001b[0m_sanitize_column\u001b[0m\u001b[1;33m(\u001b[0m\u001b[0mkey\u001b[0m\u001b[1;33m,\u001b[0m \u001b[0mvalue\u001b[0m\u001b[1;33m)\u001b[0m\u001b[1;33m\u001b[0m\u001b[0m\n\u001b[0m\u001b[0;32m   3001\u001b[0m         \u001b[0mNDFrame\u001b[0m\u001b[1;33m.\u001b[0m\u001b[0m_set_item\u001b[0m\u001b[1;33m(\u001b[0m\u001b[0mself\u001b[0m\u001b[1;33m,\u001b[0m \u001b[0mkey\u001b[0m\u001b[1;33m,\u001b[0m \u001b[0mvalue\u001b[0m\u001b[1;33m)\u001b[0m\u001b[1;33m\u001b[0m\u001b[0m\n\u001b[0;32m   3002\u001b[0m \u001b[1;33m\u001b[0m\u001b[0m\n",
      "\u001b[1;32m~\\AppData\\Local\\Continuum\\anaconda3\\lib\\site-packages\\pandas\\core\\frame.py\u001b[0m in \u001b[0;36m_sanitize_column\u001b[1;34m(self, key, value, broadcast)\u001b[0m\n\u001b[0;32m   3611\u001b[0m \u001b[1;33m\u001b[0m\u001b[0m\n\u001b[0;32m   3612\u001b[0m         \u001b[1;32mif\u001b[0m \u001b[0misinstance\u001b[0m\u001b[1;33m(\u001b[0m\u001b[0mvalue\u001b[0m\u001b[1;33m,\u001b[0m \u001b[0mSeries\u001b[0m\u001b[1;33m)\u001b[0m\u001b[1;33m:\u001b[0m\u001b[1;33m\u001b[0m\u001b[0m\n\u001b[1;32m-> 3613\u001b[1;33m             \u001b[0mvalue\u001b[0m \u001b[1;33m=\u001b[0m \u001b[0mreindexer\u001b[0m\u001b[1;33m(\u001b[0m\u001b[0mvalue\u001b[0m\u001b[1;33m)\u001b[0m\u001b[1;33m\u001b[0m\u001b[0m\n\u001b[0m\u001b[0;32m   3614\u001b[0m \u001b[1;33m\u001b[0m\u001b[0m\n\u001b[0;32m   3615\u001b[0m         \u001b[1;32melif\u001b[0m \u001b[0misinstance\u001b[0m\u001b[1;33m(\u001b[0m\u001b[0mvalue\u001b[0m\u001b[1;33m,\u001b[0m \u001b[0mDataFrame\u001b[0m\u001b[1;33m)\u001b[0m\u001b[1;33m:\u001b[0m\u001b[1;33m\u001b[0m\u001b[0m\n",
      "\u001b[1;32m~\\AppData\\Local\\Continuum\\anaconda3\\lib\\site-packages\\pandas\\core\\frame.py\u001b[0m in \u001b[0;36mreindexer\u001b[1;34m(value)\u001b[0m\n\u001b[0;32m   3592\u001b[0m \u001b[1;33m\u001b[0m\u001b[0m\n\u001b[0;32m   3593\u001b[0m             \u001b[1;32mif\u001b[0m \u001b[0mvalue\u001b[0m\u001b[1;33m.\u001b[0m\u001b[0mindex\u001b[0m\u001b[1;33m.\u001b[0m\u001b[0mequals\u001b[0m\u001b[1;33m(\u001b[0m\u001b[0mself\u001b[0m\u001b[1;33m.\u001b[0m\u001b[0mindex\u001b[0m\u001b[1;33m)\u001b[0m \u001b[1;32mor\u001b[0m \u001b[1;32mnot\u001b[0m \u001b[0mlen\u001b[0m\u001b[1;33m(\u001b[0m\u001b[0mself\u001b[0m\u001b[1;33m.\u001b[0m\u001b[0mindex\u001b[0m\u001b[1;33m)\u001b[0m\u001b[1;33m:\u001b[0m\u001b[1;33m\u001b[0m\u001b[0m\n\u001b[1;32m-> 3594\u001b[1;33m                 \u001b[0mvalue\u001b[0m \u001b[1;33m=\u001b[0m \u001b[0mvalue\u001b[0m\u001b[1;33m.\u001b[0m\u001b[0m_values\u001b[0m\u001b[1;33m.\u001b[0m\u001b[0mcopy\u001b[0m\u001b[1;33m(\u001b[0m\u001b[1;33m)\u001b[0m\u001b[1;33m\u001b[0m\u001b[0m\n\u001b[0m\u001b[0;32m   3595\u001b[0m             \u001b[1;32melse\u001b[0m\u001b[1;33m:\u001b[0m\u001b[1;33m\u001b[0m\u001b[0m\n\u001b[0;32m   3596\u001b[0m \u001b[1;33m\u001b[0m\u001b[0m\n",
      "\u001b[1;31mKeyboardInterrupt\u001b[0m: "
     ]
    }
   ],
   "source": [
    "for index in tqdm(range(len(fraction))):\n",
    "        if 'ROW' not in json.loads(fraction.iloc[index]['area_fraction'].replace('\\'','\\\"')).keys():\n",
    "#             conitinue\n",
    "            fraction.loc[index,'ROW']= 0\n",
    "        else:\n",
    "#             print(fraction['area_fraction'][index]['ROW'])\n",
    "            fraction.loc[index,'ROW'] = json.loads(fraction.iloc[index]['area_fraction'].replace('\\'','\\\"'))['ROW']"
   ]
  },
  {
   "cell_type": "code",
   "execution_count": 6,
   "metadata": {},
   "outputs": [],
   "source": [
    "wholeworldB = gpd.read_file('C:/Users/15311/Desktop/output_wholeworld/wholeworld_bio.shp')\n",
    "wholeworldB = gpd.GeoDataFrame(wholeworldB)"
   ]
  },
  {
   "cell_type": "code",
   "execution_count": 7,
   "metadata": {},
   "outputs": [
    {
     "data": {
      "text/plain": [
       "(-197.75, 192.75, -96.79999999999998, 96.8)"
      ]
     },
     "execution_count": 7,
     "metadata": {},
     "output_type": "execute_result"
    },
    {
     "data": {
      "image/png": "[encoded data removed]",
      "text/plain": [
       "<Figure size 1440x648 with 2 Axes>"
      ]
     },
     "metadata": {},
     "output_type": "display_data"
    }
   ],
   "source": [
    "fig, ax = plt.subplots(1, 1)\n",
    "wholeworldB.plot(linewidths=0,column='SOA',ax=ax, vmin=0,vmax=1,legend=True,cmap = 'Reds',missing_kwds={\n",
    "        \"color\": \"lightgrey\",\n",
    "        \"edgecolor\": \"grey\",\n",
    "        \"hatch\": \"///\",\n",
    "        \"label\": \"Missing values\",\n",
    "    });\n",
    "plt.title('Excess mortality rates due to production \\n (Unit: Number of deaths per 100000 populations)',fontsize=24)\n",
    "ax.axis('off')"
   ]
  },
  {
   "cell_type": "code",
   "execution_count": 8,
   "metadata": {},
   "outputs": [],
   "source": [
    "wholeworldB['ROW'] = fraction['ROW']"
   ]
  },
  {
   "cell_type": "code",
   "execution_count": 9,
   "metadata": {},
   "outputs": [
    {
     "data": {
      "text/html": [
       "<div>\n",
       "<style scoped>\n",
       "    .dataframe tbody tr th:only-of-type {\n",
       "        vertical-align: middle;\n",
       "    }\n",
       "\n",
       "    .dataframe tbody tr th {\n",
       "        vertical-align: top;\n",
       "    }\n",
       "\n",
       "    .dataframe thead th {\n",
       "        text-align: right;\n",
       "    }\n",
       "</style>\n",
       "<table border=\"1\" class=\"dataframe\">\n",
       "  <thead>\n",
       "    <tr style=\"text-align: right;\">\n",
       "      <th></th>\n",
       "      <th>AllCause</th>\n",
       "      <th>BasePM25</th>\n",
       "      <th>NH3</th>\n",
       "      <th>NOx</th>\n",
       "      <th>PNH4</th>\n",
       "      <th>PNO3</th>\n",
       "      <th>PSO4</th>\n",
       "      <th>SOA</th>\n",
       "      <th>SOx</th>\n",
       "      <th>TotalPM25</th>\n",
       "      <th>TotalPop</th>\n",
       "      <th>TotalPopD</th>\n",
       "      <th>geometry</th>\n",
       "      <th>ROW</th>\n",
       "    </tr>\n",
       "  </thead>\n",
       "  <tbody>\n",
       "    <tr>\n",
       "      <th>0</th>\n",
       "      <td>0.0</td>\n",
       "      <td>0.426418</td>\n",
       "      <td>3.316920e-08</td>\n",
       "      <td>0.000026</td>\n",
       "      <td>3.835537e-07</td>\n",
       "      <td>0.000031</td>\n",
       "      <td>6.226768e-08</td>\n",
       "      <td>0.000055</td>\n",
       "      <td>6.966243e-31</td>\n",
       "      <td>0.000094</td>\n",
       "      <td>0.000000</td>\n",
       "      <td>0.0</td>\n",
       "      <td>POLYGON ((-180.00000 -88.00000, -175.00000 -88...</td>\n",
       "      <td>1.000000</td>\n",
       "    </tr>\n",
       "    <tr>\n",
       "      <th>1</th>\n",
       "      <td>0.0</td>\n",
       "      <td>0.508265</td>\n",
       "      <td>2.956050e-08</td>\n",
       "      <td>0.000018</td>\n",
       "      <td>2.686768e-07</td>\n",
       "      <td>0.000023</td>\n",
       "      <td>4.373582e-08</td>\n",
       "      <td>0.000035</td>\n",
       "      <td>4.418886e-32</td>\n",
       "      <td>0.000064</td>\n",
       "      <td>0.000000</td>\n",
       "      <td>0.0</td>\n",
       "      <td>POLYGON ((-180.00000 -84.00000, -175.00000 -84...</td>\n",
       "      <td>1.000000</td>\n",
       "    </tr>\n",
       "    <tr>\n",
       "      <th>2</th>\n",
       "      <td>0.0</td>\n",
       "      <td>0.550982</td>\n",
       "      <td>1.284192e-08</td>\n",
       "      <td>0.000008</td>\n",
       "      <td>1.226300e-07</td>\n",
       "      <td>0.000011</td>\n",
       "      <td>1.945994e-08</td>\n",
       "      <td>0.000016</td>\n",
       "      <td>3.906132e-33</td>\n",
       "      <td>0.000030</td>\n",
       "      <td>0.000000</td>\n",
       "      <td>0.0</td>\n",
       "      <td>POLYGON ((-180.00000 -80.00000, -175.00000 -80...</td>\n",
       "      <td>1.000000</td>\n",
       "    </tr>\n",
       "    <tr>\n",
       "      <th>3</th>\n",
       "      <td>0.0</td>\n",
       "      <td>0.680774</td>\n",
       "      <td>1.098556e-08</td>\n",
       "      <td>0.000005</td>\n",
       "      <td>6.034586e-08</td>\n",
       "      <td>0.000007</td>\n",
       "      <td>9.650949e-09</td>\n",
       "      <td>0.000009</td>\n",
       "      <td>2.494349e-32</td>\n",
       "      <td>0.000018</td>\n",
       "      <td>0.000000</td>\n",
       "      <td>0.0</td>\n",
       "      <td>POLYGON ((-180.00000 -76.00000, -175.00000 -76...</td>\n",
       "      <td>1.000000</td>\n",
       "    </tr>\n",
       "    <tr>\n",
       "      <th>4</th>\n",
       "      <td>0.0</td>\n",
       "      <td>1.058635</td>\n",
       "      <td>7.086690e-09</td>\n",
       "      <td>0.000003</td>\n",
       "      <td>3.009428e-08</td>\n",
       "      <td>0.000006</td>\n",
       "      <td>4.475599e-09</td>\n",
       "      <td>0.000005</td>\n",
       "      <td>4.925545e-33</td>\n",
       "      <td>0.000011</td>\n",
       "      <td>0.000000</td>\n",
       "      <td>0.0</td>\n",
       "      <td>POLYGON ((-180.00000 -72.00000, -175.00000 -72...</td>\n",
       "      <td>1.000000</td>\n",
       "    </tr>\n",
       "    <tr>\n",
       "      <th>...</th>\n",
       "      <td>...</td>\n",
       "      <td>...</td>\n",
       "      <td>...</td>\n",
       "      <td>...</td>\n",
       "      <td>...</td>\n",
       "      <td>...</td>\n",
       "      <td>...</td>\n",
       "      <td>...</td>\n",
       "      <td>...</td>\n",
       "      <td>...</td>\n",
       "      <td>...</td>\n",
       "      <td>...</td>\n",
       "      <td>...</td>\n",
       "      <td>...</td>\n",
       "    </tr>\n",
       "    <tr>\n",
       "      <th>273734</th>\n",
       "      <td>0.0</td>\n",
       "      <td>2.168654</td>\n",
       "      <td>7.947285e-04</td>\n",
       "      <td>0.047907</td>\n",
       "      <td>1.875811e-04</td>\n",
       "      <td>0.011319</td>\n",
       "      <td>4.246912e-04</td>\n",
       "      <td>0.034175</td>\n",
       "      <td>2.018801e-04</td>\n",
       "      <td>0.068489</td>\n",
       "      <td>17890.831710</td>\n",
       "      <td>0.0</td>\n",
       "      <td>POLYGON ((174.92188 -41.18750, 175.00000 -41.1...</td>\n",
       "      <td>0.000000</td>\n",
       "    </tr>\n",
       "    <tr>\n",
       "      <th>273735</th>\n",
       "      <td>0.0</td>\n",
       "      <td>2.589360</td>\n",
       "      <td>3.040639e-04</td>\n",
       "      <td>0.029231</td>\n",
       "      <td>7.888282e-05</td>\n",
       "      <td>0.004807</td>\n",
       "      <td>1.920463e-04</td>\n",
       "      <td>0.040697</td>\n",
       "      <td>6.116166e-06</td>\n",
       "      <td>0.057297</td>\n",
       "      <td>23655.892511</td>\n",
       "      <td>0.0</td>\n",
       "      <td>POLYGON ((174.92188 -37.12500, 175.00000 -37.1...</td>\n",
       "      <td>0.218216</td>\n",
       "    </tr>\n",
       "    <tr>\n",
       "      <th>273736</th>\n",
       "      <td>0.0</td>\n",
       "      <td>2.589360</td>\n",
       "      <td>2.915851e-04</td>\n",
       "      <td>0.031871</td>\n",
       "      <td>7.564546e-05</td>\n",
       "      <td>0.005241</td>\n",
       "      <td>1.668708e-04</td>\n",
       "      <td>0.036010</td>\n",
       "      <td>1.845838e-05</td>\n",
       "      <td>0.051402</td>\n",
       "      <td>23694.283337</td>\n",
       "      <td>0.0</td>\n",
       "      <td>POLYGON ((174.92188 -37.06250, 175.00000 -37.0...</td>\n",
       "      <td>0.001094</td>\n",
       "    </tr>\n",
       "    <tr>\n",
       "      <th>273737</th>\n",
       "      <td>0.0</td>\n",
       "      <td>2.423264</td>\n",
       "      <td>3.969634e-04</td>\n",
       "      <td>0.039902</td>\n",
       "      <td>9.294622e-05</td>\n",
       "      <td>0.005442</td>\n",
       "      <td>1.520888e-04</td>\n",
       "      <td>0.031096</td>\n",
       "      <td>7.500343e-05</td>\n",
       "      <td>0.046619</td>\n",
       "      <td>10540.864873</td>\n",
       "      <td>0.0</td>\n",
       "      <td>POLYGON ((174.92188 -37.00000, 175.00000 -37.0...</td>\n",
       "      <td>0.000000</td>\n",
       "    </tr>\n",
       "    <tr>\n",
       "      <th>273738</th>\n",
       "      <td>0.0</td>\n",
       "      <td>2.423264</td>\n",
       "      <td>4.580531e-04</td>\n",
       "      <td>0.044527</td>\n",
       "      <td>1.072499e-04</td>\n",
       "      <td>0.006073</td>\n",
       "      <td>1.600504e-04</td>\n",
       "      <td>0.034473</td>\n",
       "      <td>9.794663e-05</td>\n",
       "      <td>0.051320</td>\n",
       "      <td>32921.812008</td>\n",
       "      <td>0.0</td>\n",
       "      <td>POLYGON ((174.92188 -36.93750, 175.00000 -36.9...</td>\n",
       "      <td>0.437532</td>\n",
       "    </tr>\n",
       "  </tbody>\n",
       "</table>\n",
       "<p>273739 rows × 14 columns</p>\n",
       "</div>"
      ],
      "text/plain": [
       "        AllCause  BasePM25           NH3       NOx          PNH4      PNO3  \\\n",
       "0            0.0  0.426418  3.316920e-08  0.000026  3.835537e-07  0.000031   \n",
       "1            0.0  0.508265  2.956050e-08  0.000018  2.686768e-07  0.000023   \n",
       "2            0.0  0.550982  1.284192e-08  0.000008  1.226300e-07  0.000011   \n",
       "3            0.0  0.680774  1.098556e-08  0.000005  6.034586e-08  0.000007   \n",
       "4            0.0  1.058635  7.086690e-09  0.000003  3.009428e-08  0.000006   \n",
       "...          ...       ...           ...       ...           ...       ...   \n",
       "273734       0.0  2.168654  7.947285e-04  0.047907  1.875811e-04  0.011319   \n",
       "273735       0.0  2.589360  3.040639e-04  0.029231  7.888282e-05  0.004807   \n",
       "273736       0.0  2.589360  2.915851e-04  0.031871  7.564546e-05  0.005241   \n",
       "273737       0.0  2.423264  3.969634e-04  0.039902  9.294622e-05  0.005442   \n",
       "273738       0.0  2.423264  4.580531e-04  0.044527  1.072499e-04  0.006073   \n",
       "\n",
       "                PSO4       SOA           SOx  TotalPM25      TotalPop  \\\n",
       "0       6.226768e-08  0.000055  6.966243e-31   0.000094      0.000000   \n",
       "1       4.373582e-08  0.000035  4.418886e-32   0.000064      0.000000   \n",
       "2       1.945994e-08  0.000016  3.906132e-33   0.000030      0.000000   \n",
       "3       9.650949e-09  0.000009  2.494349e-32   0.000018      0.000000   \n",
       "4       4.475599e-09  0.000005  4.925545e-33   0.000011      0.000000   \n",
       "...              ...       ...           ...        ...           ...   \n",
       "273734  4.246912e-04  0.034175  2.018801e-04   0.068489  17890.831710   \n",
       "273735  1.920463e-04  0.040697  6.116166e-06   0.057297  23655.892511   \n",
       "273736  1.668708e-04  0.036010  1.845838e-05   0.051402  23694.283337   \n",
       "273737  1.520888e-04  0.031096  7.500343e-05   0.046619  10540.864873   \n",
       "273738  1.600504e-04  0.034473  9.794663e-05   0.051320  32921.812008   \n",
       "\n",
       "        TotalPopD                                           geometry       ROW  \n",
       "0             0.0  POLYGON ((-180.00000 -88.00000, -175.00000 -88...  1.000000  \n",
       "1             0.0  POLYGON ((-180.00000 -84.00000, -175.00000 -84...  1.000000  \n",
       "2             0.0  POLYGON ((-180.00000 -80.00000, -175.00000 -80...  1.000000  \n",
       "3             0.0  POLYGON ((-180.00000 -76.00000, -175.00000 -76...  1.000000  \n",
       "4             0.0  POLYGON ((-180.00000 -72.00000, -175.00000 -72...  1.000000  \n",
       "...           ...                                                ...       ...  \n",
       "273734        0.0  POLYGON ((174.92188 -41.18750, 175.00000 -41.1...  0.000000  \n",
       "273735        0.0  POLYGON ((174.92188 -37.12500, 175.00000 -37.1...  0.218216  \n",
       "273736        0.0  POLYGON ((174.92188 -37.06250, 175.00000 -37.0...  0.001094  \n",
       "273737        0.0  POLYGON ((174.92188 -37.00000, 175.00000 -37.0...  0.000000  \n",
       "273738        0.0  POLYGON ((174.92188 -36.93750, 175.00000 -36.9...  0.437532  \n",
       "\n",
       "[273739 rows x 14 columns]"
      ]
     },
     "execution_count": 9,
     "metadata": {},
     "output_type": "execute_result"
    }
   ],
   "source": [
    "wholeworldB"
   ]
  },
  {
   "cell_type": "code",
   "execution_count": 10,
   "metadata": {},
   "outputs": [
    {
     "data": {
      "text/plain": [
       "(-197.75, 192.75, -96.79999999999998, 96.8)"
      ]
     },
     "execution_count": 10,
     "metadata": {},
     "output_type": "execute_result"
    },
    {
     "data": {
      "image/png": "[encoded data removed]",
      "text/plain": [
       "<Figure size 1440x648 with 2 Axes>"
      ]
     },
     "metadata": {},
     "output_type": "display_data"
    }
   ],
   "source": [
    "fig, ax = plt.subplots(1, 1)\n",
    "wholeworldB.plot(linewidths=0,column='ROW',ax=ax, vmin=0,vmax=1,legend=True,cmap = 'Reds',missing_kwds={\n",
    "        \"color\": \"lightgrey\",\n",
    "        \"edgecolor\": \"grey\",\n",
    "        \"hatch\": \"///\",\n",
    "        \"label\": \"Missing values\",\n",
    "    });\n",
    "plt.title('ROW in the map',fontsize=24)\n",
    "ax.axis('off')"
   ]
  },
  {
   "cell_type": "markdown",
   "metadata": {},
   "source": [
    "# New ROW"
   ]
  },
  {
   "cell_type": "code",
   "execution_count": 5,
   "metadata": {},
   "outputs": [],
   "source": [
    "fraction = pd.read_csv('C:/Users/15311/Desktop/country_classify_final.csv')"
   ]
  },
  {
   "cell_type": "code",
   "execution_count": 3,
   "metadata": {},
   "outputs": [],
   "source": [
    "fraction['ROW'] = np.nan"
   ]
  },
  {
   "cell_type": "code",
   "execution_count": 4,
   "metadata": {},
   "outputs": [
    {
     "name": "stderr",
     "output_type": "stream",
     "text": [
      "100%|█████████████████████████████████████████████████████████████████████████| 273739/273739 [13:04<00:00, 349.13it/s]\n"
     ]
    }
   ],
   "source": [
    "for index in tqdm(range(len(fraction))):\n",
    "        if 'ROW' not in json.loads(fraction.iloc[index]['new_area_fraction'].replace('\\'','\\\"')).keys():\n",
    "#             conitinue\n",
    "            fraction.loc[index,'ROW']= 0\n",
    "        else:\n",
    "#             print(fraction['area_fraction'][index]['ROW'])\n",
    "            fraction.loc[index,'ROW'] = json.loads(fraction.iloc[index]['new_area_fraction'].replace('\\'','\\\"'))['ROW']"
   ]
  },
  {
   "cell_type": "code",
   "execution_count": 5,
   "metadata": {},
   "outputs": [],
   "source": [
    "wholeworldB = gpd.read_file('C:/Users/15311/Desktop/output_wholeworld/wholeworld_bio.shp')\n",
    "wholeworldB = gpd.GeoDataFrame(wholeworldB)"
   ]
  },
  {
   "cell_type": "code",
   "execution_count": 6,
   "metadata": {},
   "outputs": [],
   "source": [
    "wholeworldB['ROW'] = fraction['ROW']"
   ]
  },
  {
   "cell_type": "code",
   "execution_count": 7,
   "metadata": {},
   "outputs": [
    {
     "name": "stderr",
     "output_type": "stream",
     "text": [
      "C:\\Users\\15311\\AppData\\Local\\Continuum\\anaconda3\\lib\\site-packages\\pyproj\\crs\\crs.py:53: FutureWarning: '+init=<authority>:<code>' syntax is deprecated. '<authority>:<code>' is the preferred initialization method. When making the change, be mindful of axis order changes: https://pyproj4.github.io/pyproj/stable/gotchas.html#axis-order-changes-in-proj-6\n",
      "  return _prepare_from_string(\" \".join(pjargs))\n"
     ]
    }
   ],
   "source": [
    "from shapely.geometry import Polygon,MultiPolygon\n",
    "import shapely\n",
    "# a polygon covers the whole globe\n",
    "lat_point_list = [88,88,2,2]\n",
    "lon_point_list = [-178, -2, -2, -178] # clocewise\n",
    "\n",
    "polygon_geom = Polygon(zip(lon_point_list, lat_point_list))\n",
    "crs = {'init': 'epsg:4326'}\n",
    "rectangle1 = gpd.GeoDataFrame(index=[0], crs=crs, geometry=[polygon_geom]) \n",
    "rectangle1 = shapely.geometry.asShape(rectangle1.__geo_interface__['features'][0]['geometry'])"
   ]
  },
  {
   "cell_type": "code",
   "execution_count": 8,
   "metadata": {},
   "outputs": [
    {
     "name": "stderr",
     "output_type": "stream",
     "text": [
      "C:\\Users\\15311\\AppData\\Local\\Continuum\\anaconda3\\lib\\site-packages\\pyproj\\crs\\crs.py:53: FutureWarning: '+init=<authority>:<code>' syntax is deprecated. '<authority>:<code>' is the preferred initialization method. When making the change, be mindful of axis order changes: https://pyproj4.github.io/pyproj/stable/gotchas.html#axis-order-changes-in-proj-6\n",
      "  return _prepare_from_string(\" \".join(pjargs))\n"
     ]
    }
   ],
   "source": [
    "# a polygon covers the whole globe\n",
    "lat_point_list = [88,88,2,2]\n",
    "lon_point_list = [2, 178, 178, 2] # clocewise\n",
    "\n",
    "polygon_geom = Polygon(zip(lon_point_list, lat_point_list))\n",
    "crs = {'init': 'epsg:4326'}\n",
    "rectangle2 = gpd.GeoDataFrame(index=[0], crs=crs, geometry=[polygon_geom]) \n",
    "rectangle2 = shapely.geometry.asShape(rectangle2.__geo_interface__['features'][0]['geometry'])"
   ]
  },
  {
   "cell_type": "code",
   "execution_count": 9,
   "metadata": {},
   "outputs": [
    {
     "name": "stderr",
     "output_type": "stream",
     "text": [
      "C:\\Users\\15311\\AppData\\Local\\Continuum\\anaconda3\\lib\\site-packages\\pyproj\\crs\\crs.py:53: FutureWarning: '+init=<authority>:<code>' syntax is deprecated. '<authority>:<code>' is the preferred initialization method. When making the change, be mindful of axis order changes: https://pyproj4.github.io/pyproj/stable/gotchas.html#axis-order-changes-in-proj-6\n",
      "  return _prepare_from_string(\" \".join(pjargs))\n"
     ]
    }
   ],
   "source": [
    "from shapely.geometry import Polygon,MultiPolygon\n",
    "import shapely\n",
    "# a polygon covers the whole globe\n",
    "lat_point_list = [-2,-2,-88,-88]\n",
    "lon_point_list = [-178, -2, -2, -178] # clocewise\n",
    "\n",
    "polygon_geom = Polygon(zip(lon_point_list, lat_point_list))\n",
    "crs = {'init': 'epsg:4326'}\n",
    "rectangle3 = gpd.GeoDataFrame(index=[0], crs=crs, geometry=[polygon_geom]) \n",
    "rectangle3 = shapely.geometry.asShape(rectangle3.__geo_interface__['features'][0]['geometry'])"
   ]
  },
  {
   "cell_type": "code",
   "execution_count": 10,
   "metadata": {},
   "outputs": [
    {
     "name": "stderr",
     "output_type": "stream",
     "text": [
      "C:\\Users\\15311\\AppData\\Local\\Continuum\\anaconda3\\lib\\site-packages\\pyproj\\crs\\crs.py:53: FutureWarning: '+init=<authority>:<code>' syntax is deprecated. '<authority>:<code>' is the preferred initialization method. When making the change, be mindful of axis order changes: https://pyproj4.github.io/pyproj/stable/gotchas.html#axis-order-changes-in-proj-6\n",
      "  return _prepare_from_string(\" \".join(pjargs))\n"
     ]
    }
   ],
   "source": [
    "from shapely.geometry import Polygon,MultiPolygon\n",
    "import shapely\n",
    "# a polygon covers the whole globe\n",
    "lat_point_list = [-2,-2,-88,-88]\n",
    "lon_point_list = [2, 178, 178, 2] # clocewise\n",
    "\n",
    "polygon_geom = Polygon(zip(lon_point_list, lat_point_list))\n",
    "crs = {'init': 'epsg:4326'}\n",
    "rectangle4 = gpd.GeoDataFrame(index=[0], crs=crs, geometry=[polygon_geom]) \n",
    "rectangle4 = shapely.geometry.asShape(rectangle4.__geo_interface__['features'][0]['geometry'])"
   ]
  },
  {
   "cell_type": "code",
   "execution_count": 11,
   "metadata": {},
   "outputs": [
    {
     "data": {
      "image/svg+xml": [
       "<svg xmlns=\"http://www.w3.org/2000/svg\" xmlns:xlink=\"http://www.w3.org/1999/xlink\" width=\"300\" height=\"204.48\" viewBox=\"-192.24 -102.24 384.48 204.48\" preserveAspectRatio=\"xMinYMin meet\"><g transform=\"matrix(1,0,0,-1,0,0.0)\"><g><path fill-rule=\"evenodd\" fill=\"#66cc99\" stroke=\"#555555\" stroke-width=\"2.5632\" opacity=\"0.6\" d=\"M -178.0,88.0 L -2.0,88.0 L -2.0,2.0 L -178.0,2.0 L -178.0,88.0 z\" /><path fill-rule=\"evenodd\" fill=\"#66cc99\" stroke=\"#555555\" stroke-width=\"2.5632\" opacity=\"0.6\" d=\"M 2.0,88.0 L 178.0,88.0 L 178.0,2.0 L 2.0,2.0 L 2.0,88.0 z\" /><path fill-rule=\"evenodd\" fill=\"#66cc99\" stroke=\"#555555\" stroke-width=\"2.5632\" opacity=\"0.6\" d=\"M -178.0,-2.0 L -2.0,-2.0 L -2.0,-88.0 L -178.0,-88.0 L -178.0,-2.0 z\" /><path fill-rule=\"evenodd\" fill=\"#66cc99\" stroke=\"#555555\" stroke-width=\"2.5632\" opacity=\"0.6\" d=\"M 2.0,-2.0 L 178.0,-2.0 L 178.0,-88.0 L 2.0,-88.0 L 2.0,-2.0 z\" /></g></g></svg>"
      ],
      "text/plain": [
       "<shapely.geometry.multipolygon.MultiPolygon at 0x1b6a1b274e0>"
      ]
     },
     "execution_count": 11,
     "metadata": {},
     "output_type": "execute_result"
    }
   ],
   "source": [
    "rectangle1.union(rectangle2).union(rectangle3).union(rectangle4)"
   ]
  },
  {
   "cell_type": "code",
   "execution_count": 12,
   "metadata": {},
   "outputs": [
    {
     "data": {
      "image/svg+xml": [
       "<svg xmlns=\"http://www.w3.org/2000/svg\" xmlns:xlink=\"http://www.w3.org/1999/xlink\" width=\"190.07999999999998\" height=\"100.08000000000001\" viewBox=\"-5.04 -5.04 190.07999999999998 100.08000000000001\" preserveAspectRatio=\"xMinYMin meet\"><g transform=\"matrix(1,0,0,-1,0,90.0)\"><path fill-rule=\"evenodd\" fill=\"#66cc99\" stroke=\"#555555\" stroke-width=\"2.0\" opacity=\"0.6\" d=\"M 2.0,88.0 L 178.0,88.0 L 178.0,2.0 L 2.0,2.0 L 2.0,88.0 z\" /></g></svg>"
      ],
      "text/plain": [
       "<shapely.geometry.polygon.PolygonAdapter at 0x1b6a1b27908>"
      ]
     },
     "execution_count": 12,
     "metadata": {},
     "output_type": "execute_result"
    }
   ],
   "source": [
    "rectangle2"
   ]
  },
  {
   "cell_type": "code",
   "execution_count": 13,
   "metadata": {},
   "outputs": [
    {
     "data": {
      "text/plain": [
       "<Geographic 2D CRS: EPSG:4326>\n",
       "Name: WGS 84\n",
       "Axis Info [ellipsoidal]:\n",
       "- Lat[north]: Geodetic latitude (degree)\n",
       "- Lon[east]: Geodetic longitude (degree)\n",
       "Area of Use:\n",
       "- name: World\n",
       "- bounds: (-180.0, -90.0, 180.0, 90.0)\n",
       "Datum: World Geodetic System 1984\n",
       "- Ellipsoid: WGS 84\n",
       "- Prime Meridian: Greenwich"
      ]
     },
     "execution_count": 13,
     "metadata": {},
     "output_type": "execute_result"
    }
   ],
   "source": [
    "wholeworldB.crs"
   ]
  },
  {
   "cell_type": "code",
   "execution_count": 14,
   "metadata": {},
   "outputs": [
    {
     "data": {
      "text/html": [
       "<div>\n",
       "<style scoped>\n",
       "    .dataframe tbody tr th:only-of-type {\n",
       "        vertical-align: middle;\n",
       "    }\n",
       "\n",
       "    .dataframe tbody tr th {\n",
       "        vertical-align: top;\n",
       "    }\n",
       "\n",
       "    .dataframe thead th {\n",
       "        text-align: right;\n",
       "    }\n",
       "</style>\n",
       "<table border=\"1\" class=\"dataframe\">\n",
       "  <thead>\n",
       "    <tr style=\"text-align: right;\">\n",
       "      <th></th>\n",
       "      <th>AllCause</th>\n",
       "      <th>BasePM25</th>\n",
       "      <th>NH3</th>\n",
       "      <th>NOx</th>\n",
       "      <th>PNH4</th>\n",
       "      <th>PNO3</th>\n",
       "      <th>PSO4</th>\n",
       "      <th>SOA</th>\n",
       "      <th>SOx</th>\n",
       "      <th>TotalPM25</th>\n",
       "      <th>TotalPop</th>\n",
       "      <th>TotalPopD</th>\n",
       "      <th>geometry</th>\n",
       "      <th>ROW</th>\n",
       "    </tr>\n",
       "  </thead>\n",
       "  <tbody>\n",
       "    <tr>\n",
       "      <th>0</th>\n",
       "      <td>0.0</td>\n",
       "      <td>0.426418</td>\n",
       "      <td>3.316920e-08</td>\n",
       "      <td>0.000026</td>\n",
       "      <td>3.835537e-07</td>\n",
       "      <td>0.000031</td>\n",
       "      <td>6.226768e-08</td>\n",
       "      <td>0.000055</td>\n",
       "      <td>6.966243e-31</td>\n",
       "      <td>0.000094</td>\n",
       "      <td>0.000000</td>\n",
       "      <td>0.0</td>\n",
       "      <td>POLYGON ((-180.00000 -88.00000, -175.00000 -88...</td>\n",
       "      <td>1.0</td>\n",
       "    </tr>\n",
       "    <tr>\n",
       "      <th>1</th>\n",
       "      <td>0.0</td>\n",
       "      <td>0.508265</td>\n",
       "      <td>2.956050e-08</td>\n",
       "      <td>0.000018</td>\n",
       "      <td>2.686768e-07</td>\n",
       "      <td>0.000023</td>\n",
       "      <td>4.373582e-08</td>\n",
       "      <td>0.000035</td>\n",
       "      <td>4.418886e-32</td>\n",
       "      <td>0.000064</td>\n",
       "      <td>0.000000</td>\n",
       "      <td>0.0</td>\n",
       "      <td>POLYGON ((-180.00000 -84.00000, -175.00000 -84...</td>\n",
       "      <td>1.0</td>\n",
       "    </tr>\n",
       "    <tr>\n",
       "      <th>2</th>\n",
       "      <td>0.0</td>\n",
       "      <td>0.550982</td>\n",
       "      <td>1.284192e-08</td>\n",
       "      <td>0.000008</td>\n",
       "      <td>1.226300e-07</td>\n",
       "      <td>0.000011</td>\n",
       "      <td>1.945994e-08</td>\n",
       "      <td>0.000016</td>\n",
       "      <td>3.906132e-33</td>\n",
       "      <td>0.000030</td>\n",
       "      <td>0.000000</td>\n",
       "      <td>0.0</td>\n",
       "      <td>POLYGON ((-180.00000 -80.00000, -175.00000 -80...</td>\n",
       "      <td>1.0</td>\n",
       "    </tr>\n",
       "    <tr>\n",
       "      <th>3</th>\n",
       "      <td>0.0</td>\n",
       "      <td>0.680774</td>\n",
       "      <td>1.098556e-08</td>\n",
       "      <td>0.000005</td>\n",
       "      <td>6.034586e-08</td>\n",
       "      <td>0.000007</td>\n",
       "      <td>9.650949e-09</td>\n",
       "      <td>0.000009</td>\n",
       "      <td>2.494349e-32</td>\n",
       "      <td>0.000018</td>\n",
       "      <td>0.000000</td>\n",
       "      <td>0.0</td>\n",
       "      <td>POLYGON ((-180.00000 -76.00000, -175.00000 -76...</td>\n",
       "      <td>1.0</td>\n",
       "    </tr>\n",
       "    <tr>\n",
       "      <th>4</th>\n",
       "      <td>0.0</td>\n",
       "      <td>1.058635</td>\n",
       "      <td>7.086690e-09</td>\n",
       "      <td>0.000003</td>\n",
       "      <td>3.009428e-08</td>\n",
       "      <td>0.000006</td>\n",
       "      <td>4.475599e-09</td>\n",
       "      <td>0.000005</td>\n",
       "      <td>4.925545e-33</td>\n",
       "      <td>0.000011</td>\n",
       "      <td>0.000000</td>\n",
       "      <td>0.0</td>\n",
       "      <td>POLYGON ((-180.00000 -72.00000, -175.00000 -72...</td>\n",
       "      <td>1.0</td>\n",
       "    </tr>\n",
       "    <tr>\n",
       "      <th>...</th>\n",
       "      <td>...</td>\n",
       "      <td>...</td>\n",
       "      <td>...</td>\n",
       "      <td>...</td>\n",
       "      <td>...</td>\n",
       "      <td>...</td>\n",
       "      <td>...</td>\n",
       "      <td>...</td>\n",
       "      <td>...</td>\n",
       "      <td>...</td>\n",
       "      <td>...</td>\n",
       "      <td>...</td>\n",
       "      <td>...</td>\n",
       "      <td>...</td>\n",
       "    </tr>\n",
       "    <tr>\n",
       "      <th>273622</th>\n",
       "      <td>0.0</td>\n",
       "      <td>1.536172</td>\n",
       "      <td>1.201266e-06</td>\n",
       "      <td>0.000135</td>\n",
       "      <td>3.358522e-07</td>\n",
       "      <td>0.000137</td>\n",
       "      <td>1.969122e-07</td>\n",
       "      <td>0.004201</td>\n",
       "      <td>9.865580e-10</td>\n",
       "      <td>0.004345</td>\n",
       "      <td>16880.707017</td>\n",
       "      <td>0.0</td>\n",
       "      <td>POLYGON ((173.12500 1.00000, 173.75000 1.00000...</td>\n",
       "      <td>1.0</td>\n",
       "    </tr>\n",
       "    <tr>\n",
       "      <th>273623</th>\n",
       "      <td>0.0</td>\n",
       "      <td>1.536172</td>\n",
       "      <td>1.030403e-06</td>\n",
       "      <td>0.000093</td>\n",
       "      <td>2.880821e-07</td>\n",
       "      <td>0.000094</td>\n",
       "      <td>1.277797e-07</td>\n",
       "      <td>0.003195</td>\n",
       "      <td>3.595226e-10</td>\n",
       "      <td>0.003295</td>\n",
       "      <td>966.663281</td>\n",
       "      <td>0.0</td>\n",
       "      <td>POLYGON ((173.12500 1.50000, 173.75000 1.50000...</td>\n",
       "      <td>1.0</td>\n",
       "    </tr>\n",
       "    <tr>\n",
       "      <th>273627</th>\n",
       "      <td>0.0</td>\n",
       "      <td>1.588798</td>\n",
       "      <td>1.191514e-06</td>\n",
       "      <td>0.000073</td>\n",
       "      <td>3.306690e-07</td>\n",
       "      <td>0.000083</td>\n",
       "      <td>1.060388e-07</td>\n",
       "      <td>0.004001</td>\n",
       "      <td>1.130817e-10</td>\n",
       "      <td>0.004089</td>\n",
       "      <td>11131.912960</td>\n",
       "      <td>0.0</td>\n",
       "      <td>POLYGON ((172.50000 2.00000, 175.00000 2.00000...</td>\n",
       "      <td>1.0</td>\n",
       "    </tr>\n",
       "    <tr>\n",
       "      <th>273643</th>\n",
       "      <td>0.0</td>\n",
       "      <td>1.437485</td>\n",
       "      <td>1.339997e-06</td>\n",
       "      <td>0.000182</td>\n",
       "      <td>4.016071e-07</td>\n",
       "      <td>0.000170</td>\n",
       "      <td>3.103354e-07</td>\n",
       "      <td>0.006236</td>\n",
       "      <td>3.554433e-09</td>\n",
       "      <td>0.006416</td>\n",
       "      <td>2877.504657</td>\n",
       "      <td>0.0</td>\n",
       "      <td>POLYGON ((173.75000 0.00000, 175.00000 0.00000...</td>\n",
       "      <td>1.0</td>\n",
       "    </tr>\n",
       "    <tr>\n",
       "      <th>273644</th>\n",
       "      <td>0.0</td>\n",
       "      <td>1.536374</td>\n",
       "      <td>7.013452e-07</td>\n",
       "      <td>0.000065</td>\n",
       "      <td>2.099825e-07</td>\n",
       "      <td>0.000072</td>\n",
       "      <td>1.004540e-07</td>\n",
       "      <td>0.002406</td>\n",
       "      <td>4.919603e-10</td>\n",
       "      <td>0.002482</td>\n",
       "      <td>0.000000</td>\n",
       "      <td>0.0</td>\n",
       "      <td>POLYGON ((173.75000 1.00000, 175.00000 1.00000...</td>\n",
       "      <td>1.0</td>\n",
       "    </tr>\n",
       "  </tbody>\n",
       "</table>\n",
       "<p>1771 rows × 14 columns</p>\n",
       "</div>"
      ],
      "text/plain": [
       "        AllCause  BasePM25           NH3       NOx          PNH4      PNO3  \\\n",
       "0            0.0  0.426418  3.316920e-08  0.000026  3.835537e-07  0.000031   \n",
       "1            0.0  0.508265  2.956050e-08  0.000018  2.686768e-07  0.000023   \n",
       "2            0.0  0.550982  1.284192e-08  0.000008  1.226300e-07  0.000011   \n",
       "3            0.0  0.680774  1.098556e-08  0.000005  6.034586e-08  0.000007   \n",
       "4            0.0  1.058635  7.086690e-09  0.000003  3.009428e-08  0.000006   \n",
       "...          ...       ...           ...       ...           ...       ...   \n",
       "273622       0.0  1.536172  1.201266e-06  0.000135  3.358522e-07  0.000137   \n",
       "273623       0.0  1.536172  1.030403e-06  0.000093  2.880821e-07  0.000094   \n",
       "273627       0.0  1.588798  1.191514e-06  0.000073  3.306690e-07  0.000083   \n",
       "273643       0.0  1.437485  1.339997e-06  0.000182  4.016071e-07  0.000170   \n",
       "273644       0.0  1.536374  7.013452e-07  0.000065  2.099825e-07  0.000072   \n",
       "\n",
       "                PSO4       SOA           SOx  TotalPM25      TotalPop  \\\n",
       "0       6.226768e-08  0.000055  6.966243e-31   0.000094      0.000000   \n",
       "1       4.373582e-08  0.000035  4.418886e-32   0.000064      0.000000   \n",
       "2       1.945994e-08  0.000016  3.906132e-33   0.000030      0.000000   \n",
       "3       9.650949e-09  0.000009  2.494349e-32   0.000018      0.000000   \n",
       "4       4.475599e-09  0.000005  4.925545e-33   0.000011      0.000000   \n",
       "...              ...       ...           ...        ...           ...   \n",
       "273622  1.969122e-07  0.004201  9.865580e-10   0.004345  16880.707017   \n",
       "273623  1.277797e-07  0.003195  3.595226e-10   0.003295    966.663281   \n",
       "273627  1.060388e-07  0.004001  1.130817e-10   0.004089  11131.912960   \n",
       "273643  3.103354e-07  0.006236  3.554433e-09   0.006416   2877.504657   \n",
       "273644  1.004540e-07  0.002406  4.919603e-10   0.002482      0.000000   \n",
       "\n",
       "        TotalPopD                                           geometry  ROW  \n",
       "0             0.0  POLYGON ((-180.00000 -88.00000, -175.00000 -88...  1.0  \n",
       "1             0.0  POLYGON ((-180.00000 -84.00000, -175.00000 -84...  1.0  \n",
       "2             0.0  POLYGON ((-180.00000 -80.00000, -175.00000 -80...  1.0  \n",
       "3             0.0  POLYGON ((-180.00000 -76.00000, -175.00000 -76...  1.0  \n",
       "4             0.0  POLYGON ((-180.00000 -72.00000, -175.00000 -72...  1.0  \n",
       "...           ...                                                ...  ...  \n",
       "273622        0.0  POLYGON ((173.12500 1.00000, 173.75000 1.00000...  1.0  \n",
       "273623        0.0  POLYGON ((173.12500 1.50000, 173.75000 1.50000...  1.0  \n",
       "273627        0.0  POLYGON ((172.50000 2.00000, 175.00000 2.00000...  1.0  \n",
       "273643        0.0  POLYGON ((173.75000 0.00000, 175.00000 0.00000...  1.0  \n",
       "273644        0.0  POLYGON ((173.75000 1.00000, 175.00000 1.00000...  1.0  \n",
       "\n",
       "[1771 rows x 14 columns]"
      ]
     },
     "execution_count": 14,
     "metadata": {},
     "output_type": "execute_result"
    }
   ],
   "source": [
    "wholeworldB[wholeworldB['ROW']==1.0]"
   ]
  },
  {
   "cell_type": "code",
   "execution_count": 16,
   "metadata": {},
   "outputs": [
    {
     "data": {
      "image/svg+xml": [
       "<svg xmlns=\"http://www.w3.org/2000/svg\" xmlns:xlink=\"http://www.w3.org/1999/xlink\" width=\"100.0\" height=\"100.0\" viewBox=\"-180.2 -88.2 5.399999999999977 4.400000000000006\" preserveAspectRatio=\"xMinYMin meet\"><g transform=\"matrix(1,0,0,-1,0,-172.0)\"><path fill-rule=\"evenodd\" fill=\"#66cc99\" stroke=\"#555555\" stroke-width=\"0.10799999999999954\" opacity=\"0.6\" d=\"M -180.0,-88.0 L -175.0,-88.0 L -175.0,-84.0 L -180.0,-84.0 L -180.0,-88.0 z\" /></g></svg>"
      ],
      "text/plain": [
       "<shapely.geometry.polygon.PolygonAdapter at 0x1b6a19f3208>"
      ]
     },
     "execution_count": 16,
     "metadata": {},
     "output_type": "execute_result"
    }
   ],
   "source": [
    "polygon = shapely.geometry.asShape(wholeworldB[wholeworldB['ROW']==1.0].__geo_interface__['features'][0]['geometry'])\n",
    "polygon"
   ]
  },
  {
   "cell_type": "code",
   "execution_count": 17,
   "metadata": {},
   "outputs": [],
   "source": [
    "for i in wholeworldB[wholeworldB['ROW']==1.0].__geo_interface__['features'][1:]:\n",
    "    new_polygon = shapely.geometry.asShape(i['geometry'])\n",
    "    polygon = polygon.union(new_polygon)"
   ]
  },
  {
   "cell_type": "code",
   "execution_count": 18,
   "metadata": {},
   "outputs": [
    {
     "data": {
      "image/svg+xml": [
       "<svg xmlns=\"http://www.w3.org/2000/svg\" xmlns:xlink=\"http://www.w3.org/1999/xlink\" width=\"300\" height=\"204.4\" viewBox=\"-194.2 -102.2 383.4 204.4\" preserveAspectRatio=\"xMinYMin meet\"><g transform=\"matrix(1,0,0,-1,0,0.0)\"><g><path fill-rule=\"evenodd\" fill=\"#66cc99\" stroke=\"#555555\" stroke-width=\"2.556\" opacity=\"0.6\" d=\"M -175.0,-88.0 L -180.0,-88.0 L -180.0,-84.0 L -180.0,-80.0 L -180.0,-76.0 L -180.0,-72.0 L -180.0,-68.0 L -180.0,-64.0 L -180.0,-60.0 L -180.0,-56.0 L -175.0,-56.0 L -175.0,-52.0 L -175.0,-48.0 L -170.0,-48.0 L -170.0,-44.0 L -170.0,-40.0 L -175.0,-40.0 L -175.0,-36.0 L -170.0,-36.0 L -170.0,-32.0 L -170.0,-28.0 L -170.0,-24.0 L -165.0,-24.0 L -165.0,-28.0 L -160.0,-28.0 L -155.0,-28.0 L -150.0,-28.0 L -150.0,-32.0 L -145.0,-32.0 L -140.0,-32.0 L -135.0,-32.0 L -130.0,-32.0 L -125.0,-32.0 L -120.0,-32.0 L -120.0,-28.0 L -120.0,-24.0 L -120.0,-20.0 L -125.0,-20.0 L -130.0,-20.0 L -130.0,-16.0 L -130.0,-12.0 L -135.0,-12.0 L -135.0,-8.0 L -135.0,-4.0 L -140.0,-4.0 L -145.0,-4.0 L -145.0,-8.0 L -150.0,-8.0 L -155.0,-8.0 L -155.0,-4.0 L -155.0,0.0 L -155.0,4.0 L -155.0,8.0 L -155.0,12.0 L -150.0,12.0 L -150.0,16.0 L -150.0,20.0 L -150.0,24.0 L -150.0,28.0 L -155.0,28.0 L -160.0,28.0 L -165.0,28.0 L -165.0,32.0 L -170.0,32.0 L -175.0,32.0 L -180.0,32.0 L -180.0,36.0 L -180.0,40.0 L -180.0,44.0 L -175.0,44.0 L -175.0,48.0 L -170.0,48.0 L -165.0,48.0 L -160.0,48.0 L -155.0,48.0 L -155.0,52.0 L -150.0,52.0 L -145.0,52.0 L -140.0,52.0 L -140.0,48.0 L -135.0,48.0 L -135.0,44.0 L -130.0,44.0 L -130.0,40.0 L -130.0,36.0 L -130.0,32.0 L -125.0,32.0 L -125.0,28.0 L -125.0,24.0 L -120.0,24.0 L -120.0,20.0 L -120.0,16.0 L -120.0,12.0 L -115.0,12.0 L -115.0,8.0 L -115.0,4.0 L -110.0,4.0 L -105.0,4.0 L -105.0,8.0 L -105.0,12.0 L -100.0,12.0 L -95.0,12.0 L -95.0,8.0 L -95.0,4.0 L -100.0,4.0 L -100.0,0.0 L -100.0,-4.0 L -95.0,-4.0 L -95.0,-8.0 L -90.0,-8.0 L -85.0,-8.0 L -85.0,-12.0 L -85.0,-16.0 L -80.0,-16.0 L -80.0,-20.0 L -85.0,-20.0 L -85.0,-24.0 L -85.0,-28.0 L -85.0,-32.0 L -85.0,-36.0 L -85.0,-40.0 L -80.0,-40.0 L -80.0,-44.0 L -85.0,-44.0 L -85.0,-48.0 L -85.0,-52.0 L -85.0,-56.0 L -80.0,-56.0 L -80.0,-60.0 L -75.0,-60.0 L -70.0,-60.0 L -65.0,-60.0 L -60.0,-60.0 L -55.0,-60.0 L -55.0,-56.0 L -55.0,-52.0 L -60.0,-52.0 L -60.0,-48.0 L -55.0,-48.0 L -55.0,-44.0 L -50.0,-44.0 L -50.0,-40.0 L -50.0,-36.0 L -45.0,-36.0 L -45.0,-32.0 L -40.0,-32.0 L -40.0,-28.0 L -35.0,-28.0 L -35.0,-24.0 L -30.0,-24.0 L -25.0,-24.0 L -25.0,-20.0 L -25.0,-16.0 L -30.0,-16.0 L -30.0,-12.0 L -30.0,-8.0 L -25.0,-8.0 L -25.0,-4.0 L -25.0,0.0 L -25.0,4.0 L -25.0,8.0 L -20.0,8.0 L -20.0,4.0 L -15.0,4.0 L -15.0,0.0 L -10.0,0.0 L -5.0,0.0 L 0.0,0.0 L 0.0,-4.0 L 5.0,-4.0 L 5.0,-8.0 L 5.0,-12.0 L 5.0,-16.0 L 5.0,-20.0 L 5.0,-24.0 L 10.0,-24.0 L 10.0,-28.0 L 10.0,-32.0 L 10.0,-36.0 L 10.0,-40.0 L 15.0,-40.0 L 20.0,-40.0 L 25.0,-40.0 L 30.0,-40.0 L 30.0,-36.0 L 35.0,-36.0 L 35.0,-32.0 L 40.0,-32.0 L 45.0,-32.0 L 50.0,-32.0 L 50.0,-28.0 L 55.0,-28.0 L 60.0,-28.0 L 60.0,-24.0 L 65.0,-24.0 L 70.0,-24.0 L 70.0,-20.0 L 70.0,-16.0 L 65.0,-16.0 L 65.0,-12.0 L 65.0,-8.0 L 60.0,-8.0 L 60.0,-4.0 L 60.0,0.0 L 55.0,0.0 L 55.0,4.0 L 55.0,8.0 L 60.0,8.0 L 60.0,12.0 L 60.0,16.0 L 65.0,16.0 L 65.0,12.0 L 65.0,8.0 L 65.0,4.0 L 65.0,0.0 L 65.0,-4.0 L 70.0,-4.0 L 75.0,-4.0 L 80.0,-4.0 L 80.0,0.0 L 85.0,0.0 L 85.0,4.0 L 90.0,4.0 L 90.0,0.0 L 90.0,-4.0 L 95.0,-4.0 L 95.0,-8.0 L 90.0,-8.0 L 90.0,-12.0 L 90.0,-16.0 L 95.0,-16.0 L 100.0,-16.0 L 105.0,-16.0 L 110.0,-16.0 L 110.0,-20.0 L 105.0,-20.0 L 105.0,-24.0 L 105.0,-28.0 L 105.0,-32.0 L 110.0,-32.0 L 110.0,-36.0 L 110.0,-40.0 L 115.0,-40.0 L 120.0,-40.0 L 125.0,-40.0 L 130.0,-40.0 L 135.0,-40.0 L 135.0,-44.0 L 140.0,-44.0 L 140.0,-48.0 L 145.0,-48.0 L 150.0,-48.0 L 155.0,-48.0 L 155.0,-52.0 L 150.0,-52.0 L 150.0,-56.0 L 150.0,-60.0 L 155.0,-60.0 L 160.0,-60.0 L 165.0,-60.0 L 165.0,-56.0 L 170.0,-56.0 L 175.0,-56.0 L 175.0,-60.0 L 175.0,-64.0 L 175.0,-68.0 L 175.0,-72.0 L 175.0,-76.0 L 175.0,-80.0 L 175.0,-84.0 L 175.0,-88.0 L 170.0,-88.0 L 165.0,-88.0 L 160.0,-88.0 L 155.0,-88.0 L 150.0,-88.0 L 145.0,-88.0 L 140.0,-88.0 L 135.0,-88.0 L 130.0,-88.0 L 125.0,-88.0 L 120.0,-88.0 L 115.0,-88.0 L 110.0,-88.0 L 105.0,-88.0 L 100.0,-88.0 L 95.0,-88.0 L 90.0,-88.0 L 85.0,-88.0 L 80.0,-88.0 L 75.0,-88.0 L 70.0,-88.0 L 65.0,-88.0 L 60.0,-88.0 L 55.0,-88.0 L 50.0,-88.0 L 45.0,-88.0 L 40.0,-88.0 L 35.0,-88.0 L 30.0,-88.0 L 25.0,-88.0 L 20.0,-88.0 L 15.0,-88.0 L 10.0,-88.0 L 5.0,-88.0 L 0.0,-88.0 L -5.0,-88.0 L -10.0,-88.0 L -15.0,-88.0 L -20.0,-88.0 L -25.0,-88.0 L -30.0,-88.0 L -35.0,-88.0 L -40.0,-88.0 L -45.0,-88.0 L -50.0,-88.0 L -55.0,-88.0 L -60.0,-88.0 L -65.0,-88.0 L -70.0,-88.0 L -75.0,-88.0 L -80.0,-88.0 L -85.0,-88.0 L -90.0,-88.0 L -95.0,-88.0 L -100.0,-88.0 L -105.0,-88.0 L -110.0,-88.0 L -115.0,-88.0 L -120.0,-88.0 L -125.0,-88.0 L -130.0,-88.0 L -135.0,-88.0 L -140.0,-88.0 L -145.0,-88.0 L -150.0,-88.0 L -155.0,-88.0 L -160.0,-88.0 L -165.0,-88.0 L -170.0,-88.0 L -175.0,-88.0 z M 30.0,-40.0 L 30.0,-44.0 L 30.0,-48.0 L 30.0,-52.0 L 35.0,-52.0 L 40.0,-52.0 L 45.0,-52.0 L 50.0,-52.0 L 55.0,-52.0 L 60.0,-52.0 L 60.0,-56.0 L 65.0,-56.0 L 65.0,-60.0 L 70.0,-60.0 L 75.0,-60.0 L 80.0,-60.0 L 80.0,-56.0 L 80.0,-52.0 L 80.0,-48.0 L 80.0,-44.0 L 85.0,-44.0 L 85.0,-40.0 L 85.0,-36.0 L 85.0,-32.0 L 80.0,-32.0 L 75.0,-32.0 L 70.0,-32.0 L 70.0,-36.0 L 70.0,-40.0 L 70.0,-44.0 L 65.0,-44.0 L 60.0,-44.0 L 60.0,-40.0 L 55.0,-40.0 L 50.0,-40.0 L 45.0,-40.0 L 40.0,-40.0 L 35.0,-40.0 L 30.0,-40.0 z M 0.0,-12.0 L -5.0,-12.0 L -10.0,-12.0 L -10.0,-16.0 L -10.0,-20.0 L -5.0,-20.0 L 0.0,-20.0 L 0.0,-16.0 L 0.0,-12.0 z M -10.0,-12.0 L -10.0,-8.0 L -10.0,-4.0 L -15.0,-4.0 L -20.0,-4.0 L -20.0,-8.0 L -20.0,-12.0 L -15.0,-12.0 L -10.0,-12.0 z M 5.0,-52.0 L 0.0,-52.0 L 0.0,-56.0 L 5.0,-56.0 L 5.0,-52.0 z M -5.0,-32.0 L -10.0,-32.0 L -15.0,-32.0 L -20.0,-32.0 L -20.0,-36.0 L -20.0,-40.0 L -20.0,-44.0 L -15.0,-44.0 L -10.0,-44.0 L -5.0,-44.0 L -5.0,-40.0 L -5.0,-36.0 L -5.0,-32.0 z M -100.0,-20.0 L -105.0,-20.0 L -110.0,-20.0 L -115.0,-20.0 L -115.0,-24.0 L -115.0,-28.0 L -115.0,-32.0 L -110.0,-32.0 L -105.0,-32.0 L -100.0,-32.0 L -100.0,-28.0 L -100.0,-24.0 L -100.0,-20.0 z\" /><path fill-rule=\"evenodd\" fill=\"#66cc99\" stroke=\"#555555\" stroke-width=\"2.556\" opacity=\"0.6\" d=\"M -175.0,8.0 L -180.0,8.0 L -180.0,12.0 L -180.0,16.0 L -180.0,20.0 L -175.0,20.0 L -175.0,16.0 L -175.0,12.0 L -170.0,12.0 L -170.0,8.0 L -170.0,4.0 L -175.0,4.0 L -175.0,8.0 z\" /><path fill-rule=\"evenodd\" fill=\"#66cc99\" stroke=\"#555555\" stroke-width=\"2.556\" opacity=\"0.6\" d=\"M -175.0,76.0 L -180.0,76.0 L -180.0,80.0 L -180.0,84.0 L -180.0,88.0 L -175.0,88.0 L -170.0,88.0 L -165.0,88.0 L -160.0,88.0 L -155.0,88.0 L -150.0,88.0 L -145.0,88.0 L -140.0,88.0 L -135.0,88.0 L -130.0,88.0 L -125.0,88.0 L -120.0,88.0 L -115.0,88.0 L -115.0,84.0 L -120.0,84.0 L -125.0,84.0 L -130.0,84.0 L -130.0,80.0 L -135.0,80.0 L -140.0,80.0 L -140.0,76.0 L -145.0,76.0 L -150.0,76.0 L -155.0,76.0 L -160.0,76.0 L -165.0,76.0 L -170.0,76.0 L -175.0,76.0 z\" /><path fill-rule=\"evenodd\" fill=\"#66cc99\" stroke=\"#555555\" stroke-width=\"2.556\" opacity=\"0.6\" d=\"M -170.0,-4.0 L -170.0,0.0 L -170.0,4.0 L -165.0,4.0 L -165.0,0.0 L -165.0,-4.0 L -170.0,-4.0 z\" /><path fill-rule=\"evenodd\" fill=\"#66cc99\" stroke=\"#555555\" stroke-width=\"2.556\" opacity=\"0.6\" d=\"M -165.0,12.0 L -165.0,16.0 L -160.0,16.0 L -160.0,12.0 L -165.0,12.0 z\" /><path fill-rule=\"evenodd\" fill=\"#66cc99\" stroke=\"#555555\" stroke-width=\"2.556\" opacity=\"0.6\" d=\"M -67.109375,18.125 L -67.109375,18.1875 L -67.109375,18.25 L -67.03125,18.25 L -67.03125,18.375 L -66.875,18.375 L -66.875,18.4375 L -66.796875,18.4375 L -66.71875,18.4375 L -66.71875,18.375 L -66.5625,18.375 L -66.40625,18.375 L -66.40625,18.4375 L -66.328125,18.4375 L -66.25,18.4375 L -66.2109375,18.4375 L -66.171875,18.4375 L -66.1328125,18.4375 L -66.1328125,18.40625 L -66.09375,18.40625 L -66.0546875,18.40625 L -66.0546875,18.4375 L -66.015625,18.4375 L -65.9765625,18.4375 L -65.9375,18.4375 L -65.9375,18.40625 L -65.9375,18.375 L -65.78125,18.375 L -65.78125,18.25 L -65.78125,18.1875 L -65.78125,18.125 L -65.859375,18.125 L -65.9375,18.125 L -65.9375,18.0 L -66.09375,18.0 L -66.25,18.0 L -66.40625,18.0 L -66.5625,18.0 L -66.6015625,18.0 L -66.640625,18.0 L -66.71875,18.0 L -66.71875,18.0625 L -66.71875,18.125 L -66.875,18.125 L -66.875,18.0 L -67.03125,18.0 L -67.03125,18.125 L -67.109375,18.125 z\" /><path fill-rule=\"evenodd\" fill=\"#66cc99\" stroke=\"#555555\" stroke-width=\"2.556\" opacity=\"0.6\" d=\"M -65.0,24.0 L -65.0,28.0 L -60.0,28.0 L -60.0,32.0 L -60.0,36.0 L -65.0,36.0 L -65.0,40.0 L -60.0,40.0 L -55.0,40.0 L -50.0,40.0 L -50.0,44.0 L -45.0,44.0 L -45.0,48.0 L -45.0,52.0 L -45.0,56.0 L -40.0,56.0 L -35.0,56.0 L -35.0,60.0 L -30.0,60.0 L -25.0,60.0 L -25.0,56.0 L -20.0,56.0 L -20.0,52.0 L -20.0,48.0 L -15.0,48.0 L -15.0,44.0 L -15.0,40.0 L -20.0,40.0 L -20.0,44.0 L -25.0,44.0 L -30.0,44.0 L -35.0,44.0 L -40.0,44.0 L -40.0,40.0 L -40.0,36.0 L -35.0,36.0 L -35.0,32.0 L -30.0,32.0 L -25.0,32.0 L -25.0,28.0 L -25.0,24.0 L -30.0,24.0 L -30.0,20.0 L -30.0,16.0 L -30.0,12.0 L -30.0,8.0 L -35.0,8.0 L -35.0,4.0 L -40.0,4.0 L -45.0,4.0 L -45.0,8.0 L -50.0,8.0 L -50.0,12.0 L -55.0,12.0 L -55.0,16.0 L -55.0,20.0 L -55.0,24.0 L -60.0,24.0 L -65.0,24.0 z\" /><path fill-rule=\"evenodd\" fill=\"#66cc99\" stroke=\"#555555\" stroke-width=\"2.556\" opacity=\"0.6\" d=\"M -62.5,12.0 L -62.5,12.5 L -62.5,13.0 L -62.5,14.0 L -61.25,14.0 L -60.9375,14.0 L -60.625,14.0 L -60.625,13.75 L -60.625,13.5 L -60.625,13.0 L -61.25,13.0 L -61.25,12.5 L -61.25,12.25 L -61.25,12.0 L -61.5625,12.0 L -61.875,12.0 L -62.5,12.0 z\" /><path fill-rule=\"evenodd\" fill=\"#66cc99\" stroke=\"#555555\" stroke-width=\"2.556\" opacity=\"0.6\" d=\"M -49.140625,-1.53125 L -49.140625,-1.5625 L -49.1796875,-1.5625 L -49.1796875,-1.53125 L -49.1796875,-1.5 L -49.140625,-1.5 L -49.140625,-1.53125 z\" /><path fill-rule=\"evenodd\" fill=\"#66cc99\" stroke=\"#555555\" stroke-width=\"2.556\" opacity=\"0.6\" d=\"M -20.0,22.0 L -20.0,24.0 L -17.5,24.0 L -16.25,24.0 L -16.25,23.75 L -16.09375,23.75 L -16.015625,23.75 L -15.9765625,23.75 L -15.9765625,23.71875 L -16.015625,23.71875 L -16.015625,23.6875 L -16.015625,23.625 L -16.09375,23.625 L -16.09375,23.5 L -16.25,23.5 L -16.25,23.0 L -17.5,23.0 L -17.5,22.0 L -20.0,22.0 z\" /><path fill-rule=\"evenodd\" fill=\"#66cc99\" stroke=\"#555555\" stroke-width=\"2.556\" opacity=\"0.6\" d=\"M -17.5,20.75 L -17.5,21.0 L -17.1875,21.0 L -17.109375,21.0 L -17.109375,20.9375 L -17.109375,20.875 L -17.1875,20.875 L -17.1875,20.75 L -17.5,20.75 z\" /><path fill-rule=\"evenodd\" fill=\"#66cc99\" stroke=\"#555555\" stroke-width=\"2.556\" opacity=\"0.6\" d=\"M -16.875,12.0 L -16.875,12.25 L -16.5625,12.25 L -16.25,12.25 L -15.9375,12.25 L -15.625,12.25 L -15.3125,12.25 L -15.3125,12.5 L -15.0,12.5 L -14.6875,12.5 L -14.375,12.5 L -14.0625,12.5 L -14.0625,12.25 L -14.0625,12.0 L -14.375,12.0 L -14.6875,12.0 L -15.0,12.0 L -15.0,11.75 L -15.0,11.5 L -15.0,11.0 L -15.625,11.0 L -16.25,11.0 L -16.25,11.5 L -16.25,11.75 L -16.25,12.0 L -16.5625,12.0 L -16.875,12.0 z\" /><path fill-rule=\"evenodd\" fill=\"#66cc99\" stroke=\"#555555\" stroke-width=\"2.556\" opacity=\"0.6\" d=\"M -15.9765625,23.625 L -15.9765625,23.65625 L -15.9375,23.65625 L -15.9375,23.625 L -15.9765625,23.625 z\" /><path fill-rule=\"evenodd\" fill=\"#66cc99\" stroke=\"#555555\" stroke-width=\"2.556\" opacity=\"0.6\" d=\"M -13.75,27.25 L -13.75,27.5 L -13.4375,27.5 L -13.4375,27.25 L -13.75,27.25 z\" /><path fill-rule=\"evenodd\" fill=\"#66cc99\" stroke=\"#555555\" stroke-width=\"2.556\" opacity=\"0.6\" d=\"M -2.1484375,49.21875 L -2.1484375,49.25 L -2.109375,49.25 L -2.109375,49.21875 L -2.1484375,49.21875 z\" /><path fill-rule=\"evenodd\" fill=\"#66cc99\" stroke=\"#555555\" stroke-width=\"2.556\" opacity=\"0.6\" d=\"M -2.109375,49.21875 L -2.0703125,49.21875 L -2.0703125,49.1875 L -2.109375,49.1875 L -2.109375,49.21875 z\" /><path fill-rule=\"evenodd\" fill=\"#66cc99\" stroke=\"#555555\" stroke-width=\"2.556\" opacity=\"0.6\" d=\"M 8.125,3.5 L 8.125,3.75 L 8.4375,3.75 L 8.4375,4.0 L 8.75,4.0 L 8.75,3.75 L 8.828125,3.75 L 8.90625,3.75 L 9.0625,3.75 L 9.0625,3.625 L 9.0625,3.5 L 8.90625,3.5 L 8.75,3.5 L 8.75,3.0 L 8.125,3.0 L 8.125,3.5 z\" /><path fill-rule=\"evenodd\" fill=\"#66cc99\" stroke=\"#555555\" stroke-width=\"2.556\" opacity=\"0.6\" d=\"M 8.75,1.0 L 8.75,1.5 L 8.75,2.0 L 8.75,2.5 L 9.375,2.5 L 9.375,2.0 L 9.6875,2.0 L 10.0,2.0 L 10.625,2.0 L 10.9375,2.0 L 11.25,2.0 L 11.25,1.75 L 11.25,1.5 L 10.9375,1.5 L 10.625,1.5 L 10.0,1.5 L 10.0,1.25 L 9.6875,1.25 L 9.375,1.25 L 9.375,1.0 L 8.75,1.0 z\" /><path fill-rule=\"evenodd\" fill=\"#66cc99\" stroke=\"#555555\" stroke-width=\"2.556\" opacity=\"0.6\" d=\"M 20.46875,42.375 L 20.3125,42.375 L 20.3125,42.5 L 20.3125,42.625 L 20.3125,42.75 L 20.46875,42.75 L 20.625,42.75 L 20.625,42.875 L 20.625,43.0 L 20.78125,43.0 L 20.9375,43.0 L 21.09375,43.0 L 21.09375,42.875 L 21.25,42.875 L 21.25,42.75 L 21.25,42.6875 L 21.25,42.625 L 21.40625,42.625 L 21.5625,42.625 L 21.5625,42.5 L 21.5625,42.375 L 21.40625,42.375 L 21.40625,42.25 L 21.25,42.25 L 21.09375,42.25 L 20.9375,42.25 L 20.78125,42.25 L 20.78125,42.125 L 20.625,42.125 L 20.625,42.25 L 20.46875,42.25 L 20.46875,42.375 z\" /><path fill-rule=\"evenodd\" fill=\"#66cc99\" stroke=\"#555555\" stroke-width=\"2.556\" opacity=\"0.6\" d=\"M 30.703125,46.3125 L 30.703125,46.34375 L 30.7421875,46.34375 L 30.78125,46.34375 L 30.78125,46.375 L 30.9375,46.375 L 30.9375,46.5 L 31.25,46.5 L 31.25,46.25 L 31.25,46.0 L 30.9375,46.0 L 30.9375,46.25 L 30.78125,46.25 L 30.703125,46.25 L 30.703125,46.3125 z\" /><path fill-rule=\"evenodd\" fill=\"#66cc99\" stroke=\"#555555\" stroke-width=\"2.556\" opacity=\"0.6\" d=\"M 30.78125,46.5 L 30.78125,46.53125 L 30.8203125,46.53125 L 30.859375,46.53125 L 30.859375,46.5 L 30.8203125,46.5 L 30.78125,46.5 z\" /><path fill-rule=\"evenodd\" fill=\"#66cc99\" stroke=\"#555555\" stroke-width=\"2.556\" opacity=\"0.6\" d=\"M 30.9375,31.5 L 30.9375,31.5625 L 31.015625,31.5625 L 31.0546875,31.5625 L 31.0546875,31.53125 L 31.015625,31.53125 L 31.015625,31.5 L 30.9375,31.5 z\" /><path fill-rule=\"evenodd\" fill=\"#66cc99\" stroke=\"#555555\" stroke-width=\"2.556\" opacity=\"0.6\" d=\"M 31.8359375,31.3125 L 31.8359375,31.34375 L 31.875,31.34375 L 31.875,31.3125 L 31.8359375,31.3125 z\" /><path fill-rule=\"evenodd\" fill=\"#66cc99\" stroke=\"#555555\" stroke-width=\"2.556\" opacity=\"0.6\" d=\"M 32.109375,31.15625 L 32.109375,31.125 L 32.0703125,31.125 L 32.0703125,31.15625 L 32.0703125,31.1875 L 32.0703125,31.21875 L 32.0703125,31.25 L 32.109375,31.25 L 32.1875,31.25 L 32.2265625,31.25 L 32.265625,31.25 L 32.265625,31.21875 L 32.265625,31.1875 L 32.2265625,31.1875 L 32.1875,31.1875 L 32.109375,31.1875 L 32.109375,31.15625 z\" /><path fill-rule=\"evenodd\" fill=\"#66cc99\" stroke=\"#555555\" stroke-width=\"2.556\" opacity=\"0.6\" d=\"M 30.0,84.0 L 30.0,88.0 L 35.0,88.0 L 35.0,84.0 L 30.0,84.0 z\" /><path fill-rule=\"evenodd\" fill=\"#66cc99\" stroke=\"#555555\" stroke-width=\"2.556\" opacity=\"0.6\" d=\"M 32.5,44.0 L 32.5,44.5 L 32.5,45.0 L 33.125,45.0 L 33.125,45.125 L 33.28125,45.125 L 33.28125,45.15625 L 33.3203125,45.15625 L 33.359375,45.15625 L 33.3984375,45.15625 L 33.4375,45.15625 L 33.4375,45.125 L 33.4375,45.0 L 33.4375,44.75 L 33.125,44.75 L 33.125,44.5 L 33.125,44.0 L 32.5,44.0 z\" /><path fill-rule=\"evenodd\" fill=\"#66cc99\" stroke=\"#555555\" stroke-width=\"2.556\" opacity=\"0.6\" d=\"M 33.28125,35.15625 L 33.28125,35.1875 L 33.28125,35.25 L 33.359375,35.25 L 33.4375,35.25 L 33.4375,35.1875 L 33.359375,35.1875 L 33.3203125,35.1875 L 33.3203125,35.15625 L 33.28125,35.15625 z\" /><path fill-rule=\"evenodd\" fill=\"#66cc99\" stroke=\"#555555\" stroke-width=\"2.556\" opacity=\"0.6\" d=\"M 33.75,44.0 L 33.75,44.25 L 34.0625,44.25 L 34.375,44.25 L 34.375,44.5 L 35.0,44.5 L 35.0,44.0 L 34.375,44.0 L 34.0625,44.0 L 33.75,44.0 z\" /><path fill-rule=\"evenodd\" fill=\"#66cc99\" stroke=\"#555555\" stroke-width=\"2.556\" opacity=\"0.6\" d=\"M 35.625,45.5 L 35.625,46.0 L 36.25,46.0 L 36.25,45.5 L 35.625,45.5 z\" /><path fill-rule=\"evenodd\" fill=\"#66cc99\" stroke=\"#555555\" stroke-width=\"2.556\" opacity=\"0.6\" d=\"M 37.578125,47.0 L 37.578125,47.0625 L 37.65625,47.0625 L 37.65625,47.0 L 37.578125,47.0 z\" /><path fill-rule=\"evenodd\" fill=\"#66cc99\" stroke=\"#555555\" stroke-width=\"2.556\" opacity=\"0.6\" d=\"M 42.5,-13.0 L 42.5,-12.5 L 42.5,-12.0 L 42.5,-11.5 L 42.5,-11.0 L 42.5,-10.0 L 43.75,-10.0 L 43.75,-11.0 L 45.0,-11.0 L 45.0,-12.0 L 45.625,-12.0 L 46.25,-12.0 L 46.25,-12.5 L 46.25,-13.0 L 45.625,-13.0 L 45.3125,-13.0 L 45.3125,-12.875 L 45.234375,-12.875 L 45.234375,-12.8125 L 45.3125,-12.8125 L 45.3125,-12.75 L 45.3125,-12.5 L 45.0,-12.5 L 45.0,-13.0 L 45.0,-14.0 L 43.75,-14.0 L 43.75,-13.0 L 43.125,-13.0 L 42.5,-13.0 z\" /><path fill-rule=\"evenodd\" fill=\"#66cc99\" stroke=\"#555555\" stroke-width=\"2.556\" opacity=\"0.6\" d=\"M 42.96875,10.125 L 42.96875,10.25 L 43.125,10.25 L 43.125,10.5 L 43.4375,10.5 L 43.75,10.5 L 43.75,10.25 L 43.75,10.0 L 44.0625,10.0 L 44.375,10.0 L 44.6875,10.0 L 45.0,10.0 L 45.3125,10.0 L 45.625,10.0 L 46.25,10.0 L 46.25,10.5 L 46.875,10.5 L 47.5,10.5 L 47.5,11.0 L 48.75,11.0 L 48.75,10.0 L 47.5,10.0 L 47.5,9.0 L 48.125,9.0 L 48.125,8.5 L 47.5,8.5 L 46.875,8.5 L 46.25,8.5 L 45.625,8.5 L 45.625,9.0 L 45.0,9.0 L 44.375,9.0 L 44.0625,9.0 L 44.0625,9.25 L 43.75,9.25 L 43.75,9.5 L 43.4375,9.5 L 43.4375,9.75 L 43.28125,9.75 L 43.28125,9.875 L 43.28125,10.0 L 43.125,10.0 L 43.125,10.125 L 42.96875,10.125 z\" /><path fill-rule=\"evenodd\" fill=\"#66cc99\" stroke=\"#555555\" stroke-width=\"2.556\" opacity=\"0.6\" d=\"M 112.7734375,-7.46875 L 112.7734375,-7.4375 L 112.8125,-7.4375 L 112.8125,-7.46875 L 112.7734375,-7.46875 z\" /><path fill-rule=\"evenodd\" fill=\"#66cc99\" stroke=\"#555555\" stroke-width=\"2.556\" opacity=\"0.6\" d=\"M 115.0,84.0 L 115.0,88.0 L 120.0,88.0 L 125.0,88.0 L 130.0,88.0 L 135.0,88.0 L 140.0,88.0 L 145.0,88.0 L 150.0,88.0 L 155.0,88.0 L 160.0,88.0 L 165.0,88.0 L 170.0,88.0 L 175.0,88.0 L 175.0,84.0 L 175.0,80.0 L 170.0,80.0 L 165.0,80.0 L 165.0,84.0 L 160.0,84.0 L 155.0,84.0 L 150.0,84.0 L 145.0,84.0 L 145.0,80.0 L 140.0,80.0 L 135.0,80.0 L 130.0,80.0 L 125.0,80.0 L 125.0,84.0 L 120.0,84.0 L 115.0,84.0 z\" /><path fill-rule=\"evenodd\" fill=\"#66cc99\" stroke=\"#555555\" stroke-width=\"2.556\" opacity=\"0.6\" d=\"M 125.625,-9.5 L 125.3125,-9.5 L 125.3125,-9.25 L 125.3125,-9.0 L 125.3125,-8.875 L 125.3125,-8.75 L 125.3125,-8.625 L 125.3125,-8.5 L 125.46875,-8.5 L 125.5078125,-8.5 L 125.546875,-8.5 L 125.5859375,-8.5 L 125.625,-8.5 L 125.9375,-8.5 L 126.25,-8.5 L 126.25,-8.375 L 126.25,-8.25 L 126.40625,-8.25 L 126.5625,-8.25 L 126.875,-8.25 L 126.875,-8.5 L 127.5,-8.5 L 127.5,-9.0 L 127.5,-10.0 L 126.25,-10.0 L 125.625,-10.0 L 125.625,-9.5 z\" /><path fill-rule=\"evenodd\" fill=\"#66cc99\" stroke=\"#555555\" stroke-width=\"2.556\" opacity=\"0.6\" d=\"M 130.0,4.0 L 130.0,8.0 L 130.0,12.0 L 130.0,16.0 L 135.0,16.0 L 140.0,16.0 L 140.0,12.0 L 140.0,8.0 L 145.0,8.0 L 150.0,8.0 L 150.0,12.0 L 150.0,16.0 L 150.0,20.0 L 155.0,20.0 L 160.0,20.0 L 160.0,16.0 L 165.0,16.0 L 170.0,16.0 L 175.0,16.0 L 175.0,12.0 L 175.0,8.0 L 175.0,4.0 L 175.0,2.0 L 175.0,1.0 L 175.0,0.0 L 175.0,-4.0 L 175.0,-8.0 L 170.0,-8.0 L 170.0,-12.0 L 165.0,-12.0 L 162.5,-12.0 L 160.0,-12.0 L 157.5,-12.0 L 157.5,-10.0 L 157.5,-9.0 L 157.5,-8.0 L 156.25,-8.0 L 156.25,-7.0 L 157.5,-7.0 L 157.5,-6.0 L 160.0,-6.0 L 160.0,-8.0 L 160.625,-8.0 L 161.25,-8.0 L 162.5,-8.0 L 165.0,-8.0 L 165.0,-4.0 L 165.0,0.0 L 160.0,0.0 L 155.0,0.0 L 155.0,4.0 L 150.0,4.0 L 145.0,4.0 L 140.0,4.0 L 135.0,4.0 L 130.0,4.0 z\" /><path fill-rule=\"evenodd\" fill=\"#66cc99\" stroke=\"#555555\" stroke-width=\"2.556\" opacity=\"0.6\" d=\"M 144.6875,13.375 L 144.6875,13.4375 L 144.765625,13.4375 L 144.765625,13.375 L 144.6875,13.375 z\" /><path fill-rule=\"evenodd\" fill=\"#66cc99\" stroke=\"#555555\" stroke-width=\"2.556\" opacity=\"0.6\" d=\"M 144.765625,13.4375 L 144.765625,13.46875 L 144.8046875,13.46875 L 144.8046875,13.4375 L 144.765625,13.4375 z\" /><path fill-rule=\"evenodd\" fill=\"#66cc99\" stroke=\"#555555\" stroke-width=\"2.556\" opacity=\"0.6\" d=\"M 144.8046875,13.46875 L 144.8046875,13.5 L 144.84375,13.5 L 144.84375,13.46875 L 144.8046875,13.46875 z\" /><path fill-rule=\"evenodd\" fill=\"#66cc99\" stroke=\"#555555\" stroke-width=\"2.556\" opacity=\"0.6\" d=\"M 145.0,32.0 L 145.0,36.0 L 150.0,36.0 L 150.0,40.0 L 155.0,40.0 L 155.0,44.0 L 160.0,44.0 L 160.0,48.0 L 165.0,48.0 L 170.0,48.0 L 175.0,48.0 L 175.0,44.0 L 175.0,40.0 L 175.0,36.0 L 175.0,32.0 L 175.0,28.0 L 175.0,24.0 L 170.0,24.0 L 165.0,24.0 L 160.0,24.0 L 160.0,28.0 L 155.0,28.0 L 150.0,28.0 L 150.0,32.0 L 145.0,32.0 z\" /><path fill-rule=\"evenodd\" fill=\"#66cc99\" stroke=\"#555555\" stroke-width=\"2.556\" opacity=\"0.6\" d=\"M 155.0,-48.0 L 155.0,-44.0 L 155.0,-40.0 L 155.0,-36.0 L 160.0,-36.0 L 165.0,-36.0 L 165.0,-40.0 L 160.0,-40.0 L 160.0,-44.0 L 160.0,-48.0 L 155.0,-48.0 z\" /></g></g></svg>"
      ],
      "text/plain": [
       "<shapely.geometry.multipolygon.MultiPolygon at 0x1b6a1b2b748>"
      ]
     },
     "execution_count": 18,
     "metadata": {},
     "output_type": "execute_result"
    }
   ],
   "source": [
    "polygon"
   ]
  },
  {
   "cell_type": "code",
   "execution_count": 53,
   "metadata": {},
   "outputs": [
    {
     "data": {
      "image/svg+xml": [
       "<svg xmlns=\"http://www.w3.org/2000/svg\" xmlns:xlink=\"http://www.w3.org/1999/xlink\" width=\"300\" height=\"204.4\" viewBox=\"-194.2 -102.2 383.4 204.4\" preserveAspectRatio=\"xMinYMin meet\"><g transform=\"matrix(1,0,0,-1,0,0.0)\"><g><path fill-rule=\"evenodd\" fill=\"#66cc99\" stroke=\"#555555\" stroke-width=\"2.556\" opacity=\"0.6\" d=\"M -179.7664247983998,20.33483940703624 L -179.13085780511915,21.286032631740056 L -178.38066709128063,23.097153227455394 L -177.99822318188075,25.019828596704393 L -177.99822318188075,26.980171403295586 L -178.38066709128063,28.902846772544585 L -179.13085780511915,30.713967368259926 L -179.7664247983998,31.66516059296376 L -179.9530179605361,32.01425184586044 L -180.0,32.49126849769473 L -180.0,43.508731502305274 L -179.95460191732698,43.96966597095539 L -179.48987394331584,44.21806824825219 L -178.70379053532662,44.54367465699778 L -177.07382506195006,45.63278276685405 L -175.68765336995907,47.01895445884508 L -175.44589376581476,47.38077327558721 L -174.97543073470322,47.95403413765542 L -174.50873150230532,48.0 L -162.95007044860273,48.0 L -161.19210764925919,48.155734319101086 L -159.4888998778278,48.61808664077516 L -157.89349671482287,49.37265614022209 L -156.45558996530087,50.3959403439997 L -155.21996591497535,51.656067158363555 L -154.97543073470325,51.95403413765542 L -154.50873150230532,52.0 L -140.49126849769468,52.0 L -140.02456926529678,51.95403413765542 L -139.55410623418524,51.38077327558719 L -139.31234663004093,51.01895445884509 L -137.92617493804994,49.63278276685405 L -136.29620946467335,48.54367465699778 L -135.51012605668421,48.218068248252216 L -135.03114623681256,47.96204820063512 L -134.554106234185,47.38077327558694 L -134.31234663004065,47.01895445884478 L -132.92617493804977,45.63278276685392 L -131.29620946467332,44.54367465699777 L -130.51012605668421,44.21806824825222 L -130.04539808267302,43.96966597095539 L -130.0,43.50873150230527 L -130.0,40.61172520678903 L -129.83846005927077,38.82155659402264 L -129.35905926757323,37.089224727576635 L -128.57728610000268,35.47069776485676 L -127.51839807478973,34.01826705578829 L -126.21660573370072,32.778857714502486 L -125.25908208391228,32.15033069772539 L -125.04596586234457,31.975430734703238 L -125.01544502923586,31.665547515778666 L -124.63300111983598,29.74287214652964 L -123.88281040599743,27.931751550814273 L -122.79370229614125,26.301786077437786 L -121.40753060415031,24.915614385446865 L -120.24540944023401,24.139109849044093 L -120.04596586234457,23.975430734703245 L -120.0,23.508731502305345 L -120.0,20.611725206789032 L -119.78822751349071,18.56462917969518 L -119.16187957117134,16.604236875757575 L -118.14748482527487,14.813579725523862 L -116.78800745532939,13.268500112432154 L -115.1410274419322,12.034439106786298 L -113.27630179561692,11.163664742120245 L -111.27281003373912,10.693058228912768 L -109.21540904272155,10.642551869457753 L -107.19123900728708,11.014284835220458 L -105.28603263174003,11.792512563305479 L -104.98574815413951,11.953017960536116 L -104.50873150230532,12.0 L -95.49126849769468,12.0 L -95.0440474305172,11.955952569482802 L -95.0,11.508731502305345 L -95.0,4.491268497694656 L -95.14399446268966,3.029268183134307 L -95.138612589792,3.0287381149199275 L -95.16898752222508,2.8715574274759246 L -95.13513721139805,0.8029634469497995 L -94.67634183625846,-1.2143946530320844 L -93.81223887986815,-3.0941693684087745 L -92.57981390940859,-4.755902076156845 L -91.03181750998539,-6.128466845916298 L -89.23450743989478,-7.153114791194538 L -87.26481264822984,-7.785988655009399 L -85.97702686977738,-7.919920282121687 L -85.98017140329561,-7.951847266721968 L -85.0440474305172,-8.044047430517198 L -85.01544502923586,-8.334452484221332 L -84.63300111983598,-10.257127853470353 L -83.88281040599745,-12.068248449185708 L -82.79370229614126,-13.69821392256219 L -81.40753060415035,-15.084385614553108 L -80.24540944023408,-15.86089015095587 L -80.04596586234457,-16.024569265296773 L -80.0,-16.491268497694655 L -80.0,-19.508731502305345 L -80.04596586234457,-19.975430734703238 L -80.25908208391223,-20.15033069772536 L -81.21660573370077,-20.77885771450252 L -82.51839807478977,-22.01826705578834 L -83.57728610000272,-23.470697764856812 L -84.35905926757326,-25.089224727576692 L -84.83846005927077,-26.821556594022702 L -85.0,-28.611725206789032 L -85.0,-31.388274793210968 L -84.76765881320871,-33.531366323861526 L -84.0814317382508,-35.57487216858529 L -82.97320653772705,-37.423834212746705 L -81.49448048330183,-38.992334449211285 L -80.3618871393073,-39.76529937372195 L -80.04596586234457,-40.02456926529677 L -80.0,-40.49126849769466 L -80.0,-43.50873150230534 L -80.04698203946388,-43.98574815413952 L -80.21815534613918,-44.305990886539874 L -80.8302814252539,-45.2140391799282 L -81.57055632853651,-46.94096979903448 L -81.97472489738436,-48.77589324800785 L -82.02851878378331,-50.65403129230144 L -81.7300389041545,-52.50908009411061 L -81.0898224826317,-54.27555093430283 L -80.130471055828,-55.891082158243286 L -78.88585257162597,-57.298640726978356 L -77.39990575026825,-58.44853565249707 L -75.72508891734431,-59.300172236840126 L -73.92052806946559,-59.82348518521816 L -72.04992955139727,-60.0 L -70.0,-60.0 L -68.04909677983872,-59.80785280403231 L -66.1731656763491,-59.23879532511287 L -64.44429766980397,-58.314696123025456 L -62.928932188134524,-57.071067811865476 L -61.685303876974544,-55.55570233019602 L -60.76120467488713,-53.8268343236509 L -60.19214719596769,-51.95090322016128 L -60.0,-50.0 L -60.0,-48.49126849769465 L -59.95460191732697,-48.03033402904461 L -59.48987394331573,-47.781931751747756 L -58.70379053532667,-47.45632534300222 L -57.07382506195023,-46.36721723314608 L -55.68765336995935,-44.98104554115522 L -55.445893765815,-44.61922672441307 L -54.96578612661448,-44.03421387338552 L -54.754590559765944,-43.86089015095589 L -53.59246939584965,-43.084385614553106 L -52.20629770385874,-41.69821392256219 L -51.117189594002554,-40.06824844918571 L -50.36699888016402,-38.25712785347035 L -49.98455497076414,-36.33445248422133 L -49.95460191732697,-36.03033402904462 L -49.48987394331575,-35.78193175174777 L -48.7037905353267,-35.45632534300225 L -47.07382506195024,-34.367217233146086 L -45.68765336995933,-32.98104554115519 L -45.445893765815,-32.61922672441307 L -44.968853763187454,-32.037951799364905 L -44.489873943315736,-31.781931751747763 L -43.7037905353267,-31.45632534300225 L -42.07382506195024,-30.367217233146082 L -40.68765336995933,-28.98104554115519 L -40.445893765815,-28.61922672441307 L -39.96885376318744,-28.037951799364894 L -39.48987394331576,-27.781931751747774 L -38.7037905353267,-27.45632534300225 L -37.07382506195024,-26.367217233146082 L -35.68765336995933,-24.98104554115519 L -35.445893765815,-24.61922672441307 L -34.96578612661449,-24.03421387338553 L -34.638112860692665,-23.765299373721927 L -33.50551951669816,-22.99233444921127 L -32.02679346227293,-21.423834212746677 L -30.918568261749186,-19.574872168585244 L -30.232341186791274,-17.531366323861477 L -30.0,-15.38827479321097 L -30.0,-8.491268497694653 L -29.856005537310338,-7.029268183134302 L -29.86138741020797,-7.028738114919924 L -29.831012477774944,-6.871557427476159 L -29.864862788601933,-4.802963446950006 L -30.323658163741484,-2.785605346968082 L -31.187761120131782,-0.9058306315913534 L -32.42018609059134,0.755902076156759 L -33.96818249001454,2.128466845916245 L -35.76549256010516,3.1531147911945148 L -37.735187351770136,3.785988655009394 L -39.79295945869244,4.0 L -40.22823727923865,4.0 L -42.01840589200498,3.8384600592707745 L -43.75073775845099,3.3590592675732545 L -45.36926472117087,2.5772861000027163 L -46.821695430239345,1.5183980747897685 L -48.06110477152516,0.2166057337007663 L -49.04744992272221,-1.2860326317400368 L -49.08678557017052,-1.3596244520083696 L -48.90036678529268,-0.7450840764190425 L -48.76579338345373,-0.42019514456461904 L -48.38334947405414,1.502480224687687 L -48.38334947405569,3.462823031282067 L -48.76579338345832,5.385498400533768 L -49.51598409730066,7.196618996250978 L -49.516854042584896,7.198246549403221 L -50.605962152442224,8.828212022776219 L -51.99213384443327,10.214383714763809 L -53.62209931780898,11.303491824617074 L -55.43321991352285,12.05368253845331 L -57.355895282769865,12.436126447851661 L -59.31623808935882,12.436126447850995 L -61.23891345860558,12.053682538451337 L -61.25943958642994,12.047456005648518 L -61.74126849769466,12.0 L -62.00873150230531,12.0 L -62.46326050867799,12.044767199704182 L -62.55272679460406,12.339698018997 L -63.30291750844259,14.150818614712357 L -64.39202561829877,15.78078408808884 L -65.77819731028968,17.166955780079757 L -66.65043953531733,17.74976940193444 L -66.99703612661447,18.03421387338551 L -67.00530212428082,18.044286020684442 L -67.06366705107959,18.15218790423756 L -67.06949129941532,18.21132248997001 L -67.06701432650871,18.23785111869446 L -67.01551414529784,18.340376394678422 L -65.95196951352429,20.07564901342103 L -65.24089387124116,22.15224450984651 L -65.0,24.33395199886089 L -65.0,27.50873150230535 L -64.95254399435147,27.990560413570115 L -64.72638950771031,28.736091842995283 L -64.57683298541774,29.09715322745537 L -64.19438907601786,31.019828596704397 L -64.19438907601786,32.980171403295614 L -64.57683298541774,34.90284677254464 L -64.72638950771031,35.26390815700472 L -64.95254399435147,36.0094395864299 L -65.0,36.49126849769466 L -65.0,39.50873150230535 L -64.9559525694828,39.955952569482804 L -64.50873150230535,40.0 L -57.95007044860274,40.0 L -55.759058047034046,40.24297869961471 L -53.674519514299924,40.960107068765566 L -51.79775454279648,42.116535723733925 L -50.21996591497538,43.65606715836353 L -49.965786126614496,43.96578612661447 L -49.74091791608771,44.150330697725394 L -48.783394266299226,44.77885771450253 L -47.48160192521023,46.01826705578834 L -46.42271389999728,47.47069776485681 L -45.64094073242674,49.08922472757669 L -45.16153994072923,50.8215565940227 L -45.0,52.61172520678903 L -45.0,55.50873150230535 L -44.955952569482804,55.955952569482804 L -44.50873150230534,56.0 L -42.95007044860274,56.0 L -40.759058047034046,56.24297869961471 L -38.674519514299924,56.960107068765566 L -36.79775454279648,58.116535723733925 L -35.21996591497538,59.65606715836353 L -34.97543073470324,59.95403413765542 L -34.50873150230534,60.0 L -25.491268497694655,60.0 L -25.02456926529676,59.95403413765542 L -24.554106234185056,59.380773275587 L -24.312346630040718,59.01895445884487 L -22.92617493804981,57.63278276685396 L -21.29620946467334,56.54367465699778 L -20.51012605668421,56.21806824825222 L -20.04539808267303,55.96966597095539 L -20.015445029235863,55.665547515778655 L -19.63300111983598,53.74287214652963 L -18.88281040599744,51.93175155081427 L -17.79370229614125,50.30178607743779 L -16.407530604150327,48.91561438544687 L -14.77756513077384,47.826506275590695 L -14.307948847655984,47.57549114264038 L -14.02706608165892,47.387811278641465 L -12.215945485943582,46.63762056480296 L -12.155033780946013,46.62550447336076 L -12.762169829970404,46.01836842433637 L -13.85127793982659,44.38840295095989 L -14.60146865366513,42.57728235524454 L -14.983912563065013,40.654606985995514 L -15.046982039463886,40.01425184586048 L -15.360190099687772,39.428280779669784 L -16.110380813526326,37.6171601839544 L -16.4928247229262,35.6944848147054 L -16.4928247229262,33.73414200811421 L -16.110380813526334,31.81146663886521 L -15.360190099687815,30.000346043149875 L -14.27108198983166,28.37038056977341 L -13.953291122217635,28.052589702159377 L -13.483989131086744,27.48074357140093 L -13.473574298343468,27.375 L -13.483989131086744,27.26925642859907 L -13.859672155788036,26.811485338496993 L -14.385157030487932,26.286000463797095 L -15.474265140344105,24.656034990420622 L -15.588804608983809,24.379512251803643 L -15.706883678927365,24.158601849752774 L -16.45707439276592,22.347481254037373 L -16.839518302165793,20.42480588478836 L -16.83951830216579,18.46446307819716 L -16.45707439276591,16.541787708948153 L -15.706883678927372,14.730667113232805 L -14.617775569071199,13.100701639856338 L -14.108989131086744,12.48074357140093 L -14.086262872923822,12.25 L -14.206494462689664,11.029268183134324 L -14.201112589792064,11.02873811491995 L -14.231487522225027,10.871557427476557 L -14.197637211398117,8.80296344695035 L -13.73884183625862,6.7856053469683655 L -12.874738879868353,4.905830631591569 L -11.642313909408804,3.2440979238433894 L -10.094317509985585,1.871533154083842 L -8.297007439894935,0.8468852088055261 L -6.327312648229914,0.21401134499061492 L -4.26954054130757,0.0 L 0.0,0.0 L 0.0,0.013515912329982104 L 1.3318449480662602,0.013515912329985724 L 3.254520317315271,0.3959598217298659 L 5.065640913030619,1.1461505355684043 L 6.6956063864070945,2.235258645424582 L 8.081778078398006,3.621430337415492 L 8.159213873385516,3.7157861266144807 L 8.441800072653256,3.947698626934396 L 8.451751845860478,3.9530179605361133 L 8.593750000000009,3.9670035580114424 L 8.733490185818681,3.9532403510047707 L 9.533790448963959,3.2998135879590773 L 10.004707982976223,2.828896053946816 L 10.862387248815873,2.2558130903264537 L 11.204034137655416,1.9754307347032425 L 11.226237127076176,1.75 L 11.204601917326965,1.5303340290446135 L 10.539734346827808,1.1749549086802658 L 10.410181355324669,1.122353597409166 L 8.875363186960534,0.1428845183414813 L 7.543578351168366,-1.0986369828595173 L 6.458975868001737,-2.561054139589814 L 5.6575105970540065,-4.195887435756434 L 5.165751324339517,-5.9489417145765895 L 5.0,-7.7621027623795795 L 5.0,-15.38827479321097 L 5.232341186791288,-17.53136632386153 L 5.918568261749206,-19.57487216858529 L 7.026793462272948,-21.423834212746712 L 8.50551951669818,-22.992334449211295 L 9.63811286069273,-23.765299373721977 L 9.95403413765542,-24.024569265296762 L 10.0,-24.491268497694666 L 10.0,-30.0 L 10.192147195967706,-31.950903220161337 L 10.761204674887152,-33.82683432365094 L 11.685303876974569,-35.555702330196056 L 12.928932188134548,-37.0710678118655 L 14.444297669804,-38.31469612302547 L 16.173165676349118,-39.238795325112875 L 18.049096779838724,-39.80785280403231 L 20.0,-40.0 L 22.04992955139727,-40.0 L 23.80789235074082,-39.844265680898914 L 25.511100122172206,-39.38191335922484 L 27.106503285177123,-38.627343859777916 L 28.544410034699116,-37.6040596560003 L 29.78003408502465,-36.343932841636445 L 30.031146236812564,-36.03795179936489 L 30.510126056684257,-35.78193175174776 L 31.29620946467332,-35.456325343002234 L 32.92617493804982,-34.36721723314604 L 34.31234663004075,-32.98104554115511 L 34.5541062341851,-32.619226724412954 L 35.02456926529676,-32.04596586234458 L 35.491268497694676,-32.0 L 37.8108393344086,-32.0 L 39.687619650892,-31.822306024740854 L 41.49770145635059,-31.295539128732095 L 43.17675662447313,-30.43841997273106 L 44.665113557759,-29.28140953875788 L 45.90987784419218,-27.865626583498347 L 46.8668120609093,-26.241386327237304 L 47.501907918904344,-24.466412311556944 L 47.79259487664177,-22.60378497422285 L 47.72854226990632,-20.71969984643448 L 47.31202645116129,-18.8811150434085 L 46.557849890724896,-17.15337165364506 L 45.49281511481139,-15.59787159537511 L 44.15477217604504,-14.26989546637262 L 43.37855689213097,-13.632872045747298 L 43.20905877660322,-13.519617025784074 L 42.54596586234457,-12.975430734703234 L 42.5,-12.508731502305338 L 42.5,-10.491268497694653 L 42.544767199704175,-10.036739491322013 L 43.21833886410597,-9.832413760753854 L 45.03531504550152,-9.07909067095766 L 46.66968608529967,-7.9846824173119035 L 48.05821983304532,-6.591530540182102 L 49.14719533265722,-4.953534666370484 L 49.8944812314886,-3.1340671874672106 L 50.27116579943824,-1.2035214465826694 L 50.26267549433324,0.7634117083816978 L 49.86933879742828,2.690633637544697 L 49.106373504800615,4.50358208789414 L 48.0032979663235,6.132115930892889 L 46.602789050782455,7.513228851283147 L 44.959031021300596,8.593486997233814 L 44.03355923679725,9.078719935866367 L 43.46365499496778,9.544033645149804 L 43.09149102233184,9.997516757903536 L 43.015732039463884,10.13925184586048 L 43.01098001105329,10.187499999999995 L 43.015732039463884,10.23574815413953 L 43.10035469949861,10.39406601572009 L 43.14956926529676,10.45403413765542 L 43.513148781902245,10.489843594477813 L 45.322194024688955,10.489843594477811 L 47.24486939393796,10.872287503877688 L 47.50943958642993,10.952543994351482 L 47.99126849769466,11.0 L 48.25873150230534,11.0 L 49.1975315239381,10.907536268397653 L 50.22382581595014,10.703393641145308 L 52.18416862254135,10.70339364114531 L 54.10684399179037,11.08583755054519 L 55.91796458750572,11.83602826438373 L 57.5479300608822,12.92513637423991 L 58.93410175287312,14.311308066230827 L 60.023209862729296,15.941273539607305 L 60.03033402904461,15.954601917326967 L 60.491268497694676,16.0 L 64.50873150230531,16.0 L 64.9559525694828,15.9559525694828 L 65.0,15.508731502305345 L 65.0,8.611725206789032 L 65.21177248650929,6.56462917969518 L 65.83812042882866,4.604236875757576 L 66.85251517472513,2.813579725523862 L 68.21199254467061,1.2685001124321529 L 69.8589725580678,0.03443910678629791 L 71.72369820438308,-0.8363352578797549 L 73.72718996626088,-1.3069417710872315 L 75.78459095727845,-1.357448130542247 L 77.80876099271292,-0.9857151647795419 L 79.71396736825997,-0.20748743669452097 L 80.51012605668423,0.2180682482522216 L 81.29620946467331,0.5436746569977586 L 82.92617493804978,1.6327827668539303 L 84.3123466300407,3.0189544588448314 L 84.55410623418501,3.380773275586945 L 85.02456926529676,3.954034137655419 L 85.49126849769468,4.0 L 89.50873150230532,4.0 L 89.9559525694828,3.9559525694828017 L 89.98455497076414,3.665547515778668 L 90.36699888016402,1.7428721465296473 L 91.11718959400255,-0.06824844918570783 L 92.20629770385874,-1.6982139225621893 L 93.59246939584965,-3.084385614553108 L 94.75459055976593,-3.8608901509558775 L 94.95816088738766,-4.027956001277076 L 95.10717934464375,-4.519204019827943 L 95.85737005848229,-6.330324615543299 L 96.94647816833847,-7.960290088919777 L 98.33264986032938,-9.346461780910694 L 99.96261533370586,-10.435569890766875 L 101.7737359294212,-11.185760604605417 L 103.69641129867023,-11.568204514005297 L 105.65675410526144,-11.568204514005298 L 107.57942947451046,-11.18576060460542 L 109.39055007022581,-10.435569890766882 L 111.02051554360229,-9.346461780910703 L 112.40668723559321,-7.960290088919789 L 112.79578966648889,-7.48616740505855 L 112.7959122257913,-7.486179239144966 L 113.36589715633215,-7.953953782731794 L 115.01107687137494,-9.051177217143582 L 115.59850670965798,-9.292720453760685 L 114.10891784175675,-10.177283490732725 L 112.70135927302167,-11.421901974934745 L 111.55146434750294,-12.907848796292487 L 110.69982776315989,-14.582665629216429 L 110.17651481478184,-16.38722647709515 L 110.0,-18.25782499516348 L 110.0,-19.508731502305345 L 109.95301796053612,-19.985748154139525 L 109.76642479839974,-20.334839407036355 L 109.13085780511918,-21.28603263174004 L 108.38066709128063,-23.0971532274554 L 107.99822318188076,-25.019828596704425 L 107.99822318188076,-26.98017140329564 L 108.38066709128066,-28.902846772544667 L 109.1308578051192,-30.71396736826002 L 109.76642479839977,-31.665160592963694 L 109.95529742014953,-32.01851641484716 L 110.22355610137035,-32.90284677254462 L 110.90850309890371,-34.589818644675375 L 111.8879721779714,-36.1246368130395 L 113.1294936791724,-37.45642164883165 L 114.5919108359027,-38.54102413199828 L 116.2267441320693,-39.342489402946 L 117.97979841088946,-39.83424867566048 L 119.79295945869244,-40.0 L 134.50873150230532,-40.0 L 134.97543073470322,-40.04596586234457 L 135.4458937658148,-40.61922672441284 L 135.68765336995907,-40.98104554115491 L 137.07382506195006,-42.36721723314595 L 138.70379053532665,-43.45632534300222 L 139.4898739433157,-43.78193175174775 L 140.34326910584724,-44.238080969487385 L 142.1543897015626,-44.98827168332591 L 144.0770650708116,-45.37071559272579 L 146.03740787740284,-45.37071559272577 L 147.96008324665183,-44.98827168332589 L 149.77120384236719,-44.23808096948734 L 151.4011693157437,-43.14897285963115 L 152.78734100773457,-41.762801167640234 L 153.87644911759077,-40.13283569426375 L 154.6266398314293,-38.321715098548395 L 155.00908374082917,-36.399039729299375 L 155.04404743051722,-36.044047430517196 L 155.49126849769468,-36.0 L 164.50873150230532,-36.0 L 164.9559525694828,-36.044047430517196 L 165.0,-36.49126849769473 L 165.0,-39.50873150230527 L 164.95301796053613,-39.985748154139515 L 164.74807296829567,-40.36917326627657 L 164.08913754925462,-41.364930620449115 L 163.33037861511204,-43.26842004900596 L 162.97554930250018,-45.286608168007824 L 163.03954884857052,-47.33475151818419 L 163.51968992062365,-49.32684882396435 L 164.39581145686333,-51.179252175965715 L 165.6311252267855,-52.814179395938964 L 167.17376056424072,-54.16298010041809 L 168.95894241002702,-55.169018321483215 L 170.91171120828616,-55.79005064376155 L 172.95007044860273,-56.0 L 174.50873150230532,-56.0 L 174.9559525694828,-56.044047430517196 L 175.0,-56.49126849769473 L 175.0,-87.50873150230528 L 174.9559525694828,-87.9559525694828 L 174.50873150230532,-88.0 L -179.5087315023053,-88.0 L -179.9559525694828,-87.9559525694828 L -180.0,-87.50873150230528 L -180.0,-56.491268497694726 L -179.9540341376554,-56.02456926529675 L -179.75459055976606,-55.860890150955974 L -178.59246939584966,-55.08438561455313 L -177.20629770385875,-53.6982139225622 L -176.11718959400255,-52.06824844918572 L -175.366998880164,-50.25712785347036 L -174.98455497076412,-48.33445248422133 L -174.9525439943515,-48.00943958642992 L -174.72638950771025,-47.26390815700453 L -174.57683298541775,-46.90284677254463 L -174.19438907601787,-44.9801714032956 L -174.19438907601787,-43.019828596704386 L -174.57683298541775,-41.09715322745536 L -174.72638950771025,-40.73609184299548 L -174.9525439943515,-39.99056041357003 L -175.0,-39.50873150230527 L -175.0,-36.491268497694726 L -174.9540341376554,-36.02456926529677 L -174.74091791608768,-35.84966930227458 L -173.78339426629924,-35.22114228549747 L -172.4816019252102,-33.98173294421166 L -171.4227138999973,-32.52930223514319 L -170.64094073242674,-30.910775272423304 L -170.16153994072923,-29.178443405977294 L -170.0,-27.388274793210968 L -170.0,-24.491268497694723 L -169.9559525694828,-24.0440474305172 L -169.0198285967044,-23.95184726672197 L -167.5,-23.649534562540197 L -165.9801714032956,-23.95184726672197 L -165.02422116567183,-24.046000147165145 L -165.0228192503052,-24.048098261781654 L -164.7800340850246,-24.34393284163652 L -163.2022454572035,-25.8834642762661 L -161.32548048570007,-27.039892931234448 L -159.24094195296595,-27.75702130038529 L -157.04992955139727,-28.0 L -155.0,-28.0 L -153.10931335850194,-27.81963869109555 L -152.5069567359848,-27.64295329865261 L -150.9801714032956,-27.95184726672197 L -150.02456926529678,-28.04596586234458 L -149.78003408502465,-28.343932841636445 L -148.54441003469913,-29.604059656000302 L -147.10650328517713,-30.627343859777913 L -145.5111001221722,-31.38191335922484 L -143.80789235074081,-31.844265680898914 L -142.04992955139727,-32.0 L -139.79295945869242,-32.0 L -137.9411314312976,-31.827040905427992 L -136.15336150368705,-31.314146591391008 L -134.49149188945728,-30.47905900512244 L -133.01300968136303,-29.350665345184154 L -131.76905826821493,-27.967998800724892 L -130.80266819203484,-26.378888322469592 L -130.14726864333872,-24.638304132317035 L -129.8255310846316,-22.806456203378254 L -129.84858500328227,-20.946711487489814 L -129.99202778207595,-19.592430406564073 L -130.38423251194322,-17.68665597036533 L -131.1380633550932,-15.892905761525014 L -132.22498177779863,-14.279087588934793 L -133.60383921424128,-12.906297393105255 L -134.75782788240338,-12.136453047016529 L -134.9657861266145,-11.965786126614496 L -135.37326979934346,-11.469265834774689 L -136.75944149133437,-10.08309414278375 L -138.38940696471084,-8.993986032927555 L -140.20052756042622,-8.243795319089005 L -142.12320292967524,-7.861351409689117 L -144.08354573626647,-7.861351409689114 L -145.49126849769468,-8.0 L -150.0,-8.0 L -152.01505322325622,-8.205125804409498 L -152.47680294322421,-8.350161357669036 L -154.01982859670437,-8.048152733278034 L -154.97577883432814,-7.953999852834851 L -154.97718074969475,-7.951901738218408 L -155.3732697993435,-7.469265834774631 L -156.7594414913344,-6.08309414278372 L -158.3894069647109,-4.993986032927538 L -160.20052756042625,-4.243795319088997 L -162.12320292967527,-3.8613514096891155 L -164.08354573626647,-3.8613514096891137 L -165.9801714032956,-4.04815273327803 L -167.5,-4.350465437459808 L -169.01982859670437,-4.048152733278034 L -169.9559525694828,-3.9559525694828004 L -169.98455497076412,-3.6655475157786626 L -170.366998880164,-1.7428721465296624 L -171.11718959400253,0.06824844918567763 L -172.2062977038587,1.6982139225621484 L -173.5924693958496,3.084385614553062 L -174.7545905597659,3.8608901509558593 L -174.96578612661455,4.034213873385582 L -175.44589376581487,4.619226724412891 L -175.68765336995924,4.981045541155089 L -177.07382506195015,6.36721723314602 L -178.70379053532665,7.456325343002211 L -179.48987394331573,7.7819317517477575 L -179.95460191732695,8.030334029044612 L -180.0,8.491268497694806 L -180.0,19.508731502305277 L -179.95301796053613,19.98574815413952 L -179.7664247983998,20.33483940703624 z\" /><path fill-rule=\"evenodd\" fill=\"#66cc99\" stroke=\"#555555\" stroke-width=\"2.556\" opacity=\"0.6\" d=\"M 124.08458122023615,-9.176816158202307 L 124.51478689741647,-8.993820126732723 L 125.51959567853405,-8.443298015220037 L 127.12687174809881,-7.346870540160576 L 127.23252350602776,-7.239486982417476 L 127.4160741944719,-8.139155494250522 L 127.5,-8.991268497694657 L 127.5,-9.508731502305345 L 127.4559525694828,-9.955952569482804 L 127.00873150230534,-10.0 L 126.11626849769468,-10.0 L 125.63925184586049,-9.953017960536112 L 124.92529599015919,-9.57140060508649 L 124.78596082007189,-9.477473121306897 L 124.08458122023615,-9.176816158202307 z\" /><path fill-rule=\"evenodd\" fill=\"#66cc99\" stroke=\"#555555\" stroke-width=\"2.556\" opacity=\"0.6\" d=\"M 130.6199739016711,1.547175103428383 L 130.2840421364083,3.2295196349528488 L 130.04745600564854,4.009439586429874 L 130.0,4.491268497694806 L 130.0,15.508731502305276 L 130.0440474305172,15.9559525694828 L 130.49126849769468,16.0 L 137.04992955139727,16.0 L 138.9205280694656,16.176514814781846 L 140.72508891734432,16.69982776315988 L 142.39990575026823,17.55146434750293 L 143.88585257162597,18.701359273021648 L 145.130471055828,20.108917841756725 L 146.08982248263172,21.724449065697186 L 146.7300389041545,23.49091990588941 L 147.0285187837833,25.34596870769858 L 146.97472489738436,27.224106751992174 L 146.5705563285365,29.059030200965548 L 145.8302814252539,30.78596082007182 L 145.21815534613913,31.694009113460215 L 145.0469820394639,32.01425184586044 L 145.0,32.49126849769473 L 145.0,35.508731502305274 L 145.04539808267302,35.96966597095539 L 145.51012605668416,36.21806824825219 L 146.29620946467338,36.54367465699778 L 147.92617493804994,37.63278276685405 L 149.31234663004093,39.01895445884508 L 149.55410623418524,39.38077327558721 L 150.03114623681256,39.962048200635124 L 150.51012605668416,40.21806824825219 L 151.29620946467338,40.54367465699778 L 152.92617493804994,41.63278276685405 L 154.31234663004093,43.01895445884508 L 154.55410623418524,43.38077327558721 L 155.03114623681256,43.962048200635124 L 155.51012605668416,44.21806824825219 L 156.29620946467338,44.54367465699778 L 157.92617493804994,45.63278276685405 L 159.31234663004093,47.01895445884508 L 159.55410623418524,47.38077327558721 L 160.02456926529678,47.95403413765542 L 160.49126849769468,48.0 L 174.50873150230532,48.0 L 174.9559525694828,47.955952569482804 L 175.0,47.50873150230527 L 175.0,24.491268497694726 L 174.9525439943515,24.00943958642995 L 174.72638950771028,23.26390815700466 L 174.57683298541775,22.902846772544684 L 174.19438907601784,20.980171403295607 L 174.19438907601787,19.019828596704336 L 174.57683298541778,17.09715322745526 L 174.72638950771028,16.736091842995375 L 174.9525439943515,15.990560413570053 L 175.0,15.508731502305272 L 175.0,-7.508731502305273 L 174.95460191732698,-7.969665970955389 L 174.48987394331573,-8.218068248252248 L 173.70379053532662,-8.543674656997796 L 172.07382506195006,-9.632782766854042 L 170.6876533699591,-11.01895445884505 L 170.44589376581482,-11.380773275587115 L 169.97543073470322,-11.954034137655421 L 169.50873150230535,-12.0 L 157.99126849769468,-12.0 L 157.54404743051722,-11.955952569482802 L 157.54135209996753,-11.928586419160917 L 157.15890819056764,-10.005911049911841 L 156.40871747672907,-8.194790454196442 L 156.2969820394639,-7.98574815413957 L 156.25,-7.508731502305267 L 156.25,-7.491268497694661 L 156.30033867007913,-6.980171403295689 L 156.31043838427465,-5.128442572523492 L 155.97894277043483,-3.3065994604678024 L 155.31721881868407,-1.5771130978100372 L 154.3479570543585,0.0007123992447723992 L 153.10439347951382,1.3727733681012158 L 151.62916990986088,2.4920218152657743 L 149.97287178619422,3.3200786928279786 L 148.1922935987838,3.82854991665301 L 146.34849140335717,4.0 L 137.14128611688875,4.0 L 135.28676373577275,3.826532793307102 L 133.49658111809717,3.312149347588001 L 131.83284585949357,2.4746953947422927 L 130.6199739016711,1.547175103428383 z\" /><path fill-rule=\"evenodd\" fill=\"#66cc99\" stroke=\"#555555\" stroke-width=\"2.556\" opacity=\"0.6\" d=\"M 115.0440474305172,84.04404743051721 L 115.0,84.49126849769465 L 115.0,87.50873150230535 L 115.0440474305172,87.9559525694828 L 115.49126849769465,88.0 L 174.50873150230532,88.0 L 174.9559525694828,87.9559525694828 L 175.0,87.50873150230528 L 175.0,80.49126849769472 L 174.9559525694828,80.0440474305172 L 174.50873150230532,80.0 L 165.4912684976947,80.0 L 165.02456926529678,80.04596586234459 L 164.78003408502468,80.34393284163642 L 163.54441003469913,81.60405965600027 L 162.10650328517715,82.6273438597779 L 160.51110012217222,83.38191335922484 L 158.80789235074081,83.84426568089891 L 157.04992955139727,84.0 L 152.95007044860273,84.0 L 151.19210764925919,83.84426568089891 L 149.4888998778278,83.38191335922484 L 147.89349671482287,82.62734385977791 L 146.45558996530087,81.6040596560003 L 145.21996591497535,80.34393284163644 L 144.97543073470325,80.04596586234457 L 144.50873150230532,80.0 L 125.49126849769472,80.0 L 125.02456926529673,80.04596586234459 L 124.78003408502467,80.34393284163642 L 123.54441003469914,81.60405965600029 L 122.10650328517714,82.62734385977791 L 120.51110012217222,83.38191335922484 L 118.80789235074083,83.84426568089891 L 117.04992955139727,84.0 L 115.49126849769472,84.0 L 115.0440474305172,84.04404743051721 z\" /><path fill-rule=\"evenodd\" fill=\"#66cc99\" stroke=\"#555555\" stroke-width=\"2.556\" opacity=\"0.6\" d=\"M 21.384151266103434,42.098615850204226 L 20.63925184586047,42.17198203946389 L 20.629300072653226,42.177301373065625 L 20.35846586234458,42.399569265296755 L 20.342418585633645,42.562499999999986 L 20.35846586234458,42.72543073470324 L 20.629300072653255,42.9476986269344 L 20.639251845860482,42.953017960536116 L 20.85937500000001,42.97469819889872 L 22.05321711481749,42.85711501362346 L 22.075313622731883,42.85271974492339 L 24.035656429323055,42.85271974492342 L 25.95833179857203,43.235163654323316 L 27.769452394287338,43.98535436816186 L 29.39941786766378,45.07446247801803 L 30.78558955965466,46.460634170008916 L 30.805819265296755,46.48528413765542 L 30.831497004940687,46.48781317426799 L 31.860853430246895,46.39010352028035 L 32.57967780545605,46.24712046207729 L 34.54002061204731,46.2471204620773 L 36.46269598129637,46.6295643714772 L 36.86186354608816,46.794904990473405 L 37.587564586429934,47.01504399435148 L 37.59699851440191,47.015973155156615 L 37.60629071775298,47.015093191634904 L 37.606283681587435,47.01501946358343 L 37.437688187026836,46.80958525906309 L 36.460493048946,45.832390120982254 L 35.63867728920447,44.83100472035344 L 35.5328235876556,44.72515101880457 L 35.25857417841819,44.39097714675837 L 34.169466068561995,42.761011673381844 L 33.419275354723474,40.94989107766651 L 33.03683144532361,39.0272157084175 L 33.036831445323614,37.06687290182631 L 33.38017377185574,35.340774464333 L 33.39288048740416,35.21176101630292 L 33.39116077736133,35.192823432668355 L 33.266610625083686,34.94636515851572 L 32.58948182374964,33.22850224760221 L 32.23974488510527,31.415427382066866 L 32.220311640677956,31.21796709474175 L 32.080221253223115,31.174324152341807 L 32.07049892572935,31.17526292125992 L 31.293549576510543,31.41094792967634 L 31.01064195499878,31.528132103405227 L 30.98226719970418,31.536739491322013 L 30.95026808244922,31.861631981064683 L 30.938242039075458,33.209738849416446 L 30.542794940031186,35.11911713656904 L 29.784329798474097,36.915456325206605 L 28.69168424676431,38.5304577338503 L 27.30640180350764,39.902717331738806 L 25.68115234583458,40.98006038384696 L 23.8777295459733,41.721525188495704 L 21.964701411657817,42.09892048378928 L 21.384151266103434,42.098615850204226 z\" /><path fill-rule=\"evenodd\" fill=\"#66cc99\" stroke=\"#555555\" stroke-width=\"2.556\" opacity=\"0.6\" d=\"M 30.044047430517193,84.04404743051721 L 30.0,84.49126849769465 L 30.0,87.50873150230532 L 30.044047430517196,87.9559525694828 L 30.491268497694655,88.0 L 34.50873150230534,88.0 L 34.955952569482804,87.9559525694828 L 35.0,87.50873150230535 L 35.0,84.49126849769465 L 34.955952569482804,84.0440474305172 L 34.50873150230534,84.0 L 30.49126849769472,84.0 L 30.044047430517193,84.04404743051721 z\" /><path fill-rule=\"evenodd\" fill=\"#66cc99\" stroke=\"#555555\" stroke-width=\"2.556\" opacity=\"0.6\" d=\"M -179.9559525694828,76.0440474305172 L -180.0,76.49126849769472 L -180.0,87.50873150230528 L -179.9559525694828,87.9559525694828 L -179.50873150230532,88.0 L -115.49126849769465,88.0 L -115.0440474305172,87.9559525694828 L -115.0,87.50873150230535 L -115.0,84.49126849769465 L -115.0440474305172,84.0440474305172 L -115.49126849769465,84.0 L -122.04992955139726,84.0 L -124.24094195296594,83.75702130038529 L -126.32548048570006,83.03989293123445 L -128.2022454572035,81.88346427626608 L -129.7800340850246,80.3439328416365 L -130.02456926529675,80.04596586234457 L -130.49126849769468,80.0 L -132.04992955139727,80.0 L -133.80789235074081,79.84426568089891 L -135.5111001221722,79.38191335922484 L -137.10650328517713,78.62734385977791 L -138.54441003469913,77.6040596560003 L -139.78003408502465,76.34393284163644 L -140.02456926529675,76.04596586234457 L -140.49126849769468,76.0 L -179.5087315023053,76.0 L -179.9559525694828,76.0440474305172 z\" /></g></g></svg>"
      ],
      "text/plain": [
       "<shapely.geometry.multipolygon.MultiPolygon at 0x1b6a1c6da20>"
      ]
     },
     "execution_count": 53,
     "metadata": {},
     "output_type": "execute_result"
    }
   ],
   "source": [
    "polygon.buffer(10, join_style=0).buffer(-10, join_style=0)"
   ]
  },
  {
   "cell_type": "code",
   "execution_count": 19,
   "metadata": {},
   "outputs": [
    {
     "data": {
      "text/plain": [
       "26072.91259765625"
      ]
     },
     "execution_count": 19,
     "metadata": {},
     "output_type": "execute_result"
    }
   ],
   "source": [
    "polygon.area"
   ]
  },
  {
   "cell_type": "code",
   "execution_count": 20,
   "metadata": {},
   "outputs": [],
   "source": [
    "poly_read = gpd.GeoDataFrame.from_file('ROW.json')"
   ]
  },
  {
   "cell_type": "code",
   "execution_count": 21,
   "metadata": {},
   "outputs": [
    {
     "data": {
      "text/plain": [
       "<AxesSubplot:>"
      ]
     },
     "execution_count": 21,
     "metadata": {},
     "output_type": "execute_result"
    },
    {
     "data": {
      "image/png": "[encoded data removed]",
      "text/plain": [
       "<Figure size 432x288 with 1 Axes>"
      ]
     },
     "metadata": {
      "needs_background": "light"
     },
     "output_type": "display_data"
    }
   ],
   "source": [
    "poly_read.plot()"
   ]
  },
  {
   "cell_type": "code",
   "execution_count": 345,
   "metadata": {},
   "outputs": [],
   "source": [
    "file=open(\"ROW.json\",'w')\n",
    "json.dump(polygon.__geo_interface__,file)\n",
    "file.close()"
   ]
  },
  {
   "cell_type": "code",
   "execution_count": 164,
   "metadata": {},
   "outputs": [
    {
     "data": {
      "text/plain": [
       "{'type': 'MultiPolygon',\n",
       " 'coordinates': [(((-175.0, -88.0),\n",
       "    (-180.0, -88.0),\n",
       "    (-180.0, -84.0),\n",
       "    (-180.0, -80.0),\n",
       "    (-180.0, -76.0),\n",
       "    (-180.0, -72.0),\n",
       "    (-180.0, -68.0),\n",
       "    (-180.0, -64.0),\n",
       "    (-180.0, -60.0),\n",
       "    (-180.0, -56.0),\n",
       "    (-175.0, -56.0),\n",
       "    (-175.0, -52.0),\n",
       "    (-175.0, -48.0),\n",
       "    (-170.0, -48.0),\n",
       "    (-170.0, -44.0),\n",
       "    (-170.0, -40.0),\n",
       "    (-175.0, -40.0),\n",
       "    (-175.0, -36.0),\n",
       "    (-170.0, -36.0),\n",
       "    (-170.0, -32.0),\n",
       "    (-170.0, -28.0),\n",
       "    (-170.0, -24.0),\n",
       "    (-165.0, -24.0),\n",
       "    (-165.0, -28.0),\n",
       "    (-160.0, -28.0),\n",
       "    (-155.0, -28.0),\n",
       "    (-150.0, -28.0),\n",
       "    (-150.0, -32.0),\n",
       "    (-145.0, -32.0),\n",
       "    (-140.0, -32.0),\n",
       "    (-135.0, -32.0),\n",
       "    (-130.0, -32.0),\n",
       "    (-125.0, -32.0),\n",
       "    (-120.0, -32.0),\n",
       "    (-120.0, -28.0),\n",
       "    (-120.0, -24.0),\n",
       "    (-120.0, -20.0),\n",
       "    (-125.0, -20.0),\n",
       "    (-130.0, -20.0),\n",
       "    (-130.0, -16.0),\n",
       "    (-130.0, -12.0),\n",
       "    (-135.0, -12.0),\n",
       "    (-135.0, -8.0),\n",
       "    (-135.0, -4.0),\n",
       "    (-140.0, -4.0),\n",
       "    (-145.0, -4.0),\n",
       "    (-145.0, -8.0),\n",
       "    (-150.0, -8.0),\n",
       "    (-155.0, -8.0),\n",
       "    (-155.0, -4.0),\n",
       "    (-155.0, 0.0),\n",
       "    (-155.0, 4.0),\n",
       "    (-155.0, 8.0),\n",
       "    (-155.0, 12.0),\n",
       "    (-150.0, 12.0),\n",
       "    (-150.0, 16.0),\n",
       "    (-150.0, 20.0),\n",
       "    (-150.0, 24.0),\n",
       "    (-150.0, 28.0),\n",
       "    (-155.0, 28.0),\n",
       "    (-160.0, 28.0),\n",
       "    (-165.0, 28.0),\n",
       "    (-165.0, 32.0),\n",
       "    (-170.0, 32.0),\n",
       "    (-175.0, 32.0),\n",
       "    (-180.0, 32.0),\n",
       "    (-180.0, 36.0),\n",
       "    (-180.0, 40.0),\n",
       "    (-180.0, 44.0),\n",
       "    (-175.0, 44.0),\n",
       "    (-175.0, 48.0),\n",
       "    (-170.0, 48.0),\n",
       "    (-165.0, 48.0),\n",
       "    (-160.0, 48.0),\n",
       "    (-155.0, 48.0),\n",
       "    (-155.0, 52.0),\n",
       "    (-150.0, 52.0),\n",
       "    (-145.0, 52.0),\n",
       "    (-140.0, 52.0),\n",
       "    (-140.0, 48.0),\n",
       "    (-135.0, 48.0),\n",
       "    (-135.0, 44.0),\n",
       "    (-130.0, 44.0),\n",
       "    (-130.0, 40.0),\n",
       "    (-130.0, 36.0),\n",
       "    (-130.0, 32.0),\n",
       "    (-125.0, 32.0),\n",
       "    (-125.0, 28.0),\n",
       "    (-125.0, 24.0),\n",
       "    (-120.0, 24.0),\n",
       "    (-120.0, 20.0),\n",
       "    (-120.0, 16.0),\n",
       "    (-120.0, 12.0),\n",
       "    (-115.0, 12.0),\n",
       "    (-115.0, 8.0),\n",
       "    (-115.0, 4.0),\n",
       "    (-110.0, 4.0),\n",
       "    (-105.0, 4.0),\n",
       "    (-105.0, 8.0),\n",
       "    (-105.0, 12.0),\n",
       "    (-100.0, 12.0),\n",
       "    (-95.0, 12.0),\n",
       "    (-95.0, 8.0),\n",
       "    (-95.0, 4.0),\n",
       "    (-100.0, 4.0),\n",
       "    (-100.0, 0.0),\n",
       "    (-100.0, -4.0),\n",
       "    (-95.0, -4.0),\n",
       "    (-95.0, -8.0),\n",
       "    (-90.0, -8.0),\n",
       "    (-85.0, -8.0),\n",
       "    (-85.0, -12.0),\n",
       "    (-85.0, -16.0),\n",
       "    (-80.0, -16.0),\n",
       "    (-80.0, -20.0),\n",
       "    (-85.0, -20.0),\n",
       "    (-85.0, -24.0),\n",
       "    (-85.0, -28.0),\n",
       "    (-85.0, -32.0),\n",
       "    (-85.0, -36.0),\n",
       "    (-85.0, -40.0),\n",
       "    (-80.0, -40.0),\n",
       "    (-80.0, -44.0),\n",
       "    (-85.0, -44.0),\n",
       "    (-85.0, -48.0),\n",
       "    (-85.0, -52.0),\n",
       "    (-85.0, -56.0),\n",
       "    (-80.0, -56.0),\n",
       "    (-80.0, -60.0),\n",
       "    (-75.0, -60.0),\n",
       "    (-70.0, -60.0),\n",
       "    (-65.0, -60.0),\n",
       "    (-60.0, -60.0),\n",
       "    (-55.0, -60.0),\n",
       "    (-55.0, -56.0),\n",
       "    (-55.0, -52.0),\n",
       "    (-60.0, -52.0),\n",
       "    (-60.0, -48.0),\n",
       "    (-55.0, -48.0),\n",
       "    (-55.0, -44.0),\n",
       "    (-50.0, -44.0),\n",
       "    (-50.0, -40.0),\n",
       "    (-50.0, -36.0),\n",
       "    (-45.0, -36.0),\n",
       "    (-45.0, -32.0),\n",
       "    (-40.0, -32.0),\n",
       "    (-40.0, -28.0),\n",
       "    (-35.0, -28.0),\n",
       "    (-35.0, -24.0),\n",
       "    (-30.0, -24.0),\n",
       "    (-25.0, -24.0),\n",
       "    (-25.0, -20.0),\n",
       "    (-25.0, -16.0),\n",
       "    (-30.0, -16.0),\n",
       "    (-30.0, -12.0),\n",
       "    (-30.0, -8.0),\n",
       "    (-25.0, -8.0),\n",
       "    (-25.0, -4.0),\n",
       "    (-25.0, 0.0),\n",
       "    (-25.0, 4.0),\n",
       "    (-25.0, 8.0),\n",
       "    (-20.0, 8.0),\n",
       "    (-20.0, 4.0),\n",
       "    (-15.0, 4.0),\n",
       "    (-15.0, 0.0),\n",
       "    (-10.0, 0.0),\n",
       "    (-5.0, 0.0),\n",
       "    (0.0, 0.0),\n",
       "    (0.0, -4.0),\n",
       "    (5.0, -4.0),\n",
       "    (5.0, -8.0),\n",
       "    (5.0, -12.0),\n",
       "    (5.0, -16.0),\n",
       "    (5.0, -20.0),\n",
       "    (5.0, -24.0),\n",
       "    (10.0, -24.0),\n",
       "    (10.0, -28.0),\n",
       "    (10.0, -32.0),\n",
       "    (10.0, -36.0),\n",
       "    (10.0, -40.0),\n",
       "    (15.0, -40.0),\n",
       "    (20.0, -40.0),\n",
       "    (25.0, -40.0),\n",
       "    (30.0, -40.0),\n",
       "    (30.0, -36.0),\n",
       "    (35.0, -36.0),\n",
       "    (35.0, -32.0),\n",
       "    (40.0, -32.0),\n",
       "    (45.0, -32.0),\n",
       "    (50.0, -32.0),\n",
       "    (50.0, -28.0),\n",
       "    (55.0, -28.0),\n",
       "    (60.0, -28.0),\n",
       "    (60.0, -24.0),\n",
       "    (65.0, -24.0),\n",
       "    (70.0, -24.0),\n",
       "    (70.0, -20.0),\n",
       "    (70.0, -16.0),\n",
       "    (65.0, -16.0),\n",
       "    (65.0, -12.0),\n",
       "    (65.0, -8.0),\n",
       "    (60.0, -8.0),\n",
       "    (60.0, -4.0),\n",
       "    (60.0, 0.0),\n",
       "    (55.0, 0.0),\n",
       "    (55.0, 4.0),\n",
       "    (55.0, 8.0),\n",
       "    (60.0, 8.0),\n",
       "    (60.0, 12.0),\n",
       "    (60.0, 16.0),\n",
       "    (65.0, 16.0),\n",
       "    (65.0, 12.0),\n",
       "    (65.0, 8.0),\n",
       "    (65.0, 4.0),\n",
       "    (65.0, 0.0),\n",
       "    (65.0, -4.0),\n",
       "    (70.0, -4.0),\n",
       "    (75.0, -4.0),\n",
       "    (80.0, -4.0),\n",
       "    (80.0, 0.0),\n",
       "    (85.0, 0.0),\n",
       "    (85.0, 4.0),\n",
       "    (90.0, 4.0),\n",
       "    (90.0, 0.0),\n",
       "    (90.0, -4.0),\n",
       "    (95.0, -4.0),\n",
       "    (95.0, -8.0),\n",
       "    (90.0, -8.0),\n",
       "    (90.0, -12.0),\n",
       "    (90.0, -16.0),\n",
       "    (95.0, -16.0),\n",
       "    (100.0, -16.0),\n",
       "    (105.0, -16.0),\n",
       "    (110.0, -16.0),\n",
       "    (110.0, -20.0),\n",
       "    (105.0, -20.0),\n",
       "    (105.0, -24.0),\n",
       "    (105.0, -28.0),\n",
       "    (105.0, -32.0),\n",
       "    (110.0, -32.0),\n",
       "    (110.0, -36.0),\n",
       "    (110.0, -40.0),\n",
       "    (115.0, -40.0),\n",
       "    (120.0, -40.0),\n",
       "    (125.0, -40.0),\n",
       "    (130.0, -40.0),\n",
       "    (135.0, -40.0),\n",
       "    (135.0, -44.0),\n",
       "    (140.0, -44.0),\n",
       "    (140.0, -48.0),\n",
       "    (145.0, -48.0),\n",
       "    (150.0, -48.0),\n",
       "    (155.0, -48.0),\n",
       "    (155.0, -52.0),\n",
       "    (150.0, -52.0),\n",
       "    (150.0, -56.0),\n",
       "    (150.0, -60.0),\n",
       "    (155.0, -60.0),\n",
       "    (160.0, -60.0),\n",
       "    (165.0, -60.0),\n",
       "    (165.0, -56.0),\n",
       "    (170.0, -56.0),\n",
       "    (175.0, -56.0),\n",
       "    (175.0, -60.0),\n",
       "    (175.0, -64.0),\n",
       "    (175.0, -68.0),\n",
       "    (175.0, -72.0),\n",
       "    (175.0, -76.0),\n",
       "    (175.0, -80.0),\n",
       "    (175.0, -84.0),\n",
       "    (175.0, -88.0),\n",
       "    (170.0, -88.0),\n",
       "    (165.0, -88.0),\n",
       "    (160.0, -88.0),\n",
       "    (155.0, -88.0),\n",
       "    (150.0, -88.0),\n",
       "    (145.0, -88.0),\n",
       "    (140.0, -88.0),\n",
       "    (135.0, -88.0),\n",
       "    (130.0, -88.0),\n",
       "    (125.0, -88.0),\n",
       "    (120.0, -88.0),\n",
       "    (115.0, -88.0),\n",
       "    (110.0, -88.0),\n",
       "    (105.0, -88.0),\n",
       "    (100.0, -88.0),\n",
       "    (95.0, -88.0),\n",
       "    (90.0, -88.0),\n",
       "    (85.0, -88.0),\n",
       "    (80.0, -88.0),\n",
       "    (75.0, -88.0),\n",
       "    (70.0, -88.0),\n",
       "    (65.0, -88.0),\n",
       "    (60.0, -88.0),\n",
       "    (55.0, -88.0),\n",
       "    (50.0, -88.0),\n",
       "    (45.0, -88.0),\n",
       "    (40.0, -88.0),\n",
       "    (35.0, -88.0),\n",
       "    (30.0, -88.0),\n",
       "    (25.0, -88.0),\n",
       "    (20.0, -88.0),\n",
       "    (15.0, -88.0),\n",
       "    (10.0, -88.0),\n",
       "    (5.0, -88.0),\n",
       "    (0.0, -88.0),\n",
       "    (-5.0, -88.0),\n",
       "    (-10.0, -88.0),\n",
       "    (-15.0, -88.0),\n",
       "    (-20.0, -88.0),\n",
       "    (-25.0, -88.0),\n",
       "    (-30.0, -88.0),\n",
       "    (-35.0, -88.0),\n",
       "    (-40.0, -88.0),\n",
       "    (-45.0, -88.0),\n",
       "    (-50.0, -88.0),\n",
       "    (-55.0, -88.0),\n",
       "    (-60.0, -88.0),\n",
       "    (-65.0, -88.0),\n",
       "    (-70.0, -88.0),\n",
       "    (-75.0, -88.0),\n",
       "    (-80.0, -88.0),\n",
       "    (-85.0, -88.0),\n",
       "    (-90.0, -88.0),\n",
       "    (-95.0, -88.0),\n",
       "    (-100.0, -88.0),\n",
       "    (-105.0, -88.0),\n",
       "    (-110.0, -88.0),\n",
       "    (-115.0, -88.0),\n",
       "    (-120.0, -88.0),\n",
       "    (-125.0, -88.0),\n",
       "    (-130.0, -88.0),\n",
       "    (-135.0, -88.0),\n",
       "    (-140.0, -88.0),\n",
       "    (-145.0, -88.0),\n",
       "    (-150.0, -88.0),\n",
       "    (-155.0, -88.0),\n",
       "    (-160.0, -88.0),\n",
       "    (-165.0, -88.0),\n",
       "    (-170.0, -88.0),\n",
       "    (-175.0, -88.0)),\n",
       "   ((30.0, -40.0),\n",
       "    (30.0, -44.0),\n",
       "    (30.0, -48.0),\n",
       "    (30.0, -52.0),\n",
       "    (35.0, -52.0),\n",
       "    (40.0, -52.0),\n",
       "    (45.0, -52.0),\n",
       "    (50.0, -52.0),\n",
       "    (55.0, -52.0),\n",
       "    (60.0, -52.0),\n",
       "    (60.0, -56.0),\n",
       "    (65.0, -56.0),\n",
       "    (65.0, -60.0),\n",
       "    (70.0, -60.0),\n",
       "    (75.0, -60.0),\n",
       "    (80.0, -60.0),\n",
       "    (80.0, -56.0),\n",
       "    (80.0, -52.0),\n",
       "    (80.0, -48.0),\n",
       "    (80.0, -44.0),\n",
       "    (85.0, -44.0),\n",
       "    (85.0, -40.0),\n",
       "    (85.0, -36.0),\n",
       "    (85.0, -32.0),\n",
       "    (80.0, -32.0),\n",
       "    (75.0, -32.0),\n",
       "    (70.0, -32.0),\n",
       "    (70.0, -36.0),\n",
       "    (70.0, -40.0),\n",
       "    (70.0, -44.0),\n",
       "    (65.0, -44.0),\n",
       "    (60.0, -44.0),\n",
       "    (60.0, -40.0),\n",
       "    (55.0, -40.0),\n",
       "    (50.0, -40.0),\n",
       "    (45.0, -40.0),\n",
       "    (40.0, -40.0),\n",
       "    (35.0, -40.0),\n",
       "    (30.0, -40.0)),\n",
       "   ((0.0, -12.0),\n",
       "    (-5.0, -12.0),\n",
       "    (-10.0, -12.0),\n",
       "    (-10.0, -16.0),\n",
       "    (-10.0, -20.0),\n",
       "    (-5.0, -20.0),\n",
       "    (0.0, -20.0),\n",
       "    (0.0, -16.0),\n",
       "    (0.0, -12.0)),\n",
       "   ((-10.0, -12.0),\n",
       "    (-10.0, -8.0),\n",
       "    (-10.0, -4.0),\n",
       "    (-15.0, -4.0),\n",
       "    (-20.0, -4.0),\n",
       "    (-20.0, -8.0),\n",
       "    (-20.0, -12.0),\n",
       "    (-15.0, -12.0),\n",
       "    (-10.0, -12.0)),\n",
       "   ((5.0, -52.0), (0.0, -52.0), (0.0, -56.0), (5.0, -56.0), (5.0, -52.0)),\n",
       "   ((-5.0, -32.0),\n",
       "    (-10.0, -32.0),\n",
       "    (-15.0, -32.0),\n",
       "    (-20.0, -32.0),\n",
       "    (-20.0, -36.0),\n",
       "    (-20.0, -40.0),\n",
       "    (-20.0, -44.0),\n",
       "    (-15.0, -44.0),\n",
       "    (-10.0, -44.0),\n",
       "    (-5.0, -44.0),\n",
       "    (-5.0, -40.0),\n",
       "    (-5.0, -36.0),\n",
       "    (-5.0, -32.0)),\n",
       "   ((-100.0, -20.0),\n",
       "    (-105.0, -20.0),\n",
       "    (-110.0, -20.0),\n",
       "    (-115.0, -20.0),\n",
       "    (-115.0, -24.0),\n",
       "    (-115.0, -28.0),\n",
       "    (-115.0, -32.0),\n",
       "    (-110.0, -32.0),\n",
       "    (-105.0, -32.0),\n",
       "    (-100.0, -32.0),\n",
       "    (-100.0, -28.0),\n",
       "    (-100.0, -24.0),\n",
       "    (-100.0, -20.0))),\n",
       "  (((-175.0, 8.0),\n",
       "    (-180.0, 8.0),\n",
       "    (-180.0, 12.0),\n",
       "    (-180.0, 16.0),\n",
       "    (-180.0, 20.0),\n",
       "    (-175.0, 20.0),\n",
       "    (-175.0, 16.0),\n",
       "    (-175.0, 12.0),\n",
       "    (-170.0, 12.0),\n",
       "    (-170.0, 8.0),\n",
       "    (-170.0, 4.0),\n",
       "    (-175.0, 4.0),\n",
       "    (-175.0, 8.0)),),\n",
       "  (((-175.0, 76.0),\n",
       "    (-180.0, 76.0),\n",
       "    (-180.0, 80.0),\n",
       "    (-180.0, 84.0),\n",
       "    (-180.0, 88.0),\n",
       "    (-175.0, 88.0),\n",
       "    (-170.0, 88.0),\n",
       "    (-165.0, 88.0),\n",
       "    (-160.0, 88.0),\n",
       "    (-155.0, 88.0),\n",
       "    (-150.0, 88.0),\n",
       "    (-145.0, 88.0),\n",
       "    (-140.0, 88.0),\n",
       "    (-135.0, 88.0),\n",
       "    (-130.0, 88.0),\n",
       "    (-125.0, 88.0),\n",
       "    (-120.0, 88.0),\n",
       "    (-115.0, 88.0),\n",
       "    (-115.0, 84.0),\n",
       "    (-120.0, 84.0),\n",
       "    (-125.0, 84.0),\n",
       "    (-130.0, 84.0),\n",
       "    (-130.0, 80.0),\n",
       "    (-135.0, 80.0),\n",
       "    (-140.0, 80.0),\n",
       "    (-140.0, 76.0),\n",
       "    (-145.0, 76.0),\n",
       "    (-150.0, 76.0),\n",
       "    (-155.0, 76.0),\n",
       "    (-160.0, 76.0),\n",
       "    (-165.0, 76.0),\n",
       "    (-170.0, 76.0),\n",
       "    (-175.0, 76.0)),),\n",
       "  (((-170.0, -4.0),\n",
       "    (-170.0, 0.0),\n",
       "    (-170.0, 4.0),\n",
       "    (-165.0, 4.0),\n",
       "    (-165.0, 0.0),\n",
       "    (-165.0, -4.0),\n",
       "    (-170.0, -4.0)),),\n",
       "  (((-165.0, 12.0),\n",
       "    (-165.0, 16.0),\n",
       "    (-160.0, 16.0),\n",
       "    (-160.0, 12.0),\n",
       "    (-165.0, 12.0)),),\n",
       "  (((-67.109375, 18.125),\n",
       "    (-67.109375, 18.1875),\n",
       "    (-67.109375, 18.25),\n",
       "    (-67.03125, 18.25),\n",
       "    (-67.03125, 18.375),\n",
       "    (-66.875, 18.375),\n",
       "    (-66.875, 18.4375),\n",
       "    (-66.796875, 18.4375),\n",
       "    (-66.71875, 18.4375),\n",
       "    (-66.71875, 18.375),\n",
       "    (-66.5625, 18.375),\n",
       "    (-66.40625, 18.375),\n",
       "    (-66.40625, 18.4375),\n",
       "    (-66.328125, 18.4375),\n",
       "    (-66.25, 18.4375),\n",
       "    (-66.2109375, 18.4375),\n",
       "    (-66.171875, 18.4375),\n",
       "    (-66.1328125, 18.4375),\n",
       "    (-66.1328125, 18.40625),\n",
       "    (-66.09375, 18.40625),\n",
       "    (-66.0546875, 18.40625),\n",
       "    (-66.0546875, 18.4375),\n",
       "    (-66.015625, 18.4375),\n",
       "    (-65.9765625, 18.4375),\n",
       "    (-65.9375, 18.4375),\n",
       "    (-65.9375, 18.40625),\n",
       "    (-65.9375, 18.375),\n",
       "    (-65.78125, 18.375),\n",
       "    (-65.78125, 18.25),\n",
       "    (-65.78125, 18.1875),\n",
       "    (-65.78125, 18.125),\n",
       "    (-65.859375, 18.125),\n",
       "    (-65.9375, 18.125),\n",
       "    (-65.9375, 18.0),\n",
       "    (-66.09375, 18.0),\n",
       "    (-66.25, 18.0),\n",
       "    (-66.40625, 18.0),\n",
       "    (-66.5625, 18.0),\n",
       "    (-66.6015625, 18.0),\n",
       "    (-66.640625, 18.0),\n",
       "    (-66.71875, 18.0),\n",
       "    (-66.71875, 18.0625),\n",
       "    (-66.71875, 18.125),\n",
       "    (-66.875, 18.125),\n",
       "    (-66.875, 18.0),\n",
       "    (-67.03125, 18.0),\n",
       "    (-67.03125, 18.125),\n",
       "    (-67.109375, 18.125)),),\n",
       "  (((-65.0, 24.0),\n",
       "    (-65.0, 28.0),\n",
       "    (-60.0, 28.0),\n",
       "    (-60.0, 32.0),\n",
       "    (-60.0, 36.0),\n",
       "    (-65.0, 36.0),\n",
       "    (-65.0, 40.0),\n",
       "    (-60.0, 40.0),\n",
       "    (-55.0, 40.0),\n",
       "    (-50.0, 40.0),\n",
       "    (-50.0, 44.0),\n",
       "    (-45.0, 44.0),\n",
       "    (-45.0, 48.0),\n",
       "    (-45.0, 52.0),\n",
       "    (-45.0, 56.0),\n",
       "    (-40.0, 56.0),\n",
       "    (-35.0, 56.0),\n",
       "    (-35.0, 60.0),\n",
       "    (-30.0, 60.0),\n",
       "    (-25.0, 60.0),\n",
       "    (-25.0, 56.0),\n",
       "    (-20.0, 56.0),\n",
       "    (-20.0, 52.0),\n",
       "    (-20.0, 48.0),\n",
       "    (-15.0, 48.0),\n",
       "    (-15.0, 44.0),\n",
       "    (-15.0, 40.0),\n",
       "    (-20.0, 40.0),\n",
       "    (-20.0, 44.0),\n",
       "    (-25.0, 44.0),\n",
       "    (-30.0, 44.0),\n",
       "    (-35.0, 44.0),\n",
       "    (-40.0, 44.0),\n",
       "    (-40.0, 40.0),\n",
       "    (-40.0, 36.0),\n",
       "    (-35.0, 36.0),\n",
       "    (-35.0, 32.0),\n",
       "    (-30.0, 32.0),\n",
       "    (-25.0, 32.0),\n",
       "    (-25.0, 28.0),\n",
       "    (-25.0, 24.0),\n",
       "    (-30.0, 24.0),\n",
       "    (-30.0, 20.0),\n",
       "    (-30.0, 16.0),\n",
       "    (-30.0, 12.0),\n",
       "    (-30.0, 8.0),\n",
       "    (-35.0, 8.0),\n",
       "    (-35.0, 4.0),\n",
       "    (-40.0, 4.0),\n",
       "    (-45.0, 4.0),\n",
       "    (-45.0, 8.0),\n",
       "    (-50.0, 8.0),\n",
       "    (-50.0, 12.0),\n",
       "    (-55.0, 12.0),\n",
       "    (-55.0, 16.0),\n",
       "    (-55.0, 20.0),\n",
       "    (-55.0, 24.0),\n",
       "    (-60.0, 24.0),\n",
       "    (-65.0, 24.0)),),\n",
       "  (((-62.5, 12.0),\n",
       "    (-62.5, 12.5),\n",
       "    (-62.5, 13.0),\n",
       "    (-62.5, 14.0),\n",
       "    (-61.25, 14.0),\n",
       "    (-60.9375, 14.0),\n",
       "    (-60.625, 14.0),\n",
       "    (-60.625, 13.75),\n",
       "    (-60.625, 13.5),\n",
       "    (-60.625, 13.0),\n",
       "    (-61.25, 13.0),\n",
       "    (-61.25, 12.5),\n",
       "    (-61.25, 12.25),\n",
       "    (-61.25, 12.0),\n",
       "    (-61.5625, 12.0),\n",
       "    (-61.875, 12.0),\n",
       "    (-62.5, 12.0)),),\n",
       "  (((-49.140625, -1.53125),\n",
       "    (-49.140625, -1.5625),\n",
       "    (-49.1796875, -1.5625),\n",
       "    (-49.1796875, -1.53125),\n",
       "    (-49.1796875, -1.5),\n",
       "    (-49.140625, -1.5),\n",
       "    (-49.140625, -1.53125)),),\n",
       "  (((-20.0, 22.0),\n",
       "    (-20.0, 24.0),\n",
       "    (-17.5, 24.0),\n",
       "    (-16.25, 24.0),\n",
       "    (-16.25, 23.75),\n",
       "    (-16.09375, 23.75),\n",
       "    (-16.015625, 23.75),\n",
       "    (-15.9765625, 23.75),\n",
       "    (-15.9765625, 23.71875),\n",
       "    (-16.015625, 23.71875),\n",
       "    (-16.015625, 23.6875),\n",
       "    (-16.015625, 23.625),\n",
       "    (-16.09375, 23.625),\n",
       "    (-16.09375, 23.5),\n",
       "    (-16.25, 23.5),\n",
       "    (-16.25, 23.0),\n",
       "    (-17.5, 23.0),\n",
       "    (-17.5, 22.0),\n",
       "    (-20.0, 22.0)),),\n",
       "  (((-17.5, 20.75),\n",
       "    (-17.5, 21.0),\n",
       "    (-17.1875, 21.0),\n",
       "    (-17.109375, 21.0),\n",
       "    (-17.109375, 20.9375),\n",
       "    (-17.109375, 20.875),\n",
       "    (-17.1875, 20.875),\n",
       "    (-17.1875, 20.75),\n",
       "    (-17.5, 20.75)),),\n",
       "  (((-16.875, 12.0),\n",
       "    (-16.875, 12.25),\n",
       "    (-16.5625, 12.25),\n",
       "    (-16.25, 12.25),\n",
       "    (-15.9375, 12.25),\n",
       "    (-15.625, 12.25),\n",
       "    (-15.3125, 12.25),\n",
       "    (-15.3125, 12.5),\n",
       "    (-15.0, 12.5),\n",
       "    (-14.6875, 12.5),\n",
       "    (-14.375, 12.5),\n",
       "    (-14.0625, 12.5),\n",
       "    (-14.0625, 12.25),\n",
       "    (-14.0625, 12.0),\n",
       "    (-14.375, 12.0),\n",
       "    (-14.6875, 12.0),\n",
       "    (-15.0, 12.0),\n",
       "    (-15.0, 11.75),\n",
       "    (-15.0, 11.5),\n",
       "    (-15.0, 11.0),\n",
       "    (-15.625, 11.0),\n",
       "    (-16.25, 11.0),\n",
       "    (-16.25, 11.5),\n",
       "    (-16.25, 11.75),\n",
       "    (-16.25, 12.0),\n",
       "    (-16.5625, 12.0),\n",
       "    (-16.875, 12.0)),),\n",
       "  (((-15.9765625, 23.625),\n",
       "    (-15.9765625, 23.65625),\n",
       "    (-15.9375, 23.65625),\n",
       "    (-15.9375, 23.625),\n",
       "    (-15.9765625, 23.625)),),\n",
       "  (((-13.75, 27.25),\n",
       "    (-13.75, 27.5),\n",
       "    (-13.4375, 27.5),\n",
       "    (-13.4375, 27.25),\n",
       "    (-13.75, 27.25)),),\n",
       "  (((-2.1484375, 49.21875),\n",
       "    (-2.1484375, 49.25),\n",
       "    (-2.109375, 49.25),\n",
       "    (-2.109375, 49.21875),\n",
       "    (-2.1484375, 49.21875)),),\n",
       "  (((-2.109375, 49.21875),\n",
       "    (-2.0703125, 49.21875),\n",
       "    (-2.0703125, 49.1875),\n",
       "    (-2.109375, 49.1875),\n",
       "    (-2.109375, 49.21875)),),\n",
       "  (((8.125, 3.5),\n",
       "    (8.125, 3.75),\n",
       "    (8.4375, 3.75),\n",
       "    (8.4375, 4.0),\n",
       "    (8.75, 4.0),\n",
       "    (8.75, 3.75),\n",
       "    (8.828125, 3.75),\n",
       "    (8.90625, 3.75),\n",
       "    (9.0625, 3.75),\n",
       "    (9.0625, 3.625),\n",
       "    (9.0625, 3.5),\n",
       "    (8.90625, 3.5),\n",
       "    (8.75, 3.5),\n",
       "    (8.75, 3.0),\n",
       "    (8.125, 3.0),\n",
       "    (8.125, 3.5)),),\n",
       "  (((8.75, 1.0),\n",
       "    (8.75, 1.5),\n",
       "    (8.75, 2.0),\n",
       "    (8.75, 2.5),\n",
       "    (9.375, 2.5),\n",
       "    (9.375, 2.0),\n",
       "    (9.6875, 2.0),\n",
       "    (10.0, 2.0),\n",
       "    (10.625, 2.0),\n",
       "    (10.9375, 2.0),\n",
       "    (11.25, 2.0),\n",
       "    (11.25, 1.75),\n",
       "    (11.25, 1.5),\n",
       "    (10.9375, 1.5),\n",
       "    (10.625, 1.5),\n",
       "    (10.0, 1.5),\n",
       "    (10.0, 1.25),\n",
       "    (9.6875, 1.25),\n",
       "    (9.375, 1.25),\n",
       "    (9.375, 1.0),\n",
       "    (8.75, 1.0)),),\n",
       "  (((20.46875, 42.375),\n",
       "    (20.3125, 42.375),\n",
       "    (20.3125, 42.5),\n",
       "    (20.3125, 42.625),\n",
       "    (20.3125, 42.75),\n",
       "    (20.46875, 42.75),\n",
       "    (20.625, 42.75),\n",
       "    (20.625, 42.875),\n",
       "    (20.625, 43.0),\n",
       "    (20.78125, 43.0),\n",
       "    (20.9375, 43.0),\n",
       "    (21.09375, 43.0),\n",
       "    (21.09375, 42.875),\n",
       "    (21.25, 42.875),\n",
       "    (21.25, 42.75),\n",
       "    (21.25, 42.6875),\n",
       "    (21.25, 42.625),\n",
       "    (21.40625, 42.625),\n",
       "    (21.5625, 42.625),\n",
       "    (21.5625, 42.5),\n",
       "    (21.5625, 42.375),\n",
       "    (21.40625, 42.375),\n",
       "    (21.40625, 42.25),\n",
       "    (21.25, 42.25),\n",
       "    (21.09375, 42.25),\n",
       "    (20.9375, 42.25),\n",
       "    (20.78125, 42.25),\n",
       "    (20.78125, 42.125),\n",
       "    (20.625, 42.125),\n",
       "    (20.625, 42.25),\n",
       "    (20.46875, 42.25),\n",
       "    (20.46875, 42.375)),),\n",
       "  (((30.703125, 46.3125),\n",
       "    (30.703125, 46.34375),\n",
       "    (30.7421875, 46.34375),\n",
       "    (30.78125, 46.34375),\n",
       "    (30.78125, 46.375),\n",
       "    (30.9375, 46.375),\n",
       "    (30.9375, 46.5),\n",
       "    (31.25, 46.5),\n",
       "    (31.25, 46.25),\n",
       "    (31.25, 46.0),\n",
       "    (30.9375, 46.0),\n",
       "    (30.9375, 46.25),\n",
       "    (30.78125, 46.25),\n",
       "    (30.703125, 46.25),\n",
       "    (30.703125, 46.3125)),),\n",
       "  (((30.78125, 46.5),\n",
       "    (30.78125, 46.53125),\n",
       "    (30.8203125, 46.53125),\n",
       "    (30.859375, 46.53125),\n",
       "    (30.859375, 46.5),\n",
       "    (30.8203125, 46.5),\n",
       "    (30.78125, 46.5)),),\n",
       "  (((30.9375, 31.5),\n",
       "    (30.9375, 31.5625),\n",
       "    (31.015625, 31.5625),\n",
       "    (31.0546875, 31.5625),\n",
       "    (31.0546875, 31.53125),\n",
       "    (31.015625, 31.53125),\n",
       "    (31.015625, 31.5),\n",
       "    (30.9375, 31.5)),),\n",
       "  (((31.8359375, 31.3125),\n",
       "    (31.8359375, 31.34375),\n",
       "    (31.875, 31.34375),\n",
       "    (31.875, 31.3125),\n",
       "    (31.8359375, 31.3125)),),\n",
       "  (((32.109375, 31.15625),\n",
       "    (32.109375, 31.125),\n",
       "    (32.0703125, 31.125),\n",
       "    (32.0703125, 31.15625),\n",
       "    (32.0703125, 31.1875),\n",
       "    (32.0703125, 31.21875),\n",
       "    (32.0703125, 31.25),\n",
       "    (32.109375, 31.25),\n",
       "    (32.1875, 31.25),\n",
       "    (32.2265625, 31.25),\n",
       "    (32.265625, 31.25),\n",
       "    (32.265625, 31.21875),\n",
       "    (32.265625, 31.1875),\n",
       "    (32.2265625, 31.1875),\n",
       "    (32.1875, 31.1875),\n",
       "    (32.109375, 31.1875),\n",
       "    (32.109375, 31.15625)),),\n",
       "  (((30.0, 84.0), (30.0, 88.0), (35.0, 88.0), (35.0, 84.0), (30.0, 84.0)),),\n",
       "  (((32.5, 44.0),\n",
       "    (32.5, 44.5),\n",
       "    (32.5, 45.0),\n",
       "    (33.125, 45.0),\n",
       "    (33.125, 45.125),\n",
       "    (33.28125, 45.125),\n",
       "    (33.28125, 45.15625),\n",
       "    (33.3203125, 45.15625),\n",
       "    (33.359375, 45.15625),\n",
       "    (33.3984375, 45.15625),\n",
       "    (33.4375, 45.15625),\n",
       "    (33.4375, 45.125),\n",
       "    (33.4375, 45.0),\n",
       "    (33.4375, 44.75),\n",
       "    (33.125, 44.75),\n",
       "    (33.125, 44.5),\n",
       "    (33.125, 44.0),\n",
       "    (32.5, 44.0)),),\n",
       "  (((33.28125, 35.15625),\n",
       "    (33.28125, 35.1875),\n",
       "    (33.28125, 35.25),\n",
       "    (33.359375, 35.25),\n",
       "    (33.4375, 35.25),\n",
       "    (33.4375, 35.1875),\n",
       "    (33.359375, 35.1875),\n",
       "    (33.3203125, 35.1875),\n",
       "    (33.3203125, 35.15625),\n",
       "    (33.28125, 35.15625)),),\n",
       "  (((33.75, 44.0),\n",
       "    (33.75, 44.25),\n",
       "    (34.0625, 44.25),\n",
       "    (34.375, 44.25),\n",
       "    (34.375, 44.5),\n",
       "    (35.0, 44.5),\n",
       "    (35.0, 44.0),\n",
       "    (34.375, 44.0),\n",
       "    (34.0625, 44.0),\n",
       "    (33.75, 44.0)),),\n",
       "  (((35.625, 45.5),\n",
       "    (35.625, 46.0),\n",
       "    (36.25, 46.0),\n",
       "    (36.25, 45.5),\n",
       "    (35.625, 45.5)),),\n",
       "  (((37.578125, 47.0),\n",
       "    (37.578125, 47.0625),\n",
       "    (37.65625, 47.0625),\n",
       "    (37.65625, 47.0),\n",
       "    (37.578125, 47.0)),),\n",
       "  (((42.5, -13.0),\n",
       "    (42.5, -12.5),\n",
       "    (42.5, -12.0),\n",
       "    (42.5, -11.5),\n",
       "    (42.5, -11.0),\n",
       "    (42.5, -10.0),\n",
       "    (43.75, -10.0),\n",
       "    (43.75, -11.0),\n",
       "    (45.0, -11.0),\n",
       "    (45.0, -12.0),\n",
       "    (45.625, -12.0),\n",
       "    (46.25, -12.0),\n",
       "    (46.25, -12.5),\n",
       "    (46.25, -13.0),\n",
       "    (45.625, -13.0),\n",
       "    (45.3125, -13.0),\n",
       "    (45.3125, -12.875),\n",
       "    (45.234375, -12.875),\n",
       "    (45.234375, -12.8125),\n",
       "    (45.3125, -12.8125),\n",
       "    (45.3125, -12.75),\n",
       "    (45.3125, -12.5),\n",
       "    (45.0, -12.5),\n",
       "    (45.0, -13.0),\n",
       "    (45.0, -14.0),\n",
       "    (43.75, -14.0),\n",
       "    (43.75, -13.0),\n",
       "    (43.125, -13.0),\n",
       "    (42.5, -13.0)),),\n",
       "  (((42.96875, 10.125),\n",
       "    (42.96875, 10.25),\n",
       "    (43.125, 10.25),\n",
       "    (43.125, 10.5),\n",
       "    (43.4375, 10.5),\n",
       "    (43.75, 10.5),\n",
       "    (43.75, 10.25),\n",
       "    (43.75, 10.0),\n",
       "    (44.0625, 10.0),\n",
       "    (44.375, 10.0),\n",
       "    (44.6875, 10.0),\n",
       "    (45.0, 10.0),\n",
       "    (45.3125, 10.0),\n",
       "    (45.625, 10.0),\n",
       "    (46.25, 10.0),\n",
       "    (46.25, 10.5),\n",
       "    (46.875, 10.5),\n",
       "    (47.5, 10.5),\n",
       "    (47.5, 11.0),\n",
       "    (48.75, 11.0),\n",
       "    (48.75, 10.0),\n",
       "    (47.5, 10.0),\n",
       "    (47.5, 9.0),\n",
       "    (48.125, 9.0),\n",
       "    (48.125, 8.5),\n",
       "    (47.5, 8.5),\n",
       "    (46.875, 8.5),\n",
       "    (46.25, 8.5),\n",
       "    (45.625, 8.5),\n",
       "    (45.625, 9.0),\n",
       "    (45.0, 9.0),\n",
       "    (44.375, 9.0),\n",
       "    (44.0625, 9.0),\n",
       "    (44.0625, 9.25),\n",
       "    (43.75, 9.25),\n",
       "    (43.75, 9.5),\n",
       "    (43.4375, 9.5),\n",
       "    (43.4375, 9.75),\n",
       "    (43.28125, 9.75),\n",
       "    (43.28125, 9.875),\n",
       "    (43.28125, 10.0),\n",
       "    (43.125, 10.0),\n",
       "    (43.125, 10.125),\n",
       "    (42.96875, 10.125)),),\n",
       "  (((112.7734375, -7.46875),\n",
       "    (112.7734375, -7.4375),\n",
       "    (112.8125, -7.4375),\n",
       "    (112.8125, -7.46875),\n",
       "    (112.7734375, -7.46875)),),\n",
       "  (((115.0, 84.0),\n",
       "    (115.0, 88.0),\n",
       "    (120.0, 88.0),\n",
       "    (125.0, 88.0),\n",
       "    (130.0, 88.0),\n",
       "    (135.0, 88.0),\n",
       "    (140.0, 88.0),\n",
       "    (145.0, 88.0),\n",
       "    (150.0, 88.0),\n",
       "    (155.0, 88.0),\n",
       "    (160.0, 88.0),\n",
       "    (165.0, 88.0),\n",
       "    (170.0, 88.0),\n",
       "    (175.0, 88.0),\n",
       "    (175.0, 84.0),\n",
       "    (175.0, 80.0),\n",
       "    (170.0, 80.0),\n",
       "    (165.0, 80.0),\n",
       "    (165.0, 84.0),\n",
       "    (160.0, 84.0),\n",
       "    (155.0, 84.0),\n",
       "    (150.0, 84.0),\n",
       "    (145.0, 84.0),\n",
       "    (145.0, 80.0),\n",
       "    (140.0, 80.0),\n",
       "    (135.0, 80.0),\n",
       "    (130.0, 80.0),\n",
       "    (125.0, 80.0),\n",
       "    (125.0, 84.0),\n",
       "    (120.0, 84.0),\n",
       "    (115.0, 84.0)),),\n",
       "  (((125.625, -9.5),\n",
       "    (125.3125, -9.5),\n",
       "    (125.3125, -9.25),\n",
       "    (125.3125, -9.0),\n",
       "    (125.3125, -8.875),\n",
       "    (125.3125, -8.75),\n",
       "    (125.3125, -8.625),\n",
       "    (125.3125, -8.5),\n",
       "    (125.46875, -8.5),\n",
       "    (125.5078125, -8.5),\n",
       "    (125.546875, -8.5),\n",
       "    (125.5859375, -8.5),\n",
       "    (125.625, -8.5),\n",
       "    (125.9375, -8.5),\n",
       "    (126.25, -8.5),\n",
       "    (126.25, -8.375),\n",
       "    (126.25, -8.25),\n",
       "    (126.40625, -8.25),\n",
       "    (126.5625, -8.25),\n",
       "    (126.875, -8.25),\n",
       "    (126.875, -8.5),\n",
       "    (127.5, -8.5),\n",
       "    (127.5, -9.0),\n",
       "    (127.5, -10.0),\n",
       "    (126.25, -10.0),\n",
       "    (125.625, -10.0),\n",
       "    (125.625, -9.5)),),\n",
       "  (((130.0, 4.0),\n",
       "    (130.0, 8.0),\n",
       "    (130.0, 12.0),\n",
       "    (130.0, 16.0),\n",
       "    (135.0, 16.0),\n",
       "    (140.0, 16.0),\n",
       "    (140.0, 12.0),\n",
       "    (140.0, 8.0),\n",
       "    (145.0, 8.0),\n",
       "    (150.0, 8.0),\n",
       "    (150.0, 12.0),\n",
       "    (150.0, 16.0),\n",
       "    (150.0, 20.0),\n",
       "    (155.0, 20.0),\n",
       "    (160.0, 20.0),\n",
       "    (160.0, 16.0),\n",
       "    (165.0, 16.0),\n",
       "    (170.0, 16.0),\n",
       "    (175.0, 16.0),\n",
       "    (175.0, 12.0),\n",
       "    (175.0, 8.0),\n",
       "    (175.0, 4.0),\n",
       "    (175.0, 2.0),\n",
       "    (175.0, 1.0),\n",
       "    (175.0, 0.0),\n",
       "    (175.0, -4.0),\n",
       "    (175.0, -8.0),\n",
       "    (170.0, -8.0),\n",
       "    (170.0, -12.0),\n",
       "    (165.0, -12.0),\n",
       "    (162.5, -12.0),\n",
       "    (160.0, -12.0),\n",
       "    (157.5, -12.0),\n",
       "    (157.5, -10.0),\n",
       "    (157.5, -9.0),\n",
       "    (157.5, -8.0),\n",
       "    (156.25, -8.0),\n",
       "    (156.25, -7.0),\n",
       "    (157.5, -7.0),\n",
       "    (157.5, -6.0),\n",
       "    (160.0, -6.0),\n",
       "    (160.0, -8.0),\n",
       "    (160.625, -8.0),\n",
       "    (161.25, -8.0),\n",
       "    (162.5, -8.0),\n",
       "    (165.0, -8.0),\n",
       "    (165.0, -4.0),\n",
       "    (165.0, 0.0),\n",
       "    (160.0, 0.0),\n",
       "    (155.0, 0.0),\n",
       "    (155.0, 4.0),\n",
       "    (150.0, 4.0),\n",
       "    (145.0, 4.0),\n",
       "    (140.0, 4.0),\n",
       "    (135.0, 4.0),\n",
       "    (130.0, 4.0)),),\n",
       "  (((144.6875, 13.375),\n",
       "    (144.6875, 13.4375),\n",
       "    (144.765625, 13.4375),\n",
       "    (144.765625, 13.375),\n",
       "    (144.6875, 13.375)),),\n",
       "  (((144.765625, 13.4375),\n",
       "    (144.765625, 13.46875),\n",
       "    (144.8046875, 13.46875),\n",
       "    (144.8046875, 13.4375),\n",
       "    (144.765625, 13.4375)),),\n",
       "  (((144.8046875, 13.46875),\n",
       "    (144.8046875, 13.5),\n",
       "    (144.84375, 13.5),\n",
       "    (144.84375, 13.46875),\n",
       "    (144.8046875, 13.46875)),),\n",
       "  (((145.0, 32.0),\n",
       "    (145.0, 36.0),\n",
       "    (150.0, 36.0),\n",
       "    (150.0, 40.0),\n",
       "    (155.0, 40.0),\n",
       "    (155.0, 44.0),\n",
       "    (160.0, 44.0),\n",
       "    (160.0, 48.0),\n",
       "    (165.0, 48.0),\n",
       "    (170.0, 48.0),\n",
       "    (175.0, 48.0),\n",
       "    (175.0, 44.0),\n",
       "    (175.0, 40.0),\n",
       "    (175.0, 36.0),\n",
       "    (175.0, 32.0),\n",
       "    (175.0, 28.0),\n",
       "    (175.0, 24.0),\n",
       "    (170.0, 24.0),\n",
       "    (165.0, 24.0),\n",
       "    (160.0, 24.0),\n",
       "    (160.0, 28.0),\n",
       "    (155.0, 28.0),\n",
       "    (150.0, 28.0),\n",
       "    (150.0, 32.0),\n",
       "    (145.0, 32.0)),),\n",
       "  (((155.0, -48.0),\n",
       "    (155.0, -44.0),\n",
       "    (155.0, -40.0),\n",
       "    (155.0, -36.0),\n",
       "    (160.0, -36.0),\n",
       "    (165.0, -36.0),\n",
       "    (165.0, -40.0),\n",
       "    (160.0, -40.0),\n",
       "    (160.0, -44.0),\n",
       "    (160.0, -48.0),\n",
       "    (155.0, -48.0)),)]}"
      ]
     },
     "execution_count": 164,
     "metadata": {},
     "output_type": "execute_result"
    }
   ],
   "source": [
    "polygon.__geo_interface__"
   ]
  },
  {
   "cell_type": "code",
   "execution_count": 22,
   "metadata": {},
   "outputs": [],
   "source": [
    "row_up1 = polygon.intersection(rectangle1)\n",
    "row_up2 = polygon.intersection(rectangle2)\n",
    "row_down3 = polygon.intersection(rectangle3)\n",
    "row_down4 = polygon.intersection(rectangle4)"
   ]
  },
  {
   "cell_type": "code",
   "execution_count": 23,
   "metadata": {},
   "outputs": [
    {
     "data": {
      "image/svg+xml": [
       "<svg xmlns=\"http://www.w3.org/2000/svg\" xmlns:xlink=\"http://www.w3.org/1999/xlink\" width=\"190.00406249999997\" height=\"100.074375\" viewBox=\"-185.0371875 -5.0371875 190.00406249999997 100.074375\" preserveAspectRatio=\"xMinYMin meet\"><g transform=\"matrix(1,0,0,-1,0,90.0)\"><g><path fill-rule=\"evenodd\" fill=\"#66cc99\" stroke=\"#555555\" stroke-width=\"2.0\" opacity=\"0.6\" d=\"M -155.0,2.0 L -155.0,4.0 L -155.0,8.0 L -155.0,12.0 L -150.0,12.0 L -150.0,16.0 L -150.0,20.0 L -150.0,24.0 L -150.0,28.0 L -155.0,28.0 L -160.0,28.0 L -165.0,28.0 L -165.0,32.0 L -170.0,32.0 L -175.0,32.0 L -178.0,32.0 L -178.0,44.0 L -175.0,44.0 L -175.0,48.0 L -170.0,48.0 L -165.0,48.0 L -160.0,48.0 L -155.0,48.0 L -155.0,52.0 L -150.0,52.0 L -145.0,52.0 L -140.0,52.0 L -140.0,48.0 L -135.0,48.0 L -135.0,44.0 L -130.0,44.0 L -130.0,40.0 L -130.0,36.0 L -130.0,32.0 L -125.0,32.0 L -125.0,28.0 L -125.0,24.0 L -120.0,24.0 L -120.0,20.0 L -120.0,16.0 L -120.0,12.0 L -115.0,12.0 L -115.0,8.0 L -115.0,4.0 L -110.0,4.0 L -105.0,4.0 L -105.0,8.0 L -105.0,12.0 L -100.0,12.0 L -95.0,12.0 L -95.0,8.0 L -95.0,4.0 L -100.0,4.0 L -100.0,2.0 L -155.0,2.0 z\" /><path fill-rule=\"evenodd\" fill=\"#66cc99\" stroke=\"#555555\" stroke-width=\"2.0\" opacity=\"0.6\" d=\"M -25.0,2.0 L -25.0,4.0 L -25.0,8.0 L -20.0,8.0 L -20.0,4.0 L -15.0,4.0 L -15.0,2.0 L -25.0,2.0 z\" /><path fill-rule=\"evenodd\" fill=\"#66cc99\" stroke=\"#555555\" stroke-width=\"2.0\" opacity=\"0.6\" d=\"M -175.0,8.0 L -178.0,8.0 L -178.0,20.0 L -175.0,20.0 L -175.0,16.0 L -175.0,12.0 L -170.0,12.0 L -170.0,8.0 L -170.0,4.0 L -175.0,4.0 L -175.0,8.0 z\" /><path fill-rule=\"evenodd\" fill=\"#66cc99\" stroke=\"#555555\" stroke-width=\"2.0\" opacity=\"0.6\" d=\"M -175.0,76.0 L -178.0,76.0 L -178.0,88.0 L -175.0,88.0 L -170.0,88.0 L -165.0,88.0 L -160.0,88.0 L -155.0,88.0 L -150.0,88.0 L -145.0,88.0 L -140.0,88.0 L -135.0,88.0 L -130.0,88.0 L -125.0,88.0 L -120.0,88.0 L -115.0,88.0 L -115.0,84.0 L -120.0,84.0 L -125.0,84.0 L -130.0,84.0 L -130.0,80.0 L -135.0,80.0 L -140.0,80.0 L -140.0,76.0 L -145.0,76.0 L -150.0,76.0 L -155.0,76.0 L -160.0,76.0 L -165.0,76.0 L -170.0,76.0 L -175.0,76.0 z\" /><path fill-rule=\"evenodd\" fill=\"#66cc99\" stroke=\"#555555\" stroke-width=\"2.0\" opacity=\"0.6\" d=\"M -170.0,2.0 L -170.0,4.0 L -165.0,4.0 L -165.0,2.0 L -170.0,2.0 z\" /><path fill-rule=\"evenodd\" fill=\"#66cc99\" stroke=\"#555555\" stroke-width=\"2.0\" opacity=\"0.6\" d=\"M -165.0,12.0 L -165.0,16.0 L -160.0,16.0 L -160.0,12.0 L -165.0,12.0 z\" /><path fill-rule=\"evenodd\" fill=\"#66cc99\" stroke=\"#555555\" stroke-width=\"2.0\" opacity=\"0.6\" d=\"M -67.109375,18.125 L -67.109375,18.1875 L -67.109375,18.25 L -67.03125,18.25 L -67.03125,18.375 L -66.875,18.375 L -66.875,18.4375 L -66.796875,18.4375 L -66.71875,18.4375 L -66.71875,18.375 L -66.5625,18.375 L -66.40625,18.375 L -66.40625,18.4375 L -66.328125,18.4375 L -66.25,18.4375 L -66.2109375,18.4375 L -66.171875,18.4375 L -66.1328125,18.4375 L -66.1328125,18.40625 L -66.09375,18.40625 L -66.0546875,18.40625 L -66.0546875,18.4375 L -66.015625,18.4375 L -65.9765625,18.4375 L -65.9375,18.4375 L -65.9375,18.40625 L -65.9375,18.375 L -65.78125,18.375 L -65.78125,18.25 L -65.78125,18.1875 L -65.78125,18.125 L -65.859375,18.125 L -65.9375,18.125 L -65.9375,18.0 L -66.09375,18.0 L -66.25,18.0 L -66.40625,18.0 L -66.5625,18.0 L -66.6015625,18.0 L -66.640625,18.0 L -66.71875,18.0 L -66.71875,18.0625 L -66.71875,18.125 L -66.875,18.125 L -66.875,18.0 L -67.03125,18.0 L -67.03125,18.125 L -67.109375,18.125 z\" /><path fill-rule=\"evenodd\" fill=\"#66cc99\" stroke=\"#555555\" stroke-width=\"2.0\" opacity=\"0.6\" d=\"M -65.0,24.0 L -65.0,28.0 L -60.0,28.0 L -60.0,32.0 L -60.0,36.0 L -65.0,36.0 L -65.0,40.0 L -60.0,40.0 L -55.0,40.0 L -50.0,40.0 L -50.0,44.0 L -45.0,44.0 L -45.0,48.0 L -45.0,52.0 L -45.0,56.0 L -40.0,56.0 L -35.0,56.0 L -35.0,60.0 L -30.0,60.0 L -25.0,60.0 L -25.0,56.0 L -20.0,56.0 L -20.0,52.0 L -20.0,48.0 L -15.0,48.0 L -15.0,44.0 L -15.0,40.0 L -20.0,40.0 L -20.0,44.0 L -25.0,44.0 L -30.0,44.0 L -35.0,44.0 L -40.0,44.0 L -40.0,40.0 L -40.0,36.0 L -35.0,36.0 L -35.0,32.0 L -30.0,32.0 L -25.0,32.0 L -25.0,28.0 L -25.0,24.0 L -30.0,24.0 L -30.0,20.0 L -30.0,16.0 L -30.0,12.0 L -30.0,8.0 L -35.0,8.0 L -35.0,4.0 L -40.0,4.0 L -45.0,4.0 L -45.0,8.0 L -50.0,8.0 L -50.0,12.0 L -55.0,12.0 L -55.0,16.0 L -55.0,20.0 L -55.0,24.0 L -60.0,24.0 L -65.0,24.0 z\" /><path fill-rule=\"evenodd\" fill=\"#66cc99\" stroke=\"#555555\" stroke-width=\"2.0\" opacity=\"0.6\" d=\"M -62.5,12.0 L -62.5,12.5 L -62.5,13.0 L -62.5,14.0 L -61.25,14.0 L -60.9375,14.0 L -60.625,14.0 L -60.625,13.75 L -60.625,13.5 L -60.625,13.0 L -61.25,13.0 L -61.25,12.5 L -61.25,12.25 L -61.25,12.0 L -61.5625,12.0 L -61.875,12.0 L -62.5,12.0 z\" /><path fill-rule=\"evenodd\" fill=\"#66cc99\" stroke=\"#555555\" stroke-width=\"2.0\" opacity=\"0.6\" d=\"M -20.0,22.0 L -20.0,24.0 L -17.5,24.0 L -16.25,24.0 L -16.25,23.75 L -16.09375,23.75 L -16.015625,23.75 L -15.9765625,23.75 L -15.9765625,23.71875 L -16.015625,23.71875 L -16.015625,23.6875 L -16.015625,23.625 L -16.09375,23.625 L -16.09375,23.5 L -16.25,23.5 L -16.25,23.0 L -17.5,23.0 L -17.5,22.0 L -20.0,22.0 z\" /><path fill-rule=\"evenodd\" fill=\"#66cc99\" stroke=\"#555555\" stroke-width=\"2.0\" opacity=\"0.6\" d=\"M -17.5,20.75 L -17.5,21.0 L -17.1875,21.0 L -17.109375,21.0 L -17.109375,20.9375 L -17.109375,20.875 L -17.1875,20.875 L -17.1875,20.75 L -17.5,20.75 z\" /><path fill-rule=\"evenodd\" fill=\"#66cc99\" stroke=\"#555555\" stroke-width=\"2.0\" opacity=\"0.6\" d=\"M -16.875,12.0 L -16.875,12.25 L -16.5625,12.25 L -16.25,12.25 L -15.9375,12.25 L -15.625,12.25 L -15.3125,12.25 L -15.3125,12.5 L -15.0,12.5 L -14.6875,12.5 L -14.375,12.5 L -14.0625,12.5 L -14.0625,12.25 L -14.0625,12.0 L -14.375,12.0 L -14.6875,12.0 L -15.0,12.0 L -15.0,11.75 L -15.0,11.5 L -15.0,11.0 L -15.625,11.0 L -16.25,11.0 L -16.25,11.5 L -16.25,11.75 L -16.25,12.0 L -16.5625,12.0 L -16.875,12.0 z\" /><path fill-rule=\"evenodd\" fill=\"#66cc99\" stroke=\"#555555\" stroke-width=\"2.0\" opacity=\"0.6\" d=\"M -15.9765625,23.625 L -15.9765625,23.65625 L -15.9375,23.65625 L -15.9375,23.625 L -15.9765625,23.625 z\" /><path fill-rule=\"evenodd\" fill=\"#66cc99\" stroke=\"#555555\" stroke-width=\"2.0\" opacity=\"0.6\" d=\"M -13.75,27.25 L -13.75,27.5 L -13.4375,27.5 L -13.4375,27.25 L -13.75,27.25 z\" /><path fill-rule=\"evenodd\" fill=\"#66cc99\" stroke=\"#555555\" stroke-width=\"2.0\" opacity=\"0.6\" d=\"M -2.1484375,49.21875 L -2.1484375,49.25 L -2.109375,49.25 L -2.109375,49.21875 L -2.1484375,49.21875 z\" /><path fill-rule=\"evenodd\" fill=\"#66cc99\" stroke=\"#555555\" stroke-width=\"2.0\" opacity=\"0.6\" d=\"M -2.109375,49.21875 L -2.0703125,49.21875 L -2.0703125,49.1875 L -2.109375,49.1875 L -2.109375,49.21875 z\" /></g></g></svg>"
      ],
      "text/plain": [
       "<shapely.geometry.multipolygon.MultiPolygon at 0x1b6a1a23eb8>"
      ]
     },
     "execution_count": 23,
     "metadata": {},
     "output_type": "execute_result"
    }
   ],
   "source": [
    "row_up1"
   ]
  },
  {
   "cell_type": "code",
   "execution_count": 25,
   "metadata": {},
   "outputs": [
    {
     "data": {
      "image/svg+xml": [
       "<svg xmlns=\"http://www.w3.org/2000/svg\" xmlns:xlink=\"http://www.w3.org/1999/xlink\" width=\"179.11256351657832\" height=\"100.0\" viewBox=\"-184.63379864876217 -4.633798648762159 179.11256351657832 99.26759729752433\" preserveAspectRatio=\"xMinYMin meet\"><g transform=\"matrix(1,0,0,-1,0,90.0)\"><g><path fill-rule=\"evenodd\" fill=\"#66cc99\" stroke=\"#555555\" stroke-width=\"2.0\" opacity=\"0.6\" d=\"M -66.65043953531733,17.74976940193444 L -66.99703612661447,18.03421387338551 L -67.00530212428082,18.044286020684442 L -67.06366705107959,18.15218790423756 L -67.06949129941532,18.21132248997001 L -67.06701432650871,18.23785111869446 L -67.01551414529784,18.340376394678422 L -65.95196951352429,20.07564901342103 L -65.24089387124116,22.15224450984651 L -65.0,24.33395199886089 L -65.0,27.50873150230535 L -64.95254399435147,27.990560413570115 L -64.72638950771031,28.736091842995283 L -64.57683298541774,29.09715322745537 L -64.19438907601786,31.019828596704397 L -64.19438907601786,32.980171403295614 L -64.57683298541774,34.90284677254464 L -64.72638950771031,35.26390815700472 L -64.95254399435147,36.0094395864299 L -65.0,36.49126849769466 L -65.0,39.50873150230535 L -64.9559525694828,39.955952569482804 L -64.50873150230535,40.0 L -57.95007044860274,40.0 L -55.759058047034046,40.24297869961471 L -53.674519514299924,40.960107068765566 L -51.79775454279648,42.116535723733925 L -50.21996591497538,43.65606715836353 L -49.965786126614496,43.96578612661447 L -49.74091791608771,44.150330697725394 L -48.783394266299226,44.77885771450253 L -47.48160192521023,46.01826705578834 L -46.42271389999728,47.47069776485681 L -45.64094073242674,49.08922472757669 L -45.16153994072923,50.8215565940227 L -45.0,52.61172520678903 L -45.0,55.50873150230535 L -44.955952569482804,55.955952569482804 L -44.50873150230534,56.0 L -42.95007044860274,56.0 L -40.759058047034046,56.24297869961471 L -38.674519514299924,56.960107068765566 L -36.79775454279648,58.116535723733925 L -35.21996591497538,59.65606715836353 L -34.97543073470324,59.95403413765542 L -34.50873150230534,60.0 L -25.491268497694655,60.0 L -25.02456926529676,59.95403413765542 L -24.554106234185056,59.380773275587 L -24.312346630040718,59.01895445884487 L -22.92617493804981,57.63278276685396 L -21.29620946467334,56.54367465699778 L -20.51012605668421,56.21806824825222 L -20.04539808267303,55.96966597095539 L -20.015445029235863,55.665547515778655 L -19.63300111983598,53.74287214652963 L -18.88281040599744,51.93175155081427 L -17.79370229614125,50.30178607743779 L -16.407530604150327,48.91561438544687 L -14.77756513077384,47.826506275590695 L -14.307948847655984,47.57549114264038 L -14.02706608165892,47.387811278641465 L -12.215945485943582,46.63762056480296 L -12.155033780946013,46.62550447336076 L -12.762169829970404,46.01836842433637 L -13.85127793982659,44.38840295095989 L -14.60146865366513,42.57728235524454 L -14.983912563065013,40.654606985995514 L -15.046982039463886,40.01425184586048 L -15.360190099687772,39.428280779669784 L -16.110380813526326,37.6171601839544 L -16.4928247229262,35.6944848147054 L -16.4928247229262,33.73414200811421 L -16.110380813526334,31.81146663886521 L -15.360190099687815,30.000346043149875 L -14.27108198983166,28.37038056977341 L -13.953291122217635,28.052589702159377 L -13.483989131086744,27.48074357140093 L -13.473574298343468,27.375 L -13.483989131086744,27.26925642859907 L -13.859672155788036,26.811485338496993 L -14.385157030487932,26.286000463797095 L -15.474265140344105,24.656034990420622 L -15.588804608983809,24.379512251803643 L -15.706883678927365,24.158601849752774 L -16.45707439276592,22.347481254037373 L -16.839518302165793,20.42480588478836 L -16.83951830216579,18.46446307819716 L -16.45707439276591,16.541787708948153 L -15.706883678927372,14.730667113232805 L -14.617775569071199,13.100701639856338 L -14.108989131086744,12.48074357140093 L -14.086262872923822,12.250000000000002 L -14.109482039463884,12.014251845860482 L -14.308017168998823,11.64281874338305 L -15.058207882837376,9.831698147667652 L -15.440651792237244,7.9090227784186515 L -15.44065179223724,5.94867997182746 L -15.058207882837365,4.026004602578456 L -15.04745600564852,3.9905604135700723 L -15.0,3.508731502305317 L -15.0,2.491268497694683 L -15.0440474305172,2.0440474305171974 L -15.491268497694664,2.0 L -24.508731502305316,2.0 L -24.980743571400932,2.0464891310867475 L -25.335593000523122,2.33770653150499 L -26.965558473899602,3.4268146413611804 L -28.776679069614957,4.177005355199728 L -30.699354438863978,4.559449264599615 L -32.6596972454552,4.55944926459962 L -34.58237261470422,4.177005355199742 L -35.00943958642993,4.0474560056485185 L -35.49126849769466,4.0 L -44.50873150230531,4.0 L -44.975430734703245,4.045965862344585 L -45.4458937658149,4.619226724412942 L -45.6876533699592,4.981045541155042 L -47.07382506195012,6.367217233145992 L -48.70379053532662,7.456325343002203 L -49.48987394331577,7.781931751747777 L -49.968853763187454,8.037951799364901 L -50.55583164982002,8.753186423668867 L -50.6059621524338,8.828212022765955 L -51.992133844424714,10.214383714756789 L -53.62209931780117,11.3034918246129 L -55.43321991351649,12.053682538451381 L -57.35589528276546,12.436126447851226 L -59.31623808935662,12.436126447851212 L -61.23891345860558,12.053682538451337 L -61.25943958642994,12.047456005648518 L -61.74126849769466,12.0 L -62.00873150230531,12.0 L -62.46326050867799,12.044767199704182 L -62.55272679460406,12.339698018997 L -63.30291750844259,14.150818614712357 L -64.39202561829877,15.78078408808884 L -65.77819731028968,17.166955780079757 L -66.65043953531733,17.74976940193444 z\" /><path fill-rule=\"evenodd\" fill=\"#66cc99\" stroke=\"#555555\" stroke-width=\"2.0\" opacity=\"0.6\" d=\"M -177.7664247983998,20.33483940703624 L -177.13085780511915,21.286032631740056 L -176.38066709128063,23.097153227455394 L -175.99822318188075,25.019828596704393 L -175.99822318188075,26.980171403295586 L -176.38066709128063,28.902846772544585 L -177.13085780511915,30.713967368259926 L -177.7664247983998,31.66516059296376 L -177.9530179605361,32.01425184586044 L -178.0,32.49126849769473 L -178.0,43.508731502305274 L -177.9540341376554,43.97543073470322 L -177.92424118955768,43.9998811753233 L -176.53806949756668,45.38605286731434 L -175.44896138771045,47.01601834069097 L -175.37187425171868,47.20212314988686 L -174.96966597095542,47.95460191732696 L -174.50873150230532,48.0 L -162.95007044860273,48.0 L -161.19210764925919,48.155734319101086 L -159.4888998778278,48.61808664077516 L -157.89349671482287,49.37265614022209 L -156.45558996530087,50.3959403439997 L -155.21996591497535,51.656067158363555 L -154.97543073470325,51.95403413765542 L -154.50873150230532,52.0 L -140.49126849769468,52.0 L -140.02456926529678,51.95403413765542 L -139.55410623418524,51.38077327558719 L -139.31234663004093,51.01895445884509 L -137.92617493804994,49.63278276685405 L -136.29620946467335,48.54367465699778 L -135.51012605668421,48.218068248252216 L -135.03114623681256,47.96204820063512 L -134.554106234185,47.38077327558694 L -134.31234663004065,47.01895445884478 L -132.92617493804977,45.63278276685392 L -131.29620946467332,44.54367465699777 L -130.51012605668421,44.21806824825222 L -130.04539808267302,43.96966597095539 L -130.0,43.50873150230527 L -130.0,40.61172520678903 L -129.83846005927077,38.82155659402264 L -129.35905926757323,37.089224727576635 L -128.57728610000268,35.47069776485676 L -127.51839807478973,34.01826705578829 L -126.21660573370072,32.778857714502486 L -125.25908208391228,32.15033069772539 L -125.04596586234457,31.975430734703238 L -125.01544502923586,31.665547515778666 L -124.63300111983598,29.74287214652964 L -123.88281040599743,27.931751550814273 L -122.79370229614125,26.301786077437786 L -121.40753060415031,24.915614385446865 L -120.24540944023401,24.139109849044093 L -120.04596586234457,23.975430734703245 L -120.0,23.508731502305345 L -120.0,20.611725206789032 L -119.78822751349071,18.56462917969518 L -119.16187957117134,16.604236875757575 L -118.14748482527487,14.813579725523862 L -116.78800745532939,13.268500112432154 L -115.1410274419322,12.034439106786298 L -113.27630179561692,11.163664742120245 L -111.27281003373912,10.693058228912768 L -109.21540904272155,10.642551869457753 L -107.19123900728708,11.014284835220458 L -105.28603263174003,11.792512563305479 L -104.98574815413951,11.953017960536116 L -104.50873150230532,12.0 L -95.49126849769468,12.0 L -95.0440474305172,11.955952569482802 L -95.0,11.508731502305345 L -95.0,4.491268497694656 L -95.04476719970418,4.036739491322018 L -95.10224163990196,4.01930481049583 L -96.83560404191493,3.6745175915845394 L -98.64672463763027,2.924326877746008 L -99.7418772709298,2.1925692829141923 L -100.01425184586049,2.0469820394638854 L -100.49126849769468,2.0 L -154.50873150230532,2.0 L -154.98574815413954,2.0469820394638893 L -155.28603263173997,2.2074874366944846 L -157.09715322745532,2.9576781505330425 L -159.01982859670434,3.3401220599329333 L -160.98017140329557,3.3401220599329404 L -162.90284677254462,2.957678150533062 L -164.71396736825997,2.2074874366945183 L -165.01425184586049,2.046982039463885 L -165.49126849769465,2.0 L -169.50873150230532,2.0 L -169.98574815413951,2.046982039463886 L -170.2581227290702,2.192569282914215 L -171.35327536236971,2.9243268777460036 L -173.16439595808507,3.6745175915845385 L -174.8977583600981,4.019304810495844 L -174.96693533136008,4.040289415310168 L -175.37187425171876,4.797876850113345 L -175.4489613877106,4.9839816593093165 L -176.53806949756677,6.61394713268578 L -177.92424118955768,8.00011882467669 L -177.95403413765538,8.024569265296748 L -178.0,8.491268497694806 L -178.0,19.508731502305277 L -177.95301796053613,19.98574815413952 L -177.7664247983998,20.33483940703624 z\" /><path fill-rule=\"evenodd\" fill=\"#66cc99\" stroke=\"#555555\" stroke-width=\"2.0\" opacity=\"0.6\" d=\"M -177.9559525694828,76.0440474305172 L -178.0,76.49126849769472 L -178.0,87.50873150230528 L -177.9559525694828,87.9559525694828 L -177.50873150230532,88.0 L -115.49126849769465,88.0 L -115.0440474305172,87.9559525694828 L -115.0,87.50873150230535 L -115.0,84.49126849769465 L -115.0440474305172,84.0440474305172 L -115.49126849769465,84.0 L -122.04992955139726,84.0 L -124.24094195296594,83.75702130038529 L -126.32548048570006,83.03989293123445 L -128.2022454572035,81.88346427626608 L -129.7800340850246,80.3439328416365 L -130.02456926529675,80.04596586234457 L -130.49126849769468,80.0 L -132.04992955139727,80.0 L -133.80789235074081,79.84426568089891 L -135.5111001221722,79.38191335922484 L -137.10650328517713,78.62734385977791 L -138.54441003469913,77.6040596560003 L -139.78003408502465,76.34393284163644 L -140.02456926529675,76.04596586234457 L -140.49126849769468,76.0 L -177.5087315023053,76.0 L -177.9559525694828,76.0440474305172 z\" /></g></g></svg>"
      ],
      "text/plain": [
       "<shapely.geometry.multipolygon.MultiPolygon at 0x1b6a19f8588>"
      ]
     },
     "execution_count": 25,
     "metadata": {},
     "output_type": "execute_result"
    }
   ],
   "source": [
    "row_up1.buffer(10, join_style=0).buffer(-10, join_style=0)"
   ]
  },
  {
   "cell_type": "code",
   "execution_count": 26,
   "metadata": {},
   "outputs": [
    {
     "data": {
      "image/svg+xml": [
       "<svg xmlns=\"http://www.w3.org/2000/svg\" xmlns:xlink=\"http://www.w3.org/1999/xlink\" width=\"180.22500000000002\" height=\"100.0\" viewBox=\"1.4500000000000002 -4.675 180.22500000000002 99.35\" preserveAspectRatio=\"xMinYMin meet\"><g transform=\"matrix(1,0,0,-1,0,90.0)\"><g><polyline fill=\"none\" stroke=\"#66cc99\" stroke-width=\"2.0\" points=\"9.375,2.0 9.6875,2.0\" opacity=\"0.8\" /><polyline fill=\"none\" stroke=\"#66cc99\" stroke-width=\"2.0\" points=\"9.6875,2.0 10.0,2.0\" opacity=\"0.8\" /><polyline fill=\"none\" stroke=\"#66cc99\" stroke-width=\"2.0\" points=\"10.0,2.0 10.625,2.0\" opacity=\"0.8\" /><polyline fill=\"none\" stroke=\"#66cc99\" stroke-width=\"2.0\" points=\"10.625,2.0 10.9375,2.0\" opacity=\"0.8\" /><polyline fill=\"none\" stroke=\"#66cc99\" stroke-width=\"2.0\" points=\"10.9375,2.0 11.25,2.0\" opacity=\"0.8\" /><path fill-rule=\"evenodd\" fill=\"#66cc99\" stroke=\"#555555\" stroke-width=\"2.0\" opacity=\"0.6\" d=\"M 55.0,2.0 L 55.0,4.0 L 55.0,8.0 L 60.0,8.0 L 60.0,12.0 L 60.0,16.0 L 65.0,16.0 L 65.0,12.0 L 65.0,8.0 L 65.0,4.0 L 65.0,2.0 L 55.0,2.0 z\" /><path fill-rule=\"evenodd\" fill=\"#66cc99\" stroke=\"#555555\" stroke-width=\"2.0\" opacity=\"0.6\" d=\"M 85.0,2.0 L 85.0,4.0 L 90.0,4.0 L 90.0,2.0 L 85.0,2.0 z\" /><path fill-rule=\"evenodd\" fill=\"#66cc99\" stroke=\"#555555\" stroke-width=\"2.0\" opacity=\"0.6\" d=\"M 8.125,3.5 L 8.125,3.75 L 8.4375,3.75 L 8.4375,4.0 L 8.75,4.0 L 8.75,3.75 L 8.828125,3.75 L 8.90625,3.75 L 9.0625,3.75 L 9.0625,3.625 L 9.0625,3.5 L 8.90625,3.5 L 8.75,3.5 L 8.75,3.0 L 8.125,3.0 L 8.125,3.5 z\" /><path fill-rule=\"evenodd\" fill=\"#66cc99\" stroke=\"#555555\" stroke-width=\"2.0\" opacity=\"0.6\" d=\"M 8.75,2.0 L 8.75,2.5 L 9.375,2.5 L 9.375,2.0 L 8.75,2.0 z\" /><path fill-rule=\"evenodd\" fill=\"#66cc99\" stroke=\"#555555\" stroke-width=\"2.0\" opacity=\"0.6\" d=\"M 20.46875,42.375 L 20.3125,42.375 L 20.3125,42.5 L 20.3125,42.625 L 20.3125,42.75 L 20.46875,42.75 L 20.625,42.75 L 20.625,42.875 L 20.625,43.0 L 20.78125,43.0 L 20.9375,43.0 L 21.09375,43.0 L 21.09375,42.875 L 21.25,42.875 L 21.25,42.75 L 21.25,42.6875 L 21.25,42.625 L 21.40625,42.625 L 21.5625,42.625 L 21.5625,42.5 L 21.5625,42.375 L 21.40625,42.375 L 21.40625,42.25 L 21.25,42.25 L 21.09375,42.25 L 20.9375,42.25 L 20.78125,42.25 L 20.78125,42.125 L 20.625,42.125 L 20.625,42.25 L 20.46875,42.25 L 20.46875,42.375 z\" /><path fill-rule=\"evenodd\" fill=\"#66cc99\" stroke=\"#555555\" stroke-width=\"2.0\" opacity=\"0.6\" d=\"M 30.703125,46.3125 L 30.703125,46.34375 L 30.7421875,46.34375 L 30.78125,46.34375 L 30.78125,46.375 L 30.9375,46.375 L 30.9375,46.5 L 31.25,46.5 L 31.25,46.25 L 31.25,46.0 L 30.9375,46.0 L 30.9375,46.25 L 30.78125,46.25 L 30.703125,46.25 L 30.703125,46.3125 z\" /><path fill-rule=\"evenodd\" fill=\"#66cc99\" stroke=\"#555555\" stroke-width=\"2.0\" opacity=\"0.6\" d=\"M 30.78125,46.5 L 30.78125,46.53125 L 30.8203125,46.53125 L 30.859375,46.53125 L 30.859375,46.5 L 30.8203125,46.5 L 30.78125,46.5 z\" /><path fill-rule=\"evenodd\" fill=\"#66cc99\" stroke=\"#555555\" stroke-width=\"2.0\" opacity=\"0.6\" d=\"M 30.9375,31.5 L 30.9375,31.5625 L 31.015625,31.5625 L 31.0546875,31.5625 L 31.0546875,31.53125 L 31.015625,31.53125 L 31.015625,31.5 L 30.9375,31.5 z\" /><path fill-rule=\"evenodd\" fill=\"#66cc99\" stroke=\"#555555\" stroke-width=\"2.0\" opacity=\"0.6\" d=\"M 31.8359375,31.3125 L 31.8359375,31.34375 L 31.875,31.34375 L 31.875,31.3125 L 31.8359375,31.3125 z\" /><path fill-rule=\"evenodd\" fill=\"#66cc99\" stroke=\"#555555\" stroke-width=\"2.0\" opacity=\"0.6\" d=\"M 32.109375,31.15625 L 32.109375,31.125 L 32.0703125,31.125 L 32.0703125,31.15625 L 32.0703125,31.1875 L 32.0703125,31.21875 L 32.0703125,31.25 L 32.109375,31.25 L 32.1875,31.25 L 32.2265625,31.25 L 32.265625,31.25 L 32.265625,31.21875 L 32.265625,31.1875 L 32.2265625,31.1875 L 32.1875,31.1875 L 32.109375,31.1875 L 32.109375,31.15625 z\" /><path fill-rule=\"evenodd\" fill=\"#66cc99\" stroke=\"#555555\" stroke-width=\"2.0\" opacity=\"0.6\" d=\"M 30.0,84.0 L 30.0,88.0 L 35.0,88.0 L 35.0,84.0 L 30.0,84.0 z\" /><path fill-rule=\"evenodd\" fill=\"#66cc99\" stroke=\"#555555\" stroke-width=\"2.0\" opacity=\"0.6\" d=\"M 32.5,44.0 L 32.5,44.5 L 32.5,45.0 L 33.125,45.0 L 33.125,45.125 L 33.28125,45.125 L 33.28125,45.15625 L 33.3203125,45.15625 L 33.359375,45.15625 L 33.3984375,45.15625 L 33.4375,45.15625 L 33.4375,45.125 L 33.4375,45.0 L 33.4375,44.75 L 33.125,44.75 L 33.125,44.5 L 33.125,44.0 L 32.5,44.0 z\" /><path fill-rule=\"evenodd\" fill=\"#66cc99\" stroke=\"#555555\" stroke-width=\"2.0\" opacity=\"0.6\" d=\"M 33.28125,35.15625 L 33.28125,35.1875 L 33.28125,35.25 L 33.359375,35.25 L 33.4375,35.25 L 33.4375,35.1875 L 33.359375,35.1875 L 33.3203125,35.1875 L 33.3203125,35.15625 L 33.28125,35.15625 z\" /><path fill-rule=\"evenodd\" fill=\"#66cc99\" stroke=\"#555555\" stroke-width=\"2.0\" opacity=\"0.6\" d=\"M 33.75,44.0 L 33.75,44.25 L 34.0625,44.25 L 34.375,44.25 L 34.375,44.5 L 35.0,44.5 L 35.0,44.0 L 34.375,44.0 L 34.0625,44.0 L 33.75,44.0 z\" /><path fill-rule=\"evenodd\" fill=\"#66cc99\" stroke=\"#555555\" stroke-width=\"2.0\" opacity=\"0.6\" d=\"M 35.625,45.5 L 35.625,46.0 L 36.25,46.0 L 36.25,45.5 L 35.625,45.5 z\" /><path fill-rule=\"evenodd\" fill=\"#66cc99\" stroke=\"#555555\" stroke-width=\"2.0\" opacity=\"0.6\" d=\"M 37.578125,47.0 L 37.578125,47.0625 L 37.65625,47.0625 L 37.65625,47.0 L 37.578125,47.0 z\" /><path fill-rule=\"evenodd\" fill=\"#66cc99\" stroke=\"#555555\" stroke-width=\"2.0\" opacity=\"0.6\" d=\"M 42.96875,10.125 L 42.96875,10.25 L 43.125,10.25 L 43.125,10.5 L 43.4375,10.5 L 43.75,10.5 L 43.75,10.25 L 43.75,10.0 L 44.0625,10.0 L 44.375,10.0 L 44.6875,10.0 L 45.0,10.0 L 45.3125,10.0 L 45.625,10.0 L 46.25,10.0 L 46.25,10.5 L 46.875,10.5 L 47.5,10.5 L 47.5,11.0 L 48.75,11.0 L 48.75,10.0 L 47.5,10.0 L 47.5,9.0 L 48.125,9.0 L 48.125,8.5 L 47.5,8.5 L 46.875,8.5 L 46.25,8.5 L 45.625,8.5 L 45.625,9.0 L 45.0,9.0 L 44.375,9.0 L 44.0625,9.0 L 44.0625,9.25 L 43.75,9.25 L 43.75,9.5 L 43.4375,9.5 L 43.4375,9.75 L 43.28125,9.75 L 43.28125,9.875 L 43.28125,10.0 L 43.125,10.0 L 43.125,10.125 L 42.96875,10.125 z\" /><path fill-rule=\"evenodd\" fill=\"#66cc99\" stroke=\"#555555\" stroke-width=\"2.0\" opacity=\"0.6\" d=\"M 115.0,84.0 L 115.0,88.0 L 120.0,88.0 L 125.0,88.0 L 130.0,88.0 L 135.0,88.0 L 140.0,88.0 L 145.0,88.0 L 150.0,88.0 L 155.0,88.0 L 160.0,88.0 L 165.0,88.0 L 170.0,88.0 L 175.0,88.0 L 175.0,84.0 L 175.0,80.0 L 170.0,80.0 L 165.0,80.0 L 165.0,84.0 L 160.0,84.0 L 155.0,84.0 L 150.0,84.0 L 145.0,84.0 L 145.0,80.0 L 140.0,80.0 L 135.0,80.0 L 130.0,80.0 L 125.0,80.0 L 125.0,84.0 L 120.0,84.0 L 115.0,84.0 z\" /><path fill-rule=\"evenodd\" fill=\"#66cc99\" stroke=\"#555555\" stroke-width=\"2.0\" opacity=\"0.6\" d=\"M 130.0,4.0 L 130.0,8.0 L 130.0,12.0 L 130.0,16.0 L 135.0,16.0 L 140.0,16.0 L 140.0,12.0 L 140.0,8.0 L 145.0,8.0 L 150.0,8.0 L 150.0,12.0 L 150.0,16.0 L 150.0,20.0 L 155.0,20.0 L 160.0,20.0 L 160.0,16.0 L 165.0,16.0 L 170.0,16.0 L 175.0,16.0 L 175.0,12.0 L 175.0,8.0 L 175.0,4.0 L 175.0,2.0 L 155.0,2.0 L 155.0,4.0 L 150.0,4.0 L 145.0,4.0 L 140.0,4.0 L 135.0,4.0 L 130.0,4.0 z\" /><path fill-rule=\"evenodd\" fill=\"#66cc99\" stroke=\"#555555\" stroke-width=\"2.0\" opacity=\"0.6\" d=\"M 144.6875,13.375 L 144.6875,13.4375 L 144.765625,13.4375 L 144.765625,13.375 L 144.6875,13.375 z\" /><path fill-rule=\"evenodd\" fill=\"#66cc99\" stroke=\"#555555\" stroke-width=\"2.0\" opacity=\"0.6\" d=\"M 144.765625,13.4375 L 144.765625,13.46875 L 144.8046875,13.46875 L 144.8046875,13.4375 L 144.765625,13.4375 z\" /><path fill-rule=\"evenodd\" fill=\"#66cc99\" stroke=\"#555555\" stroke-width=\"2.0\" opacity=\"0.6\" d=\"M 144.8046875,13.46875 L 144.8046875,13.5 L 144.84375,13.5 L 144.84375,13.46875 L 144.8046875,13.46875 z\" /><path fill-rule=\"evenodd\" fill=\"#66cc99\" stroke=\"#555555\" stroke-width=\"2.0\" opacity=\"0.6\" d=\"M 145.0,32.0 L 145.0,36.0 L 150.0,36.0 L 150.0,40.0 L 155.0,40.0 L 155.0,44.0 L 160.0,44.0 L 160.0,48.0 L 165.0,48.0 L 170.0,48.0 L 175.0,48.0 L 175.0,44.0 L 175.0,40.0 L 175.0,36.0 L 175.0,32.0 L 175.0,28.0 L 175.0,24.0 L 170.0,24.0 L 165.0,24.0 L 160.0,24.0 L 160.0,28.0 L 155.0,28.0 L 150.0,28.0 L 150.0,32.0 L 145.0,32.0 z\" /></g></g></svg>"
      ],
      "text/plain": [
       "<shapely.geometry.collection.GeometryCollection at 0x1b6a1a26f28>"
      ]
     },
     "execution_count": 26,
     "metadata": {},
     "output_type": "execute_result"
    }
   ],
   "source": [
    "row_up2"
   ]
  },
  {
   "cell_type": "code",
   "execution_count": 27,
   "metadata": {},
   "outputs": [
    {
     "data": {
      "image/svg+xml": [
       "<svg xmlns=\"http://www.w3.org/2000/svg\" xmlns:xlink=\"http://www.w3.org/1999/xlink\" width=\"180.2126324366955\" height=\"100.0\" viewBox=\"1.4619095054043463 -4.674541942099832 180.2126324366955 99.34908388419967\" preserveAspectRatio=\"xMinYMin meet\"><g transform=\"matrix(1,0,0,-1,0,90.0)\"><g><path fill-rule=\"evenodd\" fill=\"#66cc99\" stroke=\"#555555\" stroke-width=\"2.0\" opacity=\"0.6\" d=\"M 130.0440474305172,15.9559525694828 L 130.49126849769468,16.0 L 137.04992955139727,16.0 L 138.9205280694656,16.176514814781846 L 140.72508891734432,16.69982776315988 L 142.39990575026823,17.55146434750293 L 143.88585257162597,18.701359273021648 L 145.130471055828,20.108917841756725 L 146.08982248263172,21.724449065697186 L 146.7300389041545,23.49091990588941 L 147.0285187837833,25.34596870769858 L 146.97472489738436,27.224106751992174 L 146.5705563285365,29.059030200965548 L 145.8302814252539,30.78596082007182 L 145.21815534613913,31.694009113460215 L 145.0469820394639,32.01425184586044 L 145.0,32.49126849769473 L 145.0,35.508731502305274 L 145.04539808267302,35.96966597095539 L 145.51012605668416,36.21806824825219 L 146.29620946467338,36.54367465699778 L 147.92617493804994,37.63278276685405 L 149.31234663004093,39.01895445884508 L 149.55410623418524,39.38077327558721 L 150.03114623681256,39.962048200635124 L 150.51012605668416,40.21806824825219 L 151.29620946467338,40.54367465699778 L 152.92617493804994,41.63278276685405 L 154.31234663004093,43.01895445884508 L 154.55410623418524,43.38077327558721 L 155.03114623681256,43.962048200635124 L 155.51012605668416,44.21806824825219 L 156.29620946467338,44.54367465699778 L 157.92617493804994,45.63278276685405 L 159.31234663004093,47.01895445884508 L 159.55410623418524,47.38077327558721 L 160.02456926529678,47.95403413765542 L 160.49126849769468,48.0 L 174.50873150230532,48.0 L 174.9559525694828,47.955952569482804 L 175.0,47.50873150230527 L 175.0,24.491268497694726 L 174.9525439943515,24.00943958642995 L 174.72638950771028,23.26390815700466 L 174.57683298541775,22.902846772544684 L 174.19438907601784,20.980171403295607 L 174.19438907601787,19.019828596704336 L 174.57683298541778,17.09715322745526 L 174.72638950771028,16.736091842995375 L 174.9525439943515,15.990560413570053 L 175.0,15.508731502305272 L 175.0,2.4912684976948003 L 174.95595256948278,2.044047430517195 L 174.50873150230535,2.0 L 155.49126849769468,2.0 L 155.01425184586049,2.046982039463886 L 154.691287031987,2.219610328999549 L 153.98982125670648,2.700869911087093 L 152.42973786833082,3.415440651830197 L 150.77045822201163,3.8527764238894093 L 149.0608393344086,4.0 L 130.49126849769468,4.0 L 130.04404743051722,4.044047430517199 L 130.0,4.491268497694806 L 130.0,15.508731502305276 L 130.0440474305172,15.9559525694828 z\" /><path fill-rule=\"evenodd\" fill=\"#66cc99\" stroke=\"#555555\" stroke-width=\"2.0\" opacity=\"0.6\" d=\"M 115.0440474305172,84.04404743051721 L 115.0,84.49126849769465 L 115.0,87.50873150230535 L 115.0440474305172,87.9559525694828 L 115.49126849769465,88.0 L 174.50873150230532,88.0 L 174.9559525694828,87.9559525694828 L 175.0,87.50873150230528 L 175.0,80.49126849769472 L 174.9559525694828,80.0440474305172 L 174.50873150230532,80.0 L 165.4912684976947,80.0 L 165.02456926529678,80.04596586234459 L 164.78003408502468,80.34393284163642 L 163.54441003469913,81.60405965600027 L 162.10650328517715,82.6273438597779 L 160.51110012217222,83.38191335922484 L 158.80789235074081,83.84426568089891 L 157.04992955139727,84.0 L 152.95007044860273,84.0 L 151.19210764925919,83.84426568089891 L 149.4888998778278,83.38191335922484 L 147.89349671482287,82.62734385977791 L 146.45558996530087,81.6040596560003 L 145.21996591497535,80.34393284163644 L 144.97543073470325,80.04596586234457 L 144.50873150230532,80.0 L 125.49126849769472,80.0 L 125.02456926529673,80.04596586234459 L 124.78003408502467,80.34393284163642 L 123.54441003469914,81.60405965600029 L 122.10650328517714,82.62734385977791 L 120.51110012217222,83.38191335922484 L 118.80789235074083,83.84426568089891 L 117.04992955139727,84.0 L 115.49126849769472,84.0 L 115.0440474305172,84.04404743051721 z\" /><path fill-rule=\"evenodd\" fill=\"#66cc99\" stroke=\"#555555\" stroke-width=\"2.0\" opacity=\"0.6\" d=\"M 44.06424013393818,9.053669688816166 L 43.46365499496778,9.544033645149804 L 43.09149102233184,9.997516757903536 L 43.015732039463884,10.13925184586048 L 43.01098001105329,10.187499999999995 L 43.015732039463884,10.23574815413953 L 43.10035469949861,10.39406601572009 L 43.14956926529676,10.45403413765542 L 43.513148781902245,10.489843594477813 L 45.322194024688955,10.489843594477811 L 47.24486939393796,10.872287503877688 L 47.50943958642993,10.952543994351482 L 47.99126849769466,11.0 L 48.25873150230534,11.0 L 49.1975315239381,10.907536268397653 L 50.22382581595014,10.703393641145308 L 52.18416862254135,10.70339364114531 L 54.10684399179037,11.08583755054519 L 55.91796458750572,11.83602826438373 L 57.5479300608822,12.92513637423991 L 58.93410175287312,14.311308066230827 L 60.023209862729296,15.941273539607305 L 60.03033402904461,15.954601917326967 L 60.491268497694676,16.0 L 64.50873150230531,16.0 L 64.9559525694828,15.9559525694828 L 65.0,15.508731502305345 L 65.0,4.0 L 65.08497221879192,3.165275456899307 L 65.04815273327803,2.9801714032955893 L 64.9559525694828,2.0440474305171983 L 64.50873150230532,2.0 L 55.49126849769469,2.0 L 55.03033402904462,2.0453980826730356 L 54.74048373485855,2.587669842213604 L 54.4798438388407,3.216640559326449 L 53.38831755000433,4.848618198334831 L 51.998961001740874,6.235870531272759 L 50.36533084148015,7.32492202359569 L 48.550399928588725,8.073792129071508 L 46.62412986877011,8.45361354775491 L 45.625651929154635,8.550121712339658 L 44.82315156006448,8.793557537896831 L 44.5884483993622,8.890774770191548 L 44.081016414847134,9.044702579850489 L 44.06424013393818,9.053669688816166 z\" /><path fill-rule=\"evenodd\" fill=\"#66cc99\" stroke=\"#555555\" stroke-width=\"2.0\" opacity=\"0.6\" d=\"M 84.94786964970423,3.0001682344134335 L 84.95184726672197,3.0198285967044125 L 85.0440474305172,3.9559525694828026 L 85.49126849769468,4.0 L 89.50873150230532,4.0 L 89.9559525694828,3.9559525694828017 L 90.0,3.508731502305344 L 90.0,2.491268497694656 L 89.9559525694828,2.0440474305171983 L 89.50873150230532,2.0 L 85.49126849769468,2.0 L 85.0440474305172,2.044047430517201 L 84.95184726672197,2.980171403295593 L 84.94786964970423,3.0001682344134335 z\" /><path fill-rule=\"evenodd\" fill=\"#66cc99\" stroke=\"#555555\" stroke-width=\"2.0\" opacity=\"0.6\" d=\"M 21.384151266103434,42.098615850204226 L 20.63925184586047,42.17198203946389 L 20.629300072653226,42.177301373065625 L 20.35846586234458,42.399569265296755 L 20.342418585633645,42.562499999999986 L 20.35846586234458,42.72543073470324 L 20.629300072653255,42.9476986269344 L 20.639251845860482,42.953017960536116 L 20.85937500000001,42.97469819889872 L 22.05321711481749,42.85711501362346 L 22.075313622731883,42.85271974492339 L 24.035656429323055,42.85271974492342 L 25.95833179857203,43.235163654323316 L 27.769452394287338,43.98535436816186 L 29.39941786766378,45.07446247801803 L 30.78558955965466,46.460634170008916 L 30.805819265296755,46.48528413765542 L 30.831497004940687,46.48781317426799 L 31.860853430246895,46.39010352028035 L 32.57967780545605,46.24712046207729 L 34.54002061204731,46.2471204620773 L 36.46269598129637,46.6295643714772 L 36.86186354608816,46.794904990473405 L 37.587564586429934,47.01504399435148 L 37.59699851440191,47.015973155156615 L 37.60629071775298,47.015093191634904 L 37.606283681587435,47.01501946358343 L 37.437688187026836,46.80958525906309 L 36.460493048946,45.832390120982254 L 35.63867728920447,44.83100472035344 L 35.5328235876556,44.72515101880457 L 35.25857417841819,44.39097714675837 L 34.169466068561995,42.761011673381844 L 33.419275354723474,40.94989107766651 L 33.03683144532361,39.0272157084175 L 33.036831445323614,37.06687290182631 L 33.38017377185574,35.340774464333 L 33.39288048740416,35.21176101630292 L 33.39116077736133,35.192823432668355 L 33.266610625083686,34.94636515851572 L 32.58948182374964,33.22850224760221 L 32.23974488510527,31.415427382066866 L 32.220311640677956,31.21796709474175 L 32.080221253223115,31.174324152341807 L 32.07049892572935,31.17526292125992 L 31.293549576510543,31.41094792967634 L 31.01064195499878,31.528132103405227 L 30.98226719970418,31.536739491322013 L 30.95026808244922,31.861631981064683 L 30.938242039075458,33.209738849416446 L 30.542794940031186,35.11911713656904 L 29.784329798474097,36.915456325206605 L 28.69168424676431,38.5304577338503 L 27.30640180350764,39.902717331738806 L 25.68115234583458,40.98006038384696 L 23.8777295459733,41.721525188495704 L 21.964701411657817,42.09892048378928 L 21.384151266103434,42.098615850204226 z\" /><path fill-rule=\"evenodd\" fill=\"#66cc99\" stroke=\"#555555\" stroke-width=\"2.0\" opacity=\"0.6\" d=\"M 30.044047430517193,84.04404743051721 L 30.0,84.49126849769465 L 30.0,87.50873150230532 L 30.044047430517196,87.9559525694828 L 30.491268497694655,88.0 L 34.50873150230534,88.0 L 34.955952569482804,87.9559525694828 L 35.0,87.50873150230535 L 35.0,84.49126849769465 L 34.955952569482804,84.0440474305172 L 34.50873150230534,84.0 L 30.49126849769472,84.0 L 30.044047430517193,84.04404743051721 z\" /><path fill-rule=\"evenodd\" fill=\"#66cc99\" stroke=\"#555555\" stroke-width=\"2.0\" opacity=\"0.6\" d=\"M 8.657280267054091,2.1888829202159563 L 8.436685989627158,2.519025587024136 L 8.171982039463886,3.014251845860474 L 8.136451447504179,3.3749999999999987 L 8.170965862344582,3.7254307347032385 L 8.441800072653256,3.947698626934396 L 8.451751845860478,3.9530179605361133 L 8.593750000000009,3.9670035580114424 L 8.733490185818681,3.9532403510047707 L 9.533790448963948,3.2998135879590857 L 10.004707982976212,2.8288960539468224 L 10.862387248815876,2.2558130903264497 L 11.129589005291608,2.0365262759146523 L 10.758731502305332,2.0 L 9.241268497694687,2.0 L 8.774569265296757,2.045965862344585 L 8.657280267054091,2.1888829202159563 z\" /></g></g></svg>"
      ],
      "text/plain": [
       "<shapely.geometry.multipolygon.MultiPolygon at 0x1b6a1a59ba8>"
      ]
     },
     "execution_count": 27,
     "metadata": {},
     "output_type": "execute_result"
    }
   ],
   "source": [
    "row_up2.buffer(10, join_style=0).buffer(-10, join_style=0)"
   ]
  },
  {
   "cell_type": "code",
   "execution_count": 29,
   "metadata": {},
   "outputs": [
    {
     "data": {
      "image/svg+xml": [
       "<svg xmlns=\"http://www.w3.org/2000/svg\" xmlns:xlink=\"http://www.w3.org/1999/xlink\" width=\"190.07999999999998\" height=\"100.08000000000001\" viewBox=\"-185.04 -95.04 190.07999999999998 100.08000000000001\" preserveAspectRatio=\"xMinYMin meet\"><g transform=\"matrix(1,0,0,-1,0,-90.0)\"><g><path fill-rule=\"evenodd\" fill=\"#66cc99\" stroke=\"#555555\" stroke-width=\"2.0\" opacity=\"0.6\" d=\"M -175.0,-88.0 L -178.0,-88.0 L -178.0,-56.0 L -175.0,-56.0 L -175.0,-52.0 L -175.0,-48.0 L -170.0,-48.0 L -170.0,-44.0 L -170.0,-40.0 L -175.0,-40.0 L -175.0,-36.0 L -170.0,-36.0 L -170.0,-32.0 L -170.0,-28.0 L -170.0,-24.0 L -165.0,-24.0 L -165.0,-28.0 L -160.0,-28.0 L -155.0,-28.0 L -150.0,-28.0 L -150.0,-32.0 L -145.0,-32.0 L -140.0,-32.0 L -135.0,-32.0 L -130.0,-32.0 L -125.0,-32.0 L -120.0,-32.0 L -120.0,-28.0 L -120.0,-24.0 L -120.0,-20.0 L -125.0,-20.0 L -130.0,-20.0 L -130.0,-16.0 L -130.0,-12.0 L -135.0,-12.0 L -135.0,-8.0 L -135.0,-4.0 L -140.0,-4.0 L -145.0,-4.0 L -145.0,-8.0 L -150.0,-8.0 L -155.0,-8.0 L -155.0,-4.0 L -155.0,-2.0 L -100.0,-2.0 L -100.0,-4.0 L -95.0,-4.0 L -95.0,-8.0 L -90.0,-8.0 L -85.0,-8.0 L -85.0,-12.0 L -85.0,-16.0 L -80.0,-16.0 L -80.0,-20.0 L -85.0,-20.0 L -85.0,-24.0 L -85.0,-28.0 L -85.0,-32.0 L -85.0,-36.0 L -85.0,-40.0 L -80.0,-40.0 L -80.0,-44.0 L -85.0,-44.0 L -85.0,-48.0 L -85.0,-52.0 L -85.0,-56.0 L -80.0,-56.0 L -80.0,-60.0 L -75.0,-60.0 L -70.0,-60.0 L -65.0,-60.0 L -60.0,-60.0 L -55.0,-60.0 L -55.0,-56.0 L -55.0,-52.0 L -60.0,-52.0 L -60.0,-48.0 L -55.0,-48.0 L -55.0,-44.0 L -50.0,-44.0 L -50.0,-40.0 L -50.0,-36.0 L -45.0,-36.0 L -45.0,-32.0 L -40.0,-32.0 L -40.0,-28.0 L -35.0,-28.0 L -35.0,-24.0 L -30.0,-24.0 L -25.0,-24.0 L -25.0,-20.0 L -25.0,-16.0 L -30.0,-16.0 L -30.0,-12.0 L -30.0,-8.0 L -25.0,-8.0 L -25.0,-4.0 L -25.0,-2.0 L -2.0,-2.0 L -2.0,-12.0 L -5.0,-12.0 L -10.0,-12.0 L -10.0,-16.0 L -10.0,-20.0 L -5.0,-20.0 L -2.0,-20.0 L -2.0,-88.0 L -5.0,-88.0 L -10.0,-88.0 L -15.0,-88.0 L -20.0,-88.0 L -25.0,-88.0 L -30.0,-88.0 L -35.0,-88.0 L -40.0,-88.0 L -45.0,-88.0 L -50.0,-88.0 L -55.0,-88.0 L -60.0,-88.0 L -65.0,-88.0 L -70.0,-88.0 L -75.0,-88.0 L -80.0,-88.0 L -85.0,-88.0 L -90.0,-88.0 L -95.0,-88.0 L -100.0,-88.0 L -105.0,-88.0 L -110.0,-88.0 L -115.0,-88.0 L -120.0,-88.0 L -125.0,-88.0 L -130.0,-88.0 L -135.0,-88.0 L -140.0,-88.0 L -145.0,-88.0 L -150.0,-88.0 L -155.0,-88.0 L -160.0,-88.0 L -165.0,-88.0 L -170.0,-88.0 L -175.0,-88.0 z M -10.0,-12.0 L -10.0,-8.0 L -10.0,-4.0 L -15.0,-4.0 L -20.0,-4.0 L -20.0,-8.0 L -20.0,-12.0 L -15.0,-12.0 L -10.0,-12.0 z M -5.0,-32.0 L -10.0,-32.0 L -15.0,-32.0 L -20.0,-32.0 L -20.0,-36.0 L -20.0,-40.0 L -20.0,-44.0 L -15.0,-44.0 L -10.0,-44.0 L -5.0,-44.0 L -5.0,-40.0 L -5.0,-36.0 L -5.0,-32.0 z M -100.0,-20.0 L -105.0,-20.0 L -110.0,-20.0 L -115.0,-20.0 L -115.0,-24.0 L -115.0,-28.0 L -115.0,-32.0 L -110.0,-32.0 L -105.0,-32.0 L -100.0,-32.0 L -100.0,-28.0 L -100.0,-24.0 L -100.0,-20.0 z\" /><path fill-rule=\"evenodd\" fill=\"#66cc99\" stroke=\"#555555\" stroke-width=\"2.0\" opacity=\"0.6\" d=\"M -170.0,-4.0 L -170.0,-2.0 L -165.0,-2.0 L -165.0,-4.0 L -170.0,-4.0 z\" /></g></g></svg>"
      ],
      "text/plain": [
       "<shapely.geometry.multipolygon.MultiPolygon at 0x1b6a1a40550>"
      ]
     },
     "execution_count": 29,
     "metadata": {},
     "output_type": "execute_result"
    }
   ],
   "source": [
    "row_down3"
   ]
  },
  {
   "cell_type": "code",
   "execution_count": 28,
   "metadata": {},
   "outputs": [
    {
     "data": {
      "image/svg+xml": [
       "<svg xmlns=\"http://www.w3.org/2000/svg\" xmlns:xlink=\"http://www.w3.org/1999/xlink\" width=\"190.07999999999998\" height=\"100.08000000000001\" viewBox=\"-185.04 -95.04 190.07999999999998 100.08000000000001\" preserveAspectRatio=\"xMinYMin meet\"><g transform=\"matrix(1,0,0,-1,0,-90.0)\"><path fill-rule=\"evenodd\" fill=\"#66cc99\" stroke=\"#555555\" stroke-width=\"2.0\" opacity=\"0.6\" d=\"M -177.50198883098807,-55.469075233506565 L -177.39594034399974,-55.36508882552781 L -176.37265614022212,-53.92718207600582 L -175.61808664077518,-52.33177891300089 L -175.1557343191011,-50.62857114156949 L -175.0,-48.87060834222593 L -175.0,-48.491268497694726 L -174.9525439943515,-48.009439586429956 L -174.72638950771025,-47.26390815700451 L -174.57683298541775,-46.90284677254463 L -174.19438907601787,-44.9801714032956 L -174.19438907601787,-43.019828596704386 L -174.57683298541775,-41.09715322745536 L -174.72638950771025,-40.73609184299548 L -174.9525439943515,-39.99056041357003 L -175.0,-39.50873150230527 L -175.0,-36.491268497694726 L -174.9540341376554,-36.02456926529677 L -174.74091791608768,-35.84966930227458 L -173.78339426629924,-35.22114228549747 L -172.4816019252102,-33.98173294421166 L -171.4227138999973,-32.52930223514319 L -170.64094073242674,-30.910775272423304 L -170.16153994072923,-29.178443405977294 L -170.0,-27.388274793210968 L -170.0,-24.491268497694723 L -169.9559525694828,-24.0440474305172 L -169.0198285967044,-23.95184726672197 L -167.5,-23.649534562540197 L -165.9801714032956,-23.95184726672197 L -165.02422116567183,-24.046000147165145 L -165.0228192503052,-24.048098261781654 L -164.7800340850246,-24.34393284163652 L -163.2022454572035,-25.8834642762661 L -161.32548048570007,-27.039892931234448 L -159.24094195296595,-27.75702130038529 L -157.04992955139727,-28.0 L -155.0,-28.0 L -153.10931335850194,-27.81963869109555 L -152.5069567359848,-27.64295329865261 L -150.9801714032956,-27.95184726672197 L -150.02456926529678,-28.04596586234458 L -149.78003408502465,-28.343932841636445 L -148.54441003469913,-29.604059656000302 L -147.10650328517713,-30.627343859777913 L -145.5111001221722,-31.38191335922484 L -143.80789235074081,-31.844265680898914 L -142.04992955139727,-32.0 L -139.79295945869242,-32.0 L -137.9411314312976,-31.827040905427992 L -136.15336150368705,-31.314146591391008 L -134.49149188945728,-30.47905900512244 L -133.01300968136303,-29.350665345184154 L -131.76905826821493,-27.967998800724892 L -130.80266819203484,-26.378888322469592 L -130.14726864333872,-24.638304132317035 L -129.8255310846316,-22.806456203378254 L -129.84858500328227,-20.946711487489814 L -129.99202778207595,-19.592430406564073 L -130.38423251194322,-17.68665597036533 L -131.1380633550932,-15.892905761525014 L -132.22498177779863,-14.279087588934793 L -133.60383921424128,-12.906297393105255 L -134.75782788240338,-12.136453047016529 L -134.9657861266145,-11.965786126614496 L -135.37326979934346,-11.469265834774689 L -136.75944149133437,-10.08309414278375 L -138.38940696471084,-8.993986032927555 L -140.20052756042622,-8.243795319089005 L -142.12320292967524,-7.861351409689117 L -144.08354573626647,-7.861351409689114 L -145.49126849769468,-8.0 L -150.0,-8.0 L -152.01505322325622,-8.205125804409498 L -152.47680294322421,-8.350161357669036 L -154.01982859670437,-8.048152733278034 L -154.97577883432814,-7.953999852834851 L -154.97718074969475,-7.951901738218408 L -155.3732697993435,-7.469265834774631 L -156.7594414913344,-6.08309414278372 L -158.3894069647109,-4.993986032927538 L -160.20052756042625,-4.243795319088997 L -162.12320292967527,-3.8613514096891155 L -164.08354573626647,-3.8613514096891137 L -165.9801714032956,-4.04815273327803 L -167.5,-4.350465437459808 L -169.01982859670437,-4.048152733278034 L -169.95595256948278,-3.9559525694828026 L -170.0,-3.5087315023051944 L -170.0,-2.4912684976947252 L -169.9559525694828,-2.0440474305171974 L -169.50873150230535,-2.0 L -165.49126849769465,-2.0 L -165.01425184586049,-2.0469820394638827 L -164.71396736825997,-2.207487436694522 L -162.90284677254462,-2.9576781505330567 L -160.9801714032956,-3.340122059932937 L -159.0198285967044,-3.340122059932937 L -157.09715322745538,-2.9576781505330567 L -155.28603263174003,-2.207487436694522 L -154.98574815413951,-2.0469820394638827 L -154.50873150230535,-2.0 L -100.49126849769468,-2.0 L -100.01425184586049,-2.0469820394638854 L -99.7418772709298,-2.1925692829141923 L -98.64672463763027,-2.924326877746008 L -96.83560404191493,-3.6745175915845394 L -95.10224163990196,-4.01930481049583 L -95.02795600127708,-4.041839112612345 L -94.78003408502465,-4.343932841636443 L -93.54441003469911,-5.6040596560003015 L -92.10650328517713,-6.627343859777913 L -90.51110012217221,-7.381913359224839 L -88.80789235074081,-7.844265680898916 L -87.04992955139727,-8.0 L -85.49126849769468,-8.0 L -85.0440474305172,-8.044047430517198 L -85.01544502923586,-8.334452484221332 L -84.63300111983598,-10.257127853470353 L -83.88281040599745,-12.068248449185708 L -82.79370229614126,-13.69821392256219 L -81.40753060415035,-15.084385614553108 L -80.24540944023408,-15.86089015095587 L -80.04596586234457,-16.024569265296773 L -80.0,-16.491268497694655 L -80.0,-19.508731502305345 L -80.04596586234457,-19.975430734703238 L -80.25908208391223,-20.15033069772536 L -81.21660573370077,-20.77885771450252 L -82.51839807478977,-22.01826705578834 L -83.57728610000272,-23.470697764856812 L -84.35905926757326,-25.089224727576692 L -84.83846005927077,-26.821556594022702 L -85.0,-28.611725206789032 L -85.0,-31.388274793210968 L -84.76765881320871,-33.531366323861526 L -84.0814317382508,-35.57487216858529 L -82.97320653772705,-37.423834212746705 L -81.49448048330183,-38.992334449211285 L -80.3618871393073,-39.76529937372195 L -80.04596586234457,-40.02456926529677 L -80.0,-40.49126849769466 L -80.0,-43.50873150230534 L -80.04698203946388,-43.98574815413952 L -80.21815534613918,-44.305990886539874 L -80.8302814252539,-45.2140391799282 L -81.57055632853651,-46.94096979903448 L -81.97472489738436,-48.77589324800785 L -82.02851878378331,-50.65403129230144 L -81.7300389041545,-52.50908009411061 L -81.0898224826317,-54.27555093430283 L -80.130471055828,-55.891082158243286 L -78.88585257162597,-57.298640726978356 L -77.39990575026825,-58.44853565249707 L -75.72508891734431,-59.300172236840126 L -73.92052806946559,-59.82348518521816 L -72.04992955139727,-60.0 L -70.0,-60.0 L -68.04909677983872,-59.80785280403231 L -66.1731656763491,-59.23879532511287 L -64.44429766980397,-58.314696123025456 L -62.928932188134524,-57.071067811865476 L -61.685303876974544,-55.55570233019602 L -60.76120467488713,-53.8268343236509 L -60.19214719596769,-51.95090322016128 L -60.0,-50.0 L -60.0,-48.49126849769465 L -59.95460191732697,-48.03033402904461 L -59.48987394331573,-47.781931751747756 L -58.70379053532667,-47.45632534300222 L -57.07382506195023,-46.36721723314608 L -55.68765336995935,-44.98104554115522 L -55.445893765815,-44.61922672441307 L -54.96578612661448,-44.03421387338552 L -54.754590559765944,-43.86089015095589 L -53.59246939584965,-43.084385614553106 L -52.20629770385874,-41.69821392256219 L -51.117189594002554,-40.06824844918571 L -50.36699888016402,-38.25712785347035 L -49.98455497076414,-36.33445248422133 L -49.95460191732697,-36.03033402904462 L -49.48987394331575,-35.78193175174777 L -48.7037905353267,-35.45632534300225 L -47.07382506195024,-34.367217233146086 L -45.68765336995933,-32.98104554115519 L -45.445893765815,-32.61922672441307 L -44.968853763187454,-32.037951799364905 L -44.489873943315736,-31.781931751747763 L -43.7037905353267,-31.45632534300225 L -42.07382506195024,-30.367217233146082 L -40.68765336995933,-28.98104554115519 L -40.445893765815,-28.61922672441307 L -39.96885376318744,-28.037951799364894 L -39.48987394331576,-27.781931751747774 L -38.7037905353267,-27.45632534300225 L -37.07382506195024,-26.367217233146082 L -35.68765336995933,-24.98104554115519 L -35.445893765815,-24.61922672441307 L -34.96578612661449,-24.03421387338553 L -34.638112860692665,-23.765299373721927 L -33.50551951669816,-22.99233444921127 L -32.02679346227293,-21.423834212746677 L -30.918568261749186,-19.574872168585244 L -30.232341186791274,-17.531366323861477 L -30.0,-15.38827479321097 L -30.0,-8.491268497694653 L -29.954601917326972,-8.030334029044617 L -29.817450319918787,-7.957024972916503 L -28.187484846542326,-6.867916863060327 L -26.801313154551423,-5.481745171069426 L -25.71220504469525,-3.8517796976929644 L -24.96373533175856,-2.0448139656957323 L -24.508731502305334,-2.0 L -2.4912684976946644,-2.0 L -2.044047430517199,-2.0440474305171974 L -2.0,-2.491268497694683 L -2.0,-11.508731502305336 L -2.047456005648518,-11.990560413570066 L -2.2736104922897287,-12.73609184299538 L -2.4231670145822743,-13.097153227455397 L -2.8056109239821474,-15.01982859670441 L -2.8056109239821456,-16.98017140329561 L -2.4231670145822655,-18.90284677254462 L -2.273610492289725,-19.263908157004625 L -2.047456005648518,-20.00943958642993 L -2.0,-20.491268497694666 L -2.0,-87.50873150230532 L -2.044047430517198,-87.9559525694828 L -2.4912684976946555,-88.0 L -177.5087315023053,-88.0 L -177.9559525694828,-87.9559525694828 L -178.0,-87.50873150230528 L -178.0,-56.491268497694726 L -177.95351086891327,-56.01925642859908 L -177.50198883098807,-55.469075233506565 z\" /></g></svg>"
      ],
      "text/plain": [
       "<shapely.geometry.polygon.Polygon at 0x1b6a1a6d7b8>"
      ]
     },
     "execution_count": 28,
     "metadata": {},
     "output_type": "execute_result"
    }
   ],
   "source": [
    "row_down3.buffer(10, join_style=0).buffer(-10, join_style=0)"
   ]
  },
  {
   "cell_type": "code",
   "execution_count": 30,
   "metadata": {},
   "outputs": [
    {
     "data": {
      "image/svg+xml": [
       "<svg xmlns=\"http://www.w3.org/2000/svg\" xmlns:xlink=\"http://www.w3.org/1999/xlink\" width=\"186.83999999999997\" height=\"100.0\" viewBox=\"-4.92 -94.92 186.83999999999997 99.84\" preserveAspectRatio=\"xMinYMin meet\"><g transform=\"matrix(1,0,0,-1,0,-90.0)\"><g><path fill-rule=\"evenodd\" fill=\"#66cc99\" stroke=\"#555555\" stroke-width=\"2.0\" opacity=\"0.6\" d=\"M 2.0,-4.0 L 5.0,-4.0 L 5.0,-8.0 L 5.0,-12.0 L 5.0,-16.0 L 5.0,-20.0 L 5.0,-24.0 L 10.0,-24.0 L 10.0,-28.0 L 10.0,-32.0 L 10.0,-36.0 L 10.0,-40.0 L 15.0,-40.0 L 20.0,-40.0 L 25.0,-40.0 L 30.0,-40.0 L 30.0,-36.0 L 35.0,-36.0 L 35.0,-32.0 L 40.0,-32.0 L 45.0,-32.0 L 50.0,-32.0 L 50.0,-28.0 L 55.0,-28.0 L 60.0,-28.0 L 60.0,-24.0 L 65.0,-24.0 L 70.0,-24.0 L 70.0,-20.0 L 70.0,-16.0 L 65.0,-16.0 L 65.0,-12.0 L 65.0,-8.0 L 60.0,-8.0 L 60.0,-4.0 L 60.0,-2.0 L 65.0,-2.0 L 65.0,-4.0 L 70.0,-4.0 L 75.0,-4.0 L 80.0,-4.0 L 80.0,-2.0 L 90.0,-2.0 L 90.0,-4.0 L 95.0,-4.0 L 95.0,-8.0 L 90.0,-8.0 L 90.0,-12.0 L 90.0,-16.0 L 95.0,-16.0 L 100.0,-16.0 L 105.0,-16.0 L 110.0,-16.0 L 110.0,-20.0 L 105.0,-20.0 L 105.0,-24.0 L 105.0,-28.0 L 105.0,-32.0 L 110.0,-32.0 L 110.0,-36.0 L 110.0,-40.0 L 115.0,-40.0 L 120.0,-40.0 L 125.0,-40.0 L 130.0,-40.0 L 135.0,-40.0 L 135.0,-44.0 L 140.0,-44.0 L 140.0,-48.0 L 145.0,-48.0 L 150.0,-48.0 L 155.0,-48.0 L 155.0,-52.0 L 150.0,-52.0 L 150.0,-56.0 L 150.0,-60.0 L 155.0,-60.0 L 160.0,-60.0 L 165.0,-60.0 L 165.0,-56.0 L 170.0,-56.0 L 175.0,-56.0 L 175.0,-60.0 L 175.0,-64.0 L 175.0,-68.0 L 175.0,-72.0 L 175.0,-76.0 L 175.0,-80.0 L 175.0,-84.0 L 175.0,-88.0 L 170.0,-88.0 L 165.0,-88.0 L 160.0,-88.0 L 155.0,-88.0 L 150.0,-88.0 L 145.0,-88.0 L 140.0,-88.0 L 135.0,-88.0 L 130.0,-88.0 L 125.0,-88.0 L 120.0,-88.0 L 115.0,-88.0 L 110.0,-88.0 L 105.0,-88.0 L 100.0,-88.0 L 95.0,-88.0 L 90.0,-88.0 L 85.0,-88.0 L 80.0,-88.0 L 75.0,-88.0 L 70.0,-88.0 L 65.0,-88.0 L 60.0,-88.0 L 55.0,-88.0 L 50.0,-88.0 L 45.0,-88.0 L 40.0,-88.0 L 35.0,-88.0 L 30.0,-88.0 L 25.0,-88.0 L 20.0,-88.0 L 15.0,-88.0 L 10.0,-88.0 L 5.0,-88.0 L 2.0,-88.0 L 2.0,-56.0 L 5.0,-56.0 L 5.0,-52.0 L 2.0,-52.0 L 2.0,-4.0 z M 30.0,-40.0 L 30.0,-44.0 L 30.0,-48.0 L 30.0,-52.0 L 35.0,-52.0 L 40.0,-52.0 L 45.0,-52.0 L 50.0,-52.0 L 55.0,-52.0 L 60.0,-52.0 L 60.0,-56.0 L 65.0,-56.0 L 65.0,-60.0 L 70.0,-60.0 L 75.0,-60.0 L 80.0,-60.0 L 80.0,-56.0 L 80.0,-52.0 L 80.0,-48.0 L 80.0,-44.0 L 85.0,-44.0 L 85.0,-40.0 L 85.0,-36.0 L 85.0,-32.0 L 80.0,-32.0 L 75.0,-32.0 L 70.0,-32.0 L 70.0,-36.0 L 70.0,-40.0 L 70.0,-44.0 L 65.0,-44.0 L 60.0,-44.0 L 60.0,-40.0 L 55.0,-40.0 L 50.0,-40.0 L 45.0,-40.0 L 40.0,-40.0 L 35.0,-40.0 L 30.0,-40.0 z\" /><path fill-rule=\"evenodd\" fill=\"#66cc99\" stroke=\"#555555\" stroke-width=\"2.0\" opacity=\"0.6\" d=\"M 42.5,-13.0 L 42.5,-12.5 L 42.5,-12.0 L 42.5,-11.5 L 42.5,-11.0 L 42.5,-10.0 L 43.75,-10.0 L 43.75,-11.0 L 45.0,-11.0 L 45.0,-12.0 L 45.625,-12.0 L 46.25,-12.0 L 46.25,-12.5 L 46.25,-13.0 L 45.625,-13.0 L 45.3125,-13.0 L 45.3125,-12.875 L 45.234375,-12.875 L 45.234375,-12.8125 L 45.3125,-12.8125 L 45.3125,-12.75 L 45.3125,-12.5 L 45.0,-12.5 L 45.0,-13.0 L 45.0,-14.0 L 43.75,-14.0 L 43.75,-13.0 L 43.125,-13.0 L 42.5,-13.0 z\" /><path fill-rule=\"evenodd\" fill=\"#66cc99\" stroke=\"#555555\" stroke-width=\"2.0\" opacity=\"0.6\" d=\"M 112.7734375,-7.46875 L 112.7734375,-7.4375 L 112.8125,-7.4375 L 112.8125,-7.46875 L 112.7734375,-7.46875 z\" /><path fill-rule=\"evenodd\" fill=\"#66cc99\" stroke=\"#555555\" stroke-width=\"2.0\" opacity=\"0.6\" d=\"M 125.625,-9.5 L 125.3125,-9.5 L 125.3125,-9.25 L 125.3125,-9.0 L 125.3125,-8.875 L 125.3125,-8.75 L 125.3125,-8.625 L 125.3125,-8.5 L 125.46875,-8.5 L 125.5078125,-8.5 L 125.546875,-8.5 L 125.5859375,-8.5 L 125.625,-8.5 L 125.9375,-8.5 L 126.25,-8.5 L 126.25,-8.375 L 126.25,-8.25 L 126.40625,-8.25 L 126.5625,-8.25 L 126.875,-8.25 L 126.875,-8.5 L 127.5,-8.5 L 127.5,-9.0 L 127.5,-10.0 L 126.25,-10.0 L 125.625,-10.0 L 125.625,-9.5 z\" /><path fill-rule=\"evenodd\" fill=\"#66cc99\" stroke=\"#555555\" stroke-width=\"2.0\" opacity=\"0.6\" d=\"M 175.0,-2.0 L 175.0,-4.0 L 175.0,-8.0 L 170.0,-8.0 L 170.0,-12.0 L 165.0,-12.0 L 162.5,-12.0 L 160.0,-12.0 L 157.5,-12.0 L 157.5,-10.0 L 157.5,-9.0 L 157.5,-8.0 L 156.25,-8.0 L 156.25,-7.0 L 157.5,-7.0 L 157.5,-6.0 L 160.0,-6.0 L 160.0,-8.0 L 160.625,-8.0 L 161.25,-8.0 L 162.5,-8.0 L 165.0,-8.0 L 165.0,-4.0 L 165.0,-2.0 L 175.0,-2.0 z\" /><path fill-rule=\"evenodd\" fill=\"#66cc99\" stroke=\"#555555\" stroke-width=\"2.0\" opacity=\"0.6\" d=\"M 155.0,-48.0 L 155.0,-44.0 L 155.0,-40.0 L 155.0,-36.0 L 160.0,-36.0 L 165.0,-36.0 L 165.0,-40.0 L 160.0,-40.0 L 160.0,-44.0 L 160.0,-48.0 L 155.0,-48.0 z\" /></g></g></svg>"
      ],
      "text/plain": [
       "<shapely.geometry.multipolygon.MultiPolygon at 0x1b6a1a23fd0>"
      ]
     },
     "execution_count": 30,
     "metadata": {},
     "output_type": "execute_result"
    }
   ],
   "source": [
    "row_down4"
   ]
  },
  {
   "cell_type": "code",
   "execution_count": 31,
   "metadata": {},
   "outputs": [
    {
     "data": {
      "image/svg+xml": [
       "<svg xmlns=\"http://www.w3.org/2000/svg\" xmlns:xlink=\"http://www.w3.org/1999/xlink\" width=\"186.83999999999997\" height=\"100.0\" viewBox=\"-4.92 -94.92 186.83999999999997 99.84\" preserveAspectRatio=\"xMinYMin meet\"><g transform=\"matrix(1,0,0,-1,0,-90.0)\"><g><path fill-rule=\"evenodd\" fill=\"#66cc99\" stroke=\"#555555\" stroke-width=\"2.0\" opacity=\"0.6\" d=\"M 156.2959658623446,-7.024569265296747 L 156.95905877660329,-6.480382974215877 L 157.12855689213106,-6.367127954252646 L 157.51925642859908,-6.0464891310867435 L 157.9905227490533,-6.000073449830239 L 159.91319811830232,-5.617629540430357 L 161.7243187140177,-4.86743882659181 L 163.35428418739417,-3.7783307167356153 L 164.7404558793851,-2.392159024744691 L 165.02456926529678,-2.0459658623445787 L 165.49126849769465,-2.0 L 174.50873150230535,-2.0 L 174.95595256948278,-2.044047430517195 L 175.0,-2.4912684976948003 L 175.0,-7.508731502305273 L 174.95460191732698,-7.969665970955389 L 174.48987394331573,-8.218068248252248 L 173.70379053532662,-8.543674656997796 L 172.07382506195006,-9.632782766854042 L 170.6876533699591,-11.01895445884505 L 170.44589376581482,-11.380773275587115 L 169.97543073470322,-11.954034137655421 L 169.50873150230535,-12.0 L 157.99126849769468,-12.0 L 157.54404743051722,-11.955952569482802 L 157.54135209996753,-11.928586419160917 L 157.15890819056764,-10.005911049911841 L 156.40871747672907,-8.194790454196442 L 156.2969820394639,-7.98574815413957 L 156.25,-7.508731502305267 L 156.25,-7.491268497694798 L 156.2959658623446,-7.024569265296747 z\" /><path fill-rule=\"evenodd\" fill=\"#66cc99\" stroke=\"#555555\" stroke-width=\"2.0\" opacity=\"0.6\" d=\"M 2.0,-4.49126849769468 L 2.0440474305171987,-4.044047430517199 L 2.4912684976946835,-4.0 L 4.508731502305335,-4.0 L 4.955952569482801,-4.044047430517197 L 5.0,-4.491268497694683 L 5.0,-15.38827479321097 L 5.232341186791288,-17.53136632386153 L 5.918568261749206,-19.57487216858529 L 7.026793462272948,-21.423834212746712 L 8.50551951669818,-22.992334449211295 L 9.63811286069273,-23.765299373721977 L 9.95403413765542,-24.024569265296762 L 10.0,-24.491268497694666 L 10.0,-30.0 L 10.192147195967706,-31.950903220161337 L 10.761204674887152,-33.82683432365094 L 11.685303876974569,-35.555702330196056 L 12.928932188134548,-37.0710678118655 L 14.444297669804,-38.31469612302547 L 16.173165676349118,-39.238795325112875 L 18.049096779838724,-39.80785280403231 L 20.0,-40.0 L 22.04992955139727,-40.0 L 23.80789235074082,-39.844265680898914 L 25.511100122172206,-39.38191335922484 L 27.106503285177123,-38.627343859777916 L 28.544410034699116,-37.6040596560003 L 29.78003408502465,-36.343932841636445 L 30.031146236812564,-36.03795179936489 L 30.510126056684257,-35.78193175174776 L 31.29620946467332,-35.456325343002234 L 32.92617493804982,-34.36721723314604 L 34.31234663004075,-32.98104554115511 L 34.5541062341851,-32.619226724412954 L 35.02456926529676,-32.04596586234458 L 35.491268497694676,-32.0 L 37.8108393344086,-32.0 L 39.687619650892,-31.822306024740854 L 41.49770145635059,-31.295539128732095 L 43.17675662447313,-30.43841997273106 L 44.665113557759,-29.28140953875788 L 45.90987784419218,-27.865626583498347 L 46.8668120609093,-26.241386327237304 L 47.501907918904344,-24.466412311556944 L 47.79259487664177,-22.60378497422285 L 47.72854226990632,-20.71969984643448 L 47.31202645116129,-18.8811150434085 L 46.557849890724896,-17.15337165364506 L 45.49281511481139,-15.59787159537511 L 44.15477217604504,-14.26989546637262 L 43.37855689213097,-13.632872045747298 L 43.20905877660322,-13.519617025784074 L 42.54596586234457,-12.975430734703234 L 42.5,-12.508731502305338 L 42.5,-10.491268497694653 L 42.544047430517196,-10.044047430517198 L 42.99126849769466,-10.0 L 43.25873150230534,-10.0 L 43.735748154139515,-10.046982039463884 L 43.79351547100598,-10.077859313623007 L 45.2140391799282,-11.035451122961065 L 46.94096979903448,-11.775726026243678 L 48.77589324800785,-12.179894595091532 L 50.65403129230144,-12.233688481490468 L 52.50908009411061,-11.935208601861657 L 54.27555093430283,-11.294992180338864 L 55.891082158243286,-10.335640753535163 L 57.29864072697836,-9.091022269333141 L 58.44853565249707,-7.605075447975402 L 59.300172236840126,-5.930258615051466 L 59.82348518521816,-4.125697767172753 L 59.931766825724985,-2.9781936524817643 L 59.95184726672197,-2.9801714032955875 L 60.044047430517196,-2.0440474305171974 L 60.49126849769466,-2.0 L 64.50873150230532,-2.0 L 64.98574815413951,-2.0469820394638854 L 65.30871296801293,-2.219610328999492 L 66.0101787432935,-2.7008699110870786 L 67.57026213166915,-3.415440651830192 L 69.22954177798837,-3.8527764238894093 L 70.9391606655914,-4.0 L 74.0608393344086,-4.0 L 75.77045822201163,-3.8527764238894093 L 77.42973786833085,-3.415440651830192 L 78.9898212567065,-2.7008699110870804 L 79.69128703198709,-2.2196103289994884 L 80.01425184586049,-2.0469820394638854 L 80.49126849769468,-2.0 L 89.50873150230532,-2.0 L 89.98574815413951,-2.0469820394638854 L 90.2581227290702,-2.1925692829141923 L 91.35327536236973,-2.924326877746008 L 93.16439595808507,-3.6745175915845394 L 94.89775836009804,-4.01930481049583 L 94.96139210425012,-4.038607895749885 L 95.10717934464375,-4.519204019827943 L 95.85737005848229,-6.330324615543299 L 96.94647816833847,-7.960290088919777 L 98.33264986032938,-9.346461780910694 L 99.96261533370586,-10.435569890766875 L 101.7737359294212,-11.185760604605417 L 103.69641129867023,-11.568204514005297 L 105.65675410526144,-11.568204514005298 L 107.57942947451046,-11.18576060460542 L 109.39055007022581,-10.435569890766882 L 111.02051554360229,-9.346461780910703 L 112.40668723559321,-7.960290088919789 L 112.79578966648889,-7.48616740505855 L 112.7959122257913,-7.486179239144966 L 113.36589715633215,-7.953953782731794 L 115.00449040970756,-9.047668113923867 L 115.59852965148157,-9.292706830210193 L 114.10891784175675,-10.177283490732725 L 112.70135927302167,-11.421901974934745 L 111.55146434750294,-12.907848796292487 L 110.69982776315989,-14.582665629216429 L 110.17651481478184,-16.38722647709515 L 110.0,-18.25782499516348 L 110.0,-19.508731502305345 L 109.95301796053612,-19.985748154139525 L 109.76642479839974,-20.334839407036355 L 109.13085780511918,-21.28603263174004 L 108.38066709128063,-23.0971532274554 L 107.99822318188076,-25.019828596704425 L 107.99822318188076,-26.98017140329564 L 108.38066709128066,-28.902846772544667 L 109.1308578051192,-30.71396736826002 L 109.76642479839977,-31.665160592963694 L 109.95529742014953,-32.01851641484716 L 110.22355610137035,-32.90284677254462 L 110.90850309890371,-34.589818644675375 L 111.8879721779714,-36.1246368130395 L 113.1294936791724,-37.45642164883165 L 114.5919108359027,-38.54102413199828 L 116.2267441320693,-39.342489402946 L 117.97979841088946,-39.83424867566048 L 119.79295945869244,-40.0 L 134.50873150230532,-40.0 L 134.97543073470322,-40.04596586234457 L 135.4458937658148,-40.61922672441284 L 135.68765336995907,-40.98104554115491 L 137.07382506195006,-42.36721723314595 L 138.70379053532665,-43.45632534300222 L 139.4898739433157,-43.78193175174775 L 140.34326910584724,-44.238080969487385 L 142.1543897015626,-44.98827168332591 L 144.0770650708116,-45.37071559272579 L 146.03740787740284,-45.37071559272577 L 147.96008324665183,-44.98827168332589 L 149.77120384236719,-44.23808096948734 L 151.4011693157437,-43.14897285963115 L 152.78734100773457,-41.762801167640234 L 153.87644911759077,-40.13283569426375 L 154.6266398314293,-38.321715098548395 L 155.00908374082917,-36.399039729299375 L 155.04404743051722,-36.044047430517196 L 155.49126849769468,-36.0 L 164.50873150230532,-36.0 L 164.9559525694828,-36.044047430517196 L 165.0,-36.49126849769473 L 165.0,-39.50873150230527 L 164.95301796053613,-39.985748154139515 L 164.74807296829567,-40.36917326627657 L 164.08913754925462,-41.364930620449115 L 163.33037861511204,-43.26842004900596 L 162.97554930250018,-45.286608168007824 L 163.03954884857052,-47.33475151818419 L 163.51968992062365,-49.32684882396435 L 164.39581145686333,-51.179252175965715 L 165.6311252267855,-52.814179395938964 L 167.17376056424072,-54.16298010041809 L 168.95894241002702,-55.169018321483215 L 170.91171120828616,-55.79005064376155 L 172.95007044860273,-56.0 L 174.50873150230532,-56.0 L 174.9559525694828,-56.044047430517196 L 175.0,-56.49126849769473 L 175.0,-87.50873150230528 L 174.9559525694828,-87.9559525694828 L 174.50873150230532,-88.0 L 2.4912684976947217,-88.0 L 2.044047430517197,-87.95595256948279 L 2.0,-87.50873150230532 L 2.0,-56.49126849769468 L 2.141307785499199,-55.05654647442563 L 2.1612966591711853,-54.95539789615362 L 2.1538851572465454,-52.97029995320684 L 2.0,-51.48377797761038 L 2.0,-4.49126849769468 z\" /><path fill-rule=\"evenodd\" fill=\"#66cc99\" stroke=\"#555555\" stroke-width=\"2.0\" opacity=\"0.6\" d=\"M 124.08789188917832,-9.178235326467584 L 124.47546906476113,-9.015247561378818 L 125.35937478678863,-8.53610016176953 L 126.09157710399899,-8.31398901711416 L 126.5625,-8.267607160214 L 126.86556041357007,-8.297456005648518 L 127.2201617334018,-8.40502314002226 L 127.45460191732697,-8.530334029044619 L 127.5,-8.991268497694657 L 127.5,-9.508731502305345 L 127.4559525694828,-9.955952569482804 L 127.00873150230534,-10.0 L 126.11626849769468,-10.0 L 125.63925184586049,-9.953017960536112 L 124.92529599015919,-9.57140060508649 L 124.78596082007189,-9.477473121306897 L 124.08789188917832,-9.178235326467584 z\" /></g></g></svg>"
      ],
      "text/plain": [
       "<shapely.geometry.multipolygon.MultiPolygon at 0x1b6a1a6d1d0>"
      ]
     },
     "execution_count": 31,
     "metadata": {},
     "output_type": "execute_result"
    }
   ],
   "source": [
    "row_down4.buffer(10, join_style=0).buffer(-10, join_style=0)"
   ]
  },
  {
   "cell_type": "code",
   "execution_count": 32,
   "metadata": {},
   "outputs": [],
   "source": [
    "row_up1_poly = row_up1\n",
    "row_down3_poly = row_down3\n",
    "row_down4_poly = row_down4"
   ]
  },
  {
   "cell_type": "code",
   "execution_count": 33,
   "metadata": {},
   "outputs": [
    {
     "data": {
      "image/svg+xml": [
       "<svg xmlns=\"http://www.w3.org/2000/svg\" xmlns:xlink=\"http://www.w3.org/1999/xlink\" width=\"180.22500000000002\" height=\"100.0\" viewBox=\"1.4500000000000002 -4.675 180.22500000000002 99.35\" preserveAspectRatio=\"xMinYMin meet\"><g transform=\"matrix(1,0,0,-1,0,90.0)\"><g><path fill-rule=\"evenodd\" fill=\"#66cc99\" stroke=\"#555555\" stroke-width=\"2.0\" opacity=\"0.6\" d=\"M 55.0,2.0 L 55.0,4.0 L 55.0,8.0 L 60.0,8.0 L 60.0,12.0 L 60.0,16.0 L 65.0,16.0 L 65.0,12.0 L 65.0,8.0 L 65.0,4.0 L 65.0,2.0 L 55.0,2.0 z\" /><path fill-rule=\"evenodd\" fill=\"#66cc99\" stroke=\"#555555\" stroke-width=\"2.0\" opacity=\"0.6\" d=\"M 85.0,2.0 L 85.0,4.0 L 90.0,4.0 L 90.0,2.0 L 85.0,2.0 z\" /><path fill-rule=\"evenodd\" fill=\"#66cc99\" stroke=\"#555555\" stroke-width=\"2.0\" opacity=\"0.6\" d=\"M 8.125,3.5 L 8.125,3.75 L 8.4375,3.75 L 8.4375,4.0 L 8.75,4.0 L 8.75,3.75 L 8.828125,3.75 L 8.90625,3.75 L 9.0625,3.75 L 9.0625,3.625 L 9.0625,3.5 L 8.90625,3.5 L 8.75,3.5 L 8.75,3.0 L 8.125,3.0 L 8.125,3.5 z\" /><path fill-rule=\"evenodd\" fill=\"#66cc99\" stroke=\"#555555\" stroke-width=\"2.0\" opacity=\"0.6\" d=\"M 8.75,2.0 L 8.75,2.5 L 9.375,2.5 L 9.375,2.0 L 8.75,2.0 z\" /><path fill-rule=\"evenodd\" fill=\"#66cc99\" stroke=\"#555555\" stroke-width=\"2.0\" opacity=\"0.6\" d=\"M 20.46875,42.375 L 20.3125,42.375 L 20.3125,42.5 L 20.3125,42.625 L 20.3125,42.75 L 20.46875,42.75 L 20.625,42.75 L 20.625,42.875 L 20.625,43.0 L 20.78125,43.0 L 20.9375,43.0 L 21.09375,43.0 L 21.09375,42.875 L 21.25,42.875 L 21.25,42.75 L 21.25,42.6875 L 21.25,42.625 L 21.40625,42.625 L 21.5625,42.625 L 21.5625,42.5 L 21.5625,42.375 L 21.40625,42.375 L 21.40625,42.25 L 21.25,42.25 L 21.09375,42.25 L 20.9375,42.25 L 20.78125,42.25 L 20.78125,42.125 L 20.625,42.125 L 20.625,42.25 L 20.46875,42.25 L 20.46875,42.375 z\" /><path fill-rule=\"evenodd\" fill=\"#66cc99\" stroke=\"#555555\" stroke-width=\"2.0\" opacity=\"0.6\" d=\"M 30.703125,46.3125 L 30.703125,46.34375 L 30.7421875,46.34375 L 30.78125,46.34375 L 30.78125,46.375 L 30.9375,46.375 L 30.9375,46.5 L 31.25,46.5 L 31.25,46.25 L 31.25,46.0 L 30.9375,46.0 L 30.9375,46.25 L 30.78125,46.25 L 30.703125,46.25 L 30.703125,46.3125 z\" /><path fill-rule=\"evenodd\" fill=\"#66cc99\" stroke=\"#555555\" stroke-width=\"2.0\" opacity=\"0.6\" d=\"M 30.78125,46.5 L 30.78125,46.53125 L 30.8203125,46.53125 L 30.859375,46.53125 L 30.859375,46.5 L 30.8203125,46.5 L 30.78125,46.5 z\" /><path fill-rule=\"evenodd\" fill=\"#66cc99\" stroke=\"#555555\" stroke-width=\"2.0\" opacity=\"0.6\" d=\"M 30.9375,31.5 L 30.9375,31.5625 L 31.015625,31.5625 L 31.0546875,31.5625 L 31.0546875,31.53125 L 31.015625,31.53125 L 31.015625,31.5 L 30.9375,31.5 z\" /><path fill-rule=\"evenodd\" fill=\"#66cc99\" stroke=\"#555555\" stroke-width=\"2.0\" opacity=\"0.6\" d=\"M 31.8359375,31.3125 L 31.8359375,31.34375 L 31.875,31.34375 L 31.875,31.3125 L 31.8359375,31.3125 z\" /><path fill-rule=\"evenodd\" fill=\"#66cc99\" stroke=\"#555555\" stroke-width=\"2.0\" opacity=\"0.6\" d=\"M 32.109375,31.15625 L 32.109375,31.125 L 32.0703125,31.125 L 32.0703125,31.15625 L 32.0703125,31.1875 L 32.0703125,31.21875 L 32.0703125,31.25 L 32.109375,31.25 L 32.1875,31.25 L 32.2265625,31.25 L 32.265625,31.25 L 32.265625,31.21875 L 32.265625,31.1875 L 32.2265625,31.1875 L 32.1875,31.1875 L 32.109375,31.1875 L 32.109375,31.15625 z\" /><path fill-rule=\"evenodd\" fill=\"#66cc99\" stroke=\"#555555\" stroke-width=\"2.0\" opacity=\"0.6\" d=\"M 30.0,84.0 L 30.0,88.0 L 35.0,88.0 L 35.0,84.0 L 30.0,84.0 z\" /><path fill-rule=\"evenodd\" fill=\"#66cc99\" stroke=\"#555555\" stroke-width=\"2.0\" opacity=\"0.6\" d=\"M 32.5,44.0 L 32.5,44.5 L 32.5,45.0 L 33.125,45.0 L 33.125,45.125 L 33.28125,45.125 L 33.28125,45.15625 L 33.3203125,45.15625 L 33.359375,45.15625 L 33.3984375,45.15625 L 33.4375,45.15625 L 33.4375,45.125 L 33.4375,45.0 L 33.4375,44.75 L 33.125,44.75 L 33.125,44.5 L 33.125,44.0 L 32.5,44.0 z\" /><path fill-rule=\"evenodd\" fill=\"#66cc99\" stroke=\"#555555\" stroke-width=\"2.0\" opacity=\"0.6\" d=\"M 33.28125,35.15625 L 33.28125,35.1875 L 33.28125,35.25 L 33.359375,35.25 L 33.4375,35.25 L 33.4375,35.1875 L 33.359375,35.1875 L 33.3203125,35.1875 L 33.3203125,35.15625 L 33.28125,35.15625 z\" /><path fill-rule=\"evenodd\" fill=\"#66cc99\" stroke=\"#555555\" stroke-width=\"2.0\" opacity=\"0.6\" d=\"M 33.75,44.0 L 33.75,44.25 L 34.0625,44.25 L 34.375,44.25 L 34.375,44.5 L 35.0,44.5 L 35.0,44.0 L 34.375,44.0 L 34.0625,44.0 L 33.75,44.0 z\" /><path fill-rule=\"evenodd\" fill=\"#66cc99\" stroke=\"#555555\" stroke-width=\"2.0\" opacity=\"0.6\" d=\"M 35.625,45.5 L 35.625,46.0 L 36.25,46.0 L 36.25,45.5 L 35.625,45.5 z\" /><path fill-rule=\"evenodd\" fill=\"#66cc99\" stroke=\"#555555\" stroke-width=\"2.0\" opacity=\"0.6\" d=\"M 37.578125,47.0 L 37.578125,47.0625 L 37.65625,47.0625 L 37.65625,47.0 L 37.578125,47.0 z\" /><path fill-rule=\"evenodd\" fill=\"#66cc99\" stroke=\"#555555\" stroke-width=\"2.0\" opacity=\"0.6\" d=\"M 42.96875,10.125 L 42.96875,10.25 L 43.125,10.25 L 43.125,10.5 L 43.4375,10.5 L 43.75,10.5 L 43.75,10.25 L 43.75,10.0 L 44.0625,10.0 L 44.375,10.0 L 44.6875,10.0 L 45.0,10.0 L 45.3125,10.0 L 45.625,10.0 L 46.25,10.0 L 46.25,10.5 L 46.875,10.5 L 47.5,10.5 L 47.5,11.0 L 48.75,11.0 L 48.75,10.0 L 47.5,10.0 L 47.5,9.0 L 48.125,9.0 L 48.125,8.5 L 47.5,8.5 L 46.875,8.5 L 46.25,8.5 L 45.625,8.5 L 45.625,9.0 L 45.0,9.0 L 44.375,9.0 L 44.0625,9.0 L 44.0625,9.25 L 43.75,9.25 L 43.75,9.5 L 43.4375,9.5 L 43.4375,9.75 L 43.28125,9.75 L 43.28125,9.875 L 43.28125,10.0 L 43.125,10.0 L 43.125,10.125 L 42.96875,10.125 z\" /><path fill-rule=\"evenodd\" fill=\"#66cc99\" stroke=\"#555555\" stroke-width=\"2.0\" opacity=\"0.6\" d=\"M 115.0,84.0 L 115.0,88.0 L 120.0,88.0 L 125.0,88.0 L 130.0,88.0 L 135.0,88.0 L 140.0,88.0 L 145.0,88.0 L 150.0,88.0 L 155.0,88.0 L 160.0,88.0 L 165.0,88.0 L 170.0,88.0 L 175.0,88.0 L 175.0,84.0 L 175.0,80.0 L 170.0,80.0 L 165.0,80.0 L 165.0,84.0 L 160.0,84.0 L 155.0,84.0 L 150.0,84.0 L 145.0,84.0 L 145.0,80.0 L 140.0,80.0 L 135.0,80.0 L 130.0,80.0 L 125.0,80.0 L 125.0,84.0 L 120.0,84.0 L 115.0,84.0 z\" /><path fill-rule=\"evenodd\" fill=\"#66cc99\" stroke=\"#555555\" stroke-width=\"2.0\" opacity=\"0.6\" d=\"M 130.0,4.0 L 130.0,8.0 L 130.0,12.0 L 130.0,16.0 L 135.0,16.0 L 140.0,16.0 L 140.0,12.0 L 140.0,8.0 L 145.0,8.0 L 150.0,8.0 L 150.0,12.0 L 150.0,16.0 L 150.0,20.0 L 155.0,20.0 L 160.0,20.0 L 160.0,16.0 L 165.0,16.0 L 170.0,16.0 L 175.0,16.0 L 175.0,12.0 L 175.0,8.0 L 175.0,4.0 L 175.0,2.0 L 155.0,2.0 L 155.0,4.0 L 150.0,4.0 L 145.0,4.0 L 140.0,4.0 L 135.0,4.0 L 130.0,4.0 z\" /><path fill-rule=\"evenodd\" fill=\"#66cc99\" stroke=\"#555555\" stroke-width=\"2.0\" opacity=\"0.6\" d=\"M 144.6875,13.375 L 144.6875,13.4375 L 144.765625,13.4375 L 144.765625,13.375 L 144.6875,13.375 z\" /><path fill-rule=\"evenodd\" fill=\"#66cc99\" stroke=\"#555555\" stroke-width=\"2.0\" opacity=\"0.6\" d=\"M 144.765625,13.4375 L 144.765625,13.46875 L 144.8046875,13.46875 L 144.8046875,13.4375 L 144.765625,13.4375 z\" /><path fill-rule=\"evenodd\" fill=\"#66cc99\" stroke=\"#555555\" stroke-width=\"2.0\" opacity=\"0.6\" d=\"M 144.8046875,13.46875 L 144.8046875,13.5 L 144.84375,13.5 L 144.84375,13.46875 L 144.8046875,13.46875 z\" /><path fill-rule=\"evenodd\" fill=\"#66cc99\" stroke=\"#555555\" stroke-width=\"2.0\" opacity=\"0.6\" d=\"M 145.0,32.0 L 145.0,36.0 L 150.0,36.0 L 150.0,40.0 L 155.0,40.0 L 155.0,44.0 L 160.0,44.0 L 160.0,48.0 L 165.0,48.0 L 170.0,48.0 L 175.0,48.0 L 175.0,44.0 L 175.0,40.0 L 175.0,36.0 L 175.0,32.0 L 175.0,28.0 L 175.0,24.0 L 170.0,24.0 L 165.0,24.0 L 160.0,24.0 L 160.0,28.0 L 155.0,28.0 L 150.0,28.0 L 150.0,32.0 L 145.0,32.0 z\" /></g></g></svg>"
      ],
      "text/plain": [
       "<shapely.geometry.multipolygon.MultiPolygon at 0x1b6a1a70e10>"
      ]
     },
     "execution_count": 33,
     "metadata": {},
     "output_type": "execute_result"
    }
   ],
   "source": [
    "row_up2_poly = shapely.geometry.asShape(row_up2[5]) \n",
    "for i in range(6,len(row_up2)):\n",
    "    new_poly2 = shapely.geometry.asShape(row_up2[i])\n",
    "    row_up2_poly = row_up2_poly.union(new_poly2)\n",
    "row_up2_poly"
   ]
  },
  {
   "cell_type": "code",
   "execution_count": 34,
   "metadata": {},
   "outputs": [
    {
     "data": {
      "image/svg+xml": [
       "<svg xmlns=\"http://www.w3.org/2000/svg\" xmlns:xlink=\"http://www.w3.org/1999/xlink\" width=\"300\" height=\"204.24\" viewBox=\"-192.12 -102.12 381.24 204.24\" preserveAspectRatio=\"xMinYMin meet\"><g transform=\"matrix(1,0,0,-1,0,0.0)\"><g><path fill-rule=\"evenodd\" fill=\"#66cc99\" stroke=\"#555555\" stroke-width=\"2.5416\" opacity=\"0.6\" d=\"M -175.0,-88.0 L -178.0,-88.0 L -178.0,-56.0 L -175.0,-56.0 L -175.0,-52.0 L -175.0,-48.0 L -170.0,-48.0 L -170.0,-44.0 L -170.0,-40.0 L -175.0,-40.0 L -175.0,-36.0 L -170.0,-36.0 L -170.0,-32.0 L -170.0,-28.0 L -170.0,-24.0 L -165.0,-24.0 L -165.0,-28.0 L -160.0,-28.0 L -155.0,-28.0 L -150.0,-28.0 L -150.0,-32.0 L -145.0,-32.0 L -140.0,-32.0 L -135.0,-32.0 L -130.0,-32.0 L -125.0,-32.0 L -120.0,-32.0 L -120.0,-28.0 L -120.0,-24.0 L -120.0,-20.0 L -125.0,-20.0 L -130.0,-20.0 L -130.0,-16.0 L -130.0,-12.0 L -135.0,-12.0 L -135.0,-8.0 L -135.0,-4.0 L -140.0,-4.0 L -145.0,-4.0 L -145.0,-8.0 L -150.0,-8.0 L -155.0,-8.0 L -155.0,-4.0 L -155.0,-2.0 L -100.0,-2.0 L -100.0,-4.0 L -95.0,-4.0 L -95.0,-8.0 L -90.0,-8.0 L -85.0,-8.0 L -85.0,-12.0 L -85.0,-16.0 L -80.0,-16.0 L -80.0,-20.0 L -85.0,-20.0 L -85.0,-24.0 L -85.0,-28.0 L -85.0,-32.0 L -85.0,-36.0 L -85.0,-40.0 L -80.0,-40.0 L -80.0,-44.0 L -85.0,-44.0 L -85.0,-48.0 L -85.0,-52.0 L -85.0,-56.0 L -80.0,-56.0 L -80.0,-60.0 L -75.0,-60.0 L -70.0,-60.0 L -65.0,-60.0 L -60.0,-60.0 L -55.0,-60.0 L -55.0,-56.0 L -55.0,-52.0 L -60.0,-52.0 L -60.0,-48.0 L -55.0,-48.0 L -55.0,-44.0 L -50.0,-44.0 L -50.0,-40.0 L -50.0,-36.0 L -45.0,-36.0 L -45.0,-32.0 L -40.0,-32.0 L -40.0,-28.0 L -35.0,-28.0 L -35.0,-24.0 L -30.0,-24.0 L -25.0,-24.0 L -25.0,-20.0 L -25.0,-16.0 L -30.0,-16.0 L -30.0,-12.0 L -30.0,-8.0 L -25.0,-8.0 L -25.0,-4.0 L -25.0,-2.0 L -2.0,-2.0 L -2.0,-12.0 L -5.0,-12.0 L -10.0,-12.0 L -10.0,-16.0 L -10.0,-20.0 L -5.0,-20.0 L -2.0,-20.0 L -2.0,-88.0 L -5.0,-88.0 L -10.0,-88.0 L -15.0,-88.0 L -20.0,-88.0 L -25.0,-88.0 L -30.0,-88.0 L -35.0,-88.0 L -40.0,-88.0 L -45.0,-88.0 L -50.0,-88.0 L -55.0,-88.0 L -60.0,-88.0 L -65.0,-88.0 L -70.0,-88.0 L -75.0,-88.0 L -80.0,-88.0 L -85.0,-88.0 L -90.0,-88.0 L -95.0,-88.0 L -100.0,-88.0 L -105.0,-88.0 L -110.0,-88.0 L -115.0,-88.0 L -120.0,-88.0 L -125.0,-88.0 L -130.0,-88.0 L -135.0,-88.0 L -140.0,-88.0 L -145.0,-88.0 L -150.0,-88.0 L -155.0,-88.0 L -160.0,-88.0 L -165.0,-88.0 L -170.0,-88.0 L -175.0,-88.0 z M -10.0,-12.0 L -10.0,-8.0 L -10.0,-4.0 L -15.0,-4.0 L -20.0,-4.0 L -20.0,-8.0 L -20.0,-12.0 L -15.0,-12.0 L -10.0,-12.0 z M -5.0,-32.0 L -10.0,-32.0 L -15.0,-32.0 L -20.0,-32.0 L -20.0,-36.0 L -20.0,-40.0 L -20.0,-44.0 L -15.0,-44.0 L -10.0,-44.0 L -5.0,-44.0 L -5.0,-40.0 L -5.0,-36.0 L -5.0,-32.0 z M -100.0,-20.0 L -105.0,-20.0 L -110.0,-20.0 L -115.0,-20.0 L -115.0,-24.0 L -115.0,-28.0 L -115.0,-32.0 L -110.0,-32.0 L -105.0,-32.0 L -100.0,-32.0 L -100.0,-28.0 L -100.0,-24.0 L -100.0,-20.0 z\" /><path fill-rule=\"evenodd\" fill=\"#66cc99\" stroke=\"#555555\" stroke-width=\"2.5416\" opacity=\"0.6\" d=\"M 2.0,-4.0 L 5.0,-4.0 L 5.0,-8.0 L 5.0,-12.0 L 5.0,-16.0 L 5.0,-20.0 L 5.0,-24.0 L 10.0,-24.0 L 10.0,-28.0 L 10.0,-32.0 L 10.0,-36.0 L 10.0,-40.0 L 15.0,-40.0 L 20.0,-40.0 L 25.0,-40.0 L 30.0,-40.0 L 30.0,-36.0 L 35.0,-36.0 L 35.0,-32.0 L 40.0,-32.0 L 45.0,-32.0 L 50.0,-32.0 L 50.0,-28.0 L 55.0,-28.0 L 60.0,-28.0 L 60.0,-24.0 L 65.0,-24.0 L 70.0,-24.0 L 70.0,-20.0 L 70.0,-16.0 L 65.0,-16.0 L 65.0,-12.0 L 65.0,-8.0 L 60.0,-8.0 L 60.0,-4.0 L 60.0,-2.0 L 65.0,-2.0 L 65.0,-4.0 L 70.0,-4.0 L 75.0,-4.0 L 80.0,-4.0 L 80.0,-2.0 L 90.0,-2.0 L 90.0,-4.0 L 95.0,-4.0 L 95.0,-8.0 L 90.0,-8.0 L 90.0,-12.0 L 90.0,-16.0 L 95.0,-16.0 L 100.0,-16.0 L 105.0,-16.0 L 110.0,-16.0 L 110.0,-20.0 L 105.0,-20.0 L 105.0,-24.0 L 105.0,-28.0 L 105.0,-32.0 L 110.0,-32.0 L 110.0,-36.0 L 110.0,-40.0 L 115.0,-40.0 L 120.0,-40.0 L 125.0,-40.0 L 130.0,-40.0 L 135.0,-40.0 L 135.0,-44.0 L 140.0,-44.0 L 140.0,-48.0 L 145.0,-48.0 L 150.0,-48.0 L 155.0,-48.0 L 155.0,-52.0 L 150.0,-52.0 L 150.0,-56.0 L 150.0,-60.0 L 155.0,-60.0 L 160.0,-60.0 L 165.0,-60.0 L 165.0,-56.0 L 170.0,-56.0 L 175.0,-56.0 L 175.0,-60.0 L 175.0,-64.0 L 175.0,-68.0 L 175.0,-72.0 L 175.0,-76.0 L 175.0,-80.0 L 175.0,-84.0 L 175.0,-88.0 L 170.0,-88.0 L 165.0,-88.0 L 160.0,-88.0 L 155.0,-88.0 L 150.0,-88.0 L 145.0,-88.0 L 140.0,-88.0 L 135.0,-88.0 L 130.0,-88.0 L 125.0,-88.0 L 120.0,-88.0 L 115.0,-88.0 L 110.0,-88.0 L 105.0,-88.0 L 100.0,-88.0 L 95.0,-88.0 L 90.0,-88.0 L 85.0,-88.0 L 80.0,-88.0 L 75.0,-88.0 L 70.0,-88.0 L 65.0,-88.0 L 60.0,-88.0 L 55.0,-88.0 L 50.0,-88.0 L 45.0,-88.0 L 40.0,-88.0 L 35.0,-88.0 L 30.0,-88.0 L 25.0,-88.0 L 20.0,-88.0 L 15.0,-88.0 L 10.0,-88.0 L 5.0,-88.0 L 2.0,-88.0 L 2.0,-56.0 L 5.0,-56.0 L 5.0,-52.0 L 2.0,-52.0 L 2.0,-4.0 z M 30.0,-40.0 L 30.0,-44.0 L 30.0,-48.0 L 30.0,-52.0 L 35.0,-52.0 L 40.0,-52.0 L 45.0,-52.0 L 50.0,-52.0 L 55.0,-52.0 L 60.0,-52.0 L 60.0,-56.0 L 65.0,-56.0 L 65.0,-60.0 L 70.0,-60.0 L 75.0,-60.0 L 80.0,-60.0 L 80.0,-56.0 L 80.0,-52.0 L 80.0,-48.0 L 80.0,-44.0 L 85.0,-44.0 L 85.0,-40.0 L 85.0,-36.0 L 85.0,-32.0 L 80.0,-32.0 L 75.0,-32.0 L 70.0,-32.0 L 70.0,-36.0 L 70.0,-40.0 L 70.0,-44.0 L 65.0,-44.0 L 60.0,-44.0 L 60.0,-40.0 L 55.0,-40.0 L 50.0,-40.0 L 45.0,-40.0 L 40.0,-40.0 L 35.0,-40.0 L 30.0,-40.0 z\" /><path fill-rule=\"evenodd\" fill=\"#66cc99\" stroke=\"#555555\" stroke-width=\"2.5416\" opacity=\"0.6\" d=\"M -155.0,2.0 L -155.0,4.0 L -155.0,8.0 L -155.0,12.0 L -150.0,12.0 L -150.0,16.0 L -150.0,20.0 L -150.0,24.0 L -150.0,28.0 L -155.0,28.0 L -160.0,28.0 L -165.0,28.0 L -165.0,32.0 L -170.0,32.0 L -175.0,32.0 L -178.0,32.0 L -178.0,44.0 L -175.0,44.0 L -175.0,48.0 L -170.0,48.0 L -165.0,48.0 L -160.0,48.0 L -155.0,48.0 L -155.0,52.0 L -150.0,52.0 L -145.0,52.0 L -140.0,52.0 L -140.0,48.0 L -135.0,48.0 L -135.0,44.0 L -130.0,44.0 L -130.0,40.0 L -130.0,36.0 L -130.0,32.0 L -125.0,32.0 L -125.0,28.0 L -125.0,24.0 L -120.0,24.0 L -120.0,20.0 L -120.0,16.0 L -120.0,12.0 L -115.0,12.0 L -115.0,8.0 L -115.0,4.0 L -110.0,4.0 L -105.0,4.0 L -105.0,8.0 L -105.0,12.0 L -100.0,12.0 L -95.0,12.0 L -95.0,8.0 L -95.0,4.0 L -100.0,4.0 L -100.0,2.0 L -155.0,2.0 z\" /><path fill-rule=\"evenodd\" fill=\"#66cc99\" stroke=\"#555555\" stroke-width=\"2.5416\" opacity=\"0.6\" d=\"M -25.0,2.0 L -25.0,4.0 L -25.0,8.0 L -20.0,8.0 L -20.0,4.0 L -15.0,4.0 L -15.0,2.0 L -25.0,2.0 z\" /><path fill-rule=\"evenodd\" fill=\"#66cc99\" stroke=\"#555555\" stroke-width=\"2.5416\" opacity=\"0.6\" d=\"M -175.0,8.0 L -178.0,8.0 L -178.0,20.0 L -175.0,20.0 L -175.0,16.0 L -175.0,12.0 L -170.0,12.0 L -170.0,8.0 L -170.0,4.0 L -175.0,4.0 L -175.0,8.0 z\" /><path fill-rule=\"evenodd\" fill=\"#66cc99\" stroke=\"#555555\" stroke-width=\"2.5416\" opacity=\"0.6\" d=\"M -175.0,76.0 L -178.0,76.0 L -178.0,88.0 L -175.0,88.0 L -170.0,88.0 L -165.0,88.0 L -160.0,88.0 L -155.0,88.0 L -150.0,88.0 L -145.0,88.0 L -140.0,88.0 L -135.0,88.0 L -130.0,88.0 L -125.0,88.0 L -120.0,88.0 L -115.0,88.0 L -115.0,84.0 L -120.0,84.0 L -125.0,84.0 L -130.0,84.0 L -130.0,80.0 L -135.0,80.0 L -140.0,80.0 L -140.0,76.0 L -145.0,76.0 L -150.0,76.0 L -155.0,76.0 L -160.0,76.0 L -165.0,76.0 L -170.0,76.0 L -175.0,76.0 z\" /><path fill-rule=\"evenodd\" fill=\"#66cc99\" stroke=\"#555555\" stroke-width=\"2.5416\" opacity=\"0.6\" d=\"M -170.0,2.0 L -170.0,4.0 L -165.0,4.0 L -165.0,2.0 L -170.0,2.0 z\" /><path fill-rule=\"evenodd\" fill=\"#66cc99\" stroke=\"#555555\" stroke-width=\"2.5416\" opacity=\"0.6\" d=\"M -165.0,12.0 L -165.0,16.0 L -160.0,16.0 L -160.0,12.0 L -165.0,12.0 z\" /><path fill-rule=\"evenodd\" fill=\"#66cc99\" stroke=\"#555555\" stroke-width=\"2.5416\" opacity=\"0.6\" d=\"M -67.109375,18.125 L -67.109375,18.1875 L -67.109375,18.25 L -67.03125,18.25 L -67.03125,18.375 L -66.875,18.375 L -66.875,18.4375 L -66.796875,18.4375 L -66.71875,18.4375 L -66.71875,18.375 L -66.5625,18.375 L -66.40625,18.375 L -66.40625,18.4375 L -66.328125,18.4375 L -66.25,18.4375 L -66.2109375,18.4375 L -66.171875,18.4375 L -66.1328125,18.4375 L -66.1328125,18.40625 L -66.09375,18.40625 L -66.0546875,18.40625 L -66.0546875,18.4375 L -66.015625,18.4375 L -65.9765625,18.4375 L -65.9375,18.4375 L -65.9375,18.40625 L -65.9375,18.375 L -65.78125,18.375 L -65.78125,18.25 L -65.78125,18.1875 L -65.78125,18.125 L -65.859375,18.125 L -65.9375,18.125 L -65.9375,18.0 L -66.09375,18.0 L -66.25,18.0 L -66.40625,18.0 L -66.5625,18.0 L -66.6015625,18.0 L -66.640625,18.0 L -66.71875,18.0 L -66.71875,18.0625 L -66.71875,18.125 L -66.875,18.125 L -66.875,18.0 L -67.03125,18.0 L -67.03125,18.125 L -67.109375,18.125 z\" /><path fill-rule=\"evenodd\" fill=\"#66cc99\" stroke=\"#555555\" stroke-width=\"2.5416\" opacity=\"0.6\" d=\"M -65.0,24.0 L -65.0,28.0 L -60.0,28.0 L -60.0,32.0 L -60.0,36.0 L -65.0,36.0 L -65.0,40.0 L -60.0,40.0 L -55.0,40.0 L -50.0,40.0 L -50.0,44.0 L -45.0,44.0 L -45.0,48.0 L -45.0,52.0 L -45.0,56.0 L -40.0,56.0 L -35.0,56.0 L -35.0,60.0 L -30.0,60.0 L -25.0,60.0 L -25.0,56.0 L -20.0,56.0 L -20.0,52.0 L -20.0,48.0 L -15.0,48.0 L -15.0,44.0 L -15.0,40.0 L -20.0,40.0 L -20.0,44.0 L -25.0,44.0 L -30.0,44.0 L -35.0,44.0 L -40.0,44.0 L -40.0,40.0 L -40.0,36.0 L -35.0,36.0 L -35.0,32.0 L -30.0,32.0 L -25.0,32.0 L -25.0,28.0 L -25.0,24.0 L -30.0,24.0 L -30.0,20.0 L -30.0,16.0 L -30.0,12.0 L -30.0,8.0 L -35.0,8.0 L -35.0,4.0 L -40.0,4.0 L -45.0,4.0 L -45.0,8.0 L -50.0,8.0 L -50.0,12.0 L -55.0,12.0 L -55.0,16.0 L -55.0,20.0 L -55.0,24.0 L -60.0,24.0 L -65.0,24.0 z\" /><path fill-rule=\"evenodd\" fill=\"#66cc99\" stroke=\"#555555\" stroke-width=\"2.5416\" opacity=\"0.6\" d=\"M -62.5,12.0 L -62.5,12.5 L -62.5,13.0 L -62.5,14.0 L -61.25,14.0 L -60.9375,14.0 L -60.625,14.0 L -60.625,13.75 L -60.625,13.5 L -60.625,13.0 L -61.25,13.0 L -61.25,12.5 L -61.25,12.25 L -61.25,12.0 L -61.5625,12.0 L -61.875,12.0 L -62.5,12.0 z\" /><path fill-rule=\"evenodd\" fill=\"#66cc99\" stroke=\"#555555\" stroke-width=\"2.5416\" opacity=\"0.6\" d=\"M -20.0,22.0 L -20.0,24.0 L -17.5,24.0 L -16.25,24.0 L -16.25,23.75 L -16.09375,23.75 L -16.015625,23.75 L -15.9765625,23.75 L -15.9765625,23.71875 L -16.015625,23.71875 L -16.015625,23.6875 L -16.015625,23.625 L -16.09375,23.625 L -16.09375,23.5 L -16.25,23.5 L -16.25,23.0 L -17.5,23.0 L -17.5,22.0 L -20.0,22.0 z\" /><path fill-rule=\"evenodd\" fill=\"#66cc99\" stroke=\"#555555\" stroke-width=\"2.5416\" opacity=\"0.6\" d=\"M -17.5,20.75 L -17.5,21.0 L -17.1875,21.0 L -17.109375,21.0 L -17.109375,20.9375 L -17.109375,20.875 L -17.1875,20.875 L -17.1875,20.75 L -17.5,20.75 z\" /><path fill-rule=\"evenodd\" fill=\"#66cc99\" stroke=\"#555555\" stroke-width=\"2.5416\" opacity=\"0.6\" d=\"M -16.875,12.0 L -16.875,12.25 L -16.5625,12.25 L -16.25,12.25 L -15.9375,12.25 L -15.625,12.25 L -15.3125,12.25 L -15.3125,12.5 L -15.0,12.5 L -14.6875,12.5 L -14.375,12.5 L -14.0625,12.5 L -14.0625,12.25 L -14.0625,12.0 L -14.375,12.0 L -14.6875,12.0 L -15.0,12.0 L -15.0,11.75 L -15.0,11.5 L -15.0,11.0 L -15.625,11.0 L -16.25,11.0 L -16.25,11.5 L -16.25,11.75 L -16.25,12.0 L -16.5625,12.0 L -16.875,12.0 z\" /><path fill-rule=\"evenodd\" fill=\"#66cc99\" stroke=\"#555555\" stroke-width=\"2.5416\" opacity=\"0.6\" d=\"M -15.9765625,23.625 L -15.9765625,23.65625 L -15.9375,23.65625 L -15.9375,23.625 L -15.9765625,23.625 z\" /><path fill-rule=\"evenodd\" fill=\"#66cc99\" stroke=\"#555555\" stroke-width=\"2.5416\" opacity=\"0.6\" d=\"M -13.75,27.25 L -13.75,27.5 L -13.4375,27.5 L -13.4375,27.25 L -13.75,27.25 z\" /><path fill-rule=\"evenodd\" fill=\"#66cc99\" stroke=\"#555555\" stroke-width=\"2.5416\" opacity=\"0.6\" d=\"M -2.1484375,49.21875 L -2.1484375,49.25 L -2.109375,49.25 L -2.109375,49.21875 L -2.1484375,49.21875 z\" /><path fill-rule=\"evenodd\" fill=\"#66cc99\" stroke=\"#555555\" stroke-width=\"2.5416\" opacity=\"0.6\" d=\"M -2.109375,49.21875 L -2.0703125,49.21875 L -2.0703125,49.1875 L -2.109375,49.1875 L -2.109375,49.21875 z\" /><path fill-rule=\"evenodd\" fill=\"#66cc99\" stroke=\"#555555\" stroke-width=\"2.5416\" opacity=\"0.6\" d=\"M 55.0,2.0 L 55.0,4.0 L 55.0,8.0 L 60.0,8.0 L 60.0,12.0 L 60.0,16.0 L 65.0,16.0 L 65.0,12.0 L 65.0,8.0 L 65.0,4.0 L 65.0,2.0 L 55.0,2.0 z\" /><path fill-rule=\"evenodd\" fill=\"#66cc99\" stroke=\"#555555\" stroke-width=\"2.5416\" opacity=\"0.6\" d=\"M 85.0,2.0 L 85.0,4.0 L 90.0,4.0 L 90.0,2.0 L 85.0,2.0 z\" /><path fill-rule=\"evenodd\" fill=\"#66cc99\" stroke=\"#555555\" stroke-width=\"2.5416\" opacity=\"0.6\" d=\"M 8.125,3.5 L 8.125,3.75 L 8.4375,3.75 L 8.4375,4.0 L 8.75,4.0 L 8.75,3.75 L 8.828125,3.75 L 8.90625,3.75 L 9.0625,3.75 L 9.0625,3.625 L 9.0625,3.5 L 8.90625,3.5 L 8.75,3.5 L 8.75,3.0 L 8.125,3.0 L 8.125,3.5 z\" /><path fill-rule=\"evenodd\" fill=\"#66cc99\" stroke=\"#555555\" stroke-width=\"2.5416\" opacity=\"0.6\" d=\"M 8.75,2.0 L 8.75,2.5 L 9.375,2.5 L 9.375,2.0 L 8.75,2.0 z\" /><path fill-rule=\"evenodd\" fill=\"#66cc99\" stroke=\"#555555\" stroke-width=\"2.5416\" opacity=\"0.6\" d=\"M 20.46875,42.375 L 20.3125,42.375 L 20.3125,42.5 L 20.3125,42.625 L 20.3125,42.75 L 20.46875,42.75 L 20.625,42.75 L 20.625,42.875 L 20.625,43.0 L 20.78125,43.0 L 20.9375,43.0 L 21.09375,43.0 L 21.09375,42.875 L 21.25,42.875 L 21.25,42.75 L 21.25,42.6875 L 21.25,42.625 L 21.40625,42.625 L 21.5625,42.625 L 21.5625,42.5 L 21.5625,42.375 L 21.40625,42.375 L 21.40625,42.25 L 21.25,42.25 L 21.09375,42.25 L 20.9375,42.25 L 20.78125,42.25 L 20.78125,42.125 L 20.625,42.125 L 20.625,42.25 L 20.46875,42.25 L 20.46875,42.375 z\" /><path fill-rule=\"evenodd\" fill=\"#66cc99\" stroke=\"#555555\" stroke-width=\"2.5416\" opacity=\"0.6\" d=\"M 30.703125,46.3125 L 30.703125,46.34375 L 30.7421875,46.34375 L 30.78125,46.34375 L 30.78125,46.375 L 30.9375,46.375 L 30.9375,46.5 L 31.25,46.5 L 31.25,46.25 L 31.25,46.0 L 30.9375,46.0 L 30.9375,46.25 L 30.78125,46.25 L 30.703125,46.25 L 30.703125,46.3125 z\" /><path fill-rule=\"evenodd\" fill=\"#66cc99\" stroke=\"#555555\" stroke-width=\"2.5416\" opacity=\"0.6\" d=\"M 30.78125,46.5 L 30.78125,46.53125 L 30.8203125,46.53125 L 30.859375,46.53125 L 30.859375,46.5 L 30.8203125,46.5 L 30.78125,46.5 z\" /><path fill-rule=\"evenodd\" fill=\"#66cc99\" stroke=\"#555555\" stroke-width=\"2.5416\" opacity=\"0.6\" d=\"M 30.9375,31.5 L 30.9375,31.5625 L 31.015625,31.5625 L 31.0546875,31.5625 L 31.0546875,31.53125 L 31.015625,31.53125 L 31.015625,31.5 L 30.9375,31.5 z\" /><path fill-rule=\"evenodd\" fill=\"#66cc99\" stroke=\"#555555\" stroke-width=\"2.5416\" opacity=\"0.6\" d=\"M 31.8359375,31.3125 L 31.8359375,31.34375 L 31.875,31.34375 L 31.875,31.3125 L 31.8359375,31.3125 z\" /><path fill-rule=\"evenodd\" fill=\"#66cc99\" stroke=\"#555555\" stroke-width=\"2.5416\" opacity=\"0.6\" d=\"M 32.109375,31.15625 L 32.109375,31.125 L 32.0703125,31.125 L 32.0703125,31.15625 L 32.0703125,31.1875 L 32.0703125,31.21875 L 32.0703125,31.25 L 32.109375,31.25 L 32.1875,31.25 L 32.2265625,31.25 L 32.265625,31.25 L 32.265625,31.21875 L 32.265625,31.1875 L 32.2265625,31.1875 L 32.1875,31.1875 L 32.109375,31.1875 L 32.109375,31.15625 z\" /><path fill-rule=\"evenodd\" fill=\"#66cc99\" stroke=\"#555555\" stroke-width=\"2.5416\" opacity=\"0.6\" d=\"M 30.0,84.0 L 30.0,88.0 L 35.0,88.0 L 35.0,84.0 L 30.0,84.0 z\" /><path fill-rule=\"evenodd\" fill=\"#66cc99\" stroke=\"#555555\" stroke-width=\"2.5416\" opacity=\"0.6\" d=\"M 32.5,44.0 L 32.5,44.5 L 32.5,45.0 L 33.125,45.0 L 33.125,45.125 L 33.28125,45.125 L 33.28125,45.15625 L 33.3203125,45.15625 L 33.359375,45.15625 L 33.3984375,45.15625 L 33.4375,45.15625 L 33.4375,45.125 L 33.4375,45.0 L 33.4375,44.75 L 33.125,44.75 L 33.125,44.5 L 33.125,44.0 L 32.5,44.0 z\" /><path fill-rule=\"evenodd\" fill=\"#66cc99\" stroke=\"#555555\" stroke-width=\"2.5416\" opacity=\"0.6\" d=\"M 33.28125,35.15625 L 33.28125,35.1875 L 33.28125,35.25 L 33.359375,35.25 L 33.4375,35.25 L 33.4375,35.1875 L 33.359375,35.1875 L 33.3203125,35.1875 L 33.3203125,35.15625 L 33.28125,35.15625 z\" /><path fill-rule=\"evenodd\" fill=\"#66cc99\" stroke=\"#555555\" stroke-width=\"2.5416\" opacity=\"0.6\" d=\"M 33.75,44.0 L 33.75,44.25 L 34.0625,44.25 L 34.375,44.25 L 34.375,44.5 L 35.0,44.5 L 35.0,44.0 L 34.375,44.0 L 34.0625,44.0 L 33.75,44.0 z\" /><path fill-rule=\"evenodd\" fill=\"#66cc99\" stroke=\"#555555\" stroke-width=\"2.5416\" opacity=\"0.6\" d=\"M 35.625,45.5 L 35.625,46.0 L 36.25,46.0 L 36.25,45.5 L 35.625,45.5 z\" /><path fill-rule=\"evenodd\" fill=\"#66cc99\" stroke=\"#555555\" stroke-width=\"2.5416\" opacity=\"0.6\" d=\"M 37.578125,47.0 L 37.578125,47.0625 L 37.65625,47.0625 L 37.65625,47.0 L 37.578125,47.0 z\" /><path fill-rule=\"evenodd\" fill=\"#66cc99\" stroke=\"#555555\" stroke-width=\"2.5416\" opacity=\"0.6\" d=\"M 42.96875,10.125 L 42.96875,10.25 L 43.125,10.25 L 43.125,10.5 L 43.4375,10.5 L 43.75,10.5 L 43.75,10.25 L 43.75,10.0 L 44.0625,10.0 L 44.375,10.0 L 44.6875,10.0 L 45.0,10.0 L 45.3125,10.0 L 45.625,10.0 L 46.25,10.0 L 46.25,10.5 L 46.875,10.5 L 47.5,10.5 L 47.5,11.0 L 48.75,11.0 L 48.75,10.0 L 47.5,10.0 L 47.5,9.0 L 48.125,9.0 L 48.125,8.5 L 47.5,8.5 L 46.875,8.5 L 46.25,8.5 L 45.625,8.5 L 45.625,9.0 L 45.0,9.0 L 44.375,9.0 L 44.0625,9.0 L 44.0625,9.25 L 43.75,9.25 L 43.75,9.5 L 43.4375,9.5 L 43.4375,9.75 L 43.28125,9.75 L 43.28125,9.875 L 43.28125,10.0 L 43.125,10.0 L 43.125,10.125 L 42.96875,10.125 z\" /><path fill-rule=\"evenodd\" fill=\"#66cc99\" stroke=\"#555555\" stroke-width=\"2.5416\" opacity=\"0.6\" d=\"M 115.0,84.0 L 115.0,88.0 L 120.0,88.0 L 125.0,88.0 L 130.0,88.0 L 135.0,88.0 L 140.0,88.0 L 145.0,88.0 L 150.0,88.0 L 155.0,88.0 L 160.0,88.0 L 165.0,88.0 L 170.0,88.0 L 175.0,88.0 L 175.0,84.0 L 175.0,80.0 L 170.0,80.0 L 165.0,80.0 L 165.0,84.0 L 160.0,84.0 L 155.0,84.0 L 150.0,84.0 L 145.0,84.0 L 145.0,80.0 L 140.0,80.0 L 135.0,80.0 L 130.0,80.0 L 125.0,80.0 L 125.0,84.0 L 120.0,84.0 L 115.0,84.0 z\" /><path fill-rule=\"evenodd\" fill=\"#66cc99\" stroke=\"#555555\" stroke-width=\"2.5416\" opacity=\"0.6\" d=\"M 130.0,4.0 L 130.0,8.0 L 130.0,12.0 L 130.0,16.0 L 135.0,16.0 L 140.0,16.0 L 140.0,12.0 L 140.0,8.0 L 145.0,8.0 L 150.0,8.0 L 150.0,12.0 L 150.0,16.0 L 150.0,20.0 L 155.0,20.0 L 160.0,20.0 L 160.0,16.0 L 165.0,16.0 L 170.0,16.0 L 175.0,16.0 L 175.0,12.0 L 175.0,8.0 L 175.0,4.0 L 175.0,2.0 L 155.0,2.0 L 155.0,4.0 L 150.0,4.0 L 145.0,4.0 L 140.0,4.0 L 135.0,4.0 L 130.0,4.0 z\" /><path fill-rule=\"evenodd\" fill=\"#66cc99\" stroke=\"#555555\" stroke-width=\"2.5416\" opacity=\"0.6\" d=\"M 144.6875,13.375 L 144.6875,13.4375 L 144.765625,13.4375 L 144.765625,13.375 L 144.6875,13.375 z\" /><path fill-rule=\"evenodd\" fill=\"#66cc99\" stroke=\"#555555\" stroke-width=\"2.5416\" opacity=\"0.6\" d=\"M 144.765625,13.4375 L 144.765625,13.46875 L 144.8046875,13.46875 L 144.8046875,13.4375 L 144.765625,13.4375 z\" /><path fill-rule=\"evenodd\" fill=\"#66cc99\" stroke=\"#555555\" stroke-width=\"2.5416\" opacity=\"0.6\" d=\"M 144.8046875,13.46875 L 144.8046875,13.5 L 144.84375,13.5 L 144.84375,13.46875 L 144.8046875,13.46875 z\" /><path fill-rule=\"evenodd\" fill=\"#66cc99\" stroke=\"#555555\" stroke-width=\"2.5416\" opacity=\"0.6\" d=\"M 145.0,32.0 L 145.0,36.0 L 150.0,36.0 L 150.0,40.0 L 155.0,40.0 L 155.0,44.0 L 160.0,44.0 L 160.0,48.0 L 165.0,48.0 L 170.0,48.0 L 175.0,48.0 L 175.0,44.0 L 175.0,40.0 L 175.0,36.0 L 175.0,32.0 L 175.0,28.0 L 175.0,24.0 L 170.0,24.0 L 165.0,24.0 L 160.0,24.0 L 160.0,28.0 L 155.0,28.0 L 150.0,28.0 L 150.0,32.0 L 145.0,32.0 z\" /><path fill-rule=\"evenodd\" fill=\"#66cc99\" stroke=\"#555555\" stroke-width=\"2.5416\" opacity=\"0.6\" d=\"M -170.0,-4.0 L -170.0,-2.0 L -165.0,-2.0 L -165.0,-4.0 L -170.0,-4.0 z\" /><path fill-rule=\"evenodd\" fill=\"#66cc99\" stroke=\"#555555\" stroke-width=\"2.5416\" opacity=\"0.6\" d=\"M 42.5,-13.0 L 42.5,-12.5 L 42.5,-12.0 L 42.5,-11.5 L 42.5,-11.0 L 42.5,-10.0 L 43.75,-10.0 L 43.75,-11.0 L 45.0,-11.0 L 45.0,-12.0 L 45.625,-12.0 L 46.25,-12.0 L 46.25,-12.5 L 46.25,-13.0 L 45.625,-13.0 L 45.3125,-13.0 L 45.3125,-12.875 L 45.234375,-12.875 L 45.234375,-12.8125 L 45.3125,-12.8125 L 45.3125,-12.75 L 45.3125,-12.5 L 45.0,-12.5 L 45.0,-13.0 L 45.0,-14.0 L 43.75,-14.0 L 43.75,-13.0 L 43.125,-13.0 L 42.5,-13.0 z\" /><path fill-rule=\"evenodd\" fill=\"#66cc99\" stroke=\"#555555\" stroke-width=\"2.5416\" opacity=\"0.6\" d=\"M 112.7734375,-7.46875 L 112.7734375,-7.4375 L 112.8125,-7.4375 L 112.8125,-7.46875 L 112.7734375,-7.46875 z\" /><path fill-rule=\"evenodd\" fill=\"#66cc99\" stroke=\"#555555\" stroke-width=\"2.5416\" opacity=\"0.6\" d=\"M 125.625,-9.5 L 125.3125,-9.5 L 125.3125,-9.25 L 125.3125,-9.0 L 125.3125,-8.875 L 125.3125,-8.75 L 125.3125,-8.625 L 125.3125,-8.5 L 125.46875,-8.5 L 125.5078125,-8.5 L 125.546875,-8.5 L 125.5859375,-8.5 L 125.625,-8.5 L 125.9375,-8.5 L 126.25,-8.5 L 126.25,-8.375 L 126.25,-8.25 L 126.40625,-8.25 L 126.5625,-8.25 L 126.875,-8.25 L 126.875,-8.5 L 127.5,-8.5 L 127.5,-9.0 L 127.5,-10.0 L 126.25,-10.0 L 125.625,-10.0 L 125.625,-9.5 z\" /><path fill-rule=\"evenodd\" fill=\"#66cc99\" stroke=\"#555555\" stroke-width=\"2.5416\" opacity=\"0.6\" d=\"M 175.0,-2.0 L 175.0,-4.0 L 175.0,-8.0 L 170.0,-8.0 L 170.0,-12.0 L 165.0,-12.0 L 162.5,-12.0 L 160.0,-12.0 L 157.5,-12.0 L 157.5,-10.0 L 157.5,-9.0 L 157.5,-8.0 L 156.25,-8.0 L 156.25,-7.0 L 157.5,-7.0 L 157.5,-6.0 L 160.0,-6.0 L 160.0,-8.0 L 160.625,-8.0 L 161.25,-8.0 L 162.5,-8.0 L 165.0,-8.0 L 165.0,-4.0 L 165.0,-2.0 L 175.0,-2.0 z\" /><path fill-rule=\"evenodd\" fill=\"#66cc99\" stroke=\"#555555\" stroke-width=\"2.5416\" opacity=\"0.6\" d=\"M 155.0,-48.0 L 155.0,-44.0 L 155.0,-40.0 L 155.0,-36.0 L 160.0,-36.0 L 165.0,-36.0 L 165.0,-40.0 L 160.0,-40.0 L 160.0,-44.0 L 160.0,-48.0 L 155.0,-48.0 z\" /></g></g></svg>"
      ],
      "text/plain": [
       "<shapely.geometry.multipolygon.MultiPolygon at 0x1b6a19f8710>"
      ]
     },
     "execution_count": 34,
     "metadata": {},
     "output_type": "execute_result"
    }
   ],
   "source": [
    "row_up1_poly.union(row_up2_poly).union(row_down3_poly).union(row_down4_poly)"
   ]
  },
  {
   "cell_type": "code",
   "execution_count": 444,
   "metadata": {},
   "outputs": [],
   "source": [
    "file=open(\"ROWup1.json\",'w')\n",
    "json.dump(row_up1_poly.__geo_interface__,file)\n",
    "file.close()\n",
    "file=open(\"ROWup2.json\",'w')\n",
    "json.dump(row_up2_poly.__geo_interface__,file)\n",
    "file.close()\n",
    "\n",
    "file=open(\"ROWdown3.json\",'w')\n",
    "json.dump(row_down3_poly.__geo_interface__,file)\n",
    "file.close()\n",
    "file=open(\"ROWdown4.json\",'w')\n",
    "json.dump(row_down4_poly.__geo_interface__,file)\n",
    "file.close()"
   ]
  },
  {
   "cell_type": "code",
   "execution_count": 37,
   "metadata": {},
   "outputs": [],
   "source": [
    "up1 = gpd.GeoDataFrame.from_file('ROWup1.json')\n",
    "up2 = gpd.GeoDataFrame.from_file('ROWup2.json')\n",
    "down3 = gpd.GeoDataFrame.from_file('ROWdown3.json')\n",
    "down4 = gpd.GeoDataFrame.from_file('ROWdown4.json')"
   ]
  },
  {
   "cell_type": "code",
   "execution_count": 462,
   "metadata": {
    "scrolled": true
   },
   "outputs": [
    {
     "name": "stdout",
     "output_type": "stream",
     "text": [
      "0    4020.336426\n",
      "dtype: float64 0    1560.723877\n",
      "dtype: float64 0    10610.0\n",
      "dtype: float64 0    8998.131104\n",
      "dtype: float64\n"
     ]
    },
    {
     "name": "stderr",
     "output_type": "stream",
     "text": [
      "C:\\Users\\15311\\AppData\\Local\\Continuum\\anaconda3\\lib\\site-packages\\ipykernel_launcher.py:1: UserWarning: Geometry is in a geographic CRS. Results from 'area' are likely incorrect. Use 'GeoSeries.to_crs()' to re-project geometries to a projected CRS before this operation.\n",
      "\n",
      "  \"\"\"Entry point for launching an IPython kernel.\n"
     ]
    }
   ],
   "source": [
    "print(up1.area,up2.area,down3.area,down4.area)"
   ]
  },
  {
   "cell_type": "markdown",
   "metadata": {},
   "source": [
    "---"
   ]
  },
  {
   "cell_type": "code",
   "execution_count": 304,
   "metadata": {},
   "outputs": [],
   "source": [
    "row1 = polygon.intersection(rectangle1)\n",
    "row2 = polygon.intersection(rectangle2)"
   ]
  },
  {
   "cell_type": "code",
   "execution_count": 305,
   "metadata": {},
   "outputs": [
    {
     "data": {
      "image/svg+xml": [
       "<svg xmlns=\"http://www.w3.org/2000/svg\" xmlns:xlink=\"http://www.w3.org/1999/xlink\" width=\"190.07999999999998\" height=\"154.08\" viewBox=\"-185.04 -95.04 190.07999999999998 154.08\" preserveAspectRatio=\"xMinYMin meet\"><g transform=\"matrix(1,0,0,-1,0,-36.00000000000001)\"><path fill-rule=\"evenodd\" fill=\"#66cc99\" stroke=\"#555555\" stroke-width=\"2.0\" opacity=\"0.6\" d=\"M -175.0,-88.0 L -178.0,-88.0 L -178.0,-56.0 L -175.0,-56.0 L -175.0,-52.0 L -175.0,-48.0 L -170.0,-48.0 L -170.0,-44.0 L -170.0,-40.0 L -175.0,-40.0 L -175.0,-36.0 L -170.0,-36.0 L -170.0,-32.0 L -170.0,-28.0 L -170.0,-24.0 L -165.0,-24.0 L -165.0,-28.0 L -160.0,-28.0 L -155.0,-28.0 L -150.0,-28.0 L -150.0,-32.0 L -145.0,-32.0 L -140.0,-32.0 L -135.0,-32.0 L -130.0,-32.0 L -125.0,-32.0 L -120.0,-32.0 L -120.0,-28.0 L -120.0,-24.0 L -120.0,-20.0 L -125.0,-20.0 L -130.0,-20.0 L -130.0,-16.0 L -130.0,-12.0 L -135.0,-12.0 L -135.0,-8.0 L -135.0,-4.0 L -140.0,-4.0 L -145.0,-4.0 L -145.0,-8.0 L -150.0,-8.0 L -155.0,-8.0 L -155.0,-4.0 L -155.0,0.0 L -155.0,4.0 L -155.0,8.0 L -155.0,12.0 L -150.0,12.0 L -150.0,16.0 L -150.0,20.0 L -150.0,24.0 L -150.0,28.0 L -155.0,28.0 L -160.0,28.0 L -165.0,28.0 L -165.0,32.0 L -170.0,32.0 L -175.0,32.0 L -178.0,32.0 L -178.0,44.0 L -175.0,44.0 L -175.0,48.0 L -170.0,48.0 L -165.0,48.0 L -160.0,48.0 L -155.0,48.0 L -155.0,52.0 L -150.0,52.0 L -145.0,52.0 L -140.0,52.0 L -140.0,48.0 L -135.0,48.0 L -135.0,44.0 L -130.0,44.0 L -130.0,40.0 L -130.0,36.0 L -130.0,32.0 L -125.0,32.0 L -125.0,28.0 L -125.0,24.0 L -120.0,24.0 L -120.0,20.0 L -120.0,16.0 L -120.0,12.0 L -115.0,12.0 L -115.0,8.0 L -115.0,4.0 L -110.0,4.0 L -105.0,4.0 L -105.0,8.0 L -105.0,12.0 L -100.0,12.0 L -95.0,12.0 L -95.0,8.0 L -95.0,4.0 L -100.0,4.0 L -100.0,0.0 L -100.0,-4.0 L -95.0,-4.0 L -95.0,-8.0 L -90.0,-8.0 L -85.0,-8.0 L -85.0,-12.0 L -85.0,-16.0 L -80.0,-16.0 L -80.0,-20.0 L -85.0,-20.0 L -85.0,-24.0 L -85.0,-28.0 L -85.0,-32.0 L -85.0,-36.0 L -85.0,-40.0 L -80.0,-40.0 L -80.0,-44.0 L -85.0,-44.0 L -85.0,-48.0 L -85.0,-52.0 L -85.0,-56.0 L -80.0,-56.0 L -80.0,-60.0 L -75.0,-60.0 L -70.0,-60.0 L -65.0,-60.0 L -60.0,-60.0 L -55.0,-60.0 L -55.0,-56.0 L -55.0,-52.0 L -60.0,-52.0 L -60.0,-48.0 L -55.0,-48.0 L -55.0,-44.0 L -50.0,-44.0 L -50.0,-40.0 L -50.0,-36.0 L -45.0,-36.0 L -45.0,-32.0 L -40.0,-32.0 L -40.0,-28.0 L -35.0,-28.0 L -35.0,-24.0 L -30.0,-24.0 L -25.0,-24.0 L -25.0,-20.0 L -25.0,-16.0 L -30.0,-16.0 L -30.0,-12.0 L -30.0,-8.0 L -25.0,-8.0 L -25.0,-4.0 L -25.0,0.0 L -25.0,4.0 L -25.0,8.0 L -20.0,8.0 L -20.0,4.0 L -15.0,4.0 L -15.0,0.0 L -10.0,0.0 L -5.0,0.0 L -2.0,0.0 L -2.0,-12.0 L -5.0,-12.0 L -10.0,-12.0 L -10.0,-16.0 L -10.0,-20.0 L -5.0,-20.0 L -2.0,-20.0 L -2.0,-88.0 L -5.0,-88.0 L -10.0,-88.0 L -15.0,-88.0 L -20.0,-88.0 L -25.0,-88.0 L -30.0,-88.0 L -35.0,-88.0 L -40.0,-88.0 L -45.0,-88.0 L -50.0,-88.0 L -55.0,-88.0 L -60.0,-88.0 L -65.0,-88.0 L -70.0,-88.0 L -75.0,-88.0 L -80.0,-88.0 L -85.0,-88.0 L -90.0,-88.0 L -95.0,-88.0 L -100.0,-88.0 L -105.0,-88.0 L -110.0,-88.0 L -115.0,-88.0 L -120.0,-88.0 L -125.0,-88.0 L -130.0,-88.0 L -135.0,-88.0 L -140.0,-88.0 L -145.0,-88.0 L -150.0,-88.0 L -155.0,-88.0 L -160.0,-88.0 L -165.0,-88.0 L -170.0,-88.0 L -175.0,-88.0 z M -10.0,-12.0 L -10.0,-8.0 L -10.0,-4.0 L -15.0,-4.0 L -20.0,-4.0 L -20.0,-8.0 L -20.0,-12.0 L -15.0,-12.0 L -10.0,-12.0 z M -5.0,-32.0 L -10.0,-32.0 L -15.0,-32.0 L -20.0,-32.0 L -20.0,-36.0 L -20.0,-40.0 L -20.0,-44.0 L -15.0,-44.0 L -10.0,-44.0 L -5.0,-44.0 L -5.0,-40.0 L -5.0,-36.0 L -5.0,-32.0 z M -100.0,-20.0 L -105.0,-20.0 L -110.0,-20.0 L -115.0,-20.0 L -115.0,-24.0 L -115.0,-28.0 L -115.0,-32.0 L -110.0,-32.0 L -105.0,-32.0 L -100.0,-32.0 L -100.0,-28.0 L -100.0,-24.0 L -100.0,-20.0 z\" /></g></svg>"
      ],
      "text/plain": [
       "<shapely.geometry.polygon.PolygonAdapter at 0x1e741932fd0>"
      ]
     },
     "execution_count": 305,
     "metadata": {},
     "output_type": "execute_result"
    }
   ],
   "source": [
    "row1_poly = shapely.geometry.asShape(row1[0]) \n",
    "row1_poly"
   ]
  },
  {
   "cell_type": "code",
   "execution_count": 306,
   "metadata": {},
   "outputs": [
    {
     "data": {
      "image/svg+xml": [
       "<svg xmlns=\"http://www.w3.org/2000/svg\" xmlns:xlink=\"http://www.w3.org/1999/xlink\" width=\"190.07999999999998\" height=\"190.08\" viewBox=\"-185.04 -95.04 190.07999999999998 190.08\" preserveAspectRatio=\"xMinYMin meet\"><g transform=\"matrix(1,0,0,-1,0,0.0)\"><g><path fill-rule=\"evenodd\" fill=\"#66cc99\" stroke=\"#555555\" stroke-width=\"2.0\" opacity=\"0.6\" d=\"M -175.0,-88.0 L -178.0,-88.0 L -178.0,-56.0 L -175.0,-56.0 L -175.0,-52.0 L -175.0,-48.0 L -170.0,-48.0 L -170.0,-44.0 L -170.0,-40.0 L -175.0,-40.0 L -175.0,-36.0 L -170.0,-36.0 L -170.0,-32.0 L -170.0,-28.0 L -170.0,-24.0 L -165.0,-24.0 L -165.0,-28.0 L -160.0,-28.0 L -155.0,-28.0 L -150.0,-28.0 L -150.0,-32.0 L -145.0,-32.0 L -140.0,-32.0 L -135.0,-32.0 L -130.0,-32.0 L -125.0,-32.0 L -120.0,-32.0 L -120.0,-28.0 L -120.0,-24.0 L -120.0,-20.0 L -125.0,-20.0 L -130.0,-20.0 L -130.0,-16.0 L -130.0,-12.0 L -135.0,-12.0 L -135.0,-8.0 L -135.0,-4.0 L -140.0,-4.0 L -145.0,-4.0 L -145.0,-8.0 L -150.0,-8.0 L -155.0,-8.0 L -155.0,-4.0 L -155.0,0.0 L -155.0,4.0 L -155.0,8.0 L -155.0,12.0 L -150.0,12.0 L -150.0,16.0 L -150.0,20.0 L -150.0,24.0 L -150.0,28.0 L -155.0,28.0 L -160.0,28.0 L -165.0,28.0 L -165.0,32.0 L -170.0,32.0 L -175.0,32.0 L -178.0,32.0 L -178.0,44.0 L -175.0,44.0 L -175.0,48.0 L -170.0,48.0 L -165.0,48.0 L -160.0,48.0 L -155.0,48.0 L -155.0,52.0 L -150.0,52.0 L -145.0,52.0 L -140.0,52.0 L -140.0,48.0 L -135.0,48.0 L -135.0,44.0 L -130.0,44.0 L -130.0,40.0 L -130.0,36.0 L -130.0,32.0 L -125.0,32.0 L -125.0,28.0 L -125.0,24.0 L -120.0,24.0 L -120.0,20.0 L -120.0,16.0 L -120.0,12.0 L -115.0,12.0 L -115.0,8.0 L -115.0,4.0 L -110.0,4.0 L -105.0,4.0 L -105.0,8.0 L -105.0,12.0 L -100.0,12.0 L -95.0,12.0 L -95.0,8.0 L -95.0,4.0 L -100.0,4.0 L -100.0,0.0 L -100.0,-4.0 L -95.0,-4.0 L -95.0,-8.0 L -90.0,-8.0 L -85.0,-8.0 L -85.0,-12.0 L -85.0,-16.0 L -80.0,-16.0 L -80.0,-20.0 L -85.0,-20.0 L -85.0,-24.0 L -85.0,-28.0 L -85.0,-32.0 L -85.0,-36.0 L -85.0,-40.0 L -80.0,-40.0 L -80.0,-44.0 L -85.0,-44.0 L -85.0,-48.0 L -85.0,-52.0 L -85.0,-56.0 L -80.0,-56.0 L -80.0,-60.0 L -75.0,-60.0 L -70.0,-60.0 L -65.0,-60.0 L -60.0,-60.0 L -55.0,-60.0 L -55.0,-56.0 L -55.0,-52.0 L -60.0,-52.0 L -60.0,-48.0 L -55.0,-48.0 L -55.0,-44.0 L -50.0,-44.0 L -50.0,-40.0 L -50.0,-36.0 L -45.0,-36.0 L -45.0,-32.0 L -40.0,-32.0 L -40.0,-28.0 L -35.0,-28.0 L -35.0,-24.0 L -30.0,-24.0 L -25.0,-24.0 L -25.0,-20.0 L -25.0,-16.0 L -30.0,-16.0 L -30.0,-12.0 L -30.0,-8.0 L -25.0,-8.0 L -25.0,-4.0 L -25.0,0.0 L -25.0,4.0 L -25.0,8.0 L -20.0,8.0 L -20.0,4.0 L -15.0,4.0 L -15.0,0.0 L -10.0,0.0 L -5.0,0.0 L -2.0,0.0 L -2.0,-12.0 L -5.0,-12.0 L -10.0,-12.0 L -10.0,-16.0 L -10.0,-20.0 L -5.0,-20.0 L -2.0,-20.0 L -2.0,-88.0 L -5.0,-88.0 L -10.0,-88.0 L -15.0,-88.0 L -20.0,-88.0 L -25.0,-88.0 L -30.0,-88.0 L -35.0,-88.0 L -40.0,-88.0 L -45.0,-88.0 L -50.0,-88.0 L -55.0,-88.0 L -60.0,-88.0 L -65.0,-88.0 L -70.0,-88.0 L -75.0,-88.0 L -80.0,-88.0 L -85.0,-88.0 L -90.0,-88.0 L -95.0,-88.0 L -100.0,-88.0 L -105.0,-88.0 L -110.0,-88.0 L -115.0,-88.0 L -120.0,-88.0 L -125.0,-88.0 L -130.0,-88.0 L -135.0,-88.0 L -140.0,-88.0 L -145.0,-88.0 L -150.0,-88.0 L -155.0,-88.0 L -160.0,-88.0 L -165.0,-88.0 L -170.0,-88.0 L -175.0,-88.0 z M -10.0,-12.0 L -10.0,-8.0 L -10.0,-4.0 L -15.0,-4.0 L -20.0,-4.0 L -20.0,-8.0 L -20.0,-12.0 L -15.0,-12.0 L -10.0,-12.0 z M -5.0,-32.0 L -10.0,-32.0 L -15.0,-32.0 L -20.0,-32.0 L -20.0,-36.0 L -20.0,-40.0 L -20.0,-44.0 L -15.0,-44.0 L -10.0,-44.0 L -5.0,-44.0 L -5.0,-40.0 L -5.0,-36.0 L -5.0,-32.0 z M -100.0,-20.0 L -105.0,-20.0 L -110.0,-20.0 L -115.0,-20.0 L -115.0,-24.0 L -115.0,-28.0 L -115.0,-32.0 L -110.0,-32.0 L -105.0,-32.0 L -100.0,-32.0 L -100.0,-28.0 L -100.0,-24.0 L -100.0,-20.0 z\" /><path fill-rule=\"evenodd\" fill=\"#66cc99\" stroke=\"#555555\" stroke-width=\"2.0\" opacity=\"0.6\" d=\"M -175.0,76.0 L -178.0,76.0 L -178.0,88.0 L -175.0,88.0 L -170.0,88.0 L -165.0,88.0 L -160.0,88.0 L -155.0,88.0 L -150.0,88.0 L -145.0,88.0 L -140.0,88.0 L -135.0,88.0 L -130.0,88.0 L -125.0,88.0 L -120.0,88.0 L -115.0,88.0 L -115.0,84.0 L -120.0,84.0 L -125.0,84.0 L -130.0,84.0 L -130.0,80.0 L -135.0,80.0 L -140.0,80.0 L -140.0,76.0 L -145.0,76.0 L -150.0,76.0 L -155.0,76.0 L -160.0,76.0 L -165.0,76.0 L -170.0,76.0 L -175.0,76.0 z\" /><path fill-rule=\"evenodd\" fill=\"#66cc99\" stroke=\"#555555\" stroke-width=\"2.0\" opacity=\"0.6\" d=\"M -65.0,24.0 L -65.0,28.0 L -60.0,28.0 L -60.0,32.0 L -60.0,36.0 L -65.0,36.0 L -65.0,40.0 L -60.0,40.0 L -55.0,40.0 L -50.0,40.0 L -50.0,44.0 L -45.0,44.0 L -45.0,48.0 L -45.0,52.0 L -45.0,56.0 L -40.0,56.0 L -35.0,56.0 L -35.0,60.0 L -30.0,60.0 L -25.0,60.0 L -25.0,56.0 L -20.0,56.0 L -20.0,52.0 L -20.0,48.0 L -15.0,48.0 L -15.0,44.0 L -15.0,40.0 L -20.0,40.0 L -20.0,44.0 L -25.0,44.0 L -30.0,44.0 L -35.0,44.0 L -40.0,44.0 L -40.0,40.0 L -40.0,36.0 L -35.0,36.0 L -35.0,32.0 L -30.0,32.0 L -25.0,32.0 L -25.0,28.0 L -25.0,24.0 L -30.0,24.0 L -30.0,20.0 L -30.0,16.0 L -30.0,12.0 L -30.0,8.0 L -35.0,8.0 L -35.0,4.0 L -40.0,4.0 L -45.0,4.0 L -45.0,8.0 L -50.0,8.0 L -50.0,12.0 L -55.0,12.0 L -55.0,16.0 L -55.0,20.0 L -55.0,24.0 L -60.0,24.0 L -65.0,24.0 z\" /></g></g></svg>"
      ],
      "text/plain": [
       "<shapely.geometry.multipolygon.MultiPolygon at 0x1e743f91a20>"
      ]
     },
     "execution_count": 306,
     "metadata": {},
     "output_type": "execute_result"
    }
   ],
   "source": [
    "for i in row1[1:]: #polygon 3 to 18\n",
    "    new_poly1 = shapely.geometry.asShape(i)\n",
    "    if new_poly1.area > 100:\n",
    "        row1_poly = row1_poly.union(new_poly1)\n",
    "row1_poly"
   ]
  },
  {
   "cell_type": "code",
   "execution_count": 307,
   "metadata": {},
   "outputs": [
    {
     "data": {
      "image/svg+xml": [
       "<svg xmlns=\"http://www.w3.org/2000/svg\" xmlns:xlink=\"http://www.w3.org/1999/xlink\" width=\"186.83999999999997\" height=\"117.84\" viewBox=\"-4.92 -94.92 186.83999999999997 117.84\" preserveAspectRatio=\"xMinYMin meet\"><g transform=\"matrix(1,0,0,-1,0,-72.0)\"><path fill-rule=\"evenodd\" fill=\"#66cc99\" stroke=\"#555555\" stroke-width=\"2.0\" opacity=\"0.6\" d=\"M 2.0,-4.0 L 5.0,-4.0 L 5.0,-8.0 L 5.0,-12.0 L 5.0,-16.0 L 5.0,-20.0 L 5.0,-24.0 L 10.0,-24.0 L 10.0,-28.0 L 10.0,-32.0 L 10.0,-36.0 L 10.0,-40.0 L 15.0,-40.0 L 20.0,-40.0 L 25.0,-40.0 L 30.0,-40.0 L 30.0,-36.0 L 35.0,-36.0 L 35.0,-32.0 L 40.0,-32.0 L 45.0,-32.0 L 50.0,-32.0 L 50.0,-28.0 L 55.0,-28.0 L 60.0,-28.0 L 60.0,-24.0 L 65.0,-24.0 L 70.0,-24.0 L 70.0,-20.0 L 70.0,-16.0 L 65.0,-16.0 L 65.0,-12.0 L 65.0,-8.0 L 60.0,-8.0 L 60.0,-4.0 L 60.0,0.0 L 55.0,0.0 L 55.0,4.0 L 55.0,8.0 L 60.0,8.0 L 60.0,12.0 L 60.0,16.0 L 65.0,16.0 L 65.0,12.0 L 65.0,8.0 L 65.0,4.0 L 65.0,0.0 L 65.0,-4.0 L 70.0,-4.0 L 75.0,-4.0 L 80.0,-4.0 L 80.0,0.0 L 85.0,0.0 L 85.0,4.0 L 90.0,4.0 L 90.0,0.0 L 90.0,-4.0 L 95.0,-4.0 L 95.0,-8.0 L 90.0,-8.0 L 90.0,-12.0 L 90.0,-16.0 L 95.0,-16.0 L 100.0,-16.0 L 105.0,-16.0 L 110.0,-16.0 L 110.0,-20.0 L 105.0,-20.0 L 105.0,-24.0 L 105.0,-28.0 L 105.0,-32.0 L 110.0,-32.0 L 110.0,-36.0 L 110.0,-40.0 L 115.0,-40.0 L 120.0,-40.0 L 125.0,-40.0 L 130.0,-40.0 L 135.0,-40.0 L 135.0,-44.0 L 140.0,-44.0 L 140.0,-48.0 L 145.0,-48.0 L 150.0,-48.0 L 155.0,-48.0 L 155.0,-52.0 L 150.0,-52.0 L 150.0,-56.0 L 150.0,-60.0 L 155.0,-60.0 L 160.0,-60.0 L 165.0,-60.0 L 165.0,-56.0 L 170.0,-56.0 L 175.0,-56.0 L 175.0,-60.0 L 175.0,-64.0 L 175.0,-68.0 L 175.0,-72.0 L 175.0,-76.0 L 175.0,-80.0 L 175.0,-84.0 L 175.0,-88.0 L 170.0,-88.0 L 165.0,-88.0 L 160.0,-88.0 L 155.0,-88.0 L 150.0,-88.0 L 145.0,-88.0 L 140.0,-88.0 L 135.0,-88.0 L 130.0,-88.0 L 125.0,-88.0 L 120.0,-88.0 L 115.0,-88.0 L 110.0,-88.0 L 105.0,-88.0 L 100.0,-88.0 L 95.0,-88.0 L 90.0,-88.0 L 85.0,-88.0 L 80.0,-88.0 L 75.0,-88.0 L 70.0,-88.0 L 65.0,-88.0 L 60.0,-88.0 L 55.0,-88.0 L 50.0,-88.0 L 45.0,-88.0 L 40.0,-88.0 L 35.0,-88.0 L 30.0,-88.0 L 25.0,-88.0 L 20.0,-88.0 L 15.0,-88.0 L 10.0,-88.0 L 5.0,-88.0 L 2.0,-88.0 L 2.0,-56.0 L 5.0,-56.0 L 5.0,-52.0 L 2.0,-52.0 L 2.0,-4.0 z M 30.0,-40.0 L 30.0,-44.0 L 30.0,-48.0 L 30.0,-52.0 L 35.0,-52.0 L 40.0,-52.0 L 45.0,-52.0 L 50.0,-52.0 L 55.0,-52.0 L 60.0,-52.0 L 60.0,-56.0 L 65.0,-56.0 L 65.0,-60.0 L 70.0,-60.0 L 75.0,-60.0 L 80.0,-60.0 L 80.0,-56.0 L 80.0,-52.0 L 80.0,-48.0 L 80.0,-44.0 L 85.0,-44.0 L 85.0,-40.0 L 85.0,-36.0 L 85.0,-32.0 L 80.0,-32.0 L 75.0,-32.0 L 70.0,-32.0 L 70.0,-36.0 L 70.0,-40.0 L 70.0,-44.0 L 65.0,-44.0 L 60.0,-44.0 L 60.0,-40.0 L 55.0,-40.0 L 50.0,-40.0 L 45.0,-40.0 L 40.0,-40.0 L 35.0,-40.0 L 30.0,-40.0 z\" /></g></svg>"
      ],
      "text/plain": [
       "<shapely.geometry.polygon.PolygonAdapter at 0x1e749c2f4e0>"
      ]
     },
     "execution_count": 307,
     "metadata": {},
     "output_type": "execute_result"
    }
   ],
   "source": [
    "row2_poly = shapely.geometry.asShape(row2[0])\n",
    "row2_poly"
   ]
  },
  {
   "cell_type": "code",
   "execution_count": 308,
   "metadata": {},
   "outputs": [
    {
     "data": {
      "image/svg+xml": [
       "<svg xmlns=\"http://www.w3.org/2000/svg\" xmlns:xlink=\"http://www.w3.org/1999/xlink\" width=\"187.07999999999998\" height=\"190.08\" viewBox=\"-5.04 -95.04 187.07999999999998 190.08\" preserveAspectRatio=\"xMinYMin meet\"><g transform=\"matrix(1,0,0,-1,0,0.0)\"><g><path fill-rule=\"evenodd\" fill=\"#66cc99\" stroke=\"#555555\" stroke-width=\"2.0\" opacity=\"0.6\" d=\"M 2.0,-4.0 L 5.0,-4.0 L 5.0,-8.0 L 5.0,-12.0 L 5.0,-16.0 L 5.0,-20.0 L 5.0,-24.0 L 10.0,-24.0 L 10.0,-28.0 L 10.0,-32.0 L 10.0,-36.0 L 10.0,-40.0 L 15.0,-40.0 L 20.0,-40.0 L 25.0,-40.0 L 30.0,-40.0 L 30.0,-36.0 L 35.0,-36.0 L 35.0,-32.0 L 40.0,-32.0 L 45.0,-32.0 L 50.0,-32.0 L 50.0,-28.0 L 55.0,-28.0 L 60.0,-28.0 L 60.0,-24.0 L 65.0,-24.0 L 70.0,-24.0 L 70.0,-20.0 L 70.0,-16.0 L 65.0,-16.0 L 65.0,-12.0 L 65.0,-8.0 L 60.0,-8.0 L 60.0,-4.0 L 60.0,0.0 L 55.0,0.0 L 55.0,4.0 L 55.0,8.0 L 60.0,8.0 L 60.0,12.0 L 60.0,16.0 L 65.0,16.0 L 65.0,12.0 L 65.0,8.0 L 65.0,4.0 L 65.0,0.0 L 65.0,-4.0 L 70.0,-4.0 L 75.0,-4.0 L 80.0,-4.0 L 80.0,0.0 L 85.0,0.0 L 85.0,4.0 L 90.0,4.0 L 90.0,0.0 L 90.0,-4.0 L 95.0,-4.0 L 95.0,-8.0 L 90.0,-8.0 L 90.0,-12.0 L 90.0,-16.0 L 95.0,-16.0 L 100.0,-16.0 L 105.0,-16.0 L 110.0,-16.0 L 110.0,-20.0 L 105.0,-20.0 L 105.0,-24.0 L 105.0,-28.0 L 105.0,-32.0 L 110.0,-32.0 L 110.0,-36.0 L 110.0,-40.0 L 115.0,-40.0 L 120.0,-40.0 L 125.0,-40.0 L 130.0,-40.0 L 135.0,-40.0 L 135.0,-44.0 L 140.0,-44.0 L 140.0,-48.0 L 145.0,-48.0 L 150.0,-48.0 L 155.0,-48.0 L 155.0,-52.0 L 150.0,-52.0 L 150.0,-56.0 L 150.0,-60.0 L 155.0,-60.0 L 160.0,-60.0 L 165.0,-60.0 L 165.0,-56.0 L 170.0,-56.0 L 175.0,-56.0 L 175.0,-60.0 L 175.0,-64.0 L 175.0,-68.0 L 175.0,-72.0 L 175.0,-76.0 L 175.0,-80.0 L 175.0,-84.0 L 175.0,-88.0 L 170.0,-88.0 L 165.0,-88.0 L 160.0,-88.0 L 155.0,-88.0 L 150.0,-88.0 L 145.0,-88.0 L 140.0,-88.0 L 135.0,-88.0 L 130.0,-88.0 L 125.0,-88.0 L 120.0,-88.0 L 115.0,-88.0 L 110.0,-88.0 L 105.0,-88.0 L 100.0,-88.0 L 95.0,-88.0 L 90.0,-88.0 L 85.0,-88.0 L 80.0,-88.0 L 75.0,-88.0 L 70.0,-88.0 L 65.0,-88.0 L 60.0,-88.0 L 55.0,-88.0 L 50.0,-88.0 L 45.0,-88.0 L 40.0,-88.0 L 35.0,-88.0 L 30.0,-88.0 L 25.0,-88.0 L 20.0,-88.0 L 15.0,-88.0 L 10.0,-88.0 L 5.0,-88.0 L 2.0,-88.0 L 2.0,-56.0 L 5.0,-56.0 L 5.0,-52.0 L 2.0,-52.0 L 2.0,-4.0 z M 30.0,-40.0 L 30.0,-44.0 L 30.0,-48.0 L 30.0,-52.0 L 35.0,-52.0 L 40.0,-52.0 L 45.0,-52.0 L 50.0,-52.0 L 55.0,-52.0 L 60.0,-52.0 L 60.0,-56.0 L 65.0,-56.0 L 65.0,-60.0 L 70.0,-60.0 L 75.0,-60.0 L 80.0,-60.0 L 80.0,-56.0 L 80.0,-52.0 L 80.0,-48.0 L 80.0,-44.0 L 85.0,-44.0 L 85.0,-40.0 L 85.0,-36.0 L 85.0,-32.0 L 80.0,-32.0 L 75.0,-32.0 L 70.0,-32.0 L 70.0,-36.0 L 70.0,-40.0 L 70.0,-44.0 L 65.0,-44.0 L 60.0,-44.0 L 60.0,-40.0 L 55.0,-40.0 L 50.0,-40.0 L 45.0,-40.0 L 40.0,-40.0 L 35.0,-40.0 L 30.0,-40.0 z\" /><path fill-rule=\"evenodd\" fill=\"#66cc99\" stroke=\"#555555\" stroke-width=\"2.0\" opacity=\"0.6\" d=\"M 115.0,84.0 L 115.0,88.0 L 120.0,88.0 L 125.0,88.0 L 130.0,88.0 L 135.0,88.0 L 140.0,88.0 L 145.0,88.0 L 150.0,88.0 L 155.0,88.0 L 160.0,88.0 L 165.0,88.0 L 170.0,88.0 L 175.0,88.0 L 175.0,84.0 L 175.0,80.0 L 170.0,80.0 L 165.0,80.0 L 165.0,84.0 L 160.0,84.0 L 155.0,84.0 L 150.0,84.0 L 145.0,84.0 L 145.0,80.0 L 140.0,80.0 L 135.0,80.0 L 130.0,80.0 L 125.0,80.0 L 125.0,84.0 L 120.0,84.0 L 115.0,84.0 z\" /><path fill-rule=\"evenodd\" fill=\"#66cc99\" stroke=\"#555555\" stroke-width=\"2.0\" opacity=\"0.6\" d=\"M 130.0,4.0 L 130.0,8.0 L 130.0,12.0 L 130.0,16.0 L 135.0,16.0 L 140.0,16.0 L 140.0,12.0 L 140.0,8.0 L 145.0,8.0 L 150.0,8.0 L 150.0,12.0 L 150.0,16.0 L 150.0,20.0 L 155.0,20.0 L 160.0,20.0 L 160.0,16.0 L 165.0,16.0 L 170.0,16.0 L 175.0,16.0 L 175.0,12.0 L 175.0,8.0 L 175.0,4.0 L 175.0,2.0 L 175.0,1.0 L 175.0,0.0 L 175.0,-4.0 L 175.0,-8.0 L 170.0,-8.0 L 170.0,-12.0 L 165.0,-12.0 L 162.5,-12.0 L 160.0,-12.0 L 157.5,-12.0 L 157.5,-10.0 L 157.5,-9.0 L 157.5,-8.0 L 156.25,-8.0 L 156.25,-7.0 L 157.5,-7.0 L 157.5,-6.0 L 160.0,-6.0 L 160.0,-8.0 L 160.625,-8.0 L 161.25,-8.0 L 162.5,-8.0 L 165.0,-8.0 L 165.0,-4.0 L 165.0,0.0 L 160.0,0.0 L 155.0,0.0 L 155.0,4.0 L 150.0,4.0 L 145.0,4.0 L 140.0,4.0 L 135.0,4.0 L 130.0,4.0 z\" /><path fill-rule=\"evenodd\" fill=\"#66cc99\" stroke=\"#555555\" stroke-width=\"2.0\" opacity=\"0.6\" d=\"M 145.0,32.0 L 145.0,36.0 L 150.0,36.0 L 150.0,40.0 L 155.0,40.0 L 155.0,44.0 L 160.0,44.0 L 160.0,48.0 L 165.0,48.0 L 170.0,48.0 L 175.0,48.0 L 175.0,44.0 L 175.0,40.0 L 175.0,36.0 L 175.0,32.0 L 175.0,28.0 L 175.0,24.0 L 170.0,24.0 L 165.0,24.0 L 160.0,24.0 L 160.0,28.0 L 155.0,28.0 L 150.0,28.0 L 150.0,32.0 L 145.0,32.0 z\" /></g></g></svg>"
      ],
      "text/plain": [
       "<shapely.geometry.multipolygon.MultiPolygon at 0x1e743f91358>"
      ]
     },
     "execution_count": 308,
     "metadata": {},
     "output_type": "execute_result"
    }
   ],
   "source": [
    "for i in row2[1:]: \n",
    "    new_poly2 = shapely.geometry.asShape(i)\n",
    "    if new_poly2.area > 100:\n",
    "        row2_poly = row2_poly.union(new_poly2)\n",
    "row2_poly"
   ]
  },
  {
   "cell_type": "code",
   "execution_count": 309,
   "metadata": {},
   "outputs": [],
   "source": [
    "# # row1_poly = row1_poly.simplify(6, preserve_topology=True)\n",
    "# # row2_poly = row2_poly.simplify(6, preserve_topology=True)\n",
    "row1_poly = row1_poly.buffer(10, join_style=1).buffer(-10, join_style=1)\n",
    "row2_poly = row2_poly.buffer(10, join_style=1).buffer(-10, join_style=1)"
   ]
  },
  {
   "cell_type": "code",
   "execution_count": 310,
   "metadata": {},
   "outputs": [
    {
     "data": {
      "image/svg+xml": [
       "<svg xmlns=\"http://www.w3.org/2000/svg\" xmlns:xlink=\"http://www.w3.org/1999/xlink\" width=\"300\" height=\"204.24\" viewBox=\"-192.12 -102.12 381.24 204.24\" preserveAspectRatio=\"xMinYMin meet\"><g transform=\"matrix(1,0,0,-1,0,0.0)\"><g><path fill-rule=\"evenodd\" fill=\"#66cc99\" stroke=\"#555555\" stroke-width=\"2.5416\" opacity=\"0.6\" d=\"M -177.69059839567842,-55.67656446631718 L -177.54942214558525,-55.53451930107814 L -176.895428017474,-54.72249865260616 L -176.32953754484302,-53.8467967477696 L -175.85790244296467,-52.91693321809169 L -175.4856497903099,-51.94301647845716 L -175.21682629280372,-50.93563383996401 L -175.05435429265745,-49.90573641676239 L -175.0,-48.86452007804186 L -175.0,-48.2454862210895 L -174.98805674405256,-48.00237566131471 L -174.8878883572119,-47.72242377437258 L -174.74145340797617,-47.368898533922305 L -174.45658152786092,-46.42980179903273 L -174.26512896015856,-45.46730474455371 L -174.16893949775462,-44.49067674327426 L -174.16893949775462,-43.509323256725885 L -174.26512896015853,-42.53269525544644 L -174.4565815278609,-41.570198200967404 L -174.74145340797614,-40.63110146607783 L -174.88788835721186,-40.2775762256275 L -174.98805674405259,-39.99762433868528 L -175.0,-39.754513778910926 L -175.0,-36.2454862210895 L -174.98828498964036,-36.00702170698739 L -174.85897255806782,-35.9295148182645 L -174.0789092015142,-35.41080698964976 L -173.35080677111614,-34.82138057138168 L -172.68105477818276,-34.16640811420069 L -172.07553067587804,-33.451637372471595 L -171.53954828123938,-32.683340864382885 L -171.07781114342288,-31.868260827046086 L -170.69437126739487,-31.013550049545564 L -170.3925935552927,-30.12670910316211 L -170.1751262775023,-29.21552051961074 L -170.0438778325852,-28.28798049491598 L -170.0,-27.352228718261756 L -170.0,-24.245486221089504 L -169.98850476021408,-24.0114952397859 L -169.7545137789107,-24.0 L -165.24548622108924,-24.0 L -165.00200678092725,-24.011961377878794 L -164.45720441221303,-24.679137432921827 L -163.80282494182177,-25.343225094356583 L -163.08944241950945,-25.9434836138286 L -162.3232577438874,-26.474695394742184 L -161.51093078303836,-26.93224301195504 L -160.65952248528376,-27.31214934758796 L -159.7764335036619,-27.611112161124275 L -158.86933986760806,-27.8265327933071 L -157.9461262609941,-27.956538754333028 L -157.01481748649206,-28.0 L -155.0,-28.0 L -154.03509568644748,-27.953339121404824 L -153.07919602950108,-27.813791933137544 L -152.51687371226876,-27.675227121663294 L -152.460509755049,-27.692568892987488 L -151.48296615279764,-27.889429275223954 L -150.4906767432742,-27.987954562051723 L -150.005574415458,-28.01178611123317 L -149.97099844903087,-28.049934811432152 L -149.45720441221292,-28.679137432921948 L -148.80282494182165,-29.343225094356683 L -148.08944241950934,-29.94348361382868 L -147.32325774388732,-30.47469539474224 L -146.51093078303828,-30.93224301195508 L -145.65952248528367,-31.31214934758799 L -144.77643350366185,-31.61111216112429 L -143.86933986760803,-31.826532793307106 L -142.9461262609941,-31.95653875433303 L -142.01481748649206,-32.0 L -139.7955547008953,-32.0 L -138.83986720891284,-31.95422831854224 L -137.89292840162156,-31.817332283533645 L -136.96340687531102,-31.59056508731567 L -136.05981178262326,-31.276002633062383 L -135.19041493690816,-30.87652453126472 L -134.3631750892622,-30.395787738807645 L -133.58566507144448,-29.83819308195703 L -132.8650024716282,-29.20884496971606 L -132.20778447760478,-28.513504666348645 L -131.6200274839084,-27.758537550828876 L -131.10711201571706,-26.950854846021286 L -130.6737334737157,-26.097850351022558 L -130.3238591508194,-25.20733275583811 L -130.06069191423967,-24.28745415800781 L -129.88664088536112,-23.3466354355636 L -129.80329938583398,-22.393489159480115 L -129.81143035177195,-21.436740751303667 L -129.91095934957846,-20.485148607709117 L -130.0170871087125,-19.792651667137594 L -130.0754464660481,-19.200119168397986 L -130.26689903375046,-18.237622113918995 L -130.55177091386568,-17.298525379029464 L -130.92731863446144,-16.39187297864887 L -131.38992546569315,-15.5263964710195 L -131.9351362508894,-14.710430868027407 L -132.55770031214624,-13.951834364481574 L -133.2516220172256,-13.25791265940218 L -134.01021852077142,-12.63534859814533 L -134.8261841237635,-12.090137812949065 L -134.99175230105828,-11.990900066526816 L -135.08782403537694,-11.86136232830016 L -135.7103880966338,-11.102765824754327 L -136.4043098017132,-10.408844119674939 L -137.16290630525904,-9.786280058418102 L -137.97887190825116,-9.241069273221846 L -138.84434841588055,-8.778462441990149 L -139.75100081626115,-8.402914721394387 L -140.6900975511507,-8.118042841279166 L -141.6525946056297,-7.926590273576803 L -142.62922260690914,-7.830400811172895 L -143.6105760934575,-7.830400811172897 L -144.5872040947369,-7.92659027357681 L -145.00118208325276,-7.987998107322446 L -145.24548622108927,-8.0 L -150.0,-8.0 L -150.99592856015965,-8.04971727521985 L -151.9819541494543,-8.198374739388328 L -152.4853137300966,-8.32657951811336 L -152.59996977551256,-8.292278592710502 L -153.5478707534715,-8.105995722086199 L -154.5093232567258,-8.012045437948277 L -154.9885047602141,-7.988504760214098 L -155.0,-7.754513778910921 L -155.0,11.754513778910496 L -154.98814836182646,11.995759416054609 L -154.95310719870142,12.04300695507577 L -154.39644688316736,12.878123364223018 L -153.92630005338992,13.764831930871448 L -153.54740245195242,14.694200927203042 L -153.26357067697316,15.656868911104866 L -153.07766373788945,16.643139023050885 L -152.991554256938,17.643076661610287 L -153.00610960641603,18.646609553706533 L -153.12118317172576,19.64362921162928 L -153.33561582820883,20.624092754832745 L -153.64724761689445,21.578124070879596 L -154.0529395015528,22.49611329654612 L -154.54860498789705,23.36881361702539 L -155.12925128643653,24.18743440817956 L -155.78902960435235,24.94372978362864 L -156.5212940598097,25.6300816547496 L -157.31866862526925,26.239576466930686 L -158.1731214254841,26.766074839124233 L -159.0760456417859,27.2042734052256 L -160.01834620771913,27.54975823435617 L -160.99053142274744,27.799049291953175 L -161.98280856121562,27.949635493814128 L -162.98518251350794,28.0 L -164.75451377891073,28.0 L -164.994425584542,28.011786111233167 L -165.0380109417906,28.05987514238859 L -165.6124091454067,28.75590207615662 L -166.35081613571785,29.482324689910772 L -167.16040554482993,30.12846684591616 L -168.03249100706844,30.687395860788328 L -168.95771561492057,31.153114791194476 L -169.9261523125424,31.520626777139245 L -170.92741040658558,31.785988655009383 L -171.95074705155147,31.94635326514431 L -172.98518251350794,32.0 L -177.75451377891073,32.0 L -177.9885047602141,32.0114952397859 L -178.0,32.24548622108908 L -178.0,43.7545137789105 L -177.9882138887668,43.994425584542 L -177.71393373116112,44.243018628906036 L -177.5284353615929,44.39533504412819 L -176.83134262786353,45.09353103032353 L -176.20644413367503,45.85702155843669 L -175.65982274041963,46.678374690160865 L -175.19679934773168,47.549595243397135 L -174.9906745100183,47.98839816724143 L -174.7545137789107,48.0 L -162.98518251350794,48.0 L -162.0538737390059,48.04346124566697 L -161.13066013239197,48.1734672066929 L -160.22356649633812,48.38888783887572 L -159.3404775147163,48.68785065241202 L -158.4890692169617,49.06775698804493 L -157.67674225611265,49.52530460525777 L -156.91055758049063,50.05651638617134 L -156.19717505817832,50.656774905643346 L -155.54279558778705,51.32086256707808 L -155.02900155096927,51.950065188567656 L -154.994425584542,51.98821388876683 L -154.7545137789107,52.0 L -140.2454862210893,52.0 L -140.00628124711835,51.988248613179614 L -139.83555102138385,51.7580455524623 L -139.61539407709833,51.42855740095374 L -138.99283001584146,50.66996089740786 L -138.29890831076204,49.97603919232843 L -137.54031180721617,49.35347513107155 L -136.72434620422405,48.80826434587526 L -135.8588696965946,48.345657514643534 L -135.05492304119042,48.01265190655063 L -135.00787762756514,47.99040108303863 L -134.83555102138362,47.75804555246198 L -134.6153940770981,47.428557400953444 L -133.99283001584124,46.66996089740764 L -133.29890831076185,45.97603919232828 L -132.54031180721603,45.353475131071455 L -131.72434620422393,44.808264345875216 L -130.85886969659458,44.34565751464353 L -130.05492304119048,44.01265190655065 L -130.01167667197305,43.992197897225616 L -130.0,43.754513778910784 L -130.0,40.647771281738244 L -129.9561221674148,39.71201950508396 L -129.82487372249767,38.784479480389194 L -129.60740644470727,37.87329089683784 L -129.3056287326051,36.98644995045438 L -128.9221888565771,36.131739172953864 L -128.46045171876062,35.31665913561707 L -127.92446932412194,34.54836262752836 L -127.3189452218172,33.83359188579927 L -126.64919322888383,33.17861942861828 L -125.92109079848575,32.589193010350215 L -125.14102744193214,32.07048518173548 L -125.01107913080061,31.992597161472315 L -124.98586276324944,31.822602219788667 L -124.92455353395192,31.20011916839797 L -124.73310096624954,30.237622113918952 L -124.4482290861343,29.2985253790294 L -124.07268136553853,28.391872978648784 L -123.6100745343068,27.526396471019403 L -123.06486374911053,26.710430868027295 L -122.44229968785368,25.95183436448145 L -121.74837798277426,25.257912659402052 L -120.98978147922841,24.635348598145203 L -120.1738158762363,24.09013781294894 L -120.01171501035964,23.9929782930126 L -120.0,23.75451377891071 L -120.0,20.647771281738244 L -119.94952893567017,19.644340188806595 L -119.79862520834762,18.651037942923395 L -119.54881207237818,17.677891148398757 L -119.20261119473308,16.734722956126443 L -118.76351720076563,15.831053906607668 L -118.23596239871912,14.976005827588647 L -117.62527203906384,14.178209756389636 L -116.93761056028538,13.445718816376948 L -116.17991936373024,12.785926927021462 L -115.35984674562309,12.205494168101573 L -114.48567069353669,11.710279551440191 L -113.56621532662311,11.305281878792234 L -112.61076182307671,10.994589282875634 L -111.62895473394586,10.78133796088945 L -110.63070462898155,10.667680517071759 L -109.62608805723673,10.654764233854259 L -108.6252458322353,10.742719490949185 L -107.63828066844165,10.930658449268737 L -106.67515520231042,11.216684012961833 L -105.74559142731336,11.597908979103444 L -105.14390935747845,11.918611185674274 L -104.99701585786597,11.988086636798382 L -104.75451377891073,12.0 L -95.24548622108924,12.0 L -95.0114952397859,11.988504760214102 L -95.0,11.75451377891071 L -95.0,4.245486221089289 L -95.01200189267756,4.001182083252715 L -95.07317256145012,3.588802931115033 L -95.09238654047199,3.4928556552015726 L -95.18973116682108,2.542278655289956 L -95.1959028829777,1.586750257512216 L -95.11084533669212,0.6349951299400607 L -94.93533516512142,-0.3042965120515153 L -94.67097490356825,-1.2225482537604888 L -94.32017835317006,-2.1113757900512695 L -93.886148541142,-2.9626634801483975 L -93.37284847481276,-3.768638449329451 L -92.78496495649017,-4.521941560915135 L -92.1278657895531,-5.215694610530497 L -91.40755076650908,-5.843563129105138 L -90.63059688653233,-6.399814221175152 L -89.80409830268579,-6.8793689103813715 L -88.93560154715266,-7.27784851421128 L -88.03303662591813,-7.591614624549704 L -87.10464461205677,-7.817802328986685 L -86.15890239875168,-7.954346369547999 L -85.490596089848,-7.986312823846169 L -85.49067674327418,-7.9879545620517245 L -85.01046456963684,-8.011545873363476 L -84.98586276324944,-8.177397780211315 L -84.92455353395192,-8.799880831602028 L -84.73310096624954,-9.76237788608104 L -84.4482290861343,-10.701474620970593 L -84.07268136553853,-11.608127021351203 L -83.61007453430682,-12.47360352898059 L -83.06486374911054,-13.2895691319727 L -82.44229968785368,-14.048165635518536 L -81.74837798277427,-14.742087340597937 L -80.98978147922843,-15.364651401854786 L -80.17381587623632,-15.909862187051052 L -80.01171501035964,-16.007021706987402 L -80.0,-16.24548622108929 L -80.0,-19.75451377891071 L -80.01171501035964,-19.99297829301259 L -80.14102744193218,-20.0704851817355 L -80.92109079848579,-20.589193010350243 L -81.64919322888387,-21.178619428618312 L -82.31894522181723,-21.833591885799308 L -82.92446932412197,-22.5483626275284 L -83.46045171876064,-23.31665913561712 L -83.92218885657712,-24.131739172953914 L -84.30562873260513,-24.986449950454436 L -84.6074064447073,-25.87329089683789 L -84.8248737224977,-26.784479480389255 L -84.9561221674148,-27.712019505084015 L -85.0,-28.647771281738244 L -85.0,-31.352228718261756 L -84.94691598272819,-32.38123913246878 L -84.78822751349071,-33.399324745355614 L -84.52561935657593,-34.395676742070584 L -84.16187957117134,-35.35971704929322 L -83.70086991108708,-36.28121064055964 L -83.14748482527486,-37.15037419952694 L -82.5075994944253,-37.95797998751985 L -81.78800745532938,-38.695453812618645 L -80.99634847523349,-39.35496606016953 L -80.14102744193218,-39.9295148182645 L -80.01171501035964,-40.0070217069874 L -80.0,-40.245486221089294 L -80.0,-43.75451377891071 L -80.01185163817351,-43.99575941605457 L -80.04689280129847,-44.043006955075604 L -80.5811119039746,-44.84067834371539 L -81.03637806711293,-45.68590163647287 L -81.40849524046119,-46.57088666641281 L -81.69403373280676,-47.487476794718546 L -81.89036182240119,-48.42722408796003 L -81.99567001274207,-49.381467180136035 L -82.0089877101538,-50.34141110185967 L -81.93019216945542,-51.29820834092578 L -81.7600096252657,-52.24304038714967 L -81.50000859851878,-53.167199009902845 L -81.15258543988205,-54.06216651923565 L -80.72094224331832,-54.91969427084416 L -80.2090573333562,-55.731878691324866 L -79.62164859807854,-56.491234123015445 L -78.96413000577782,-57.1907618170329 L -78.24256170605116,-57.8240144386209 L -77.46359417523806,-58.385155490280326 L -76.63440692099549,-58.86901310499789 L -75.76264231095165,-59.271127713777034 L -74.85633513531961,-59.58779314813381 L -73.92383855267097,-59.816090798728645 L -72.97374710140485,-59.95391651530407 L -72.01481748649206,-60.0 L -70.0,-60.0 L -69.01982859670439,-59.95184726672197 L -68.04909677983872,-59.80785280403231 L -67.09715322745538,-59.56940335732209 L -66.1731656763491,-59.23879532511287 L -65.28603263174003,-58.81921264348355 L -64.44429766980397,-58.314696123025456 L -63.65606715836354,-57.73010453362737 L -62.928932188134524,-57.071067811865476 L -62.26989546637263,-56.34393284163646 L -61.685303876974544,-55.55570233019602 L -61.18078735651645,-54.71396736825998 L -60.76120467488713,-53.8268343236509 L -60.43059664267791,-52.90284677254462 L -60.19214719596769,-51.95090322016128 L -60.04815273327803,-50.9801714032956 L -60.0,-50.0 L -60.0,-48.24548622108929 L -59.98832332802695,-48.00780210277438 L -59.94507695880957,-47.98734809344937 L -59.14113030340542,-47.65434248535648 L -58.27565379577601,-47.19173565412476 L -57.45968819278389,-46.64652486892849 L -56.70109168923803,-46.02396080767162 L -56.00716998415861,-45.33003910259221 L -55.38460592290175,-44.57144259904635 L -55.16444897861626,-44.24195444753785 L -54.99175230105829,-44.009099933473195 L -54.82618412376365,-43.90986218705103 L -54.010218520771545,-43.36465140185477 L -53.2516220172257,-42.74208734059792 L -52.5577003121463,-42.048165635518515 L -51.93513625088945,-41.28956913197268 L -51.38992546569318,-40.473603528980576 L -50.927318634461464,-39.60812702135119 L -50.55177091386569,-38.70147462097058 L -50.266899033750455,-37.762377886081026 L -50.07544646604808,-36.79988083160202 L -50.01413723675054,-36.17739778021124 L -49.989029648256434,-36.00813616736342 L -49.94507695880966,-35.987348093449405 L -49.14113030340542,-35.65434248535648 L -48.27565379577601,-35.19173565412476 L -47.45968819278389,-34.64652486892849 L -46.70109168923803,-34.02396080767162 L -46.00716998415861,-33.33003910259221 L -45.38460592290175,-32.57144259904635 L -45.16444897861626,-32.24195444753786 L -44.99212237243488,-32.00959891696137 L -44.94507695880965,-31.9873480934494 L -44.14113030340542,-31.65434248535648 L -43.27565379577601,-31.191735654124763 L -42.45968819278389,-30.646524868928488 L -41.70109168923803,-30.02396080767162 L -41.00716998415861,-29.330039102592206 L -40.38460592290175,-28.571442599046346 L -40.16444897861627,-28.24195444753787 L -39.99212237243488,-28.00959891696137 L -39.9450769588096,-27.987348093449377 L -39.14113030340542,-27.65434248535648 L -38.27565379577601,-27.191735654124763 L -37.45968819278389,-26.646524868928488 L -36.70109168923803,-26.02396080767162 L -36.00716998415861,-25.330039102592206 L -35.38460592290175,-24.571442599046346 L -35.16444897861627,-24.24195444753787 L -34.99175230105831,-24.009099933473216 L -34.85897255806775,-23.929514818264458 L -34.003651524766454,-23.354966060169478 L -33.211992544670565,-22.695453812618588 L -32.492400505574636,-21.957979987519785 L -31.85251517472509,-21.150374199526873 L -31.299130088912875,-20.28121064055958 L -30.838120428828635,-19.359717049293153 L -30.474380643424045,-18.395676742070517 L -30.211772486509275,-17.399324745355543 L -30.053084017271807,-16.381239132468714 L -30.0,-15.352228718261756 L -30.0,-8.245486221089287 L -29.987998107322444,-8.001182083252708 L -29.926827438549918,-7.588802931115312 L -29.907613459528037,-7.492855655201795 L -29.81026883317893,-6.5422786552901675 L -29.80409711702229,-5.586750257512414 L -29.88915466330785,-4.634995129940245 L -30.06466483487855,-3.695703487948653 L -30.3290250964317,-2.777451746239667 L -30.679821646829872,-1.8886242099488646 L -31.11385145885793,-1.0373365198517224 L -31.62715152518717,-0.23136155067064657 L -32.21503504350976,0.5219415609150495 L -32.87213421044683,1.2156946105304334 L -33.59244923349085,1.8435631291050854 L -34.36940311346761,2.399814221175115 L -35.19590169731416,2.879368910381345 L -36.0643984528473,3.277848514211266 L -36.96696337408185,3.5916146245496954 L -37.89535538794322,3.8178023289866836 L -38.841097601248315,3.9543463695479986 L -39.79555470089532,4.0 L -44.75451377891072,4.0 L -44.99371875288164,4.01175138682038 L -45.16444897861631,4.241954447537937 L -45.38460592290169,4.571442599046268 L -46.007169984158544,5.330039102592133 L -46.701091689237956,6.023960807671555 L -47.4596881927838,6.646524868928429 L -48.27565379577592,7.191735654124713 L -49.141130303405326,7.6543424853564375 L -49.945076958809636,7.987348093449396 L -49.99212237243488,8.009598916961373 L -50.1644489786163,8.24195444753792 L -50.38460592290169,8.57144259904627 L -51.007169984158544,9.330039102592135 L -51.701091689237956,10.023960807671557 L -52.4596881927838,10.646524868928429 L -53.27565379577592,11.191735654124713 L -54.141130303405326,11.654342485356436 L -54.9450769588096,11.98734809344938 L -54.98832332802696,12.00780210277438 L -55.0,12.245486221089298 L -55.0,14.0 L -55.05141361911389,15.012733440766832 L -55.205125804409484,16.015053223256167 L -55.45955597593719,16.996652769962562 L -55.81208789851102,17.947438563842667 L -56.25909658373241,18.857633937163392 L -56.79598556474485,19.717879602276113 L -57.417234160433125,20.519329890586732 L -58.11645424306245,21.253743710122865 L -58.88645592563182,21.91356928640659 L -59.7193214934963,22.49202181526578 L -60.60648682004005,22.983153229101582 L -61.53882942922505,23.381913359224832 L -62.50676229949286,23.684201865345944 L -63.50033244445953,23.88691039824167 L -64.50932325672579,23.987954562051723 L -64.9885047602141,24.0114952397859 L -65.0,24.245486221089294 L -65.0,27.75451377891071 L -64.98805674405259,27.99762433868528 L -64.88788835721185,28.277576225627534 L -64.74145340797618,28.631101466077695 L -64.45658152786093,29.570198200967262 L -64.26512896015855,30.532695255446292 L -64.16893949775462,31.50932325672574 L -64.16893949775462,32.490676743274115 L -64.26512896015853,33.46730474455356 L -64.45658152786089,34.429801799032596 L -64.74145340797612,35.36889853392217 L -64.88788835721182,35.72242377437241 L -64.98805674405259,36.00237566131474 L -65.0,36.245486221089294 L -65.0,39.75451377891071 L -64.9885047602141,39.9885047602141 L -64.7545137789107,40.0 L -57.985182513507944,40.0 L -56.95074705155148,40.05364673485569 L -55.9274104065856,40.21401134499062 L -54.92615231254242,40.47937322286076 L -53.95771561492059,40.846885208805524 L -53.032491007068465,41.312604139211665 L -52.16040554482994,41.871533154083835 L -51.35081613571786,42.517675310089224 L -50.61240914540673,43.24409792384337 L -50.03801094179083,43.94012485761111 L -49.99227484188894,43.990586867606005 L -49.858972558067734,44.07048518173556 L -49.00365152476643,44.64503393983054 L -48.21199254467055,45.304546187381426 L -47.49240050557463,46.04202001248023 L -46.852515174725085,46.84962580047314 L -46.299130088912875,47.718789359440436 L -45.83812042882863,48.64028295070686 L -45.47438064342404,49.604323257929494 L -45.211772486509275,50.600675254644464 L -45.0530840172718,51.61876086753129 L -45.0,52.64777128173825 L -45.0,55.75451377891071 L -44.9885047602141,55.9885047602141 L -44.754513778910706,56.0 L -42.985182513507944,56.0 L -41.95074705155148,56.05364673485569 L -40.9274104065856,56.21401134499062 L -39.92615231254242,56.47937322286076 L -38.95771561492059,56.846885208805524 L -38.032491007068465,57.312604139211665 L -37.16040554482994,57.871533154083835 L -36.35081613571786,58.517675310089224 L -35.61240914540673,59.24409792384337 L -35.03801094179083,59.94012485761111 L -34.99442558454197,59.98821388876683 L -34.754513778910706,60.0 L -25.24548622108929,60.0 L -25.00628124711836,59.98824861317962 L -24.83555102138378,59.75804555246219 L -24.615394077098333,59.42855740095376 L -23.992830015841445,58.66996089740785 L -23.298908310761995,57.97603919232839 L -22.5403118072161,57.3534751310715 L -21.724346204223927,56.8082643458752 L -20.85886969659447,56.34565751464346 L -20.054923041190502,56.01265190655067 L -20.010970351743573,55.99186383263658 L -19.985862763249447,55.822602219788685 L -19.924553533951936,55.200119168398075 L -19.733100966249566,54.23762211391905 L -19.44822908613434,53.2985253790295 L -19.072681365538564,52.391872978648884 L -18.610074534306857,51.52639647101949 L -18.06486374911059,50.71043086802737 L -17.442299687853733,49.95183436448153 L -16.748377982774336,49.25791265940212 L -15.989781479228489,48.635348598145264 L -15.173815876236377,48.09013781294899 L -15.01171501035963,47.9929782930126 L -15.0,47.75451377891075 L -15.0,40.24548622108925 L -15.011495239785901,40.0114952397859 L -15.490676743274172,39.987954562051726 L -16.436950331502935,39.896220174632006 L -17.370236059943664,39.71503890986252 L -18.282098435790918,39.446048372614804 L -19.164295600976367,39.09167983090523 L -20.0088538261124,38.6551362409057 L -20.80813958095764,38.14036329705949 L -21.55492852999615,37.55201376896537 L -22.242470829514666,36.89540544737068 L -22.864552135990852,36.17647307937805 L -23.415549774368984,35.40171472729894 L -23.89048355854664,34.57813303598878 L -24.285060804732154,33.71317193951838 L -24.59571513081984,32.81464937925759 L -24.81963869109555,31.890686641498068 L -24.95480755491927,30.949634953296393 L -25.0,30.000000000000007 L -25.0,24.24548622108929 L -25.011851638173507,24.00424058394543 L -25.273538355105828,23.651396891929412 L -25.334023949939972,23.57769498137672 L -25.87923473513623,22.7617293783846 L -26.341841566367922,21.896252870755212 L -26.717389286963684,20.989600470374594 L -27.0022611670789,20.05050373548504 L -27.19371373478126,19.088006681006025 L -27.28990319718516,18.1113786797266 L -27.289903197185154,17.130025193178245 L -27.193713734781234,16.153397191898822 L -27.00226116707886,15.19090013741981 L -26.717389286963627,14.25180340253026 L -26.34184156636785,13.345151002149649 L -25.879234735136144,12.479674494520266 L -25.334023949939876,11.66370889152816 L -24.71145988868302,10.905112387982317 L -24.01753818360362,10.211190682902915 L -23.25894168005778,9.588626621646064 L -22.442976077065673,9.043415836449798 L -21.577499569436284,8.580809005218086 L -20.670847169055676,8.205261284622312 L -20.267270639593097,8.082837682828075 L -20.007498334786572,7.98988966592924 L -19.835551021383743,7.7580455524621454 L -19.615394077098237,7.42855740095363 L -18.99283001584138,6.669960897407786 L -18.298908310761977,5.976039192328381 L -17.540311807216135,5.3534751310715265 L -16.72434620422402,4.808264345875257 L -15.858869696594631,4.3456575146435465 L -15.054923041190403,4.012651906550624 L -15.00731603456074,3.990135469329168 L -14.970998449030779,3.950065188567698 L -14.457204412212729,3.320862567077839 L -13.802824941821473,2.656774905643143 L -13.089442419509169,2.056516386171186 L -12.323257743887154,1.5253046052576558 L -11.510930783038127,1.0677569880448488 L -10.659522485283555,0.6878506524119636 L -9.776433503661767,0.388887838875684 L -8.86933986760797,0.17346720669288374 L -7.946126260994058,0.04346124566696652 L -7.014817486492059,0.0 L -2.2454862210892785,0.0 L -2.0114952397858996,-0.01149523978590151 L -2.0,-0.24548622108925516 L -2.0,-11.754513778910747 L -2.011943255947414,-11.997624338685275 L -2.112111642788153,-12.27757622562754 L -2.258546592023883,-12.631101466077858 L -2.5434184721391073,-13.570198200967418 L -2.7348710398414724,-14.532695255446438 L -2.8310605022453803,-15.509323256725876 L -2.8310605022453768,-16.490676743274232 L -2.7348710398414564,-17.467304744553665 L -2.5434184721390825,-18.429801799032685 L -2.2585465920238477,-19.36889853392224 L -2.112111642788126,-19.722423774372533 L -2.011943255947414,-20.00237566131472 L -2.0,-20.245486221089255 L -2.0,-87.75451377891073 L -2.0114952397859,-87.9885047602141 L -2.245486221089291,-88.0 L -177.75451377891054,-88.0 L -177.9885047602141,-87.98850476021408 L -178.0,-87.75451377891092 L -178.0,-56.2454862210895 L -177.98818054938468,-56.004895776744625 L -177.69059839567842,-55.67656446631718 z\" /><path fill-rule=\"evenodd\" fill=\"#66cc99\" stroke=\"#555555\" stroke-width=\"2.5416\" opacity=\"0.6\" d=\"M -177.9885047602141,76.01149523978592 L -178.0,76.24548622108908 L -178.0,87.7545137789105 L -177.98850476021408,87.9885047602141 L -177.7545137789107,88.0 L -115.24548622108928,88.0 L -115.0114952397859,87.9885047602141 L -115.0,87.7545137789107 L -115.0,84.2454862210893 L -115.0114952397859,84.0114952397859 L -115.2454862210893,84.0 L -122.01481748649205,84.0 L -123.0492529484485,83.94635326514431 L -124.07258959341436,83.78598865500939 L -125.07384768745753,83.52062677713926 L -126.04228438507936,83.1531147911945 L -126.96750899293146,82.68739586078837 L -127.83959445516999,82.12846684591622 L -128.64918386428207,81.48232468991084 L -129.38759085459318,80.7559020761567 L -129.96198905820947,80.05987514238853 L -130.005574415458,80.01178611123318 L -130.2454862210893,80.0 L -132.01481748649206,80.0 L -132.9461262609941,79.95653875433302 L -133.86933986760803,79.82653279330711 L -134.77643350366188,79.61111216112428 L -135.6595224852837,79.31214934758799 L -136.5109307830383,78.93224301195507 L -137.32325774388735,78.47469539474223 L -138.08944241950937,77.94348361382866 L -138.80282494182168,77.34322509435665 L -139.45720441221295,76.67913743292192 L -139.9709984490307,76.04993481143237 L -140.005574415458,76.01178611123318 L -140.2454862210893,76.0 L -177.75451377891054,76.0 L -177.9885047602141,76.01149523978592 z\" /><path fill-rule=\"evenodd\" fill=\"#66cc99\" stroke=\"#555555\" stroke-width=\"2.5416\" opacity=\"0.6\" d=\"M 130.01149522435435,4.011495224354356 L 130.0,4.245486052464131 L 130.0,15.754513947535868 L 130.01149522435435,15.988504775645648 L 130.2454860524641,16.0 L 137.01481754267093,16.0 L 137.97374716434453,16.04608348534724 L 138.92383862218426,16.183909203864616 L 139.85633521103492,16.412206857656173 L 140.76264239231878,16.72887229640525 L 141.63440700729407,17.130986910690524 L 142.46359426558874,17.614844531924938 L 143.24256179942918,18.17598559098883 L 143.96413010102913,18.80923822072758 L 144.62164869393774,19.508765923484447 L 145.2090574284667,20.26812136433144 L 145.72094233625387,21.080305794202232 L 146.15258552916978,21.937833555242182 L 146.50000868266324,22.832801073849144 L 146.76000970277357,23.75695970551712 L 146.93019223886068,24.701791760093908 L 147.00898777004292,25.658589006750976 L 146.99567006177898,26.618532935109 L 146.89036185935157,27.572776032776645 L 146.6940337565614,28.5125233301921 L 146.40849525005814,29.429113461193253 L 146.03637806175783,30.31409849220582 L 145.5811118830594,31.159321784287965 L 145.0468927644179,31.95699317040052 L 145.0118516166688,32.00424068714698 L 145.0,32.24548605246413 L 145.0,35.75451394753587 L 145.0116766536388,35.99219785611132 L 145.0549230375905,36.01265187202357 L 145.85887036929225,36.34565783149756 L 146.72434672609612,36.808264650842375 L 147.5403121877209,37.353475398100954 L 148.29890856293906,37.97603939721806 L 148.99283015603018,38.6699610182479 L 149.61539412460462,39.428557418531774 L 149.8355509709007,39.7580454179491 L 150.00787767511198,39.99040107311728 L 150.0549230375905,40.01265187202357 L 150.85887036929225,40.34565783149756 L 151.72434672609612,40.808264650842375 L 152.5403121877209,41.353475398100954 L 153.29890856293906,41.97603939721806 L 153.99283015603018,42.6699610182479 L 154.61539412460462,43.428557418531774 L 154.8355509709007,43.7580454179491 L 155.00787767511198,43.99040107311728 L 155.0549230375905,44.01265187202357 L 155.85887036929225,44.34565783149756 L 156.72434672609612,44.808264650842375 L 157.5403121877209,45.353475398100954 L 158.29890856293906,45.97603939721806 L 158.99283015603018,46.6699610182479 L 159.61539412460462,47.428557418531774 L 159.8355509709007,47.7580454179491 L 160.00628131664206,47.988248632960904 L 160.24548605246414,48.0 L 174.75451394753586,48.0 L 174.98850477564565,47.988504775645644 L 175.0,47.75451394753587 L 175.0,24.245486052464134 L 174.98805676169488,24.002375684611945 L 174.88788845254695,23.72242408769461 L 174.7414533543125,23.36889848112102 L 174.45658148335687,22.429801760176396 L 174.26512892186096,21.467304720779723 L 174.16893946259046,20.490676735272466 L 174.16893946259046,19.50932326472747 L 174.26512892186096,18.532695279220214 L 174.45658148335687,17.570198239823537 L 174.74145335431254,16.63110151887892 L 174.88788845254695,16.277575912305423 L 174.98805676169488,15.997624315388057 L 175.0,15.754513947535868 L 175.0,-7.754513947535868 L 174.9883233463612,-7.99219785611132 L 174.94507696240964,-8.012651872023513 L 174.14112963070778,-8.345657831497546 L 173.27565327390388,-8.808264650842357 L 172.4596878122791,-9.353475398100954 L 171.70109143706094,-9.976039397218079 L 171.0071698439698,-10.669961018247943 L 170.38460587539532,-11.428557418531831 L 170.16444902909925,-11.758045417949178 L 169.9937186833579,-11.98824863296091 L 169.75451394753588,-12.0 L 157.74548605246412,-12.0 L 157.51046455867953,-11.988454142322698 L 157.45118216763282,-11.588804835098756 L 157.43615096371605,-11.436190415419908 L 157.24469839570494,-10.473693262688643 L 156.95982649658592,-9.534596432800388 L 156.58427873901348,-8.627943943366787 L 156.37620586232853,-8.238666980145558 L 156.261913341063,-7.9970157426252495 L 156.25,-7.754513947535868 L 156.25,-7.245486052464132 L 156.28387480737774,-6.555948033367428 L 156.2876732866878,-6.5179131841589 L 156.29157622715343,-5.563806482709371 L 156.20453232811238,-4.613670602776972 L 156.02733398049565,-3.6761549622156617 L 155.76159428258103,-2.7597940924446833 L 155.4097323553976,-1.8729299456364243 L 154.97495132062448,-1.023635955020227 L 154.46120914145845,-0.2196435396076719 L 153.87318259189644,0.5317282776075922 L 153.21622468243282,1.2236394972654292 L 152.4963159297405,1.8497914105358033 L 151.7200099139444,2.404483938459151 L 150.89437361909916,2.882667521750525 L 150.02692309997158,3.2799890886965546 L 149.1255550607763,3.5928316826834674 L 148.1984749687269,3.818347388612951 L 147.25412235680977,3.95448325846524 L 146.30109399577572,4.0 L 130.24548605246414,4.0 L 130.01149522435435,4.011495224354356 z\" /><path fill-rule=\"evenodd\" fill=\"#66cc99\" stroke=\"#555555\" stroke-width=\"2.5416\" opacity=\"0.6\" d=\"M 2.0,-4.245486052464128 L 2.0114952243543542,-4.011495224354355 L 2.245486052464128,-4.0 L 4.754513947535872,-4.0 L 4.988504775645646,-4.011495224354355 L 5.0,-4.2454860524641145 L 5.0,-15.352228748384029 L 5.0530840157729955,-16.381239148102765 L 5.21177248054585,-17.399324746963597 L 5.474380630125168,-18.395676730568937 L 5.838120405480067,-19.359717026036165 L 6.299130053016114,-20.281210607315202 L 6.852515124053042,-21.150374158445384 L 7.49240043822296,-21.95797994109521 L 8.21199245910381,-22.69545376364377 L 9.00365141985828,-23.354966011685402 L 9.858972433134468,-23.9295147735046 L 9.988285008131218,-24.00702175075284 L 10.0,-24.245486052464113 L 10.0,-30.0 L 10.048152733278037,-30.980171403295664 L 10.192147195967706,-31.950903220161337 L 10.430596642677926,-32.90284677254468 L 10.761204674887152,-33.82683432365094 L 11.18078735651647,-34.713967368260015 L 11.685303876974569,-35.555702330196056 L 12.269895466372652,-36.34393284163648 L 12.928932188134548,-37.0710678118655 L 13.656067158363568,-37.73010453362739 L 14.444297669804,-38.31469612302547 L 15.286032631740042,-38.81921264348356 L 16.173165676349118,-39.238795325112875 L 17.09715322745539,-39.569403357322095 L 18.049096779838727,-39.80785280403231 L 19.019828596704404,-39.95184726672197 L 20.0,-40.0 L 22.01481754267092,-40.0 L 23.049252987362845,-39.94635326693985 L 24.0725896156209,-39.785988662153 L 25.07384769405972,-39.52062679306852 L 26.042284377707638,-39.15311481915742 L 26.967508973713993,-38.687395903771886 L 27.839594426694255,-38.12846690657884 L 28.649183829548086,-37.4823247705207 L 29.38759081695885,-36.75590217853586 L 29.961989261272127,-36.059874974021476 L 30.0073160656137,-36.00986454838826 L 30.054923037590456,-35.987348127976446 L 30.858870369292262,-35.65434216850244 L 31.72434672609625,-35.19173534915756 L 32.54031218772114,-34.646524601898875 L 33.29890856293938,-34.02396060278165 L 33.99283015603057,-33.33003898175167 L 34.61539412460506,-32.57144258146766 L 34.83555097090092,-32.2419545820506 L 35.006281316642074,-32.01175136703909 L 35.24548605246409,-32.0 L 42.01481754267092,-32.0 L 43.04925298736285,-31.94635326693985 L 44.07258961562091,-31.785988662153002 L 45.073847694059744,-31.520626793068516 L 46.04228437770767,-31.153114819157416 L 46.967508973714025,-30.687395903771865 L 47.83959442669429,-30.128466906578815 L 48.64918382954812,-29.48232477052067 L 49.38759081695889,-28.75590217853582 L 49.96198926127216,-28.059874974021433 L 50.005574480446356,-28.011786091650805 L 50.24548605246409,-28.0 L 52.01481754267092,-28.0 L 53.04925298736285,-27.94635326693985 L 54.07258961562091,-27.785988662153002 L 55.073847694059744,-27.520626793068516 L 56.04228437770767,-27.153114819157416 L 56.967508973714025,-26.687395903771865 L 57.83959442669429,-26.128466906578815 L 58.64918382954812,-25.48232477052067 L 59.38759081695889,-24.75590217853582 L 59.96198926127216,-24.059874974021433 L 60.008527707488746,-24.008527707488785 L 60.03595126682365,-23.98367244395955 L 60.73556879485743,-23.409511159682477 L 61.42949047919436,-22.715589457088065 L 62.05205452129964,-21.956992959072114 L 62.59726528932036,-21.141027364357004 L 63.059872105693714,-20.27555086740897 L 63.43541981404054,-19.36889847973221 L 63.72029168475527,-18.429801759154387 L 63.911744246087935,-17.467304720154424 L 64.007933705276,-16.490676735062028 L 64.007933705276,-15.50932326493797 L 63.911744246087935,-14.532695279845573 L 63.72029168475527,-13.570198240845613 L 63.43541981404054,-12.63110152026779 L 63.059872105693714,-11.72444913259103 L 62.59726528932036,-10.858972635642997 L 62.05205452129964,-10.043007040927886 L 61.429490479194364,-9.284410542911937 L 60.73556879485743,-8.590488840317526 L 60.035951266823645,-8.016327556040444 L 60.01128264351756,-7.993969220797078 L 59.98586272773247,-7.822602115762421 L 59.92455355587313,-7.20011943857214 L 59.73310101411889,-6.237622359441129 L 59.44822915561316,-5.298525598020142 L 59.072681452187055,-4.391873169836517 L 58.610074633660716,-3.526396633740461 L 58.06486385675672,-2.710431002216904 L 57.44229979950376,-1.9518344706557462 L 56.74837809433488,-1.2579127386315898 L 55.98978158686741,-0.6353486520203866 L 55.173815976443905,-0.0901378435379332 L 55.01171499186878,0.007021750752850663 L 55.0,0.24548605246413202 L 55.0,7.754513947535868 L 55.01171499186878,7.992978249247158 L 55.173815976444075,8.09013784353805 L 55.98978158686755,8.635348652020507 L 56.748378094334996,9.25791273863171 L 57.44229979950385,9.95183447065586 L 58.06486385675679,10.710431002217007 L 58.61007463366076,11.526396633740553 L 59.07268145218708,12.391873169836593 L 59.44822915561318,13.2985255980202 L 59.73310101411889,14.237622359441167 L 59.92455355587313,15.200119438572157 L 59.98586272773247,15.822602115762415 L 60.01046455867952,15.9884541423227 L 60.24548605246408,16.0 L 64.75451394753591,16.0 L 64.98850477564564,15.988504775645648 L 65.0,15.754513947535868 L 65.0,8.64777125161597 L 65.04599050579054,7.689807270462265 L 65.18353899783756,6.740654738913102 L 65.41138029119708,5.8090440579680696 L 65.72741867860476,4.903544276910481 L 66.12874720700341,4.03248427432514 L 66.61167441599119,3.2038761482306084 L 67.17175829224779,2.4253415199911377 L 67.8038471276224,1.704041429872353 L 68.50212690506635,1.0466104690685256 L 69.26017477655002,0.4590957540616003 L 70.07101814106883,-0.05309869536791645 L 70.92719877933256,-0.48526166286155537 L 71.82084145522086,-0.8334180697275144 L 72.74372635300168,-1.0943655381166035 L 73.68736468402795,-1.265703846817626 L 74.64307676747426,-1.3458570087348907 L 75.602071866919,-1.3340877669769426 L 76.55552904842739,-1.2305043762200238 L 77.49467831639396,-1.0360596069706176 L 78.4108812808494,-0.7525419818859422 L 79.29571061424531,-0.38255932476163323 L 79.86937766650681,-0.07510455119161333 L 80.05492303759048,0.012651872023560315 L 80.85887036929233,0.34565783149759177 L 81.72434672609637,0.8082646508425064 L 82.5403121877213,1.3534753981012333 L 83.29890856293956,1.9760393972185124 L 83.99283015603078,2.6699610182485536 L 84.61539412460527,3.4285574185326375 L 84.83555097090105,3.758045417949599 L 85.00628131664207,3.9882486329609104 L 85.2454860524641,4.0 L 89.7545139475359,4.0 L 89.98953544132048,3.988454142322698 L 90.01413727226753,3.822602115762517 L 90.07544644412694,3.200119438571764 L 90.2668989858812,2.237622359440833 L 90.55177084438694,1.2985255980199306 L 90.92731854781303,0.3918731698363853 L 91.38992536633934,-0.47360336625959665 L 91.9351361432433,-1.2895689977830864 L 92.5577002004962,-2.0481655293441845 L 93.25162190566502,-2.742087261368293 L 94.01021841313242,-3.3646513479794606 L 94.82618402355584,-3.9098621564618963 L 94.98828500813121,-4.007021750752841 L 95.0,-4.245486052464131 L 95.0,-6.0 L 95.04815273327804,-6.980171403295666 L 95.1921471959677,-7.950903220161338 L 95.43059664267793,-8.902846772544674 L 95.76120467488715,-9.826834323650944 L 96.18078735651648,-10.713967368260015 L 96.68530387697457,-11.555702330196054 L 97.26989546637266,-12.343932841636484 L 97.92893218813455,-13.071067811865497 L 98.65606715836357,-13.730104533627387 L 99.444297669804,-14.314696123025467 L 100.28603263174004,-14.81921264348356 L 101.17316567634911,-15.238795325112875 L 102.0971532274554,-15.569403357322093 L 103.04909677983873,-15.807852804032306 L 104.0198285967044,-15.95184726672197 L 105.0,-16.0 L 109.75451394753587,-16.0 L 109.98850477564564,-16.011495224354356 L 110.0,-16.245486052464134 L 110.0,-19.754513947535866 L 109.98814838333121,-19.99575931285302 L 109.95310723558212,-20.043006829599477 L 109.40789642528313,-20.85897244468879 L 108.94528957233537,-21.724448967929394 L 108.56974183383733,-22.63110138687717 L 108.28486993998291,-23.57019814268386 L 108.09341736297098,-24.532695219786103 L 107.997227895867,-25.509323244723493 L 107.997227895867,-26.49067675527657 L 108.093417362971,-27.46730478021396 L 108.28486993998291,-28.429801857316196 L 108.56974183383734,-29.36889861312289 L 108.9452895723354,-30.275551032070663 L 109.40789642528316,-31.141027555311265 L 109.95310723558212,-31.956993170400523 L 109.98889778437656,-32.00525113745225 L 110.09524202205789,-32.42980123679247 L 110.3683595901982,-33.335864574450156 L 110.72590183638056,-34.21205377780131 L 111.16466681255092,-35.050522187200535 L 111.68072518538817,-35.843760949301085 L 112.26945542521207,-36.5846662621388 L 112.92558519381393,-37.26660299280282 L 113.64323856056399,-37.883464097968755 L 114.41598862395433,-38.429725315157455 L 115.23691506732823,-38.90049463493493 L 116.09866613335927,-39.29155611100821 L 116.99352446227134,-39.59940761587856 L 117.91347620418938,-39.821292203933304 L 118.85028278668928,-39.95522280110629 L 119.79555469483714,-40.0 L 134.7545139475359,-40.0 L 134.9937186833579,-40.01175136703909 L 135.16444902909927,-40.241954582050866 L 135.38460587539538,-40.57144258146823 L 136.00716984396982,-41.3300389817521 L 136.70109143706094,-42.02396060278194 L 137.4596878122791,-42.646524601899046 L 138.27565327390388,-43.19173534915763 L 139.14112963070775,-43.65434216850244 L 139.9450769624095,-43.98734812797643 L 139.99268393438632,-44.009864548388265 L 140.03801073872788,-44.05987497402145 L 140.61240918304097,-44.75590217853568 L 141.35081617045174,-45.482324770520556 L 142.16040557330558,-46.12846690657874 L 143.03249102628587,-46.68739590377181 L 143.95771562229226,-47.15311481915738 L 144.92615230594018,-47.520626793068494 L 145.92741038437904,-47.78598866215299 L 146.95074701263712,-47.946353266939845 L 147.98518245732907,-48.0 L 154.75451394753586,-48.0 L 154.99048622936317,-48.01159256686652 L 155.09772726658133,-48.4397228915274 L 155.38259909810247,-49.378819659241586 L 155.7581467751264,-50.28547209640116 L 156.22075356810055,-51.150948644101675 L 156.76596432056488,-51.96691428977723 L 157.38852835474546,-52.72551083793062 L 158.08245003845354,-53.419432588854434 L 158.8410465263032,-54.041996696515355 L 159.6570121191677,-54.587207528017 L 160.5224886220585,-55.04981440482427 L 161.42914102284118,-55.42536216966974 L 162.36823776296166,-55.71023409215512 L 163.33073482713112,-55.90168669984327 L 164.3073628421403,-55.99787619939849 L 165.0,-55.997876223343646 L 165.0,-56.0 L 174.75451394753586,-56.0 L 174.98850477564565,-56.011495224354356 L 175.0,-56.24548605246413 L 175.0,-87.75451394753587 L 174.98850477564565,-87.98850477564564 L 174.75451394753586,-88.0 L 2.2454860524641322,-88.0 L 2.0114952243543542,-87.98850477564564 L 2.0,-87.75451394753587 L 2.0,-56.24548605246412 L 2.0120018743176855,-56.00118212033592 L 2.07808753171899,-55.5556689294616 L 2.0979671896797836,-55.45541221672243 L 2.1935507126820806,-54.466661716311116 L 2.1905653633816744,-53.47330636719243 L 2.089040600123628,-52.4851482399787 L 2.0108191960156168,-51.97474389321912 L 2.0,-51.75451394753588 L 2.0,-4.245486052464128 z\" /><path fill-rule=\"evenodd\" fill=\"#66cc99\" stroke=\"#555555\" stroke-width=\"2.5416\" opacity=\"0.6\" d=\"M 115.01149522435436,84.01149522435436 L 115.0,84.24548605246413 L 115.0,87.75451394753587 L 115.01149522435436,87.98850477564564 L 115.24548605246413,88.0 L 174.75451394753586,88.0 L 174.98850477564565,87.98850477564564 L 175.0,87.75451394753587 L 175.0,80.24548605246413 L 174.98850477564565,80.01149522435436 L 174.75451394753586,80.0 L 165.24548605246414,80.0 L 165.00557448044637,80.0117860916508 L 164.96198926127175,80.0598749740219 L 164.3875908169591,80.75590217853562 L 163.64918382954832,81.4823247705205 L 162.83959442669448,82.1284669065787 L 161.9675089737142,82.68739590377179 L 161.0422843777078,83.15311481915737 L 160.07384769405985,83.52062679306849 L 159.07258961562098,83.78598866215299 L 158.04925298736288,83.94635326693985 L 157.01481754267093,84.0 L 152.98518245732907,84.0 L 151.9507470126371,83.94635326693985 L 150.92741038437902,83.78598866215299 L 149.92615230594015,83.52062679306849 L 148.9577156222922,83.15311481915737 L 148.0324910262858,82.68739590377179 L 147.16040557330552,82.1284669065787 L 146.35081617045168,81.4823247705205 L 145.6124091830409,80.75590217853562 L 145.03801073872825,80.0598749740219 L 144.99442551955363,80.0117860916508 L 144.75451394753586,80.0 L 125.24548605246413,80.0 L 125.00557448044636,80.0117860916508 L 124.96198926127218,80.05987497402141 L 124.38759081695875,80.75590217853596 L 123.649183829548,81.48232477052078 L 122.83959442669416,82.1284669065789 L 121.96750897371392,82.68739590377193 L 121.04228437770757,83.15311481915745 L 120.07384769405967,83.52062679306854 L 119.07258961562086,83.78598866215302 L 118.04925298736282,83.94635326693985 L 117.01481754267091,84.0 L 115.24548605246413,84.0 L 115.01149522435436,84.01149522435436 z\" /></g></g></svg>"
      ],
      "text/plain": [
       "<shapely.geometry.multipolygon.MultiPolygon at 0x1e741932048>"
      ]
     },
     "execution_count": 310,
     "metadata": {},
     "output_type": "execute_result"
    }
   ],
   "source": [
    "row1_poly.union(row2_poly)"
   ]
  },
  {
   "cell_type": "code",
   "execution_count": 315,
   "metadata": {},
   "outputs": [
    {
     "data": {
      "image/svg+xml": [
       "<svg xmlns=\"http://www.w3.org/2000/svg\" xmlns:xlink=\"http://www.w3.org/1999/xlink\" width=\"100.0\" height=\"100.0\" viewBox=\"127.6 -14.4 49.80000000000001 64.8\" preserveAspectRatio=\"xMinYMin meet\"><g transform=\"matrix(1,0,0,-1,0,36.0)\"><path fill-rule=\"evenodd\" fill=\"#66cc99\" stroke=\"#555555\" stroke-width=\"1.296\" opacity=\"0.6\" d=\"M 130.01149522435435,4.011495224354356 L 130.0,4.245486052464131 L 130.0,15.754513947535868 L 130.01149522435435,15.988504775645648 L 130.2454860524641,16.0 L 137.01481754267093,16.0 L 137.97374716434453,16.04608348534724 L 138.92383862218426,16.183909203864616 L 139.85633521103492,16.412206857656173 L 140.76264239231878,16.72887229640525 L 141.63440700729407,17.130986910690524 L 142.46359426558874,17.614844531924938 L 143.24256179942918,18.17598559098883 L 143.96413010102913,18.80923822072758 L 144.62164869393774,19.508765923484447 L 145.2090574284667,20.26812136433144 L 145.72094233625387,21.080305794202232 L 146.15258552916978,21.937833555242182 L 146.50000868266324,22.832801073849144 L 146.76000970277357,23.75695970551712 L 146.93019223886068,24.701791760093908 L 147.00898777004292,25.658589006750976 L 146.99567006177898,26.618532935109 L 146.89036185935157,27.572776032776645 L 146.6940337565614,28.5125233301921 L 146.40849525005814,29.429113461193253 L 146.03637806175783,30.31409849220582 L 145.5811118830594,31.159321784287965 L 145.0468927644179,31.95699317040052 L 145.0118516166688,32.00424068714698 L 145.0,32.24548605246413 L 145.0,35.75451394753587 L 145.0116766536388,35.99219785611132 L 145.0549230375905,36.01265187202357 L 145.85887036929225,36.34565783149756 L 146.72434672609612,36.808264650842375 L 147.5403121877209,37.353475398100954 L 148.29890856293906,37.97603939721806 L 148.99283015603018,38.6699610182479 L 149.61539412460462,39.428557418531774 L 149.8355509709007,39.7580454179491 L 150.00787767511198,39.99040107311728 L 150.0549230375905,40.01265187202357 L 150.85887036929225,40.34565783149756 L 151.72434672609612,40.808264650842375 L 152.5403121877209,41.353475398100954 L 153.29890856293906,41.97603939721806 L 153.99283015603018,42.6699610182479 L 154.61539412460462,43.428557418531774 L 154.8355509709007,43.7580454179491 L 155.00787767511198,43.99040107311728 L 155.0549230375905,44.01265187202357 L 155.85887036929225,44.34565783149756 L 156.72434672609612,44.808264650842375 L 157.5403121877209,45.353475398100954 L 158.29890856293906,45.97603939721806 L 158.99283015603018,46.6699610182479 L 159.61539412460462,47.428557418531774 L 159.8355509709007,47.7580454179491 L 160.00628131664206,47.988248632960904 L 160.24548605246414,48.0 L 174.75451394753586,48.0 L 174.98850477564565,47.988504775645644 L 175.0,47.75451394753587 L 175.0,24.245486052464134 L 174.98805676169488,24.002375684611945 L 174.88788845254695,23.72242408769461 L 174.7414533543125,23.36889848112102 L 174.45658148335687,22.429801760176396 L 174.26512892186096,21.467304720779723 L 174.16893946259046,20.490676735272466 L 174.16893946259046,19.50932326472747 L 174.26512892186096,18.532695279220214 L 174.45658148335687,17.570198239823537 L 174.74145335431254,16.63110151887892 L 174.88788845254695,16.277575912305423 L 174.98805676169488,15.997624315388057 L 175.0,15.754513947535868 L 175.0,-7.754513947535868 L 174.9883233463612,-7.99219785611132 L 174.94507696240964,-8.012651872023513 L 174.14112963070778,-8.345657831497546 L 173.27565327390388,-8.808264650842357 L 172.4596878122791,-9.353475398100954 L 171.70109143706094,-9.976039397218079 L 171.0071698439698,-10.669961018247943 L 170.38460587539532,-11.428557418531831 L 170.16444902909925,-11.758045417949178 L 169.9937186833579,-11.98824863296091 L 169.75451394753588,-12.0 L 157.74548605246412,-12.0 L 157.51046455867953,-11.988454142322698 L 157.45118216763282,-11.588804835098756 L 157.43615096371605,-11.436190415419908 L 157.24469839570494,-10.473693262688643 L 156.95982649658592,-9.534596432800388 L 156.58427873901348,-8.627943943366787 L 156.37620586232853,-8.238666980145558 L 156.261913341063,-7.9970157426252495 L 156.25,-7.754513947535868 L 156.25,-7.245486052464132 L 156.28387480737774,-6.555948033367428 L 156.2876732866878,-6.5179131841589 L 156.29157622715343,-5.563806482709371 L 156.20453232811238,-4.613670602776972 L 156.02733398049565,-3.6761549622156617 L 155.76159428258103,-2.7597940924446833 L 155.4097323553976,-1.8729299456364243 L 154.97495132062448,-1.023635955020227 L 154.46120914145845,-0.2196435396076719 L 153.87318259189644,0.5317282776075922 L 153.21622468243282,1.2236394972654292 L 152.4963159297405,1.8497914105358033 L 151.7200099139444,2.404483938459151 L 150.89437361909916,2.882667521750525 L 150.02692309997158,3.2799890886965546 L 149.1255550607763,3.5928316826834674 L 148.1984749687269,3.818347388612951 L 147.25412235680977,3.95448325846524 L 146.30109399577572,4.0 L 130.24548605246414,4.0 L 130.01149522435435,4.011495224354356 z\" /></g></svg>"
      ],
      "text/plain": [
       "<shapely.geometry.polygon.Polygon at 0x1e749c2f240>"
      ]
     },
     "execution_count": 315,
     "metadata": {},
     "output_type": "execute_result"
    }
   ],
   "source": [
    "row2_poly[0]"
   ]
  },
  {
   "cell_type": "code",
   "execution_count": 312,
   "metadata": {},
   "outputs": [
    {
     "data": {
      "image/svg+xml": [
       "<svg xmlns=\"http://www.w3.org/2000/svg\" xmlns:xlink=\"http://www.w3.org/1999/xlink\" width=\"186.83999999999997\" height=\"117.84\" viewBox=\"-4.92 -94.92 186.83999999999997 117.84\" preserveAspectRatio=\"xMinYMin meet\"><g transform=\"matrix(1,0,0,-1,0,-72.0)\"><path fill-rule=\"evenodd\" fill=\"#66cc99\" stroke=\"#555555\" stroke-width=\"2.0\" opacity=\"0.6\" d=\"M 2.0,-4.245486052464128 L 2.0114952243543542,-4.011495224354355 L 2.245486052464128,-4.0 L 4.754513947535872,-4.0 L 4.988504775645646,-4.011495224354355 L 5.0,-4.2454860524641145 L 5.0,-15.352228748384029 L 5.0530840157729955,-16.381239148102765 L 5.21177248054585,-17.399324746963597 L 5.474380630125168,-18.395676730568937 L 5.838120405480067,-19.359717026036165 L 6.299130053016114,-20.281210607315202 L 6.852515124053042,-21.150374158445384 L 7.49240043822296,-21.95797994109521 L 8.21199245910381,-22.69545376364377 L 9.00365141985828,-23.354966011685402 L 9.858972433134468,-23.9295147735046 L 9.988285008131218,-24.00702175075284 L 10.0,-24.245486052464113 L 10.0,-30.0 L 10.048152733278037,-30.980171403295664 L 10.192147195967706,-31.950903220161337 L 10.430596642677926,-32.90284677254468 L 10.761204674887152,-33.82683432365094 L 11.18078735651647,-34.713967368260015 L 11.685303876974569,-35.555702330196056 L 12.269895466372652,-36.34393284163648 L 12.928932188134548,-37.0710678118655 L 13.656067158363568,-37.73010453362739 L 14.444297669804,-38.31469612302547 L 15.286032631740042,-38.81921264348356 L 16.173165676349118,-39.238795325112875 L 17.09715322745539,-39.569403357322095 L 18.049096779838727,-39.80785280403231 L 19.019828596704404,-39.95184726672197 L 20.0,-40.0 L 22.01481754267092,-40.0 L 23.049252987362845,-39.94635326693985 L 24.0725896156209,-39.785988662153 L 25.07384769405972,-39.52062679306852 L 26.042284377707638,-39.15311481915742 L 26.967508973713993,-38.687395903771886 L 27.839594426694255,-38.12846690657884 L 28.649183829548086,-37.4823247705207 L 29.38759081695885,-36.75590217853586 L 29.961989261272127,-36.059874974021476 L 30.0073160656137,-36.00986454838826 L 30.054923037590456,-35.987348127976446 L 30.858870369292262,-35.65434216850244 L 31.72434672609625,-35.19173534915756 L 32.54031218772114,-34.646524601898875 L 33.29890856293938,-34.02396060278165 L 33.99283015603057,-33.33003898175167 L 34.61539412460506,-32.57144258146766 L 34.83555097090092,-32.2419545820506 L 35.006281316642074,-32.01175136703909 L 35.24548605246409,-32.0 L 42.01481754267092,-32.0 L 43.04925298736285,-31.94635326693985 L 44.07258961562091,-31.785988662153002 L 45.073847694059744,-31.520626793068516 L 46.04228437770767,-31.153114819157416 L 46.967508973714025,-30.687395903771865 L 47.83959442669429,-30.128466906578815 L 48.64918382954812,-29.48232477052067 L 49.38759081695889,-28.75590217853582 L 49.96198926127216,-28.059874974021433 L 50.005574480446356,-28.011786091650805 L 50.24548605246409,-28.0 L 52.01481754267092,-28.0 L 53.04925298736285,-27.94635326693985 L 54.07258961562091,-27.785988662153002 L 55.073847694059744,-27.520626793068516 L 56.04228437770767,-27.153114819157416 L 56.967508973714025,-26.687395903771865 L 57.83959442669429,-26.128466906578815 L 58.64918382954812,-25.48232477052067 L 59.38759081695889,-24.75590217853582 L 59.96198926127216,-24.059874974021433 L 60.008527707488746,-24.008527707488785 L 60.03595126682365,-23.98367244395955 L 60.73556879485743,-23.409511159682477 L 61.42949047919436,-22.715589457088065 L 62.05205452129964,-21.956992959072114 L 62.59726528932036,-21.141027364357004 L 63.059872105693714,-20.27555086740897 L 63.43541981404054,-19.36889847973221 L 63.72029168475527,-18.429801759154387 L 63.911744246087935,-17.467304720154424 L 64.007933705276,-16.490676735062028 L 64.007933705276,-15.50932326493797 L 63.911744246087935,-14.532695279845573 L 63.72029168475527,-13.570198240845613 L 63.43541981404054,-12.63110152026779 L 63.059872105693714,-11.72444913259103 L 62.59726528932036,-10.858972635642997 L 62.05205452129964,-10.043007040927886 L 61.429490479194364,-9.284410542911937 L 60.73556879485743,-8.590488840317526 L 60.035951266823645,-8.016327556040444 L 60.01128264351756,-7.993969220797078 L 59.98586272773247,-7.822602115762421 L 59.92455355587313,-7.20011943857214 L 59.73310101411889,-6.237622359441129 L 59.44822915561316,-5.298525598020142 L 59.072681452187055,-4.391873169836517 L 58.610074633660716,-3.526396633740461 L 58.06486385675672,-2.710431002216904 L 57.44229979950376,-1.9518344706557462 L 56.74837809433488,-1.2579127386315898 L 55.98978158686741,-0.6353486520203866 L 55.173815976443905,-0.0901378435379332 L 55.01171499186878,0.007021750752850663 L 55.0,0.24548605246413202 L 55.0,7.754513947535868 L 55.01171499186878,7.992978249247158 L 55.173815976444075,8.09013784353805 L 55.98978158686755,8.635348652020507 L 56.748378094334996,9.25791273863171 L 57.44229979950385,9.95183447065586 L 58.06486385675679,10.710431002217007 L 58.61007463366076,11.526396633740553 L 59.07268145218708,12.391873169836593 L 59.44822915561318,13.2985255980202 L 59.73310101411889,14.237622359441167 L 59.92455355587313,15.200119438572157 L 59.98586272773247,15.822602115762415 L 60.01046455867952,15.9884541423227 L 60.24548605246408,16.0 L 64.75451394753591,16.0 L 64.98850477564564,15.988504775645648 L 65.0,15.754513947535868 L 65.0,8.64777125161597 L 65.04599050579054,7.689807270462265 L 65.18353899783756,6.740654738913102 L 65.41138029119708,5.8090440579680696 L 65.72741867860476,4.903544276910481 L 66.12874720700341,4.03248427432514 L 66.61167441599119,3.2038761482306084 L 67.17175829224779,2.4253415199911377 L 67.8038471276224,1.704041429872353 L 68.50212690506635,1.0466104690685256 L 69.26017477655002,0.4590957540616003 L 70.07101814106883,-0.05309869536791645 L 70.92719877933256,-0.48526166286155537 L 71.82084145522086,-0.8334180697275144 L 72.74372635300168,-1.0943655381166035 L 73.68736468402795,-1.265703846817626 L 74.64307676747426,-1.3458570087348907 L 75.602071866919,-1.3340877669769426 L 76.55552904842739,-1.2305043762200238 L 77.49467831639396,-1.0360596069706176 L 78.4108812808494,-0.7525419818859422 L 79.29571061424531,-0.38255932476163323 L 79.86937766650681,-0.07510455119161333 L 80.05492303759048,0.012651872023560315 L 80.85887036929233,0.34565783149759177 L 81.72434672609637,0.8082646508425064 L 82.5403121877213,1.3534753981012333 L 83.29890856293956,1.9760393972185124 L 83.99283015603078,2.6699610182485536 L 84.61539412460527,3.4285574185326375 L 84.83555097090105,3.758045417949599 L 85.00628131664207,3.9882486329609104 L 85.2454860524641,4.0 L 89.7545139475359,4.0 L 89.98953544132048,3.988454142322698 L 90.01413727226753,3.822602115762517 L 90.07544644412694,3.200119438571764 L 90.2668989858812,2.237622359440833 L 90.55177084438694,1.2985255980199306 L 90.92731854781303,0.3918731698363853 L 91.38992536633934,-0.47360336625959665 L 91.9351361432433,-1.2895689977830864 L 92.5577002004962,-2.0481655293441845 L 93.25162190566502,-2.742087261368293 L 94.01021841313242,-3.3646513479794606 L 94.82618402355584,-3.9098621564618963 L 94.98828500813121,-4.007021750752841 L 95.0,-4.245486052464131 L 95.0,-6.0 L 95.04815273327804,-6.980171403295666 L 95.1921471959677,-7.950903220161338 L 95.43059664267793,-8.902846772544674 L 95.76120467488715,-9.826834323650944 L 96.18078735651648,-10.713967368260015 L 96.68530387697457,-11.555702330196054 L 97.26989546637266,-12.343932841636484 L 97.92893218813455,-13.071067811865497 L 98.65606715836357,-13.730104533627387 L 99.444297669804,-14.314696123025467 L 100.28603263174004,-14.81921264348356 L 101.17316567634911,-15.238795325112875 L 102.0971532274554,-15.569403357322093 L 103.04909677983873,-15.807852804032306 L 104.0198285967044,-15.95184726672197 L 105.0,-16.0 L 109.75451394753587,-16.0 L 109.98850477564564,-16.011495224354356 L 110.0,-16.245486052464134 L 110.0,-19.754513947535866 L 109.98814838333121,-19.99575931285302 L 109.95310723558212,-20.043006829599477 L 109.40789642528313,-20.85897244468879 L 108.94528957233537,-21.724448967929394 L 108.56974183383733,-22.63110138687717 L 108.28486993998291,-23.57019814268386 L 108.09341736297098,-24.532695219786103 L 107.997227895867,-25.509323244723493 L 107.997227895867,-26.49067675527657 L 108.093417362971,-27.46730478021396 L 108.28486993998291,-28.429801857316196 L 108.56974183383734,-29.36889861312289 L 108.9452895723354,-30.275551032070663 L 109.40789642528316,-31.141027555311265 L 109.95310723558212,-31.956993170400523 L 109.98889778437656,-32.00525113745225 L 110.09524202205789,-32.42980123679247 L 110.3683595901982,-33.335864574450156 L 110.72590183638056,-34.21205377780131 L 111.16466681255092,-35.050522187200535 L 111.68072518538817,-35.843760949301085 L 112.26945542521207,-36.5846662621388 L 112.92558519381393,-37.26660299280282 L 113.64323856056399,-37.883464097968755 L 114.41598862395433,-38.429725315157455 L 115.23691506732823,-38.90049463493493 L 116.09866613335927,-39.29155611100821 L 116.99352446227134,-39.59940761587856 L 117.91347620418938,-39.821292203933304 L 118.85028278668928,-39.95522280110629 L 119.79555469483714,-40.0 L 134.7545139475359,-40.0 L 134.9937186833579,-40.01175136703909 L 135.16444902909927,-40.241954582050866 L 135.38460587539538,-40.57144258146823 L 136.00716984396982,-41.3300389817521 L 136.70109143706094,-42.02396060278194 L 137.4596878122791,-42.646524601899046 L 138.27565327390388,-43.19173534915763 L 139.14112963070775,-43.65434216850244 L 139.9450769624095,-43.98734812797643 L 139.99268393438632,-44.009864548388265 L 140.03801073872788,-44.05987497402145 L 140.61240918304097,-44.75590217853568 L 141.35081617045174,-45.482324770520556 L 142.16040557330558,-46.12846690657874 L 143.03249102628587,-46.68739590377181 L 143.95771562229226,-47.15311481915738 L 144.92615230594018,-47.520626793068494 L 145.92741038437904,-47.78598866215299 L 146.95074701263712,-47.946353266939845 L 147.98518245732907,-48.0 L 154.75451394753586,-48.0 L 154.99048622936317,-48.01159256686652 L 155.09772726658133,-48.4397228915274 L 155.38259909810247,-49.378819659241586 L 155.7581467751264,-50.28547209640116 L 156.22075356810055,-51.150948644101675 L 156.76596432056488,-51.96691428977723 L 157.38852835474546,-52.72551083793062 L 158.08245003845354,-53.419432588854434 L 158.8410465263032,-54.041996696515355 L 159.6570121191677,-54.587207528017 L 160.5224886220585,-55.04981440482427 L 161.42914102284118,-55.42536216966974 L 162.36823776296166,-55.71023409215512 L 163.33073482713112,-55.90168669984327 L 164.3073628421403,-55.99787619939849 L 165.0,-55.997876223343646 L 165.0,-56.0 L 174.75451394753586,-56.0 L 174.98850477564565,-56.011495224354356 L 175.0,-56.24548605246413 L 175.0,-87.75451394753587 L 174.98850477564565,-87.98850477564564 L 174.75451394753586,-88.0 L 2.2454860524641322,-88.0 L 2.0114952243543542,-87.98850477564564 L 2.0,-87.75451394753587 L 2.0,-56.24548605246412 L 2.0120018743176855,-56.00118212033592 L 2.07808753171899,-55.5556689294616 L 2.0979671896797836,-55.45541221672243 L 2.1935507126820806,-54.466661716311116 L 2.1905653633816744,-53.47330636719243 L 2.089040600123628,-52.4851482399787 L 2.0108191960156168,-51.97474389321912 L 2.0,-51.75451394753588 L 2.0,-4.245486052464128 z\" /></g></svg>"
      ],
      "text/plain": [
       "<shapely.geometry.polygon.Polygon at 0x1e749c2f400>"
      ]
     },
     "execution_count": 312,
     "metadata": {},
     "output_type": "execute_result"
    }
   ],
   "source": [
    "row2_poly[1]"
   ]
  },
  {
   "cell_type": "code",
   "execution_count": 313,
   "metadata": {},
   "outputs": [
    {
     "data": {
      "image/svg+xml": [
       "<svg xmlns=\"http://www.w3.org/2000/svg\" xmlns:xlink=\"http://www.w3.org/1999/xlink\" width=\"100.0\" height=\"100.0\" viewBox=\"112.6 77.6 64.80000000000001 12.800000000000011\" preserveAspectRatio=\"xMinYMin meet\"><g transform=\"matrix(1,0,0,-1,0,168.0)\"><path fill-rule=\"evenodd\" fill=\"#66cc99\" stroke=\"#555555\" stroke-width=\"1.2960000000000003\" opacity=\"0.6\" d=\"M 115.01149522435436,84.01149522435436 L 115.0,84.24548605246413 L 115.0,87.75451394753587 L 115.01149522435436,87.98850477564564 L 115.24548605246413,88.0 L 174.75451394753586,88.0 L 174.98850477564565,87.98850477564564 L 175.0,87.75451394753587 L 175.0,80.24548605246413 L 174.98850477564565,80.01149522435436 L 174.75451394753586,80.0 L 165.24548605246414,80.0 L 165.00557448044637,80.0117860916508 L 164.96198926127175,80.0598749740219 L 164.3875908169591,80.75590217853562 L 163.64918382954832,81.4823247705205 L 162.83959442669448,82.1284669065787 L 161.9675089737142,82.68739590377179 L 161.0422843777078,83.15311481915737 L 160.07384769405985,83.52062679306849 L 159.07258961562098,83.78598866215299 L 158.04925298736288,83.94635326693985 L 157.01481754267093,84.0 L 152.98518245732907,84.0 L 151.9507470126371,83.94635326693985 L 150.92741038437902,83.78598866215299 L 149.92615230594015,83.52062679306849 L 148.9577156222922,83.15311481915737 L 148.0324910262858,82.68739590377179 L 147.16040557330552,82.1284669065787 L 146.35081617045168,81.4823247705205 L 145.6124091830409,80.75590217853562 L 145.03801073872825,80.0598749740219 L 144.99442551955363,80.0117860916508 L 144.75451394753586,80.0 L 125.24548605246413,80.0 L 125.00557448044636,80.0117860916508 L 124.96198926127218,80.05987497402141 L 124.38759081695875,80.75590217853596 L 123.649183829548,81.48232477052078 L 122.83959442669416,82.1284669065789 L 121.96750897371392,82.68739590377193 L 121.04228437770757,83.15311481915745 L 120.07384769405967,83.52062679306854 L 119.07258961562086,83.78598866215302 L 118.04925298736282,83.94635326693985 L 117.01481754267091,84.0 L 115.24548605246413,84.0 L 115.01149522435436,84.01149522435436 z\" /></g></svg>"
      ],
      "text/plain": [
       "<shapely.geometry.polygon.Polygon at 0x1e749c2f748>"
      ]
     },
     "execution_count": 313,
     "metadata": {},
     "output_type": "execute_result"
    }
   ],
   "source": [
    "row2_poly[2]"
   ]
  },
  {
   "cell_type": "code",
   "execution_count": 231,
   "metadata": {},
   "outputs": [
    {
     "data": {
      "text/plain": [
       "29035.071010218242"
      ]
     },
     "execution_count": 231,
     "metadata": {},
     "output_type": "execute_result"
    }
   ],
   "source": [
    "row1_poly.union(row2_poly).area"
   ]
  },
  {
   "cell_type": "code",
   "execution_count": 214,
   "metadata": {},
   "outputs": [
    {
     "data": {
      "text/plain": [
       "(3, 2)"
      ]
     },
     "execution_count": 214,
     "metadata": {},
     "output_type": "execute_result"
    }
   ],
   "source": [
    "len(row2_poly),len(row1_poly)"
   ]
  },
  {
   "cell_type": "code",
   "execution_count": 245,
   "metadata": {},
   "outputs": [
    {
     "data": {
      "text/plain": [
       "615.2885475246215"
      ]
     },
     "execution_count": 245,
     "metadata": {},
     "output_type": "execute_result"
    }
   ],
   "source": [
    "row1_poly[1].area"
   ]
  },
  {
   "cell_type": "code",
   "execution_count": 288,
   "metadata": {},
   "outputs": [],
   "source": [
    "row1_1 = row1_poly[0].simplify(6, preserve_topology=True).__geo_interface__\n",
    "row1_2 = row1_poly[1].__geo_interface__\n",
    "\n",
    "row2_1 = row2_poly[0].__geo_interface__\n",
    "row2_2 = row2_poly[1].__geo_interface__\n",
    "row2_3 = row2_poly[2].__geo_interface__"
   ]
  },
  {
   "cell_type": "code",
   "execution_count": 289,
   "metadata": {},
   "outputs": [],
   "source": [
    "file=open(\"ROW1_1.json\",'w')\n",
    "json.dump(row1_1,file)\n",
    "file.close()\n",
    "file=open(\"ROW1_2.json\",'w')\n",
    "json.dump(row1_2,file)\n",
    "file.close()\n",
    "\n",
    "file=open(\"ROW2_1.json\",'w')\n",
    "json.dump(row2_1,file)\n",
    "file.close()\n",
    "file=open(\"ROW2_2.json\",'w')\n",
    "json.dump(row2_2,file)\n",
    "file.close()\n",
    "file=open(\"ROW2_3.json\",'w')\n",
    "json.dump(row2_3,file)\n",
    "file.close()"
   ]
  },
  {
   "cell_type": "code",
   "execution_count": 290,
   "metadata": {},
   "outputs": [],
   "source": [
    "row1_poly = row1_poly.__geo_interface__\n",
    "row2_poly = row2_poly.__geo_interface__"
   ]
  },
  {
   "cell_type": "code",
   "execution_count": 291,
   "metadata": {},
   "outputs": [
    {
     "data": {
      "text/plain": [
       "(2, 2)"
      ]
     },
     "execution_count": 291,
     "metadata": {},
     "output_type": "execute_result"
    }
   ],
   "source": [
    "len(row1_poly),len(row2_poly)"
   ]
  },
  {
   "cell_type": "code",
   "execution_count": 292,
   "metadata": {},
   "outputs": [],
   "source": [
    "# unit_polygon = polygon[0]\n",
    "# for i in polygon[1:]:\n",
    "#     if i.area > 10:\n",
    "#         unit_polygon = unit_polygon.union(i)"
   ]
  },
  {
   "cell_type": "code",
   "execution_count": 293,
   "metadata": {},
   "outputs": [],
   "source": [
    "file=open(\"ROW1.json\",'w')\n",
    "json.dump(row1_poly,file)\n",
    "file.close()\n",
    "file=open(\"ROW2.json\",'w')\n",
    "json.dump(row2_poly,file)\n",
    "file.close()"
   ]
  },
  {
   "cell_type": "code",
   "execution_count": 346,
   "metadata": {},
   "outputs": [],
   "source": [
    "f1 = gpd.GeoDataFrame.from_file('ROW1_1.json')\n",
    "f2 = gpd.GeoDataFrame.from_file('ROW2.json')"
   ]
  },
  {
   "cell_type": "code",
   "execution_count": 347,
   "metadata": {},
   "outputs": [
    {
     "data": {
      "text/plain": [
       "False"
      ]
     },
     "execution_count": 347,
     "metadata": {},
     "output_type": "execute_result"
    }
   ],
   "source": [
    "f1.geometry.__geo_interface__['features'][0]['geometry'] == row1_1"
   ]
  },
  {
   "cell_type": "code",
   "execution_count": 348,
   "metadata": {},
   "outputs": [
    {
     "data": {
      "text/plain": [
       "<AxesSubplot:>"
      ]
     },
     "execution_count": 348,
     "metadata": {},
     "output_type": "execute_result"
    },
    {
     "data": {
      "image/png": "[encoded data removed]",
      "text/plain": [
       "<Figure size 1440x648 with 1 Axes>"
      ]
     },
     "metadata": {},
     "output_type": "display_data"
    }
   ],
   "source": [
    "f1.plot()"
   ]
  },
  {
   "cell_type": "code",
   "execution_count": 349,
   "metadata": {},
   "outputs": [
    {
     "data": {
      "text/plain": [
       "<AxesSubplot:>"
      ]
     },
     "execution_count": 349,
     "metadata": {},
     "output_type": "execute_result"
    },
    {
     "data": {
      "image/png": "[encoded data removed]",
      "text/plain": [
       "<Figure size 1440x648 with 1 Axes>"
      ]
     },
     "metadata": {},
     "output_type": "display_data"
    }
   ],
   "source": [
    "f2.plot()"
   ]
  },
  {
   "cell_type": "code",
   "execution_count": 323,
   "metadata": {},
   "outputs": [
    {
     "data": {
      "text/plain": [
       "(-197.75, 192.75, -96.79999999999998, 96.8)"
      ]
     },
     "execution_count": 323,
     "metadata": {},
     "output_type": "execute_result"
    },
    {
     "data": {
      "image/png": "[encoded data removed]",
      "text/plain": [
       "<Figure size 1440x648 with 2 Axes>"
      ]
     },
     "metadata": {},
     "output_type": "display_data"
    }
   ],
   "source": [
    "fig, ax = plt.subplots(1, 1)\n",
    "wholeworldB.plot(linewidths=0,column='ROW',ax=ax, vmin=0,vmax=1,legend=True,cmap = 'Reds',missing_kwds={\n",
    "        \"color\": \"lightgrey\",\n",
    "        \"edgecolor\": \"grey\",\n",
    "        \"hatch\": \"///\",\n",
    "        \"label\": \"Missing values\",\n",
    "    });\n",
    "plt.title('ROW in the map',fontsize=24)\n",
    "ax.axis('off')"
   ]
  },
  {
   "cell_type": "code",
   "execution_count": 39,
   "metadata": {},
   "outputs": [],
   "source": [
    "row = gpd.GeoDataFrame.from_file('../1_Country_Emission/json/ROW.json')"
   ]
  },
  {
   "cell_type": "code",
   "execution_count": 350,
   "metadata": {},
   "outputs": [],
   "source": [
    "chn = gpd.GeoDataFrame.from_file('../1_Country_Emission/json/CHN.json')"
   ]
  },
  {
   "cell_type": "code",
   "execution_count": 356,
   "metadata": {},
   "outputs": [],
   "source": [
    "esp = gpd.GeoDataFrame.from_file('../1_Country_Emission/json/ESP.json')"
   ]
  },
  {
   "cell_type": "code",
   "execution_count": 358,
   "metadata": {},
   "outputs": [
    {
     "name": "stderr",
     "output_type": "stream",
     "text": [
      "C:\\Users\\15311\\AppData\\Local\\Continuum\\anaconda3\\lib\\site-packages\\ipykernel_launcher.py:1: UserWarning: Geometry is in a geographic CRS. Results from 'area' are likely incorrect. Use 'GeoSeries.to_crs()' to re-project geometries to a projected CRS before this operation.\n",
      "\n",
      "  \"\"\"Entry point for launching an IPython kernel.\n"
     ]
    },
    {
     "data": {
      "text/plain": [
       "0    53.681928\n",
       "dtype: float64"
      ]
     },
     "execution_count": 358,
     "metadata": {},
     "output_type": "execute_result"
    }
   ],
   "source": [
    "esp.geometry.area"
   ]
  },
  {
   "cell_type": "code",
   "execution_count": 46,
   "metadata": {},
   "outputs": [
    {
     "name": "stderr",
     "output_type": "stream",
     "text": [
      "C:\\Users\\15311\\AppData\\Local\\Continuum\\anaconda3\\lib\\site-packages\\ipykernel_launcher.py:1: DeprecationWarning: '-' operator will be deprecated. Use the 'difference' method instead.\n",
      "  \"\"\"Entry point for launching an IPython kernel.\n"
     ]
    },
    {
     "data": {
      "text/plain": [
       "<AxesSubplot:>"
      ]
     },
     "execution_count": 46,
     "metadata": {},
     "output_type": "execute_result"
    },
    {
     "data": {
      "image/png": "[encoded data removed]",
      "text/plain": [
       "<Figure size 432x288 with 1 Axes>"
      ]
     },
     "metadata": {
      "needs_background": "light"
     },
     "output_type": "display_data"
    }
   ],
   "source": [
    "(poly_read - row).plot()"
   ]
  },
  {
   "cell_type": "code",
   "execution_count": 40,
   "metadata": {},
   "outputs": [
    {
     "data": {
      "text/plain": [
       "<AxesSubplot:>"
      ]
     },
     "execution_count": 40,
     "metadata": {},
     "output_type": "execute_result"
    },
    {
     "data": {
      "image/png": "[encoded data removed]",
      "text/plain": [
       "<Figure size 432x288 with 1 Axes>"
      ]
     },
     "metadata": {
      "needs_background": "light"
     },
     "output_type": "display_data"
    }
   ],
   "source": [
    "row.plot()"
   ]
  },
  {
   "cell_type": "code",
   "execution_count": 301,
   "metadata": {},
   "outputs": [
    {
     "data": {
      "text/plain": [
       "0    MULTIPOLYGON (((-180.00000 90.00000, 180.00000...\n",
       "Name: geometry, dtype: geometry"
      ]
     },
     "execution_count": 301,
     "metadata": {},
     "output_type": "execute_result"
    }
   ],
   "source": [
    "row.geometry"
   ]
  }
 ],
 "metadata": {
  "kernelspec": {
   "display_name": "Python 3",
   "language": "python",
   "name": "python3"
  },
  "language_info": {
   "codemirror_mode": {
    "name": "ipython",
    "version": 3
   },
   "file_extension": ".py",
   "mimetype": "text/x-python",
   "name": "python",
   "nbconvert_exporter": "python",
   "pygments_lexer": "ipython3",
   "version": "3.6.5"
  }
 },
 "nbformat": 4,
 "nbformat_minor": 2
}
